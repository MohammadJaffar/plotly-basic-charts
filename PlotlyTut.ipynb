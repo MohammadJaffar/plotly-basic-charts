{
 "cells": [
  {
   "cell_type": "markdown",
   "metadata": {},
   "source": [
    "<div style=\"font-family: 'Comic Sans MS', sans-serif; font-size: 18px; color: #333; background-color: #d4d4d4; padding: 10px; border-radius: 5px; width: 900px;\">\n",
    "    <h1>Welcome to Plotly express tutorial ✨</h1>\n",
    "    <p>Plotly express is a python library used for creating simple visualizations.</p>\n",
    "    <p>Let's get started!</p>\n",
    "</div>\n"
   ]
  },
  {
   "cell_type": "markdown",
   "metadata": {},
   "source": [
    "For this tutorial we will use the Space Missions Dataset from Kaggle.  \n",
    "https://www.kaggle.com/datasets/sameerk2004/space-missions-dataset"
   ]
  },
  {
   "cell_type": "markdown",
   "metadata": {},
   "source": [
    "<div style=\"font-family: 'Comic Sans MS', sans-serif; font-size: 18px; color: #333; background-color: #d4d4d4; padding: 10px; border-radius: 5px; width: 900px;\">\n",
    "    <h1>Why Plotly express?</h1>\n",
    "    <p>because it is simple and easy to use.</p>\n",
    "    <h2>When to use Plotly express?</h2>\n",
    "    <ul>\n",
    "        <li>Quick and easy creation of standard charts.</li>\n",
    "        <li>During exploratory data analysis (EDA) to get a quick overview of the data.</li>\n",
    "        <li>When we want to create visualizations with minimal code.</li>\n",
    "        <li>When we don't need to create custom or complex charts.</li>\n",
    "    </ul>\n",
    "\n",
    "</div>\n"
   ]
  },
  {
   "cell_type": "code",
   "execution_count": 1,
   "metadata": {},
   "outputs": [],
   "source": [
    "# Importing libraries\n",
    "import pandas as pd # for data manipulation\n",
    "import plotly.express as px # for data visualization"
   ]
  },
  {
   "cell_type": "markdown",
   "metadata": {},
   "source": [
    "<div style=\"font-family: 'Comic Sans MS', sans-serif; font-size: 18px; color: #333; background-color: #d4d4d4; padding: 10px; border-radius: 5px; width: 900px;\">\n",
    "    <h1>Data preparation 🛠</h1>\n",
    "    <p>In this section we will prepare the dataset for visualization.</p>\n",
    "    <p style=\"color: red;\">Note that the data is synthetic and not real.</p>\n",
    "</div>\n"
   ]
  },
  {
   "cell_type": "code",
   "execution_count": 2,
   "metadata": {},
   "outputs": [
    {
     "data": {
      "text/html": [
       "<div>\n",
       "<style scoped>\n",
       "    .dataframe tbody tr th:only-of-type {\n",
       "        vertical-align: middle;\n",
       "    }\n",
       "\n",
       "    .dataframe tbody tr th {\n",
       "        vertical-align: top;\n",
       "    }\n",
       "\n",
       "    .dataframe thead th {\n",
       "        text-align: right;\n",
       "    }\n",
       "</style>\n",
       "<table border=\"1\" class=\"dataframe\">\n",
       "  <thead>\n",
       "    <tr style=\"text-align: right;\">\n",
       "      <th></th>\n",
       "      <th>Mission ID</th>\n",
       "      <th>Mission Name</th>\n",
       "      <th>Launch Date</th>\n",
       "      <th>Target Type</th>\n",
       "      <th>Target Name</th>\n",
       "      <th>Mission Type</th>\n",
       "      <th>Distance from Earth (light-years)</th>\n",
       "      <th>Mission Duration (years)</th>\n",
       "      <th>Mission Cost (billion USD)</th>\n",
       "      <th>Scientific Yield (points)</th>\n",
       "      <th>Crew Size</th>\n",
       "      <th>Mission Success (%)</th>\n",
       "      <th>Fuel Consumption (tons)</th>\n",
       "      <th>Payload Weight (tons)</th>\n",
       "      <th>Launch Vehicle</th>\n",
       "    </tr>\n",
       "  </thead>\n",
       "  <tbody>\n",
       "    <tr>\n",
       "      <th>229</th>\n",
       "      <td>MSN-0230</td>\n",
       "      <td>Mission-230</td>\n",
       "      <td>2029-05-23</td>\n",
       "      <td>Star</td>\n",
       "      <td>Titan</td>\n",
       "      <td>Mining</td>\n",
       "      <td>1.56</td>\n",
       "      <td>2.7</td>\n",
       "      <td>373.82</td>\n",
       "      <td>69.2</td>\n",
       "      <td>2</td>\n",
       "      <td>100.0</td>\n",
       "      <td>180.58</td>\n",
       "      <td>74.48</td>\n",
       "      <td>Ariane 6</td>\n",
       "    </tr>\n",
       "    <tr>\n",
       "      <th>481</th>\n",
       "      <td>MSN-0482</td>\n",
       "      <td>Mission-482</td>\n",
       "      <td>2034-03-22</td>\n",
       "      <td>Star</td>\n",
       "      <td>Titan</td>\n",
       "      <td>Colonization</td>\n",
       "      <td>5.68</td>\n",
       "      <td>6.0</td>\n",
       "      <td>224.89</td>\n",
       "      <td>10.1</td>\n",
       "      <td>40</td>\n",
       "      <td>91.4</td>\n",
       "      <td>525.78</td>\n",
       "      <td>35.53</td>\n",
       "      <td>Starship</td>\n",
       "    </tr>\n",
       "    <tr>\n",
       "      <th>139</th>\n",
       "      <td>MSN-0140</td>\n",
       "      <td>Mission-140</td>\n",
       "      <td>2027-09-01</td>\n",
       "      <td>Exoplanet</td>\n",
       "      <td>Ceres</td>\n",
       "      <td>Research</td>\n",
       "      <td>14.43</td>\n",
       "      <td>9.0</td>\n",
       "      <td>426.15</td>\n",
       "      <td>93.6</td>\n",
       "      <td>69</td>\n",
       "      <td>100.0</td>\n",
       "      <td>1431.78</td>\n",
       "      <td>84.37</td>\n",
       "      <td>Ariane 6</td>\n",
       "    </tr>\n",
       "    <tr>\n",
       "      <th>472</th>\n",
       "      <td>MSN-0473</td>\n",
       "      <td>Mission-473</td>\n",
       "      <td>2034-01-18</td>\n",
       "      <td>Moon</td>\n",
       "      <td>Titan</td>\n",
       "      <td>Mining</td>\n",
       "      <td>1.93</td>\n",
       "      <td>3.3</td>\n",
       "      <td>390.72</td>\n",
       "      <td>10.0</td>\n",
       "      <td>72</td>\n",
       "      <td>100.0</td>\n",
       "      <td>175.46</td>\n",
       "      <td>74.49</td>\n",
       "      <td>Starship</td>\n",
       "    </tr>\n",
       "    <tr>\n",
       "      <th>185</th>\n",
       "      <td>MSN-0186</td>\n",
       "      <td>Mission-186</td>\n",
       "      <td>2028-07-19</td>\n",
       "      <td>Star</td>\n",
       "      <td>Betelgeuse</td>\n",
       "      <td>Mining</td>\n",
       "      <td>29.05</td>\n",
       "      <td>16.4</td>\n",
       "      <td>430.94</td>\n",
       "      <td>19.2</td>\n",
       "      <td>76</td>\n",
       "      <td>100.0</td>\n",
       "      <td>2905.11</td>\n",
       "      <td>83.23</td>\n",
       "      <td>Starship</td>\n",
       "    </tr>\n",
       "  </tbody>\n",
       "</table>\n",
       "</div>"
      ],
      "text/plain": [
       "    Mission ID Mission Name Launch Date Target Type Target Name  Mission Type  \\\n",
       "229   MSN-0230  Mission-230  2029-05-23        Star       Titan        Mining   \n",
       "481   MSN-0482  Mission-482  2034-03-22        Star       Titan  Colonization   \n",
       "139   MSN-0140  Mission-140  2027-09-01   Exoplanet       Ceres      Research   \n",
       "472   MSN-0473  Mission-473  2034-01-18        Moon       Titan        Mining   \n",
       "185   MSN-0186  Mission-186  2028-07-19        Star  Betelgeuse        Mining   \n",
       "\n",
       "     Distance from Earth (light-years)  Mission Duration (years)  \\\n",
       "229                               1.56                       2.7   \n",
       "481                               5.68                       6.0   \n",
       "139                              14.43                       9.0   \n",
       "472                               1.93                       3.3   \n",
       "185                              29.05                      16.4   \n",
       "\n",
       "     Mission Cost (billion USD)  Scientific Yield (points)  Crew Size  \\\n",
       "229                      373.82                       69.2          2   \n",
       "481                      224.89                       10.1         40   \n",
       "139                      426.15                       93.6         69   \n",
       "472                      390.72                       10.0         72   \n",
       "185                      430.94                       19.2         76   \n",
       "\n",
       "     Mission Success (%)  Fuel Consumption (tons)  Payload Weight (tons)  \\\n",
       "229                100.0                   180.58                  74.48   \n",
       "481                 91.4                   525.78                  35.53   \n",
       "139                100.0                  1431.78                  84.37   \n",
       "472                100.0                   175.46                  74.49   \n",
       "185                100.0                  2905.11                  83.23   \n",
       "\n",
       "    Launch Vehicle  \n",
       "229       Ariane 6  \n",
       "481       Starship  \n",
       "139       Ariane 6  \n",
       "472       Starship  \n",
       "185       Starship  "
      ]
     },
     "execution_count": 2,
     "metadata": {},
     "output_type": "execute_result"
    }
   ],
   "source": [
    "df = pd.read_csv('Data/space_missions_dataset.csv') # loading the dataset using pandas\n",
    "\n",
    "# Displaying a sample of the dataset\n",
    "df.sample(5)"
   ]
  },
  {
   "cell_type": "code",
   "execution_count": 3,
   "metadata": {},
   "outputs": [
    {
     "name": "stdout",
     "output_type": "stream",
     "text": [
      "<class 'pandas.core.frame.DataFrame'>\n",
      "RangeIndex: 500 entries, 0 to 499\n",
      "Data columns (total 15 columns):\n",
      " #   Column                             Non-Null Count  Dtype  \n",
      "---  ------                             --------------  -----  \n",
      " 0   Mission ID                         500 non-null    object \n",
      " 1   Mission Name                       500 non-null    object \n",
      " 2   Launch Date                        500 non-null    object \n",
      " 3   Target Type                        500 non-null    object \n",
      " 4   Target Name                        500 non-null    object \n",
      " 5   Mission Type                       500 non-null    object \n",
      " 6   Distance from Earth (light-years)  500 non-null    float64\n",
      " 7   Mission Duration (years)           500 non-null    float64\n",
      " 8   Mission Cost (billion USD)         500 non-null    float64\n",
      " 9   Scientific Yield (points)          500 non-null    float64\n",
      " 10  Crew Size                          500 non-null    int64  \n",
      " 11  Mission Success (%)                500 non-null    float64\n",
      " 12  Fuel Consumption (tons)            500 non-null    float64\n",
      " 13  Payload Weight (tons)              500 non-null    float64\n",
      " 14  Launch Vehicle                     500 non-null    object \n",
      "dtypes: float64(7), int64(1), object(7)\n",
      "memory usage: 58.7+ KB\n"
     ]
    }
   ],
   "source": [
    "df.info() # displaying the information about the dataset to make sure there are no missing values"
   ]
  },
  {
   "cell_type": "code",
   "execution_count": 4,
   "metadata": {},
   "outputs": [
    {
     "data": {
      "text/html": [
       "<div>\n",
       "<style scoped>\n",
       "    .dataframe tbody tr th:only-of-type {\n",
       "        vertical-align: middle;\n",
       "    }\n",
       "\n",
       "    .dataframe tbody tr th {\n",
       "        vertical-align: top;\n",
       "    }\n",
       "\n",
       "    .dataframe thead th {\n",
       "        text-align: right;\n",
       "    }\n",
       "</style>\n",
       "<table border=\"1\" class=\"dataframe\">\n",
       "  <thead>\n",
       "    <tr style=\"text-align: right;\">\n",
       "      <th></th>\n",
       "      <th>count</th>\n",
       "      <th>mean</th>\n",
       "      <th>std</th>\n",
       "      <th>min</th>\n",
       "      <th>25%</th>\n",
       "      <th>50%</th>\n",
       "      <th>75%</th>\n",
       "      <th>max</th>\n",
       "    </tr>\n",
       "  </thead>\n",
       "  <tbody>\n",
       "    <tr>\n",
       "      <th>Distance from Earth (light-years)</th>\n",
       "      <td>500.0</td>\n",
       "      <td>25.48306</td>\n",
       "      <td>14.942128</td>\n",
       "      <td>0.35</td>\n",
       "      <td>11.7500</td>\n",
       "      <td>26.185</td>\n",
       "      <td>38.5700</td>\n",
       "      <td>49.90</td>\n",
       "    </tr>\n",
       "    <tr>\n",
       "      <th>Mission Duration (years)</th>\n",
       "      <td>500.0</td>\n",
       "      <td>15.73680</td>\n",
       "      <td>7.578316</td>\n",
       "      <td>1.40</td>\n",
       "      <td>8.9000</td>\n",
       "      <td>16.400</td>\n",
       "      <td>22.2000</td>\n",
       "      <td>29.50</td>\n",
       "    </tr>\n",
       "    <tr>\n",
       "      <th>Mission Cost (billion USD)</th>\n",
       "      <td>500.0</td>\n",
       "      <td>277.30028</td>\n",
       "      <td>141.137422</td>\n",
       "      <td>13.32</td>\n",
       "      <td>149.9600</td>\n",
       "      <td>282.170</td>\n",
       "      <td>399.9950</td>\n",
       "      <td>538.32</td>\n",
       "    </tr>\n",
       "    <tr>\n",
       "      <th>Scientific Yield (points)</th>\n",
       "      <td>500.0</td>\n",
       "      <td>55.22340</td>\n",
       "      <td>26.446232</td>\n",
       "      <td>10.00</td>\n",
       "      <td>33.7750</td>\n",
       "      <td>54.400</td>\n",
       "      <td>79.0250</td>\n",
       "      <td>99.80</td>\n",
       "    </tr>\n",
       "    <tr>\n",
       "      <th>Crew Size</th>\n",
       "      <td>500.0</td>\n",
       "      <td>50.11800</td>\n",
       "      <td>27.660989</td>\n",
       "      <td>1.00</td>\n",
       "      <td>27.0000</td>\n",
       "      <td>50.000</td>\n",
       "      <td>74.0000</td>\n",
       "      <td>99.00</td>\n",
       "    </tr>\n",
       "    <tr>\n",
       "      <th>Mission Success (%)</th>\n",
       "      <td>500.0</td>\n",
       "      <td>92.61660</td>\n",
       "      <td>9.391094</td>\n",
       "      <td>66.00</td>\n",
       "      <td>85.5000</td>\n",
       "      <td>98.600</td>\n",
       "      <td>100.0000</td>\n",
       "      <td>100.00</td>\n",
       "    </tr>\n",
       "    <tr>\n",
       "      <th>Fuel Consumption (tons)</th>\n",
       "      <td>500.0</td>\n",
       "      <td>2543.52214</td>\n",
       "      <td>1492.964489</td>\n",
       "      <td>18.06</td>\n",
       "      <td>1177.3150</td>\n",
       "      <td>2597.985</td>\n",
       "      <td>3859.3550</td>\n",
       "      <td>5018.60</td>\n",
       "    </tr>\n",
       "    <tr>\n",
       "      <th>Payload Weight (tons)</th>\n",
       "      <td>500.0</td>\n",
       "      <td>50.35562</td>\n",
       "      <td>28.227546</td>\n",
       "      <td>1.02</td>\n",
       "      <td>25.5675</td>\n",
       "      <td>50.995</td>\n",
       "      <td>74.4825</td>\n",
       "      <td>99.78</td>\n",
       "    </tr>\n",
       "  </tbody>\n",
       "</table>\n",
       "</div>"
      ],
      "text/plain": [
       "                                   count        mean          std    min  \\\n",
       "Distance from Earth (light-years)  500.0    25.48306    14.942128   0.35   \n",
       "Mission Duration (years)           500.0    15.73680     7.578316   1.40   \n",
       "Mission Cost (billion USD)         500.0   277.30028   141.137422  13.32   \n",
       "Scientific Yield (points)          500.0    55.22340    26.446232  10.00   \n",
       "Crew Size                          500.0    50.11800    27.660989   1.00   \n",
       "Mission Success (%)                500.0    92.61660     9.391094  66.00   \n",
       "Fuel Consumption (tons)            500.0  2543.52214  1492.964489  18.06   \n",
       "Payload Weight (tons)              500.0    50.35562    28.227546   1.02   \n",
       "\n",
       "                                         25%       50%        75%      max  \n",
       "Distance from Earth (light-years)    11.7500    26.185    38.5700    49.90  \n",
       "Mission Duration (years)              8.9000    16.400    22.2000    29.50  \n",
       "Mission Cost (billion USD)          149.9600   282.170   399.9950   538.32  \n",
       "Scientific Yield (points)            33.7750    54.400    79.0250    99.80  \n",
       "Crew Size                            27.0000    50.000    74.0000    99.00  \n",
       "Mission Success (%)                  85.5000    98.600   100.0000   100.00  \n",
       "Fuel Consumption (tons)            1177.3150  2597.985  3859.3550  5018.60  \n",
       "Payload Weight (tons)                25.5675    50.995    74.4825    99.78  "
      ]
     },
     "execution_count": 4,
     "metadata": {},
     "output_type": "execute_result"
    }
   ],
   "source": [
    "df.describe().T # displaying the statistical summary of the dataset and using .T to transpose the dataframe to make it more readable\n"
   ]
  },
  {
   "cell_type": "markdown",
   "metadata": {},
   "source": [
    "<div style=\"font-family: 'Comic Sans MS', sans-serif; font-size: 18px; color: #333; background-color: #d4d4d4; padding: 10px; border-radius: 5px; width: 900px;\">\n",
    "    <h2 style=\"color: #2c3e50;\">Now it's time to visualize the data 📊</h2>\n",
    "    <p>Let's create some interactive visualizations using Plotly to better understand our dataset.</p>\n",
    "</div>"
   ]
  },
  {
   "cell_type": "code",
   "execution_count": 5,
   "metadata": {},
   "outputs": [
    {
     "data": {
      "application/vnd.plotly.v1+json": {
       "config": {
        "plotlyServerURL": "https://plot.ly"
       },
       "data": [
        {
         "domain": {
          "x": [
           0,
           1
          ],
          "y": [
           0,
           1
          ]
         },
         "hovertemplate": "Mission Type=%{label}<extra></extra>",
         "labels": [
          "Colonization",
          "Colonization",
          "Exploration",
          "Colonization",
          "Mining",
          "Colonization",
          "Research",
          "Colonization",
          "Exploration",
          "Colonization",
          "Research",
          "Research",
          "Mining",
          "Colonization",
          "Research",
          "Exploration",
          "Mining",
          "Exploration",
          "Colonization",
          "Colonization",
          "Colonization",
          "Mining",
          "Research",
          "Mining",
          "Exploration",
          "Mining",
          "Exploration",
          "Mining",
          "Research",
          "Exploration",
          "Colonization",
          "Colonization",
          "Mining",
          "Colonization",
          "Exploration",
          "Colonization",
          "Research",
          "Research",
          "Mining",
          "Exploration",
          "Research",
          "Research",
          "Exploration",
          "Colonization",
          "Colonization",
          "Mining",
          "Colonization",
          "Exploration",
          "Research",
          "Colonization",
          "Mining",
          "Colonization",
          "Exploration",
          "Mining",
          "Colonization",
          "Mining",
          "Exploration",
          "Research",
          "Exploration",
          "Exploration",
          "Exploration",
          "Exploration",
          "Research",
          "Research",
          "Mining",
          "Colonization",
          "Research",
          "Research",
          "Colonization",
          "Research",
          "Exploration",
          "Exploration",
          "Colonization",
          "Mining",
          "Mining",
          "Colonization",
          "Colonization",
          "Exploration",
          "Mining",
          "Research",
          "Exploration",
          "Colonization",
          "Mining",
          "Research",
          "Research",
          "Exploration",
          "Mining",
          "Mining",
          "Colonization",
          "Mining",
          "Mining",
          "Exploration",
          "Mining",
          "Research",
          "Exploration",
          "Exploration",
          "Colonization",
          "Mining",
          "Colonization",
          "Research",
          "Exploration",
          "Exploration",
          "Exploration",
          "Research",
          "Research",
          "Colonization",
          "Colonization",
          "Colonization",
          "Mining",
          "Exploration",
          "Exploration",
          "Colonization",
          "Exploration",
          "Colonization",
          "Mining",
          "Mining",
          "Research",
          "Mining",
          "Colonization",
          "Mining",
          "Research",
          "Exploration",
          "Colonization",
          "Exploration",
          "Research",
          "Research",
          "Research",
          "Exploration",
          "Exploration",
          "Exploration",
          "Exploration",
          "Research",
          "Research",
          "Colonization",
          "Colonization",
          "Exploration",
          "Mining",
          "Mining",
          "Research",
          "Research",
          "Research",
          "Colonization",
          "Colonization",
          "Research",
          "Research",
          "Research",
          "Mining",
          "Colonization",
          "Mining",
          "Mining",
          "Research",
          "Research",
          "Exploration",
          "Exploration",
          "Mining",
          "Colonization",
          "Research",
          "Research",
          "Mining",
          "Exploration",
          "Colonization",
          "Exploration",
          "Exploration",
          "Exploration",
          "Exploration",
          "Research",
          "Research",
          "Exploration",
          "Colonization",
          "Mining",
          "Colonization",
          "Colonization",
          "Colonization",
          "Exploration",
          "Research",
          "Colonization",
          "Exploration",
          "Colonization",
          "Colonization",
          "Exploration",
          "Research",
          "Research",
          "Mining",
          "Exploration",
          "Mining",
          "Mining",
          "Mining",
          "Research",
          "Exploration",
          "Mining",
          "Exploration",
          "Exploration",
          "Research",
          "Mining",
          "Mining",
          "Exploration",
          "Colonization",
          "Research",
          "Research",
          "Research",
          "Research",
          "Mining",
          "Mining",
          "Colonization",
          "Research",
          "Research",
          "Exploration",
          "Mining",
          "Research",
          "Colonization",
          "Colonization",
          "Mining",
          "Colonization",
          "Colonization",
          "Mining",
          "Research",
          "Research",
          "Colonization",
          "Colonization",
          "Research",
          "Mining",
          "Colonization",
          "Exploration",
          "Mining",
          "Colonization",
          "Colonization",
          "Exploration",
          "Exploration",
          "Research",
          "Mining",
          "Mining",
          "Research",
          "Mining",
          "Mining",
          "Mining",
          "Mining",
          "Mining",
          "Exploration",
          "Mining",
          "Exploration",
          "Mining",
          "Research",
          "Colonization",
          "Exploration",
          "Mining",
          "Research",
          "Colonization",
          "Exploration",
          "Colonization",
          "Research",
          "Exploration",
          "Colonization",
          "Mining",
          "Exploration",
          "Colonization",
          "Research",
          "Research",
          "Exploration",
          "Colonization",
          "Exploration",
          "Exploration",
          "Colonization",
          "Colonization",
          "Mining",
          "Colonization",
          "Research",
          "Exploration",
          "Exploration",
          "Research",
          "Colonization",
          "Research",
          "Research",
          "Mining",
          "Research",
          "Exploration",
          "Research",
          "Exploration",
          "Exploration",
          "Exploration",
          "Colonization",
          "Mining",
          "Exploration",
          "Exploration",
          "Colonization",
          "Exploration",
          "Research",
          "Research",
          "Mining",
          "Exploration",
          "Colonization",
          "Research",
          "Colonization",
          "Colonization",
          "Research",
          "Colonization",
          "Research",
          "Colonization",
          "Research",
          "Exploration",
          "Mining",
          "Research",
          "Research",
          "Mining",
          "Research",
          "Research",
          "Colonization",
          "Mining",
          "Exploration",
          "Research",
          "Mining",
          "Colonization",
          "Exploration",
          "Mining",
          "Exploration",
          "Exploration",
          "Exploration",
          "Research",
          "Research",
          "Colonization",
          "Colonization",
          "Mining",
          "Colonization",
          "Exploration",
          "Exploration",
          "Research",
          "Exploration",
          "Mining",
          "Exploration",
          "Exploration",
          "Mining",
          "Colonization",
          "Colonization",
          "Mining",
          "Research",
          "Exploration",
          "Mining",
          "Exploration",
          "Research",
          "Exploration",
          "Mining",
          "Exploration",
          "Colonization",
          "Research",
          "Research",
          "Research",
          "Mining",
          "Research",
          "Colonization",
          "Mining",
          "Colonization",
          "Exploration",
          "Exploration",
          "Exploration",
          "Exploration",
          "Colonization",
          "Mining",
          "Mining",
          "Research",
          "Colonization",
          "Exploration",
          "Colonization",
          "Research",
          "Research",
          "Colonization",
          "Colonization",
          "Colonization",
          "Mining",
          "Exploration",
          "Colonization",
          "Colonization",
          "Colonization",
          "Research",
          "Research",
          "Mining",
          "Exploration",
          "Mining",
          "Exploration",
          "Research",
          "Research",
          "Research",
          "Mining",
          "Colonization",
          "Colonization",
          "Research",
          "Colonization",
          "Colonization",
          "Mining",
          "Exploration",
          "Research",
          "Research",
          "Mining",
          "Mining",
          "Colonization",
          "Research",
          "Exploration",
          "Mining",
          "Exploration",
          "Exploration",
          "Research",
          "Research",
          "Mining",
          "Research",
          "Research",
          "Research",
          "Exploration",
          "Mining",
          "Colonization",
          "Exploration",
          "Research",
          "Exploration",
          "Research",
          "Research",
          "Exploration",
          "Mining",
          "Research",
          "Mining",
          "Colonization",
          "Research",
          "Mining",
          "Mining",
          "Colonization",
          "Mining",
          "Mining",
          "Colonization",
          "Research",
          "Mining",
          "Mining",
          "Mining",
          "Exploration",
          "Colonization",
          "Exploration",
          "Colonization",
          "Research",
          "Research",
          "Mining",
          "Colonization",
          "Research",
          "Colonization",
          "Research",
          "Exploration",
          "Research",
          "Exploration",
          "Research",
          "Mining",
          "Exploration",
          "Research",
          "Mining",
          "Exploration",
          "Mining",
          "Colonization",
          "Colonization",
          "Exploration",
          "Research",
          "Exploration",
          "Mining",
          "Research",
          "Colonization",
          "Research",
          "Colonization",
          "Research",
          "Research",
          "Research",
          "Mining",
          "Mining",
          "Exploration",
          "Exploration",
          "Colonization",
          "Mining",
          "Colonization",
          "Exploration",
          "Colonization",
          "Exploration",
          "Mining",
          "Research",
          "Mining",
          "Colonization",
          "Colonization",
          "Mining",
          "Mining",
          "Exploration",
          "Colonization",
          "Colonization",
          "Mining",
          "Research",
          "Colonization",
          "Research",
          "Mining",
          "Mining",
          "Exploration",
          "Colonization",
          "Research",
          "Exploration",
          "Colonization",
          "Exploration",
          "Mining",
          "Colonization",
          "Exploration",
          "Exploration",
          "Research",
          "Exploration"
         ],
         "legendgroup": "",
         "name": "",
         "showlegend": true,
         "type": "pie"
        }
       ],
       "layout": {
        "legend": {
         "tracegroupgap": 0
        },
        "template": {
         "data": {
          "bar": [
           {
            "error_x": {
             "color": "#2a3f5f"
            },
            "error_y": {
             "color": "#2a3f5f"
            },
            "marker": {
             "line": {
              "color": "#E5ECF6",
              "width": 0.5
             },
             "pattern": {
              "fillmode": "overlay",
              "size": 10,
              "solidity": 0.2
             }
            },
            "type": "bar"
           }
          ],
          "barpolar": [
           {
            "marker": {
             "line": {
              "color": "#E5ECF6",
              "width": 0.5
             },
             "pattern": {
              "fillmode": "overlay",
              "size": 10,
              "solidity": 0.2
             }
            },
            "type": "barpolar"
           }
          ],
          "carpet": [
           {
            "aaxis": {
             "endlinecolor": "#2a3f5f",
             "gridcolor": "white",
             "linecolor": "white",
             "minorgridcolor": "white",
             "startlinecolor": "#2a3f5f"
            },
            "baxis": {
             "endlinecolor": "#2a3f5f",
             "gridcolor": "white",
             "linecolor": "white",
             "minorgridcolor": "white",
             "startlinecolor": "#2a3f5f"
            },
            "type": "carpet"
           }
          ],
          "choropleth": [
           {
            "colorbar": {
             "outlinewidth": 0,
             "ticks": ""
            },
            "type": "choropleth"
           }
          ],
          "contour": [
           {
            "colorbar": {
             "outlinewidth": 0,
             "ticks": ""
            },
            "colorscale": [
             [
              0,
              "#0d0887"
             ],
             [
              0.1111111111111111,
              "#46039f"
             ],
             [
              0.2222222222222222,
              "#7201a8"
             ],
             [
              0.3333333333333333,
              "#9c179e"
             ],
             [
              0.4444444444444444,
              "#bd3786"
             ],
             [
              0.5555555555555556,
              "#d8576b"
             ],
             [
              0.6666666666666666,
              "#ed7953"
             ],
             [
              0.7777777777777778,
              "#fb9f3a"
             ],
             [
              0.8888888888888888,
              "#fdca26"
             ],
             [
              1,
              "#f0f921"
             ]
            ],
            "type": "contour"
           }
          ],
          "contourcarpet": [
           {
            "colorbar": {
             "outlinewidth": 0,
             "ticks": ""
            },
            "type": "contourcarpet"
           }
          ],
          "heatmap": [
           {
            "colorbar": {
             "outlinewidth": 0,
             "ticks": ""
            },
            "colorscale": [
             [
              0,
              "#0d0887"
             ],
             [
              0.1111111111111111,
              "#46039f"
             ],
             [
              0.2222222222222222,
              "#7201a8"
             ],
             [
              0.3333333333333333,
              "#9c179e"
             ],
             [
              0.4444444444444444,
              "#bd3786"
             ],
             [
              0.5555555555555556,
              "#d8576b"
             ],
             [
              0.6666666666666666,
              "#ed7953"
             ],
             [
              0.7777777777777778,
              "#fb9f3a"
             ],
             [
              0.8888888888888888,
              "#fdca26"
             ],
             [
              1,
              "#f0f921"
             ]
            ],
            "type": "heatmap"
           }
          ],
          "heatmapgl": [
           {
            "colorbar": {
             "outlinewidth": 0,
             "ticks": ""
            },
            "colorscale": [
             [
              0,
              "#0d0887"
             ],
             [
              0.1111111111111111,
              "#46039f"
             ],
             [
              0.2222222222222222,
              "#7201a8"
             ],
             [
              0.3333333333333333,
              "#9c179e"
             ],
             [
              0.4444444444444444,
              "#bd3786"
             ],
             [
              0.5555555555555556,
              "#d8576b"
             ],
             [
              0.6666666666666666,
              "#ed7953"
             ],
             [
              0.7777777777777778,
              "#fb9f3a"
             ],
             [
              0.8888888888888888,
              "#fdca26"
             ],
             [
              1,
              "#f0f921"
             ]
            ],
            "type": "heatmapgl"
           }
          ],
          "histogram": [
           {
            "marker": {
             "pattern": {
              "fillmode": "overlay",
              "size": 10,
              "solidity": 0.2
             }
            },
            "type": "histogram"
           }
          ],
          "histogram2d": [
           {
            "colorbar": {
             "outlinewidth": 0,
             "ticks": ""
            },
            "colorscale": [
             [
              0,
              "#0d0887"
             ],
             [
              0.1111111111111111,
              "#46039f"
             ],
             [
              0.2222222222222222,
              "#7201a8"
             ],
             [
              0.3333333333333333,
              "#9c179e"
             ],
             [
              0.4444444444444444,
              "#bd3786"
             ],
             [
              0.5555555555555556,
              "#d8576b"
             ],
             [
              0.6666666666666666,
              "#ed7953"
             ],
             [
              0.7777777777777778,
              "#fb9f3a"
             ],
             [
              0.8888888888888888,
              "#fdca26"
             ],
             [
              1,
              "#f0f921"
             ]
            ],
            "type": "histogram2d"
           }
          ],
          "histogram2dcontour": [
           {
            "colorbar": {
             "outlinewidth": 0,
             "ticks": ""
            },
            "colorscale": [
             [
              0,
              "#0d0887"
             ],
             [
              0.1111111111111111,
              "#46039f"
             ],
             [
              0.2222222222222222,
              "#7201a8"
             ],
             [
              0.3333333333333333,
              "#9c179e"
             ],
             [
              0.4444444444444444,
              "#bd3786"
             ],
             [
              0.5555555555555556,
              "#d8576b"
             ],
             [
              0.6666666666666666,
              "#ed7953"
             ],
             [
              0.7777777777777778,
              "#fb9f3a"
             ],
             [
              0.8888888888888888,
              "#fdca26"
             ],
             [
              1,
              "#f0f921"
             ]
            ],
            "type": "histogram2dcontour"
           }
          ],
          "mesh3d": [
           {
            "colorbar": {
             "outlinewidth": 0,
             "ticks": ""
            },
            "type": "mesh3d"
           }
          ],
          "parcoords": [
           {
            "line": {
             "colorbar": {
              "outlinewidth": 0,
              "ticks": ""
             }
            },
            "type": "parcoords"
           }
          ],
          "pie": [
           {
            "automargin": true,
            "type": "pie"
           }
          ],
          "scatter": [
           {
            "fillpattern": {
             "fillmode": "overlay",
             "size": 10,
             "solidity": 0.2
            },
            "type": "scatter"
           }
          ],
          "scatter3d": [
           {
            "line": {
             "colorbar": {
              "outlinewidth": 0,
              "ticks": ""
             }
            },
            "marker": {
             "colorbar": {
              "outlinewidth": 0,
              "ticks": ""
             }
            },
            "type": "scatter3d"
           }
          ],
          "scattercarpet": [
           {
            "marker": {
             "colorbar": {
              "outlinewidth": 0,
              "ticks": ""
             }
            },
            "type": "scattercarpet"
           }
          ],
          "scattergeo": [
           {
            "marker": {
             "colorbar": {
              "outlinewidth": 0,
              "ticks": ""
             }
            },
            "type": "scattergeo"
           }
          ],
          "scattergl": [
           {
            "marker": {
             "colorbar": {
              "outlinewidth": 0,
              "ticks": ""
             }
            },
            "type": "scattergl"
           }
          ],
          "scattermapbox": [
           {
            "marker": {
             "colorbar": {
              "outlinewidth": 0,
              "ticks": ""
             }
            },
            "type": "scattermapbox"
           }
          ],
          "scatterpolar": [
           {
            "marker": {
             "colorbar": {
              "outlinewidth": 0,
              "ticks": ""
             }
            },
            "type": "scatterpolar"
           }
          ],
          "scatterpolargl": [
           {
            "marker": {
             "colorbar": {
              "outlinewidth": 0,
              "ticks": ""
             }
            },
            "type": "scatterpolargl"
           }
          ],
          "scatterternary": [
           {
            "marker": {
             "colorbar": {
              "outlinewidth": 0,
              "ticks": ""
             }
            },
            "type": "scatterternary"
           }
          ],
          "surface": [
           {
            "colorbar": {
             "outlinewidth": 0,
             "ticks": ""
            },
            "colorscale": [
             [
              0,
              "#0d0887"
             ],
             [
              0.1111111111111111,
              "#46039f"
             ],
             [
              0.2222222222222222,
              "#7201a8"
             ],
             [
              0.3333333333333333,
              "#9c179e"
             ],
             [
              0.4444444444444444,
              "#bd3786"
             ],
             [
              0.5555555555555556,
              "#d8576b"
             ],
             [
              0.6666666666666666,
              "#ed7953"
             ],
             [
              0.7777777777777778,
              "#fb9f3a"
             ],
             [
              0.8888888888888888,
              "#fdca26"
             ],
             [
              1,
              "#f0f921"
             ]
            ],
            "type": "surface"
           }
          ],
          "table": [
           {
            "cells": {
             "fill": {
              "color": "#EBF0F8"
             },
             "line": {
              "color": "white"
             }
            },
            "header": {
             "fill": {
              "color": "#C8D4E3"
             },
             "line": {
              "color": "white"
             }
            },
            "type": "table"
           }
          ]
         },
         "layout": {
          "annotationdefaults": {
           "arrowcolor": "#2a3f5f",
           "arrowhead": 0,
           "arrowwidth": 1
          },
          "autotypenumbers": "strict",
          "coloraxis": {
           "colorbar": {
            "outlinewidth": 0,
            "ticks": ""
           }
          },
          "colorscale": {
           "diverging": [
            [
             0,
             "#8e0152"
            ],
            [
             0.1,
             "#c51b7d"
            ],
            [
             0.2,
             "#de77ae"
            ],
            [
             0.3,
             "#f1b6da"
            ],
            [
             0.4,
             "#fde0ef"
            ],
            [
             0.5,
             "#f7f7f7"
            ],
            [
             0.6,
             "#e6f5d0"
            ],
            [
             0.7,
             "#b8e186"
            ],
            [
             0.8,
             "#7fbc41"
            ],
            [
             0.9,
             "#4d9221"
            ],
            [
             1,
             "#276419"
            ]
           ],
           "sequential": [
            [
             0,
             "#0d0887"
            ],
            [
             0.1111111111111111,
             "#46039f"
            ],
            [
             0.2222222222222222,
             "#7201a8"
            ],
            [
             0.3333333333333333,
             "#9c179e"
            ],
            [
             0.4444444444444444,
             "#bd3786"
            ],
            [
             0.5555555555555556,
             "#d8576b"
            ],
            [
             0.6666666666666666,
             "#ed7953"
            ],
            [
             0.7777777777777778,
             "#fb9f3a"
            ],
            [
             0.8888888888888888,
             "#fdca26"
            ],
            [
             1,
             "#f0f921"
            ]
           ],
           "sequentialminus": [
            [
             0,
             "#0d0887"
            ],
            [
             0.1111111111111111,
             "#46039f"
            ],
            [
             0.2222222222222222,
             "#7201a8"
            ],
            [
             0.3333333333333333,
             "#9c179e"
            ],
            [
             0.4444444444444444,
             "#bd3786"
            ],
            [
             0.5555555555555556,
             "#d8576b"
            ],
            [
             0.6666666666666666,
             "#ed7953"
            ],
            [
             0.7777777777777778,
             "#fb9f3a"
            ],
            [
             0.8888888888888888,
             "#fdca26"
            ],
            [
             1,
             "#f0f921"
            ]
           ]
          },
          "colorway": [
           "#636efa",
           "#EF553B",
           "#00cc96",
           "#ab63fa",
           "#FFA15A",
           "#19d3f3",
           "#FF6692",
           "#B6E880",
           "#FF97FF",
           "#FECB52"
          ],
          "font": {
           "color": "#2a3f5f"
          },
          "geo": {
           "bgcolor": "white",
           "lakecolor": "white",
           "landcolor": "#E5ECF6",
           "showlakes": true,
           "showland": true,
           "subunitcolor": "white"
          },
          "hoverlabel": {
           "align": "left"
          },
          "hovermode": "closest",
          "mapbox": {
           "style": "light"
          },
          "paper_bgcolor": "white",
          "plot_bgcolor": "#E5ECF6",
          "polar": {
           "angularaxis": {
            "gridcolor": "white",
            "linecolor": "white",
            "ticks": ""
           },
           "bgcolor": "#E5ECF6",
           "radialaxis": {
            "gridcolor": "white",
            "linecolor": "white",
            "ticks": ""
           }
          },
          "scene": {
           "xaxis": {
            "backgroundcolor": "#E5ECF6",
            "gridcolor": "white",
            "gridwidth": 2,
            "linecolor": "white",
            "showbackground": true,
            "ticks": "",
            "zerolinecolor": "white"
           },
           "yaxis": {
            "backgroundcolor": "#E5ECF6",
            "gridcolor": "white",
            "gridwidth": 2,
            "linecolor": "white",
            "showbackground": true,
            "ticks": "",
            "zerolinecolor": "white"
           },
           "zaxis": {
            "backgroundcolor": "#E5ECF6",
            "gridcolor": "white",
            "gridwidth": 2,
            "linecolor": "white",
            "showbackground": true,
            "ticks": "",
            "zerolinecolor": "white"
           }
          },
          "shapedefaults": {
           "line": {
            "color": "#2a3f5f"
           }
          },
          "ternary": {
           "aaxis": {
            "gridcolor": "white",
            "linecolor": "white",
            "ticks": ""
           },
           "baxis": {
            "gridcolor": "white",
            "linecolor": "white",
            "ticks": ""
           },
           "bgcolor": "#E5ECF6",
           "caxis": {
            "gridcolor": "white",
            "linecolor": "white",
            "ticks": ""
           }
          },
          "title": {
           "x": 0.05
          },
          "xaxis": {
           "automargin": true,
           "gridcolor": "white",
           "linecolor": "white",
           "ticks": "",
           "title": {
            "standoff": 15
           },
           "zerolinecolor": "white",
           "zerolinewidth": 2
          },
          "yaxis": {
           "automargin": true,
           "gridcolor": "white",
           "linecolor": "white",
           "ticks": "",
           "title": {
            "standoff": 15
           },
           "zerolinecolor": "white",
           "zerolinewidth": 2
          }
         }
        },
        "title": {
         "text": "Mission Type"
        }
       }
      }
     },
     "metadata": {},
     "output_type": "display_data"
    }
   ],
   "source": [
    "# Using a pie chart to visualize the mission type\n",
    "fig = px.pie(df, names='Mission Type', title='Mission Type')        #names='Mission Type' is the column we want to visualize\n",
    "fig.show()\n",
    "\n",
    "# You can click on the legend to hide/show the data and check the percentage without the hidden data"
   ]
  },
  {
   "cell_type": "code",
   "execution_count": 6,
   "metadata": {},
   "outputs": [
    {
     "data": {
      "application/vnd.plotly.v1+json": {
       "config": {
        "plotlyServerURL": "https://plot.ly"
       },
       "data": [
        {
         "alignmentgroup": "True",
         "bingroup": "x",
         "histfunc": "sum",
         "hovertemplate": "Mission Duration (years)=%{x}<br>sum of Fuel Consumption (tons)=%{y}<extra></extra>",
         "legendgroup": "",
         "marker": {
          "color": "#636efa",
          "pattern": {
           "shape": ""
          }
         },
         "name": "",
         "offsetgroup": "",
         "orientation": "v",
         "showlegend": false,
         "type": "histogram",
         "x": [
          5.2,
          23,
          28.8,
          17.8,
          9.2,
          8.8,
          5,
          25.2,
          4.4,
          18.9,
          10.4,
          15.5,
          19,
          22.9,
          9.1,
          3.1,
          8.4,
          23.7,
          24.3,
          17.9,
          18,
          18.9,
          8.3,
          27.4,
          15.3,
          13.8,
          17.4,
          4.4,
          8.5,
          20.7,
          4.7,
          17.4,
          9,
          11.9,
          12.1,
          11.2,
          19.4,
          10.6,
          15.4,
          13.4,
          18.5,
          26.3,
          21.1,
          9.6,
          4.8,
          9.3,
          17.2,
          3.6,
          16.5,
          16.1,
          9.4,
          23.5,
          5.6,
          3.4,
          20.2,
          17.1,
          21.7,
          14.7,
          9.1,
          23.6,
          24.9,
          22.2,
          8.7,
          19,
          10.8,
          4.2,
          26.6,
          6.1,
          28.5,
          12.5,
          7.7,
          18.2,
          26.4,
          19.9,
          22.6,
          20,
          19,
          26.1,
          10.9,
          13.9,
          7.1,
          26,
          28.2,
          2.8,
          20.3,
          25.9,
          8,
          15.5,
          24.8,
          5.6,
          22.1,
          11.6,
          24.2,
          26.6,
          27.1,
          14,
          26.2,
          24.7,
          9.3,
          25.4,
          5.8,
          16.2,
          8.9,
          5.3,
          4.5,
          19.1,
          11.8,
          23,
          4.7,
          9.2,
          17,
          22.1,
          12.4,
          18.4,
          23.9,
          17.2,
          9.9,
          2.7,
          25.8,
          2.4,
          24.2,
          16.1,
          28.3,
          24.7,
          26.8,
          11.2,
          20.8,
          13.1,
          14.9,
          20.3,
          26.6,
          27.1,
          22.2,
          15.1,
          14.8,
          19.5,
          8.3,
          5.5,
          10.8,
          9,
          8.6,
          9.5,
          3.2,
          1.7,
          26.6,
          14.9,
          14,
          19.9,
          8.2,
          28.7,
          21.5,
          4.1,
          12.6,
          23.7,
          26.1,
          16.4,
          18.8,
          6.9,
          29.5,
          7,
          25.4,
          19.5,
          18.7,
          14,
          8.4,
          8.1,
          9.3,
          8.3,
          21.8,
          10.2,
          4.2,
          25.7,
          26.9,
          26.1,
          27.1,
          8.5,
          12.9,
          21.2,
          21.7,
          8.4,
          24.1,
          6.8,
          8.9,
          17.5,
          16.4,
          16.4,
          6.9,
          23,
          10.7,
          6.2,
          25,
          24.9,
          25.8,
          22.7,
          19.6,
          17.5,
          6,
          15.1,
          12.5,
          9.1,
          22.9,
          16,
          4.3,
          7.1,
          21.5,
          4.4,
          24.9,
          15.3,
          13.8,
          18.2,
          21.9,
          11.4,
          20.2,
          16.9,
          10.7,
          26.3,
          24,
          17.6,
          23,
          24.8,
          22.5,
          25.3,
          21.8,
          19.2,
          18.2,
          21.7,
          5.6,
          23.2,
          26.6,
          2.7,
          22.6,
          4.6,
          13.1,
          21.9,
          7.7,
          25.1,
          23.2,
          16.2,
          1.4,
          9,
          19.8,
          28.6,
          18.2,
          9,
          19,
          14.5,
          21.5,
          4.6,
          21,
          17.8,
          26.2,
          10.3,
          18.9,
          27.8,
          4.6,
          24.7,
          19.6,
          5.7,
          10.8,
          22,
          6.6,
          18.7,
          12.1,
          18.5,
          2.4,
          26.7,
          26.9,
          25.8,
          22.4,
          5.4,
          22.3,
          4,
          3.4,
          12.5,
          14.3,
          22.1,
          20.3,
          14.8,
          11,
          27.5,
          14.3,
          12.9,
          8.9,
          22.4,
          21.3,
          6.6,
          3.9,
          20,
          20.9,
          10,
          28.5,
          6.8,
          13.8,
          25.1,
          14.7,
          18,
          14.6,
          11.5,
          29.4,
          13.3,
          26.1,
          9.9,
          6.9,
          4.2,
          17.4,
          12.2,
          23.2,
          13.6,
          26.7,
          7.4,
          25.2,
          20.7,
          22.3,
          22.9,
          22.3,
          19.2,
          6.6,
          4.8,
          25.4,
          19.5,
          22.7,
          15,
          6.6,
          4.2,
          20.8,
          14.3,
          7.3,
          13.7,
          3,
          19.3,
          10.5,
          21.5,
          10.2,
          14.8,
          4.7,
          3,
          11.8,
          16.6,
          16.1,
          9.1,
          22.2,
          25,
          21.6,
          2.3,
          13.2,
          4.6,
          10.6,
          27.3,
          7.5,
          17.2,
          18.1,
          19.3,
          17.1,
          4.9,
          12.4,
          14.2,
          6,
          12.1,
          5.5,
          3.5,
          13.1,
          7.9,
          16.9,
          20.2,
          21.3,
          7.2,
          6.5,
          7.4,
          18.1,
          20.5,
          4.5,
          25.1,
          4.3,
          17.5,
          22.2,
          25.3,
          21.5,
          21.6,
          13.3,
          21.9,
          6.1,
          24.4,
          18.4,
          24.3,
          15.4,
          18,
          16,
          21.8,
          6.2,
          3,
          11.1,
          8.6,
          23.9,
          9.8,
          27.5,
          11.3,
          6.9,
          23.1,
          20.4,
          15.1,
          17.4,
          21.8,
          9.6,
          26.1,
          28.8,
          19.1,
          7.1,
          19,
          4.8,
          5.4,
          9,
          15.6,
          23.1,
          21.1,
          23.5,
          14.7,
          10.5,
          12.3,
          26.6,
          3.7,
          25.8,
          18.6,
          12.9,
          22.8,
          15.6,
          24.4,
          25.5,
          14,
          10.2,
          17.8,
          25.8,
          7,
          19.8,
          19,
          19.9,
          7.4,
          22.6,
          27.5,
          7,
          7.5,
          27.4,
          6,
          26.1,
          14.1,
          8.2,
          24.4,
          13.7,
          17.1,
          11.8,
          16.5,
          6.2,
          12.8,
          25.8,
          9.9,
          19.7,
          12,
          24.1,
          8,
          29,
          13.3,
          7.5,
          4.1,
          8.9,
          17.9,
          12.9,
          22.2,
          15.6,
          8.9,
          16.5,
          20.5,
          5.4,
          7.4,
          3.3,
          21.3,
          20.1,
          16.4,
          24.8,
          22.9,
          18.9,
          26.3,
          6.7,
          6,
          8.9,
          2.7,
          17,
          27.9,
          2.7,
          7.3,
          15.7,
          28,
          10,
          17.3,
          3.4,
          7,
          25.9,
          25.3,
          4.1,
          26.6,
          18,
          23.5
         ],
         "xaxis": "x",
         "y": [
          731.88,
          4197.41,
          4908,
          2569.05,
          892.76,
          1327.29,
          211.2,
          4600.53,
          568.97,
          2856.43,
          1373.35,
          2763.02,
          3316.84,
          4159.32,
          1003.42,
          159.52,
          695.47,
          4539.44,
          4340.59,
          3009.16,
          3022.56,
          3234.52,
          985.76,
          4637.53,
          2080.14,
          1866.89,
          2616.38,
          248.33,
          857.78,
          3702.58,
          448.31,
          3092.37,
          1262.41,
          1900.52,
          1519.13,
          1867.03,
          3755.6,
          1436.83,
          2848.14,
          2280.9,
          3349.66,
          4657.59,
          3762.17,
          1044.27,
          81.54,
          1295.44,
          2880.23,
          304.55,
          2383.75,
          2989.42,
          1574.11,
          3840.99,
          624.17,
          403.03,
          3600.83,
          2481.44,
          3445.9,
          2203.63,
          1171.66,
          4126.63,
          3863.78,
          3445.51,
          1343.59,
          2986.67,
          1812.13,
          396.72,
          4537.75,
          702.93,
          4748.05,
          2207.04,
          909.96,
          2748.81,
          4340.12,
          3659.6,
          4143.5,
          3225.82,
          3371.41,
          4286.18,
          1222.07,
          2436.09,
          1074.94,
          4925.01,
          4800.93,
          247.11,
          3574.11,
          4556.19,
          853.44,
          2702.05,
          4537.53,
          226.84,
          3515.85,
          1482.92,
          4621.88,
          4821.56,
          4732.24,
          2414.29,
          4231.21,
          4238.98,
          1648.62,
          4125.24,
          230.04,
          3125.73,
          1152.78,
          631.67,
          357.1,
          3493.06,
          1729.01,
          3636.74,
          285.02,
          1593.32,
          2775.11,
          3978.43,
          1649.1,
          3121.15,
          4468.5,
          3096.96,
          1124.45,
          147.93,
          4302.42,
          84.36,
          4384.47,
          2663.86,
          4636.54,
          4048.7,
          5018.6,
          1724.76,
          3761.12,
          2008.75,
          2382.7,
          3146.66,
          4351.84,
          4820.63,
          3824.58,
          2079.72,
          2144.68,
          3656.09,
          1284.93,
          465.42,
          1845.56,
          1431.78,
          1531.98,
          1179.99,
          276.98,
          79.63,
          4884.07,
          2216.03,
          1922.33,
          3412.08,
          1160.74,
          4698.4,
          3963.77,
          426.51,
          2087.39,
          4400.61,
          4648.99,
          2303.06,
          3138.55,
          887.31,
          4952.87,
          1178.16,
          4699.29,
          3319.83,
          3032.98,
          2579.59,
          1218.3,
          852.13,
          1187.94,
          863.48,
          3981.48,
          1738.37,
          286.87,
          4751.5,
          4397.26,
          4587.01,
          4944.62,
          871.13,
          2034.89,
          3804.38,
          3498.38,
          723.22,
          4036.96,
          1219.94,
          1090.24,
          2772.81,
          2956.85,
          2905.11,
          520.52,
          4452.59,
          1329.46,
          636.59,
          4442.2,
          4795.9,
          4356.57,
          4049.21,
          3310.94,
          2840.92,
          463.07,
          2063.58,
          1794.05,
          1174.46,
          3639.42,
          2479.26,
          388.26,
          1121.18,
          3415.98,
          446.39,
          4262.31,
          2443.65,
          2457.51,
          2955.14,
          4151.33,
          1722.13,
          3360.51,
          2837.21,
          1342.64,
          4417.99,
          3975.57,
          3204.18,
          4232.36,
          4377.69,
          3530.13,
          4174.68,
          3539.32,
          3368.4,
          3019.86,
          3757.97,
          776.79,
          4357.69,
          4351.23,
          180.58,
          4130.54,
          668.35,
          1772.67,
          3702.86,
          825.92,
          4066.54,
          4119.68,
          2512.75,
          18.06,
          1459.97,
          3205.45,
          4870.2,
          3142.17,
          1302.84,
          3193.79,
          2718.18,
          3965.2,
          422.68,
          3688.65,
          2686.21,
          4869.87,
          1637.72,
          3016.62,
          4689.56,
          534.18,
          4632.49,
          3393.72,
          300.51,
          1517.53,
          3512.68,
          370.7,
          2772.27,
          1693.16,
          3051.7,
          225.18,
          4332.1,
          4907.89,
          4752.03,
          3753.27,
          686.92,
          3886.83,
          108.91,
          136.22,
          1534.81,
          2328.4,
          3896.24,
          3419.72,
          2293.93,
          1306.33,
          5012,
          2230.44,
          2282.99,
          839.83,
          3976.43,
          3392.46,
          1179.78,
          390.46,
          3431.22,
          3197.85,
          1315.03,
          4826.75,
          746.63,
          2239.66,
          4715.09,
          2011.91,
          3240.6,
          1964.51,
          1412.93,
          4921.26,
          1975.84,
          4480.21,
          1266.81,
          1097.65,
          162.12,
          3315.77,
          1859.53,
          4333.48,
          2316.42,
          4852.69,
          987.77,
          4302.2,
          3956.22,
          3852.41,
          4180.61,
          3857.88,
          3120.66,
          702.98,
          157.41,
          4602.01,
          3111.68,
          3999.54,
          2313.22,
          538.94,
          681.47,
          3424.39,
          2130.81,
          943.07,
          2409.01,
          228.91,
          2908.94,
          1322.08,
          3941.67,
          1555.59,
          2300.2,
          172.66,
          296.41,
          2026.97,
          2453.66,
          2965.05,
          1475.16,
          3455.12,
          4311.28,
          3976.46,
          238.28,
          2433.43,
          512.48,
          1143.8,
          4922.58,
          781.33,
          2422.64,
          3042.25,
          3521.31,
          2753.77,
          19.37,
          1617.82,
          2524.72,
          399.29,
          1795.17,
          110.63,
          322.11,
          1959.5,
          708.6,
          2832.15,
          3426.77,
          4007.22,
          921.71,
          870.74,
          551.17,
          3165.53,
          3585.3,
          111.63,
          4738.4,
          276.72,
          2694.17,
          3547.01,
          4350.64,
          3634.01,
          3957.17,
          1665.87,
          4127.82,
          380.22,
          4520.03,
          2826.97,
          4067.91,
          2301.07,
          3163.32,
          2674.74,
          3670.97,
          440.65,
          278.72,
          1159.95,
          831.16,
          4256.83,
          1088.13,
          4927.06,
          1700.59,
          1016.42,
          4002.26,
          3264.31,
          2497.37,
          2778.63,
          3519.89,
          1102.98,
          4953.96,
          4772.19,
          3257.37,
          993.55,
          3320.36,
          390.21,
          198.79,
          1307.35,
          2301.8,
          4372.57,
          3673.01,
          3731.37,
          2091.77,
          1749.83,
          1920.77,
          4908.17,
          314.9,
          4309.72,
          2899.62,
          2165.38,
          3640.16,
          2350.89,
          4340.7,
          4450.39,
          2120.77,
          1440.72,
          2998.3,
          4444.42,
          1163.1,
          3133.76,
          3122.18,
          3675.86,
          675.81,
          3548.66,
          4555.9,
          876.63,
          1174.78,
          4822.69,
          841.37,
          4280.29,
          2495.26,
          1269.74,
          4396,
          2248.22,
          2552.36,
          1844.98,
          2901.12,
          780.97,
          1912.79,
          4901,
          1345.14,
          3311.37,
          1686.6,
          3826.04,
          680.43,
          4842.74,
          2316.34,
          1182.24,
          357.75,
          884.05,
          2647.81,
          1658.58,
          4142.95,
          2107.08,
          1126.1,
          3100.02,
          3567.45,
          857.1,
          748.52,
          175.46,
          3574.08,
          3390.49,
          2323.7,
          4284.77,
          4077.29,
          2885.97,
          4286.36,
          1054.52,
          525.78,
          1361.12,
          270.86,
          2571.94,
          4572.48,
          217.33,
          590.92,
          2238.35,
          4704.79,
          1646.67,
          2527.37,
          199.97,
          775.01,
          4865.15,
          4837.16,
          62.59,
          4794.01,
          3102.16,
          4302.93
         ],
         "yaxis": "y"
        }
       ],
       "layout": {
        "barmode": "relative",
        "legend": {
         "tracegroupgap": 0
        },
        "template": {
         "data": {
          "bar": [
           {
            "error_x": {
             "color": "#2a3f5f"
            },
            "error_y": {
             "color": "#2a3f5f"
            },
            "marker": {
             "line": {
              "color": "#E5ECF6",
              "width": 0.5
             },
             "pattern": {
              "fillmode": "overlay",
              "size": 10,
              "solidity": 0.2
             }
            },
            "type": "bar"
           }
          ],
          "barpolar": [
           {
            "marker": {
             "line": {
              "color": "#E5ECF6",
              "width": 0.5
             },
             "pattern": {
              "fillmode": "overlay",
              "size": 10,
              "solidity": 0.2
             }
            },
            "type": "barpolar"
           }
          ],
          "carpet": [
           {
            "aaxis": {
             "endlinecolor": "#2a3f5f",
             "gridcolor": "white",
             "linecolor": "white",
             "minorgridcolor": "white",
             "startlinecolor": "#2a3f5f"
            },
            "baxis": {
             "endlinecolor": "#2a3f5f",
             "gridcolor": "white",
             "linecolor": "white",
             "minorgridcolor": "white",
             "startlinecolor": "#2a3f5f"
            },
            "type": "carpet"
           }
          ],
          "choropleth": [
           {
            "colorbar": {
             "outlinewidth": 0,
             "ticks": ""
            },
            "type": "choropleth"
           }
          ],
          "contour": [
           {
            "colorbar": {
             "outlinewidth": 0,
             "ticks": ""
            },
            "colorscale": [
             [
              0,
              "#0d0887"
             ],
             [
              0.1111111111111111,
              "#46039f"
             ],
             [
              0.2222222222222222,
              "#7201a8"
             ],
             [
              0.3333333333333333,
              "#9c179e"
             ],
             [
              0.4444444444444444,
              "#bd3786"
             ],
             [
              0.5555555555555556,
              "#d8576b"
             ],
             [
              0.6666666666666666,
              "#ed7953"
             ],
             [
              0.7777777777777778,
              "#fb9f3a"
             ],
             [
              0.8888888888888888,
              "#fdca26"
             ],
             [
              1,
              "#f0f921"
             ]
            ],
            "type": "contour"
           }
          ],
          "contourcarpet": [
           {
            "colorbar": {
             "outlinewidth": 0,
             "ticks": ""
            },
            "type": "contourcarpet"
           }
          ],
          "heatmap": [
           {
            "colorbar": {
             "outlinewidth": 0,
             "ticks": ""
            },
            "colorscale": [
             [
              0,
              "#0d0887"
             ],
             [
              0.1111111111111111,
              "#46039f"
             ],
             [
              0.2222222222222222,
              "#7201a8"
             ],
             [
              0.3333333333333333,
              "#9c179e"
             ],
             [
              0.4444444444444444,
              "#bd3786"
             ],
             [
              0.5555555555555556,
              "#d8576b"
             ],
             [
              0.6666666666666666,
              "#ed7953"
             ],
             [
              0.7777777777777778,
              "#fb9f3a"
             ],
             [
              0.8888888888888888,
              "#fdca26"
             ],
             [
              1,
              "#f0f921"
             ]
            ],
            "type": "heatmap"
           }
          ],
          "heatmapgl": [
           {
            "colorbar": {
             "outlinewidth": 0,
             "ticks": ""
            },
            "colorscale": [
             [
              0,
              "#0d0887"
             ],
             [
              0.1111111111111111,
              "#46039f"
             ],
             [
              0.2222222222222222,
              "#7201a8"
             ],
             [
              0.3333333333333333,
              "#9c179e"
             ],
             [
              0.4444444444444444,
              "#bd3786"
             ],
             [
              0.5555555555555556,
              "#d8576b"
             ],
             [
              0.6666666666666666,
              "#ed7953"
             ],
             [
              0.7777777777777778,
              "#fb9f3a"
             ],
             [
              0.8888888888888888,
              "#fdca26"
             ],
             [
              1,
              "#f0f921"
             ]
            ],
            "type": "heatmapgl"
           }
          ],
          "histogram": [
           {
            "marker": {
             "pattern": {
              "fillmode": "overlay",
              "size": 10,
              "solidity": 0.2
             }
            },
            "type": "histogram"
           }
          ],
          "histogram2d": [
           {
            "colorbar": {
             "outlinewidth": 0,
             "ticks": ""
            },
            "colorscale": [
             [
              0,
              "#0d0887"
             ],
             [
              0.1111111111111111,
              "#46039f"
             ],
             [
              0.2222222222222222,
              "#7201a8"
             ],
             [
              0.3333333333333333,
              "#9c179e"
             ],
             [
              0.4444444444444444,
              "#bd3786"
             ],
             [
              0.5555555555555556,
              "#d8576b"
             ],
             [
              0.6666666666666666,
              "#ed7953"
             ],
             [
              0.7777777777777778,
              "#fb9f3a"
             ],
             [
              0.8888888888888888,
              "#fdca26"
             ],
             [
              1,
              "#f0f921"
             ]
            ],
            "type": "histogram2d"
           }
          ],
          "histogram2dcontour": [
           {
            "colorbar": {
             "outlinewidth": 0,
             "ticks": ""
            },
            "colorscale": [
             [
              0,
              "#0d0887"
             ],
             [
              0.1111111111111111,
              "#46039f"
             ],
             [
              0.2222222222222222,
              "#7201a8"
             ],
             [
              0.3333333333333333,
              "#9c179e"
             ],
             [
              0.4444444444444444,
              "#bd3786"
             ],
             [
              0.5555555555555556,
              "#d8576b"
             ],
             [
              0.6666666666666666,
              "#ed7953"
             ],
             [
              0.7777777777777778,
              "#fb9f3a"
             ],
             [
              0.8888888888888888,
              "#fdca26"
             ],
             [
              1,
              "#f0f921"
             ]
            ],
            "type": "histogram2dcontour"
           }
          ],
          "mesh3d": [
           {
            "colorbar": {
             "outlinewidth": 0,
             "ticks": ""
            },
            "type": "mesh3d"
           }
          ],
          "parcoords": [
           {
            "line": {
             "colorbar": {
              "outlinewidth": 0,
              "ticks": ""
             }
            },
            "type": "parcoords"
           }
          ],
          "pie": [
           {
            "automargin": true,
            "type": "pie"
           }
          ],
          "scatter": [
           {
            "fillpattern": {
             "fillmode": "overlay",
             "size": 10,
             "solidity": 0.2
            },
            "type": "scatter"
           }
          ],
          "scatter3d": [
           {
            "line": {
             "colorbar": {
              "outlinewidth": 0,
              "ticks": ""
             }
            },
            "marker": {
             "colorbar": {
              "outlinewidth": 0,
              "ticks": ""
             }
            },
            "type": "scatter3d"
           }
          ],
          "scattercarpet": [
           {
            "marker": {
             "colorbar": {
              "outlinewidth": 0,
              "ticks": ""
             }
            },
            "type": "scattercarpet"
           }
          ],
          "scattergeo": [
           {
            "marker": {
             "colorbar": {
              "outlinewidth": 0,
              "ticks": ""
             }
            },
            "type": "scattergeo"
           }
          ],
          "scattergl": [
           {
            "marker": {
             "colorbar": {
              "outlinewidth": 0,
              "ticks": ""
             }
            },
            "type": "scattergl"
           }
          ],
          "scattermapbox": [
           {
            "marker": {
             "colorbar": {
              "outlinewidth": 0,
              "ticks": ""
             }
            },
            "type": "scattermapbox"
           }
          ],
          "scatterpolar": [
           {
            "marker": {
             "colorbar": {
              "outlinewidth": 0,
              "ticks": ""
             }
            },
            "type": "scatterpolar"
           }
          ],
          "scatterpolargl": [
           {
            "marker": {
             "colorbar": {
              "outlinewidth": 0,
              "ticks": ""
             }
            },
            "type": "scatterpolargl"
           }
          ],
          "scatterternary": [
           {
            "marker": {
             "colorbar": {
              "outlinewidth": 0,
              "ticks": ""
             }
            },
            "type": "scatterternary"
           }
          ],
          "surface": [
           {
            "colorbar": {
             "outlinewidth": 0,
             "ticks": ""
            },
            "colorscale": [
             [
              0,
              "#0d0887"
             ],
             [
              0.1111111111111111,
              "#46039f"
             ],
             [
              0.2222222222222222,
              "#7201a8"
             ],
             [
              0.3333333333333333,
              "#9c179e"
             ],
             [
              0.4444444444444444,
              "#bd3786"
             ],
             [
              0.5555555555555556,
              "#d8576b"
             ],
             [
              0.6666666666666666,
              "#ed7953"
             ],
             [
              0.7777777777777778,
              "#fb9f3a"
             ],
             [
              0.8888888888888888,
              "#fdca26"
             ],
             [
              1,
              "#f0f921"
             ]
            ],
            "type": "surface"
           }
          ],
          "table": [
           {
            "cells": {
             "fill": {
              "color": "#EBF0F8"
             },
             "line": {
              "color": "white"
             }
            },
            "header": {
             "fill": {
              "color": "#C8D4E3"
             },
             "line": {
              "color": "white"
             }
            },
            "type": "table"
           }
          ]
         },
         "layout": {
          "annotationdefaults": {
           "arrowcolor": "#2a3f5f",
           "arrowhead": 0,
           "arrowwidth": 1
          },
          "autotypenumbers": "strict",
          "coloraxis": {
           "colorbar": {
            "outlinewidth": 0,
            "ticks": ""
           }
          },
          "colorscale": {
           "diverging": [
            [
             0,
             "#8e0152"
            ],
            [
             0.1,
             "#c51b7d"
            ],
            [
             0.2,
             "#de77ae"
            ],
            [
             0.3,
             "#f1b6da"
            ],
            [
             0.4,
             "#fde0ef"
            ],
            [
             0.5,
             "#f7f7f7"
            ],
            [
             0.6,
             "#e6f5d0"
            ],
            [
             0.7,
             "#b8e186"
            ],
            [
             0.8,
             "#7fbc41"
            ],
            [
             0.9,
             "#4d9221"
            ],
            [
             1,
             "#276419"
            ]
           ],
           "sequential": [
            [
             0,
             "#0d0887"
            ],
            [
             0.1111111111111111,
             "#46039f"
            ],
            [
             0.2222222222222222,
             "#7201a8"
            ],
            [
             0.3333333333333333,
             "#9c179e"
            ],
            [
             0.4444444444444444,
             "#bd3786"
            ],
            [
             0.5555555555555556,
             "#d8576b"
            ],
            [
             0.6666666666666666,
             "#ed7953"
            ],
            [
             0.7777777777777778,
             "#fb9f3a"
            ],
            [
             0.8888888888888888,
             "#fdca26"
            ],
            [
             1,
             "#f0f921"
            ]
           ],
           "sequentialminus": [
            [
             0,
             "#0d0887"
            ],
            [
             0.1111111111111111,
             "#46039f"
            ],
            [
             0.2222222222222222,
             "#7201a8"
            ],
            [
             0.3333333333333333,
             "#9c179e"
            ],
            [
             0.4444444444444444,
             "#bd3786"
            ],
            [
             0.5555555555555556,
             "#d8576b"
            ],
            [
             0.6666666666666666,
             "#ed7953"
            ],
            [
             0.7777777777777778,
             "#fb9f3a"
            ],
            [
             0.8888888888888888,
             "#fdca26"
            ],
            [
             1,
             "#f0f921"
            ]
           ]
          },
          "colorway": [
           "#636efa",
           "#EF553B",
           "#00cc96",
           "#ab63fa",
           "#FFA15A",
           "#19d3f3",
           "#FF6692",
           "#B6E880",
           "#FF97FF",
           "#FECB52"
          ],
          "font": {
           "color": "#2a3f5f"
          },
          "geo": {
           "bgcolor": "white",
           "lakecolor": "white",
           "landcolor": "#E5ECF6",
           "showlakes": true,
           "showland": true,
           "subunitcolor": "white"
          },
          "hoverlabel": {
           "align": "left"
          },
          "hovermode": "closest",
          "mapbox": {
           "style": "light"
          },
          "paper_bgcolor": "white",
          "plot_bgcolor": "#E5ECF6",
          "polar": {
           "angularaxis": {
            "gridcolor": "white",
            "linecolor": "white",
            "ticks": ""
           },
           "bgcolor": "#E5ECF6",
           "radialaxis": {
            "gridcolor": "white",
            "linecolor": "white",
            "ticks": ""
           }
          },
          "scene": {
           "xaxis": {
            "backgroundcolor": "#E5ECF6",
            "gridcolor": "white",
            "gridwidth": 2,
            "linecolor": "white",
            "showbackground": true,
            "ticks": "",
            "zerolinecolor": "white"
           },
           "yaxis": {
            "backgroundcolor": "#E5ECF6",
            "gridcolor": "white",
            "gridwidth": 2,
            "linecolor": "white",
            "showbackground": true,
            "ticks": "",
            "zerolinecolor": "white"
           },
           "zaxis": {
            "backgroundcolor": "#E5ECF6",
            "gridcolor": "white",
            "gridwidth": 2,
            "linecolor": "white",
            "showbackground": true,
            "ticks": "",
            "zerolinecolor": "white"
           }
          },
          "shapedefaults": {
           "line": {
            "color": "#2a3f5f"
           }
          },
          "ternary": {
           "aaxis": {
            "gridcolor": "white",
            "linecolor": "white",
            "ticks": ""
           },
           "baxis": {
            "gridcolor": "white",
            "linecolor": "white",
            "ticks": ""
           },
           "bgcolor": "#E5ECF6",
           "caxis": {
            "gridcolor": "white",
            "linecolor": "white",
            "ticks": ""
           }
          },
          "title": {
           "x": 0.05
          },
          "xaxis": {
           "automargin": true,
           "gridcolor": "white",
           "linecolor": "white",
           "ticks": "",
           "title": {
            "standoff": 15
           },
           "zerolinecolor": "white",
           "zerolinewidth": 2
          },
          "yaxis": {
           "automargin": true,
           "gridcolor": "white",
           "linecolor": "white",
           "ticks": "",
           "title": {
            "standoff": 15
           },
           "zerolinecolor": "white",
           "zerolinewidth": 2
          }
         }
        },
        "title": {
         "text": "Mission Duration vs Fuel Consumption"
        },
        "xaxis": {
         "anchor": "y",
         "domain": [
          0,
          1
         ],
         "title": {
          "text": "Mission Duration (years)"
         }
        },
        "yaxis": {
         "anchor": "x",
         "domain": [
          0,
          1
         ],
         "title": {
          "text": "sum of Fuel Consumption (tons)"
         }
        }
       }
      }
     },
     "metadata": {},
     "output_type": "display_data"
    }
   ],
   "source": [
    "# Using a histogram to visualize the relationship between Mission Duration (years) and Fuel Consumption (tons) \n",
    "fig = px.histogram(df, x='Mission Duration (years)', y='Fuel Consumption (tons)', title='Mission Duration vs Fuel Consumption')\n",
    "fig.show()\n",
    "\n",
    "#you can hover over the bars to see the exact values"
   ]
  },
  {
   "cell_type": "code",
   "execution_count": 7,
   "metadata": {},
   "outputs": [
    {
     "data": {
      "application/vnd.plotly.v1+json": {
       "config": {
        "plotlyServerURL": "https://plot.ly"
       },
       "data": [
        {
         "alignmentgroup": "True",
         "hovertemplate": "Mission Type=%{x}<br>Fuel Consumption (tons)=%{y}<extra></extra>",
         "legendgroup": "Colonization",
         "marker": {
          "color": "rgb(102,194,165)",
          "pattern": {
           "shape": ""
          }
         },
         "name": "Colonization",
         "offsetgroup": "Colonization",
         "orientation": "v",
         "showlegend": true,
         "textposition": "auto",
         "type": "bar",
         "x": [
          "Colonization"
         ],
         "xaxis": "x",
         "y": [
          2760.4984
         ],
         "yaxis": "y"
        },
        {
         "alignmentgroup": "True",
         "hovertemplate": "Mission Type=%{x}<br>Fuel Consumption (tons)=%{y}<extra></extra>",
         "legendgroup": "Exploration",
         "marker": {
          "color": "rgb(252,141,98)",
          "pattern": {
           "shape": ""
          }
         },
         "name": "Exploration",
         "offsetgroup": "Exploration",
         "orientation": "v",
         "showlegend": true,
         "textposition": "auto",
         "type": "bar",
         "x": [
          "Exploration"
         ],
         "xaxis": "x",
         "y": [
          2567.988503937008
         ],
         "yaxis": "y"
        },
        {
         "alignmentgroup": "True",
         "hovertemplate": "Mission Type=%{x}<br>Fuel Consumption (tons)=%{y}<extra></extra>",
         "legendgroup": "Mining",
         "marker": {
          "color": "rgb(141,160,203)",
          "pattern": {
           "shape": ""
          }
         },
         "name": "Mining",
         "offsetgroup": "Mining",
         "orientation": "v",
         "showlegend": true,
         "textposition": "auto",
         "type": "bar",
         "x": [
          "Mining"
         ],
         "xaxis": "x",
         "y": [
          2279.648275862069
         ],
         "yaxis": "y"
        },
        {
         "alignmentgroup": "True",
         "hovertemplate": "Mission Type=%{x}<br>Fuel Consumption (tons)=%{y}<extra></extra>",
         "legendgroup": "Research",
         "marker": {
          "color": "rgb(231,138,195)",
          "pattern": {
           "shape": ""
          }
         },
         "name": "Research",
         "offsetgroup": "Research",
         "orientation": "v",
         "showlegend": true,
         "textposition": "auto",
         "type": "bar",
         "x": [
          "Research"
         ],
         "xaxis": "x",
         "y": [
          2546.401742424242
         ],
         "yaxis": "y"
        }
       ],
       "layout": {
        "barmode": "relative",
        "legend": {
         "title": {
          "text": "Mission Type"
         },
         "tracegroupgap": 0
        },
        "template": {
         "data": {
          "bar": [
           {
            "error_x": {
             "color": "#2a3f5f"
            },
            "error_y": {
             "color": "#2a3f5f"
            },
            "marker": {
             "line": {
              "color": "#E5ECF6",
              "width": 0.5
             },
             "pattern": {
              "fillmode": "overlay",
              "size": 10,
              "solidity": 0.2
             }
            },
            "type": "bar"
           }
          ],
          "barpolar": [
           {
            "marker": {
             "line": {
              "color": "#E5ECF6",
              "width": 0.5
             },
             "pattern": {
              "fillmode": "overlay",
              "size": 10,
              "solidity": 0.2
             }
            },
            "type": "barpolar"
           }
          ],
          "carpet": [
           {
            "aaxis": {
             "endlinecolor": "#2a3f5f",
             "gridcolor": "white",
             "linecolor": "white",
             "minorgridcolor": "white",
             "startlinecolor": "#2a3f5f"
            },
            "baxis": {
             "endlinecolor": "#2a3f5f",
             "gridcolor": "white",
             "linecolor": "white",
             "minorgridcolor": "white",
             "startlinecolor": "#2a3f5f"
            },
            "type": "carpet"
           }
          ],
          "choropleth": [
           {
            "colorbar": {
             "outlinewidth": 0,
             "ticks": ""
            },
            "type": "choropleth"
           }
          ],
          "contour": [
           {
            "colorbar": {
             "outlinewidth": 0,
             "ticks": ""
            },
            "colorscale": [
             [
              0,
              "#0d0887"
             ],
             [
              0.1111111111111111,
              "#46039f"
             ],
             [
              0.2222222222222222,
              "#7201a8"
             ],
             [
              0.3333333333333333,
              "#9c179e"
             ],
             [
              0.4444444444444444,
              "#bd3786"
             ],
             [
              0.5555555555555556,
              "#d8576b"
             ],
             [
              0.6666666666666666,
              "#ed7953"
             ],
             [
              0.7777777777777778,
              "#fb9f3a"
             ],
             [
              0.8888888888888888,
              "#fdca26"
             ],
             [
              1,
              "#f0f921"
             ]
            ],
            "type": "contour"
           }
          ],
          "contourcarpet": [
           {
            "colorbar": {
             "outlinewidth": 0,
             "ticks": ""
            },
            "type": "contourcarpet"
           }
          ],
          "heatmap": [
           {
            "colorbar": {
             "outlinewidth": 0,
             "ticks": ""
            },
            "colorscale": [
             [
              0,
              "#0d0887"
             ],
             [
              0.1111111111111111,
              "#46039f"
             ],
             [
              0.2222222222222222,
              "#7201a8"
             ],
             [
              0.3333333333333333,
              "#9c179e"
             ],
             [
              0.4444444444444444,
              "#bd3786"
             ],
             [
              0.5555555555555556,
              "#d8576b"
             ],
             [
              0.6666666666666666,
              "#ed7953"
             ],
             [
              0.7777777777777778,
              "#fb9f3a"
             ],
             [
              0.8888888888888888,
              "#fdca26"
             ],
             [
              1,
              "#f0f921"
             ]
            ],
            "type": "heatmap"
           }
          ],
          "heatmapgl": [
           {
            "colorbar": {
             "outlinewidth": 0,
             "ticks": ""
            },
            "colorscale": [
             [
              0,
              "#0d0887"
             ],
             [
              0.1111111111111111,
              "#46039f"
             ],
             [
              0.2222222222222222,
              "#7201a8"
             ],
             [
              0.3333333333333333,
              "#9c179e"
             ],
             [
              0.4444444444444444,
              "#bd3786"
             ],
             [
              0.5555555555555556,
              "#d8576b"
             ],
             [
              0.6666666666666666,
              "#ed7953"
             ],
             [
              0.7777777777777778,
              "#fb9f3a"
             ],
             [
              0.8888888888888888,
              "#fdca26"
             ],
             [
              1,
              "#f0f921"
             ]
            ],
            "type": "heatmapgl"
           }
          ],
          "histogram": [
           {
            "marker": {
             "pattern": {
              "fillmode": "overlay",
              "size": 10,
              "solidity": 0.2
             }
            },
            "type": "histogram"
           }
          ],
          "histogram2d": [
           {
            "colorbar": {
             "outlinewidth": 0,
             "ticks": ""
            },
            "colorscale": [
             [
              0,
              "#0d0887"
             ],
             [
              0.1111111111111111,
              "#46039f"
             ],
             [
              0.2222222222222222,
              "#7201a8"
             ],
             [
              0.3333333333333333,
              "#9c179e"
             ],
             [
              0.4444444444444444,
              "#bd3786"
             ],
             [
              0.5555555555555556,
              "#d8576b"
             ],
             [
              0.6666666666666666,
              "#ed7953"
             ],
             [
              0.7777777777777778,
              "#fb9f3a"
             ],
             [
              0.8888888888888888,
              "#fdca26"
             ],
             [
              1,
              "#f0f921"
             ]
            ],
            "type": "histogram2d"
           }
          ],
          "histogram2dcontour": [
           {
            "colorbar": {
             "outlinewidth": 0,
             "ticks": ""
            },
            "colorscale": [
             [
              0,
              "#0d0887"
             ],
             [
              0.1111111111111111,
              "#46039f"
             ],
             [
              0.2222222222222222,
              "#7201a8"
             ],
             [
              0.3333333333333333,
              "#9c179e"
             ],
             [
              0.4444444444444444,
              "#bd3786"
             ],
             [
              0.5555555555555556,
              "#d8576b"
             ],
             [
              0.6666666666666666,
              "#ed7953"
             ],
             [
              0.7777777777777778,
              "#fb9f3a"
             ],
             [
              0.8888888888888888,
              "#fdca26"
             ],
             [
              1,
              "#f0f921"
             ]
            ],
            "type": "histogram2dcontour"
           }
          ],
          "mesh3d": [
           {
            "colorbar": {
             "outlinewidth": 0,
             "ticks": ""
            },
            "type": "mesh3d"
           }
          ],
          "parcoords": [
           {
            "line": {
             "colorbar": {
              "outlinewidth": 0,
              "ticks": ""
             }
            },
            "type": "parcoords"
           }
          ],
          "pie": [
           {
            "automargin": true,
            "type": "pie"
           }
          ],
          "scatter": [
           {
            "fillpattern": {
             "fillmode": "overlay",
             "size": 10,
             "solidity": 0.2
            },
            "type": "scatter"
           }
          ],
          "scatter3d": [
           {
            "line": {
             "colorbar": {
              "outlinewidth": 0,
              "ticks": ""
             }
            },
            "marker": {
             "colorbar": {
              "outlinewidth": 0,
              "ticks": ""
             }
            },
            "type": "scatter3d"
           }
          ],
          "scattercarpet": [
           {
            "marker": {
             "colorbar": {
              "outlinewidth": 0,
              "ticks": ""
             }
            },
            "type": "scattercarpet"
           }
          ],
          "scattergeo": [
           {
            "marker": {
             "colorbar": {
              "outlinewidth": 0,
              "ticks": ""
             }
            },
            "type": "scattergeo"
           }
          ],
          "scattergl": [
           {
            "marker": {
             "colorbar": {
              "outlinewidth": 0,
              "ticks": ""
             }
            },
            "type": "scattergl"
           }
          ],
          "scattermapbox": [
           {
            "marker": {
             "colorbar": {
              "outlinewidth": 0,
              "ticks": ""
             }
            },
            "type": "scattermapbox"
           }
          ],
          "scatterpolar": [
           {
            "marker": {
             "colorbar": {
              "outlinewidth": 0,
              "ticks": ""
             }
            },
            "type": "scatterpolar"
           }
          ],
          "scatterpolargl": [
           {
            "marker": {
             "colorbar": {
              "outlinewidth": 0,
              "ticks": ""
             }
            },
            "type": "scatterpolargl"
           }
          ],
          "scatterternary": [
           {
            "marker": {
             "colorbar": {
              "outlinewidth": 0,
              "ticks": ""
             }
            },
            "type": "scatterternary"
           }
          ],
          "surface": [
           {
            "colorbar": {
             "outlinewidth": 0,
             "ticks": ""
            },
            "colorscale": [
             [
              0,
              "#0d0887"
             ],
             [
              0.1111111111111111,
              "#46039f"
             ],
             [
              0.2222222222222222,
              "#7201a8"
             ],
             [
              0.3333333333333333,
              "#9c179e"
             ],
             [
              0.4444444444444444,
              "#bd3786"
             ],
             [
              0.5555555555555556,
              "#d8576b"
             ],
             [
              0.6666666666666666,
              "#ed7953"
             ],
             [
              0.7777777777777778,
              "#fb9f3a"
             ],
             [
              0.8888888888888888,
              "#fdca26"
             ],
             [
              1,
              "#f0f921"
             ]
            ],
            "type": "surface"
           }
          ],
          "table": [
           {
            "cells": {
             "fill": {
              "color": "#EBF0F8"
             },
             "line": {
              "color": "white"
             }
            },
            "header": {
             "fill": {
              "color": "#C8D4E3"
             },
             "line": {
              "color": "white"
             }
            },
            "type": "table"
           }
          ]
         },
         "layout": {
          "annotationdefaults": {
           "arrowcolor": "#2a3f5f",
           "arrowhead": 0,
           "arrowwidth": 1
          },
          "autotypenumbers": "strict",
          "coloraxis": {
           "colorbar": {
            "outlinewidth": 0,
            "ticks": ""
           }
          },
          "colorscale": {
           "diverging": [
            [
             0,
             "#8e0152"
            ],
            [
             0.1,
             "#c51b7d"
            ],
            [
             0.2,
             "#de77ae"
            ],
            [
             0.3,
             "#f1b6da"
            ],
            [
             0.4,
             "#fde0ef"
            ],
            [
             0.5,
             "#f7f7f7"
            ],
            [
             0.6,
             "#e6f5d0"
            ],
            [
             0.7,
             "#b8e186"
            ],
            [
             0.8,
             "#7fbc41"
            ],
            [
             0.9,
             "#4d9221"
            ],
            [
             1,
             "#276419"
            ]
           ],
           "sequential": [
            [
             0,
             "#0d0887"
            ],
            [
             0.1111111111111111,
             "#46039f"
            ],
            [
             0.2222222222222222,
             "#7201a8"
            ],
            [
             0.3333333333333333,
             "#9c179e"
            ],
            [
             0.4444444444444444,
             "#bd3786"
            ],
            [
             0.5555555555555556,
             "#d8576b"
            ],
            [
             0.6666666666666666,
             "#ed7953"
            ],
            [
             0.7777777777777778,
             "#fb9f3a"
            ],
            [
             0.8888888888888888,
             "#fdca26"
            ],
            [
             1,
             "#f0f921"
            ]
           ],
           "sequentialminus": [
            [
             0,
             "#0d0887"
            ],
            [
             0.1111111111111111,
             "#46039f"
            ],
            [
             0.2222222222222222,
             "#7201a8"
            ],
            [
             0.3333333333333333,
             "#9c179e"
            ],
            [
             0.4444444444444444,
             "#bd3786"
            ],
            [
             0.5555555555555556,
             "#d8576b"
            ],
            [
             0.6666666666666666,
             "#ed7953"
            ],
            [
             0.7777777777777778,
             "#fb9f3a"
            ],
            [
             0.8888888888888888,
             "#fdca26"
            ],
            [
             1,
             "#f0f921"
            ]
           ]
          },
          "colorway": [
           "#636efa",
           "#EF553B",
           "#00cc96",
           "#ab63fa",
           "#FFA15A",
           "#19d3f3",
           "#FF6692",
           "#B6E880",
           "#FF97FF",
           "#FECB52"
          ],
          "font": {
           "color": "#2a3f5f"
          },
          "geo": {
           "bgcolor": "white",
           "lakecolor": "white",
           "landcolor": "#E5ECF6",
           "showlakes": true,
           "showland": true,
           "subunitcolor": "white"
          },
          "hoverlabel": {
           "align": "left"
          },
          "hovermode": "closest",
          "mapbox": {
           "style": "light"
          },
          "paper_bgcolor": "white",
          "plot_bgcolor": "#E5ECF6",
          "polar": {
           "angularaxis": {
            "gridcolor": "white",
            "linecolor": "white",
            "ticks": ""
           },
           "bgcolor": "#E5ECF6",
           "radialaxis": {
            "gridcolor": "white",
            "linecolor": "white",
            "ticks": ""
           }
          },
          "scene": {
           "xaxis": {
            "backgroundcolor": "#E5ECF6",
            "gridcolor": "white",
            "gridwidth": 2,
            "linecolor": "white",
            "showbackground": true,
            "ticks": "",
            "zerolinecolor": "white"
           },
           "yaxis": {
            "backgroundcolor": "#E5ECF6",
            "gridcolor": "white",
            "gridwidth": 2,
            "linecolor": "white",
            "showbackground": true,
            "ticks": "",
            "zerolinecolor": "white"
           },
           "zaxis": {
            "backgroundcolor": "#E5ECF6",
            "gridcolor": "white",
            "gridwidth": 2,
            "linecolor": "white",
            "showbackground": true,
            "ticks": "",
            "zerolinecolor": "white"
           }
          },
          "shapedefaults": {
           "line": {
            "color": "#2a3f5f"
           }
          },
          "ternary": {
           "aaxis": {
            "gridcolor": "white",
            "linecolor": "white",
            "ticks": ""
           },
           "baxis": {
            "gridcolor": "white",
            "linecolor": "white",
            "ticks": ""
           },
           "bgcolor": "#E5ECF6",
           "caxis": {
            "gridcolor": "white",
            "linecolor": "white",
            "ticks": ""
           }
          },
          "title": {
           "x": 0.05
          },
          "xaxis": {
           "automargin": true,
           "gridcolor": "white",
           "linecolor": "white",
           "ticks": "",
           "title": {
            "standoff": 15
           },
           "zerolinecolor": "white",
           "zerolinewidth": 2
          },
          "yaxis": {
           "automargin": true,
           "gridcolor": "white",
           "linecolor": "white",
           "ticks": "",
           "title": {
            "standoff": 15
           },
           "zerolinecolor": "white",
           "zerolinewidth": 2
          }
         }
        },
        "title": {
         "text": "Average Fuel Consumption by Mission Type"
        },
        "xaxis": {
         "anchor": "y",
         "categoryarray": [
          "Colonization",
          "Exploration",
          "Mining",
          "Research"
         ],
         "categoryorder": "array",
         "domain": [
          0,
          1
         ],
         "title": {
          "text": "Mission Type"
         }
        },
        "yaxis": {
         "anchor": "x",
         "domain": [
          0,
          1
         ],
         "title": {
          "text": "Fuel Consumption (tons)"
         }
        }
       }
      }
     },
     "metadata": {},
     "output_type": "display_data"
    }
   ],
   "source": [
    "# Group by 'Mission Type' and calculate the mean for 'Fuel Consumption'\n",
    "average_fuel_consumption = df.groupby('Mission Type')['Fuel Consumption (tons)'].mean().reset_index()\n",
    "\n",
    "# Create a bar plot for average fuel consumption by mission type\n",
    "fig = px.bar(average_fuel_consumption, x='Mission Type', y='Fuel Consumption (tons)',\n",
    "             title='Average Fuel Consumption by Mission Type',\n",
    "             color='Mission Type',      #we used color for showing the mission type\n",
    "             color_discrete_sequence=px.colors.qualitative.Set2)        #we used color_discrete_sequence to change the color of the bars to a different color\n",
    "\n",
    "\n",
    "fig.show()"
   ]
  },
  {
   "cell_type": "code",
   "execution_count": 8,
   "metadata": {},
   "outputs": [
    {
     "data": {
      "application/vnd.plotly.v1+json": {
       "config": {
        "plotlyServerURL": "https://plot.ly"
       },
       "data": [
        {
         "hovertemplate": "Launch Date=%{x}<br>Mission Cost (billion USD)=%{y}<extra></extra>",
         "legendgroup": "",
         "line": {
          "color": "#636efa",
          "dash": "solid"
         },
         "marker": {
          "symbol": "circle"
         },
         "mode": "lines",
         "name": "",
         "orientation": "v",
         "showlegend": false,
         "type": "scatter",
         "x": [
          "2025-01-01",
          "2025-01-08",
          "2025-01-15",
          "2025-01-22",
          "2025-01-29",
          "2025-02-05",
          "2025-02-12",
          "2025-02-19",
          "2025-02-26",
          "2025-03-05",
          "2025-03-12",
          "2025-03-19",
          "2025-03-26",
          "2025-04-02",
          "2025-04-09",
          "2025-04-16",
          "2025-04-23",
          "2025-04-30",
          "2025-05-07",
          "2025-05-14",
          "2025-05-21",
          "2025-05-28",
          "2025-06-04",
          "2025-06-11",
          "2025-06-18",
          "2025-06-25",
          "2025-07-02",
          "2025-07-09",
          "2025-07-16",
          "2025-07-23",
          "2025-07-30",
          "2025-08-06",
          "2025-08-13",
          "2025-08-20",
          "2025-08-27",
          "2025-09-03",
          "2025-09-10",
          "2025-09-17",
          "2025-09-24",
          "2025-10-01",
          "2025-10-08",
          "2025-10-15",
          "2025-10-22",
          "2025-10-29",
          "2025-11-05",
          "2025-11-12",
          "2025-11-19",
          "2025-11-26",
          "2025-12-03",
          "2025-12-10",
          "2025-12-17",
          "2025-12-24",
          "2025-12-31",
          "2026-01-07",
          "2026-01-14",
          "2026-01-21",
          "2026-01-28",
          "2026-02-04",
          "2026-02-11",
          "2026-02-18",
          "2026-02-25",
          "2026-03-04",
          "2026-03-11",
          "2026-03-18",
          "2026-03-25",
          "2026-04-01",
          "2026-04-08",
          "2026-04-15",
          "2026-04-22",
          "2026-04-29",
          "2026-05-06",
          "2026-05-13",
          "2026-05-20",
          "2026-05-27",
          "2026-06-03",
          "2026-06-10",
          "2026-06-17",
          "2026-06-24",
          "2026-07-01",
          "2026-07-08",
          "2026-07-15",
          "2026-07-22",
          "2026-07-29",
          "2026-08-05",
          "2026-08-12",
          "2026-08-19",
          "2026-08-26",
          "2026-09-02",
          "2026-09-09",
          "2026-09-16",
          "2026-09-23",
          "2026-09-30",
          "2026-10-07",
          "2026-10-14",
          "2026-10-21",
          "2026-10-28",
          "2026-11-04",
          "2026-11-11",
          "2026-11-18",
          "2026-11-25",
          "2026-12-02",
          "2026-12-09",
          "2026-12-16",
          "2026-12-23",
          "2026-12-30",
          "2027-01-06",
          "2027-01-13",
          "2027-01-20",
          "2027-01-27",
          "2027-02-03",
          "2027-02-10",
          "2027-02-17",
          "2027-02-24",
          "2027-03-03",
          "2027-03-10",
          "2027-03-17",
          "2027-03-24",
          "2027-03-31",
          "2027-04-07",
          "2027-04-14",
          "2027-04-21",
          "2027-04-28",
          "2027-05-05",
          "2027-05-12",
          "2027-05-19",
          "2027-05-26",
          "2027-06-02",
          "2027-06-09",
          "2027-06-16",
          "2027-06-23",
          "2027-06-30",
          "2027-07-07",
          "2027-07-14",
          "2027-07-21",
          "2027-07-28",
          "2027-08-04",
          "2027-08-11",
          "2027-08-18",
          "2027-08-25",
          "2027-09-01",
          "2027-09-08",
          "2027-09-15",
          "2027-09-22",
          "2027-09-29",
          "2027-10-06",
          "2027-10-13",
          "2027-10-20",
          "2027-10-27",
          "2027-11-03",
          "2027-11-10",
          "2027-11-17",
          "2027-11-24",
          "2027-12-01",
          "2027-12-08",
          "2027-12-15",
          "2027-12-22",
          "2027-12-29",
          "2028-01-05",
          "2028-01-12",
          "2028-01-19",
          "2028-01-26",
          "2028-02-02",
          "2028-02-09",
          "2028-02-16",
          "2028-02-23",
          "2028-03-01",
          "2028-03-08",
          "2028-03-15",
          "2028-03-22",
          "2028-03-29",
          "2028-04-05",
          "2028-04-12",
          "2028-04-19",
          "2028-04-26",
          "2028-05-03",
          "2028-05-10",
          "2028-05-17",
          "2028-05-24",
          "2028-05-31",
          "2028-06-07",
          "2028-06-14",
          "2028-06-21",
          "2028-06-28",
          "2028-07-05",
          "2028-07-12",
          "2028-07-19",
          "2028-07-26",
          "2028-08-02",
          "2028-08-09",
          "2028-08-16",
          "2028-08-23",
          "2028-08-30",
          "2028-09-06",
          "2028-09-13",
          "2028-09-20",
          "2028-09-27",
          "2028-10-04",
          "2028-10-11",
          "2028-10-18",
          "2028-10-25",
          "2028-11-01",
          "2028-11-08",
          "2028-11-15",
          "2028-11-22",
          "2028-11-29",
          "2028-12-06",
          "2028-12-13",
          "2028-12-20",
          "2028-12-27",
          "2029-01-03",
          "2029-01-10",
          "2029-01-17",
          "2029-01-24",
          "2029-01-31",
          "2029-02-07",
          "2029-02-14",
          "2029-02-21",
          "2029-02-28",
          "2029-03-07",
          "2029-03-14",
          "2029-03-21",
          "2029-03-28",
          "2029-04-04",
          "2029-04-11",
          "2029-04-18",
          "2029-04-25",
          "2029-05-02",
          "2029-05-09",
          "2029-05-16",
          "2029-05-23",
          "2029-05-30",
          "2029-06-06",
          "2029-06-13",
          "2029-06-20",
          "2029-06-27",
          "2029-07-04",
          "2029-07-11",
          "2029-07-18",
          "2029-07-25",
          "2029-08-01",
          "2029-08-08",
          "2029-08-15",
          "2029-08-22",
          "2029-08-29",
          "2029-09-05",
          "2029-09-12",
          "2029-09-19",
          "2029-09-26",
          "2029-10-03",
          "2029-10-10",
          "2029-10-17",
          "2029-10-24",
          "2029-10-31",
          "2029-11-07",
          "2029-11-14",
          "2029-11-21",
          "2029-11-28",
          "2029-12-05",
          "2029-12-12",
          "2029-12-19",
          "2029-12-26",
          "2030-01-02",
          "2030-01-09",
          "2030-01-16",
          "2030-01-23",
          "2030-01-30",
          "2030-02-06",
          "2030-02-13",
          "2030-02-20",
          "2030-02-27",
          "2030-03-06",
          "2030-03-13",
          "2030-03-20",
          "2030-03-27",
          "2030-04-03",
          "2030-04-10",
          "2030-04-17",
          "2030-04-24",
          "2030-05-01",
          "2030-05-08",
          "2030-05-15",
          "2030-05-22",
          "2030-05-29",
          "2030-06-05",
          "2030-06-12",
          "2030-06-19",
          "2030-06-26",
          "2030-07-03",
          "2030-07-10",
          "2030-07-17",
          "2030-07-24",
          "2030-07-31",
          "2030-08-07",
          "2030-08-14",
          "2030-08-21",
          "2030-08-28",
          "2030-09-04",
          "2030-09-11",
          "2030-09-18",
          "2030-09-25",
          "2030-10-02",
          "2030-10-09",
          "2030-10-16",
          "2030-10-23",
          "2030-10-30",
          "2030-11-06",
          "2030-11-13",
          "2030-11-20",
          "2030-11-27",
          "2030-12-04",
          "2030-12-11",
          "2030-12-18",
          "2030-12-25",
          "2031-01-01",
          "2031-01-08",
          "2031-01-15",
          "2031-01-22",
          "2031-01-29",
          "2031-02-05",
          "2031-02-12",
          "2031-02-19",
          "2031-02-26",
          "2031-03-05",
          "2031-03-12",
          "2031-03-19",
          "2031-03-26",
          "2031-04-02",
          "2031-04-09",
          "2031-04-16",
          "2031-04-23",
          "2031-04-30",
          "2031-05-07",
          "2031-05-14",
          "2031-05-21",
          "2031-05-28",
          "2031-06-04",
          "2031-06-11",
          "2031-06-18",
          "2031-06-25",
          "2031-07-02",
          "2031-07-09",
          "2031-07-16",
          "2031-07-23",
          "2031-07-30",
          "2031-08-06",
          "2031-08-13",
          "2031-08-20",
          "2031-08-27",
          "2031-09-03",
          "2031-09-10",
          "2031-09-17",
          "2031-09-24",
          "2031-10-01",
          "2031-10-08",
          "2031-10-15",
          "2031-10-22",
          "2031-10-29",
          "2031-11-05",
          "2031-11-12",
          "2031-11-19",
          "2031-11-26",
          "2031-12-03",
          "2031-12-10",
          "2031-12-17",
          "2031-12-24",
          "2031-12-31",
          "2032-01-07",
          "2032-01-14",
          "2032-01-21",
          "2032-01-28",
          "2032-02-04",
          "2032-02-11",
          "2032-02-18",
          "2032-02-25",
          "2032-03-03",
          "2032-03-10",
          "2032-03-17",
          "2032-03-24",
          "2032-03-31",
          "2032-04-07",
          "2032-04-14",
          "2032-04-21",
          "2032-04-28",
          "2032-05-05",
          "2032-05-12",
          "2032-05-19",
          "2032-05-26",
          "2032-06-02",
          "2032-06-09",
          "2032-06-16",
          "2032-06-23",
          "2032-06-30",
          "2032-07-07",
          "2032-07-14",
          "2032-07-21",
          "2032-07-28",
          "2032-08-04",
          "2032-08-11",
          "2032-08-18",
          "2032-08-25",
          "2032-09-01",
          "2032-09-08",
          "2032-09-15",
          "2032-09-22",
          "2032-09-29",
          "2032-10-06",
          "2032-10-13",
          "2032-10-20",
          "2032-10-27",
          "2032-11-03",
          "2032-11-10",
          "2032-11-17",
          "2032-11-24",
          "2032-12-01",
          "2032-12-08",
          "2032-12-15",
          "2032-12-22",
          "2032-12-29",
          "2033-01-05",
          "2033-01-12",
          "2033-01-19",
          "2033-01-26",
          "2033-02-02",
          "2033-02-09",
          "2033-02-16",
          "2033-02-23",
          "2033-03-02",
          "2033-03-09",
          "2033-03-16",
          "2033-03-23",
          "2033-03-30",
          "2033-04-06",
          "2033-04-13",
          "2033-04-20",
          "2033-04-27",
          "2033-05-04",
          "2033-05-11",
          "2033-05-18",
          "2033-05-25",
          "2033-06-01",
          "2033-06-08",
          "2033-06-15",
          "2033-06-22",
          "2033-06-29",
          "2033-07-06",
          "2033-07-13",
          "2033-07-20",
          "2033-07-27",
          "2033-08-03",
          "2033-08-10",
          "2033-08-17",
          "2033-08-24",
          "2033-08-31",
          "2033-09-07",
          "2033-09-14",
          "2033-09-21",
          "2033-09-28",
          "2033-10-05",
          "2033-10-12",
          "2033-10-19",
          "2033-10-26",
          "2033-11-02",
          "2033-11-09",
          "2033-11-16",
          "2033-11-23",
          "2033-11-30",
          "2033-12-07",
          "2033-12-14",
          "2033-12-21",
          "2033-12-28",
          "2034-01-04",
          "2034-01-11",
          "2034-01-18",
          "2034-01-25",
          "2034-02-01",
          "2034-02-08",
          "2034-02-15",
          "2034-02-22",
          "2034-03-01",
          "2034-03-08",
          "2034-03-15",
          "2034-03-22",
          "2034-03-29",
          "2034-04-05",
          "2034-04-12",
          "2034-04-19",
          "2034-04-26",
          "2034-05-03",
          "2034-05-10",
          "2034-05-17",
          "2034-05-24",
          "2034-05-31",
          "2034-06-07",
          "2034-06-14",
          "2034-06-21",
          "2034-06-28",
          "2034-07-05",
          "2034-07-12",
          "2034-07-19",
          "2034-07-26"
         ],
         "xaxis": "x",
         "y": [
          526.68,
          234.08,
          218.68,
          232.89,
          72.14,
          452.42,
          220.38,
          200.49,
          361.35,
          265.98,
          327.76,
          38.8,
          436.87,
          511.71,
          343.16,
          495.63,
          110.17,
          255.74,
          305.2,
          329.98,
          235.36,
          201.81,
          105.14,
          232.99,
          96.59,
          386.77,
          115.53,
          41.36,
          312.53,
          342.72,
          484.77,
          322.39,
          186.02,
          408.68,
          313.28,
          73.61,
          316.4,
          493.74,
          236.61,
          193.59,
          79.75,
          117.58,
          261.89,
          314.87,
          77.28,
          486.49,
          426.74,
          298.04,
          444.51,
          53.86,
          276.95,
          326.52,
          427.73,
          418.02,
          187.98,
          482.12,
          74.62,
          476.39,
          511.13,
          138.38,
          370.58,
          57.6,
          218.11,
          269.23,
          326.89,
          498.39,
          375.74,
          259.41,
          428.75,
          496.37,
          65.12,
          506.67,
          63.1,
          426.47,
          172.42,
          83.81,
          268.6,
          337.77,
          238.44,
          38.07,
          334.92,
          497.14,
          203.97,
          160.55,
          247.29,
          76.29,
          445.31,
          429.83,
          306.28,
          195.68,
          406.46,
          287.6,
          419.98,
          339.27,
          433.28,
          309.23,
          217.39,
          511.73,
          283.51,
          310.28,
          123.33,
          360.96,
          329.2,
          114.85,
          67.64,
          331.48,
          417.23,
          298.55,
          149.06,
          348.99,
          47.56,
          247.02,
          130.51,
          125.21,
          146.94,
          245.99,
          39.32,
          236.8,
          292.34,
          293.27,
          243.79,
          455.05,
          89.89,
          295.43,
          41.94,
          79.45,
          334.65,
          304.96,
          471.55,
          303.23,
          502.55,
          45.31,
          91.84,
          73.67,
          143.8,
          282.51,
          368.41,
          64.68,
          486.64,
          426.15,
          165.93,
          88.9,
          121.13,
          104.18,
          79.65,
          297.95,
          129.08,
          201.69,
          526.51,
          351.91,
          516.08,
          88.07,
          227.11,
          300.45,
          73.21,
          13.32,
          338.68,
          368.27,
          222.56,
          288.51,
          260.62,
          28.26,
          184.99,
          126.13,
          102.01,
          524.47,
          327.34,
          405.66,
          168.75,
          248.49,
          170.55,
          62.02,
          109.27,
          405.66,
          354.71,
          316.73,
          259.69,
          466.93,
          58.77,
          192.99,
          210.05,
          413.69,
          505.46,
          173.47,
          479.02,
          430.94,
          120.63,
          206.42,
          214.7,
          518.66,
          141.06,
          425.94,
          212.75,
          389.65,
          248.62,
          328.16,
          426.67,
          421.75,
          466.13,
          38.96,
          366.27,
          101.51,
          260.67,
          300.8,
          245.34,
          284.37,
          538.32,
          102.13,
          383.79,
          222.14,
          101.46,
          115.42,
          496.35,
          448.47,
          459.58,
          497.62,
          151.9,
          193.54,
          347.61,
          281.57,
          228.78,
          207.9,
          307.86,
          337.93,
          127.63,
          281.83,
          299.88,
          325.66,
          117.05,
          373.82,
          19.43,
          210.39,
          414.51,
          310.53,
          135.67,
          370.71,
          322.04,
          421.84,
          405.73,
          319.42,
          287.49,
          100.78,
          145.68,
          225.05,
          333.42,
          300.97,
          169.02,
          21.86,
          294.13,
          180.19,
          391.61,
          41.76,
          305.51,
          502.76,
          109.93,
          288.24,
          74.78,
          339.51,
          306.23,
          252.57,
          303.34,
          471.91,
          138.37,
          45.88,
          456.63,
          301.07,
          469.63,
          313.55,
          451.88,
          235.13,
          423.86,
          484.07,
          320.15,
          122.1,
          145.39,
          122.77,
          133.06,
          188.22,
          302.7,
          335.17,
          227.9,
          318.71,
          66.31,
          94.85,
          125.86,
          282.98,
          137.3,
          150.38,
          252.39,
          440.5,
          26.83,
          356.15,
          342.46,
          448.68,
          476.26,
          47.7,
          94.13,
          479.81,
          271.01,
          318.45,
          364.31,
          385.88,
          471.05,
          515.71,
          374.67,
          196.56,
          460.58,
          66.25,
          153.95,
          460.59,
          144.51,
          128.98,
          94.5,
          442.73,
          254.51,
          383.14,
          171.66,
          397.99,
          398.79,
          161.1,
          242.63,
          150.25,
          496.58,
          333.37,
          507.31,
          186.4,
          395.25,
          415.6,
          363.49,
          502.07,
          238.52,
          110.44,
          358.12,
          413.41,
          310.57,
          146.17,
          279.41,
          204.53,
          262.08,
          329.68,
          420.79,
          161.4,
          245.42,
          149.09,
          143.75,
          435.46,
          470.27,
          235.91,
          380.34,
          457.35,
          451.19,
          124.71,
          510.96,
          193.28,
          220.96,
          39.08,
          253.66,
          60.64,
          156.83,
          208.58,
          438.98,
          479.66,
          156.35,
          457.61,
          452.87,
          408.95,
          82.14,
          381.24,
          498.46,
          381.34,
          193.93,
          261.12,
          357.41,
          267.2,
          108.15,
          190.49,
          410.9,
          479.55,
          99.35,
          481.02,
          199.46,
          346.26,
          417.53,
          447.97,
          522.12,
          185.49,
          453.24,
          108.12,
          361.49,
          400.1,
          368.22,
          135.28,
          458.63,
          131.41,
          74.5,
          366.01,
          245.8,
          439.17,
          238.66,
          95.62,
          455.33,
          282.66,
          130.18,
          380.05,
          297.66,
          316.6,
          265.47,
          427.75,
          451.62,
          399.96,
          64.36,
          463.71,
          367.24,
          357.28,
          206.65,
          449.13,
          399.37,
          98.93,
          213.03,
          469.55,
          69.27,
          527.77,
          367.36,
          365.11,
          166.2,
          148.47,
          513.86,
          177.81,
          413.02,
          224.63,
          116.44,
          52.07,
          295.17,
          505.33,
          212.8,
          210.87,
          188.03,
          302.55,
          247.99,
          457.92,
          261.48,
          269.05,
          121.01,
          507.4,
          138.02,
          64.87,
          349.3,
          302.42,
          227.33,
          241.66,
          421.63,
          120.37,
          433.97,
          374.46,
          231.89,
          245.35,
          144.98,
          400.73,
          297.07,
          174.89,
          335.81,
          499.94,
          241.98,
          499.77,
          193.4,
          60.72,
          117.14,
          249.61,
          117.26,
          47.87,
          468.66,
          466.55,
          390.72,
          124.46,
          81.24,
          83.84,
          370.61,
          474.5,
          243.26,
          68.96,
          269.25,
          224.89,
          239.4,
          331.99,
          406.99,
          87.45,
          36.82,
          532.62,
          153.49,
          81.12,
          112.99,
          58.23,
          202.5,
          408.77,
          175.09,
          274.82,
          379.71,
          296.45,
          457.38,
          449.4
         ],
         "yaxis": "y"
        }
       ],
       "layout": {
        "legend": {
         "tracegroupgap": 0
        },
        "template": {
         "data": {
          "bar": [
           {
            "error_x": {
             "color": "#2a3f5f"
            },
            "error_y": {
             "color": "#2a3f5f"
            },
            "marker": {
             "line": {
              "color": "#E5ECF6",
              "width": 0.5
             },
             "pattern": {
              "fillmode": "overlay",
              "size": 10,
              "solidity": 0.2
             }
            },
            "type": "bar"
           }
          ],
          "barpolar": [
           {
            "marker": {
             "line": {
              "color": "#E5ECF6",
              "width": 0.5
             },
             "pattern": {
              "fillmode": "overlay",
              "size": 10,
              "solidity": 0.2
             }
            },
            "type": "barpolar"
           }
          ],
          "carpet": [
           {
            "aaxis": {
             "endlinecolor": "#2a3f5f",
             "gridcolor": "white",
             "linecolor": "white",
             "minorgridcolor": "white",
             "startlinecolor": "#2a3f5f"
            },
            "baxis": {
             "endlinecolor": "#2a3f5f",
             "gridcolor": "white",
             "linecolor": "white",
             "minorgridcolor": "white",
             "startlinecolor": "#2a3f5f"
            },
            "type": "carpet"
           }
          ],
          "choropleth": [
           {
            "colorbar": {
             "outlinewidth": 0,
             "ticks": ""
            },
            "type": "choropleth"
           }
          ],
          "contour": [
           {
            "colorbar": {
             "outlinewidth": 0,
             "ticks": ""
            },
            "colorscale": [
             [
              0,
              "#0d0887"
             ],
             [
              0.1111111111111111,
              "#46039f"
             ],
             [
              0.2222222222222222,
              "#7201a8"
             ],
             [
              0.3333333333333333,
              "#9c179e"
             ],
             [
              0.4444444444444444,
              "#bd3786"
             ],
             [
              0.5555555555555556,
              "#d8576b"
             ],
             [
              0.6666666666666666,
              "#ed7953"
             ],
             [
              0.7777777777777778,
              "#fb9f3a"
             ],
             [
              0.8888888888888888,
              "#fdca26"
             ],
             [
              1,
              "#f0f921"
             ]
            ],
            "type": "contour"
           }
          ],
          "contourcarpet": [
           {
            "colorbar": {
             "outlinewidth": 0,
             "ticks": ""
            },
            "type": "contourcarpet"
           }
          ],
          "heatmap": [
           {
            "colorbar": {
             "outlinewidth": 0,
             "ticks": ""
            },
            "colorscale": [
             [
              0,
              "#0d0887"
             ],
             [
              0.1111111111111111,
              "#46039f"
             ],
             [
              0.2222222222222222,
              "#7201a8"
             ],
             [
              0.3333333333333333,
              "#9c179e"
             ],
             [
              0.4444444444444444,
              "#bd3786"
             ],
             [
              0.5555555555555556,
              "#d8576b"
             ],
             [
              0.6666666666666666,
              "#ed7953"
             ],
             [
              0.7777777777777778,
              "#fb9f3a"
             ],
             [
              0.8888888888888888,
              "#fdca26"
             ],
             [
              1,
              "#f0f921"
             ]
            ],
            "type": "heatmap"
           }
          ],
          "heatmapgl": [
           {
            "colorbar": {
             "outlinewidth": 0,
             "ticks": ""
            },
            "colorscale": [
             [
              0,
              "#0d0887"
             ],
             [
              0.1111111111111111,
              "#46039f"
             ],
             [
              0.2222222222222222,
              "#7201a8"
             ],
             [
              0.3333333333333333,
              "#9c179e"
             ],
             [
              0.4444444444444444,
              "#bd3786"
             ],
             [
              0.5555555555555556,
              "#d8576b"
             ],
             [
              0.6666666666666666,
              "#ed7953"
             ],
             [
              0.7777777777777778,
              "#fb9f3a"
             ],
             [
              0.8888888888888888,
              "#fdca26"
             ],
             [
              1,
              "#f0f921"
             ]
            ],
            "type": "heatmapgl"
           }
          ],
          "histogram": [
           {
            "marker": {
             "pattern": {
              "fillmode": "overlay",
              "size": 10,
              "solidity": 0.2
             }
            },
            "type": "histogram"
           }
          ],
          "histogram2d": [
           {
            "colorbar": {
             "outlinewidth": 0,
             "ticks": ""
            },
            "colorscale": [
             [
              0,
              "#0d0887"
             ],
             [
              0.1111111111111111,
              "#46039f"
             ],
             [
              0.2222222222222222,
              "#7201a8"
             ],
             [
              0.3333333333333333,
              "#9c179e"
             ],
             [
              0.4444444444444444,
              "#bd3786"
             ],
             [
              0.5555555555555556,
              "#d8576b"
             ],
             [
              0.6666666666666666,
              "#ed7953"
             ],
             [
              0.7777777777777778,
              "#fb9f3a"
             ],
             [
              0.8888888888888888,
              "#fdca26"
             ],
             [
              1,
              "#f0f921"
             ]
            ],
            "type": "histogram2d"
           }
          ],
          "histogram2dcontour": [
           {
            "colorbar": {
             "outlinewidth": 0,
             "ticks": ""
            },
            "colorscale": [
             [
              0,
              "#0d0887"
             ],
             [
              0.1111111111111111,
              "#46039f"
             ],
             [
              0.2222222222222222,
              "#7201a8"
             ],
             [
              0.3333333333333333,
              "#9c179e"
             ],
             [
              0.4444444444444444,
              "#bd3786"
             ],
             [
              0.5555555555555556,
              "#d8576b"
             ],
             [
              0.6666666666666666,
              "#ed7953"
             ],
             [
              0.7777777777777778,
              "#fb9f3a"
             ],
             [
              0.8888888888888888,
              "#fdca26"
             ],
             [
              1,
              "#f0f921"
             ]
            ],
            "type": "histogram2dcontour"
           }
          ],
          "mesh3d": [
           {
            "colorbar": {
             "outlinewidth": 0,
             "ticks": ""
            },
            "type": "mesh3d"
           }
          ],
          "parcoords": [
           {
            "line": {
             "colorbar": {
              "outlinewidth": 0,
              "ticks": ""
             }
            },
            "type": "parcoords"
           }
          ],
          "pie": [
           {
            "automargin": true,
            "type": "pie"
           }
          ],
          "scatter": [
           {
            "fillpattern": {
             "fillmode": "overlay",
             "size": 10,
             "solidity": 0.2
            },
            "type": "scatter"
           }
          ],
          "scatter3d": [
           {
            "line": {
             "colorbar": {
              "outlinewidth": 0,
              "ticks": ""
             }
            },
            "marker": {
             "colorbar": {
              "outlinewidth": 0,
              "ticks": ""
             }
            },
            "type": "scatter3d"
           }
          ],
          "scattercarpet": [
           {
            "marker": {
             "colorbar": {
              "outlinewidth": 0,
              "ticks": ""
             }
            },
            "type": "scattercarpet"
           }
          ],
          "scattergeo": [
           {
            "marker": {
             "colorbar": {
              "outlinewidth": 0,
              "ticks": ""
             }
            },
            "type": "scattergeo"
           }
          ],
          "scattergl": [
           {
            "marker": {
             "colorbar": {
              "outlinewidth": 0,
              "ticks": ""
             }
            },
            "type": "scattergl"
           }
          ],
          "scattermapbox": [
           {
            "marker": {
             "colorbar": {
              "outlinewidth": 0,
              "ticks": ""
             }
            },
            "type": "scattermapbox"
           }
          ],
          "scatterpolar": [
           {
            "marker": {
             "colorbar": {
              "outlinewidth": 0,
              "ticks": ""
             }
            },
            "type": "scatterpolar"
           }
          ],
          "scatterpolargl": [
           {
            "marker": {
             "colorbar": {
              "outlinewidth": 0,
              "ticks": ""
             }
            },
            "type": "scatterpolargl"
           }
          ],
          "scatterternary": [
           {
            "marker": {
             "colorbar": {
              "outlinewidth": 0,
              "ticks": ""
             }
            },
            "type": "scatterternary"
           }
          ],
          "surface": [
           {
            "colorbar": {
             "outlinewidth": 0,
             "ticks": ""
            },
            "colorscale": [
             [
              0,
              "#0d0887"
             ],
             [
              0.1111111111111111,
              "#46039f"
             ],
             [
              0.2222222222222222,
              "#7201a8"
             ],
             [
              0.3333333333333333,
              "#9c179e"
             ],
             [
              0.4444444444444444,
              "#bd3786"
             ],
             [
              0.5555555555555556,
              "#d8576b"
             ],
             [
              0.6666666666666666,
              "#ed7953"
             ],
             [
              0.7777777777777778,
              "#fb9f3a"
             ],
             [
              0.8888888888888888,
              "#fdca26"
             ],
             [
              1,
              "#f0f921"
             ]
            ],
            "type": "surface"
           }
          ],
          "table": [
           {
            "cells": {
             "fill": {
              "color": "#EBF0F8"
             },
             "line": {
              "color": "white"
             }
            },
            "header": {
             "fill": {
              "color": "#C8D4E3"
             },
             "line": {
              "color": "white"
             }
            },
            "type": "table"
           }
          ]
         },
         "layout": {
          "annotationdefaults": {
           "arrowcolor": "#2a3f5f",
           "arrowhead": 0,
           "arrowwidth": 1
          },
          "autotypenumbers": "strict",
          "coloraxis": {
           "colorbar": {
            "outlinewidth": 0,
            "ticks": ""
           }
          },
          "colorscale": {
           "diverging": [
            [
             0,
             "#8e0152"
            ],
            [
             0.1,
             "#c51b7d"
            ],
            [
             0.2,
             "#de77ae"
            ],
            [
             0.3,
             "#f1b6da"
            ],
            [
             0.4,
             "#fde0ef"
            ],
            [
             0.5,
             "#f7f7f7"
            ],
            [
             0.6,
             "#e6f5d0"
            ],
            [
             0.7,
             "#b8e186"
            ],
            [
             0.8,
             "#7fbc41"
            ],
            [
             0.9,
             "#4d9221"
            ],
            [
             1,
             "#276419"
            ]
           ],
           "sequential": [
            [
             0,
             "#0d0887"
            ],
            [
             0.1111111111111111,
             "#46039f"
            ],
            [
             0.2222222222222222,
             "#7201a8"
            ],
            [
             0.3333333333333333,
             "#9c179e"
            ],
            [
             0.4444444444444444,
             "#bd3786"
            ],
            [
             0.5555555555555556,
             "#d8576b"
            ],
            [
             0.6666666666666666,
             "#ed7953"
            ],
            [
             0.7777777777777778,
             "#fb9f3a"
            ],
            [
             0.8888888888888888,
             "#fdca26"
            ],
            [
             1,
             "#f0f921"
            ]
           ],
           "sequentialminus": [
            [
             0,
             "#0d0887"
            ],
            [
             0.1111111111111111,
             "#46039f"
            ],
            [
             0.2222222222222222,
             "#7201a8"
            ],
            [
             0.3333333333333333,
             "#9c179e"
            ],
            [
             0.4444444444444444,
             "#bd3786"
            ],
            [
             0.5555555555555556,
             "#d8576b"
            ],
            [
             0.6666666666666666,
             "#ed7953"
            ],
            [
             0.7777777777777778,
             "#fb9f3a"
            ],
            [
             0.8888888888888888,
             "#fdca26"
            ],
            [
             1,
             "#f0f921"
            ]
           ]
          },
          "colorway": [
           "#636efa",
           "#EF553B",
           "#00cc96",
           "#ab63fa",
           "#FFA15A",
           "#19d3f3",
           "#FF6692",
           "#B6E880",
           "#FF97FF",
           "#FECB52"
          ],
          "font": {
           "color": "#2a3f5f"
          },
          "geo": {
           "bgcolor": "white",
           "lakecolor": "white",
           "landcolor": "#E5ECF6",
           "showlakes": true,
           "showland": true,
           "subunitcolor": "white"
          },
          "hoverlabel": {
           "align": "left"
          },
          "hovermode": "closest",
          "mapbox": {
           "style": "light"
          },
          "paper_bgcolor": "white",
          "plot_bgcolor": "#E5ECF6",
          "polar": {
           "angularaxis": {
            "gridcolor": "white",
            "linecolor": "white",
            "ticks": ""
           },
           "bgcolor": "#E5ECF6",
           "radialaxis": {
            "gridcolor": "white",
            "linecolor": "white",
            "ticks": ""
           }
          },
          "scene": {
           "xaxis": {
            "backgroundcolor": "#E5ECF6",
            "gridcolor": "white",
            "gridwidth": 2,
            "linecolor": "white",
            "showbackground": true,
            "ticks": "",
            "zerolinecolor": "white"
           },
           "yaxis": {
            "backgroundcolor": "#E5ECF6",
            "gridcolor": "white",
            "gridwidth": 2,
            "linecolor": "white",
            "showbackground": true,
            "ticks": "",
            "zerolinecolor": "white"
           },
           "zaxis": {
            "backgroundcolor": "#E5ECF6",
            "gridcolor": "white",
            "gridwidth": 2,
            "linecolor": "white",
            "showbackground": true,
            "ticks": "",
            "zerolinecolor": "white"
           }
          },
          "shapedefaults": {
           "line": {
            "color": "#2a3f5f"
           }
          },
          "ternary": {
           "aaxis": {
            "gridcolor": "white",
            "linecolor": "white",
            "ticks": ""
           },
           "baxis": {
            "gridcolor": "white",
            "linecolor": "white",
            "ticks": ""
           },
           "bgcolor": "#E5ECF6",
           "caxis": {
            "gridcolor": "white",
            "linecolor": "white",
            "ticks": ""
           }
          },
          "title": {
           "x": 0.05
          },
          "xaxis": {
           "automargin": true,
           "gridcolor": "white",
           "linecolor": "white",
           "ticks": "",
           "title": {
            "standoff": 15
           },
           "zerolinecolor": "white",
           "zerolinewidth": 2
          },
          "yaxis": {
           "automargin": true,
           "gridcolor": "white",
           "linecolor": "white",
           "ticks": "",
           "title": {
            "standoff": 15
           },
           "zerolinecolor": "white",
           "zerolinewidth": 2
          }
         }
        },
        "title": {
         "text": "Mission Cost Over Time"
        },
        "xaxis": {
         "anchor": "y",
         "domain": [
          0,
          1
         ],
         "title": {
          "text": "Launch Date"
         }
        },
        "yaxis": {
         "anchor": "x",
         "domain": [
          0,
          1
         ],
         "title": {
          "text": "Mission Cost (billion USD)"
         }
        }
       }
      }
     },
     "metadata": {},
     "output_type": "display_data"
    }
   ],
   "source": [
    "# Create a line plot for Mission Cost over time\n",
    "fig = px.line(df, x='Launch Date', y='Mission Cost (billion USD)',\n",
    "              title='Mission Cost Over Time')\n",
    "             \n",
    "\n",
    "fig.show()\n",
    "\n",
    "#you can hover over the line to see the exact values"
   ]
  },
  {
   "cell_type": "code",
   "execution_count": 9,
   "metadata": {},
   "outputs": [
    {
     "data": {
      "application/vnd.plotly.v1+json": {
       "config": {
        "plotlyServerURL": "https://plot.ly"
       },
       "data": [
        {
         "hovertemplate": "Mission ID=MSN-0001<br>Mission Type=Colonization<br>Mission Cost (billion USD)=%{x}<br>Mission Success (%)=%{y}<extra></extra>",
         "legendgroup": "MSN-0001, Colonization",
         "marker": {
          "color": "#636efa",
          "symbol": "circle"
         },
         "mode": "markers",
         "name": "MSN-0001, Colonization",
         "orientation": "v",
         "showlegend": true,
         "type": "scatter",
         "x": [
          526.68
         ],
         "xaxis": "x",
         "y": [
          100
         ],
         "yaxis": "y"
        },
        {
         "hovertemplate": "Mission ID=MSN-0002<br>Mission Type=Colonization<br>Mission Cost (billion USD)=%{x}<br>Mission Success (%)=%{y}<extra></extra>",
         "legendgroup": "MSN-0002, Colonization",
         "marker": {
          "color": "#EF553B",
          "symbol": "circle"
         },
         "mode": "markers",
         "name": "MSN-0002, Colonization",
         "orientation": "v",
         "showlegend": true,
         "type": "scatter",
         "x": [
          234.08
         ],
         "xaxis": "x",
         "y": [
          89.6
         ],
         "yaxis": "y"
        },
        {
         "hovertemplate": "Mission ID=MSN-0003<br>Mission Type=Exploration<br>Mission Cost (billion USD)=%{x}<br>Mission Success (%)=%{y}<extra></extra>",
         "legendgroup": "MSN-0003, Exploration",
         "marker": {
          "color": "#00cc96",
          "symbol": "diamond"
         },
         "mode": "markers",
         "name": "MSN-0003, Exploration",
         "orientation": "v",
         "showlegend": true,
         "type": "scatter",
         "x": [
          218.68
         ],
         "xaxis": "x",
         "y": [
          98.6
         ],
         "yaxis": "y"
        },
        {
         "hovertemplate": "Mission ID=MSN-0004<br>Mission Type=Colonization<br>Mission Cost (billion USD)=%{x}<br>Mission Success (%)=%{y}<extra></extra>",
         "legendgroup": "MSN-0004, Colonization",
         "marker": {
          "color": "#ab63fa",
          "symbol": "circle"
         },
         "mode": "markers",
         "name": "MSN-0004, Colonization",
         "orientation": "v",
         "showlegend": true,
         "type": "scatter",
         "x": [
          232.89
         ],
         "xaxis": "x",
         "y": [
          90
         ],
         "yaxis": "y"
        },
        {
         "hovertemplate": "Mission ID=MSN-0005<br>Mission Type=Mining<br>Mission Cost (billion USD)=%{x}<br>Mission Success (%)=%{y}<extra></extra>",
         "legendgroup": "MSN-0005, Mining",
         "marker": {
          "color": "#FFA15A",
          "symbol": "square"
         },
         "mode": "markers",
         "name": "MSN-0005, Mining",
         "orientation": "v",
         "showlegend": true,
         "type": "scatter",
         "x": [
          72.14
         ],
         "xaxis": "x",
         "y": [
          73.2
         ],
         "yaxis": "y"
        },
        {
         "hovertemplate": "Mission ID=MSN-0006<br>Mission Type=Colonization<br>Mission Cost (billion USD)=%{x}<br>Mission Success (%)=%{y}<extra></extra>",
         "legendgroup": "MSN-0006, Colonization",
         "marker": {
          "color": "#19d3f3",
          "symbol": "circle"
         },
         "mode": "markers",
         "name": "MSN-0006, Colonization",
         "orientation": "v",
         "showlegend": true,
         "type": "scatter",
         "x": [
          452.42
         ],
         "xaxis": "x",
         "y": [
          100
         ],
         "yaxis": "y"
        },
        {
         "hovertemplate": "Mission ID=MSN-0007<br>Mission Type=Research<br>Mission Cost (billion USD)=%{x}<br>Mission Success (%)=%{y}<extra></extra>",
         "legendgroup": "MSN-0007, Research",
         "marker": {
          "color": "#FF6692",
          "symbol": "x"
         },
         "mode": "markers",
         "name": "MSN-0007, Research",
         "orientation": "v",
         "showlegend": true,
         "type": "scatter",
         "x": [
          220.38
         ],
         "xaxis": "x",
         "y": [
          95.5
         ],
         "yaxis": "y"
        },
        {
         "hovertemplate": "Mission ID=MSN-0008<br>Mission Type=Colonization<br>Mission Cost (billion USD)=%{x}<br>Mission Success (%)=%{y}<extra></extra>",
         "legendgroup": "MSN-0008, Colonization",
         "marker": {
          "color": "#B6E880",
          "symbol": "circle"
         },
         "mode": "markers",
         "name": "MSN-0008, Colonization",
         "orientation": "v",
         "showlegend": true,
         "type": "scatter",
         "x": [
          200.49
         ],
         "xaxis": "x",
         "y": [
          89.3
         ],
         "yaxis": "y"
        },
        {
         "hovertemplate": "Mission ID=MSN-0009<br>Mission Type=Exploration<br>Mission Cost (billion USD)=%{x}<br>Mission Success (%)=%{y}<extra></extra>",
         "legendgroup": "MSN-0009, Exploration",
         "marker": {
          "color": "#FF97FF",
          "symbol": "diamond"
         },
         "mode": "markers",
         "name": "MSN-0009, Exploration",
         "orientation": "v",
         "showlegend": true,
         "type": "scatter",
         "x": [
          361.35
         ],
         "xaxis": "x",
         "y": [
          100
         ],
         "yaxis": "y"
        },
        {
         "hovertemplate": "Mission ID=MSN-0010<br>Mission Type=Colonization<br>Mission Cost (billion USD)=%{x}<br>Mission Success (%)=%{y}<extra></extra>",
         "legendgroup": "MSN-0010, Colonization",
         "marker": {
          "color": "#FECB52",
          "symbol": "circle"
         },
         "mode": "markers",
         "name": "MSN-0010, Colonization",
         "orientation": "v",
         "showlegend": true,
         "type": "scatter",
         "x": [
          265.98
         ],
         "xaxis": "x",
         "y": [
          99.3
         ],
         "yaxis": "y"
        },
        {
         "hovertemplate": "Mission ID=MSN-0011<br>Mission Type=Research<br>Mission Cost (billion USD)=%{x}<br>Mission Success (%)=%{y}<extra></extra>",
         "legendgroup": "MSN-0011, Research",
         "marker": {
          "color": "#636efa",
          "symbol": "x"
         },
         "mode": "markers",
         "name": "MSN-0011, Research",
         "orientation": "v",
         "showlegend": true,
         "type": "scatter",
         "x": [
          327.76
         ],
         "xaxis": "x",
         "y": [
          91.9
         ],
         "yaxis": "y"
        },
        {
         "hovertemplate": "Mission ID=MSN-0012<br>Mission Type=Research<br>Mission Cost (billion USD)=%{x}<br>Mission Success (%)=%{y}<extra></extra>",
         "legendgroup": "MSN-0012, Research",
         "marker": {
          "color": "#EF553B",
          "symbol": "x"
         },
         "mode": "markers",
         "name": "MSN-0012, Research",
         "orientation": "v",
         "showlegend": true,
         "type": "scatter",
         "x": [
          38.8
         ],
         "xaxis": "x",
         "y": [
          71.2
         ],
         "yaxis": "y"
        },
        {
         "hovertemplate": "Mission ID=MSN-0013<br>Mission Type=Mining<br>Mission Cost (billion USD)=%{x}<br>Mission Success (%)=%{y}<extra></extra>",
         "legendgroup": "MSN-0013, Mining",
         "marker": {
          "color": "#00cc96",
          "symbol": "square"
         },
         "mode": "markers",
         "name": "MSN-0013, Mining",
         "orientation": "v",
         "showlegend": true,
         "type": "scatter",
         "x": [
          436.87
         ],
         "xaxis": "x",
         "y": [
          100
         ],
         "yaxis": "y"
        },
        {
         "hovertemplate": "Mission ID=MSN-0014<br>Mission Type=Colonization<br>Mission Cost (billion USD)=%{x}<br>Mission Success (%)=%{y}<extra></extra>",
         "legendgroup": "MSN-0014, Colonization",
         "marker": {
          "color": "#ab63fa",
          "symbol": "circle"
         },
         "mode": "markers",
         "name": "MSN-0014, Colonization",
         "orientation": "v",
         "showlegend": true,
         "type": "scatter",
         "x": [
          511.71
         ],
         "xaxis": "x",
         "y": [
          100
         ],
         "yaxis": "y"
        },
        {
         "hovertemplate": "Mission ID=MSN-0015<br>Mission Type=Research<br>Mission Cost (billion USD)=%{x}<br>Mission Success (%)=%{y}<extra></extra>",
         "legendgroup": "MSN-0015, Research",
         "marker": {
          "color": "#FFA15A",
          "symbol": "x"
         },
         "mode": "markers",
         "name": "MSN-0015, Research",
         "orientation": "v",
         "showlegend": true,
         "type": "scatter",
         "x": [
          343.16
         ],
         "xaxis": "x",
         "y": [
          91.2
         ],
         "yaxis": "y"
        },
        {
         "hovertemplate": "Mission ID=MSN-0016<br>Mission Type=Exploration<br>Mission Cost (billion USD)=%{x}<br>Mission Success (%)=%{y}<extra></extra>",
         "legendgroup": "MSN-0016, Exploration",
         "marker": {
          "color": "#19d3f3",
          "symbol": "diamond"
         },
         "mode": "markers",
         "name": "MSN-0016, Exploration",
         "orientation": "v",
         "showlegend": true,
         "type": "scatter",
         "x": [
          495.63
         ],
         "xaxis": "x",
         "y": [
          100
         ],
         "yaxis": "y"
        },
        {
         "hovertemplate": "Mission ID=MSN-0017<br>Mission Type=Mining<br>Mission Cost (billion USD)=%{x}<br>Mission Success (%)=%{y}<extra></extra>",
         "legendgroup": "MSN-0017, Mining",
         "marker": {
          "color": "#FF6692",
          "symbol": "square"
         },
         "mode": "markers",
         "name": "MSN-0017, Mining",
         "orientation": "v",
         "showlegend": true,
         "type": "scatter",
         "x": [
          110.17
         ],
         "xaxis": "x",
         "y": [
          83.7
         ],
         "yaxis": "y"
        },
        {
         "hovertemplate": "Mission ID=MSN-0018<br>Mission Type=Exploration<br>Mission Cost (billion USD)=%{x}<br>Mission Success (%)=%{y}<extra></extra>",
         "legendgroup": "MSN-0018, Exploration",
         "marker": {
          "color": "#B6E880",
          "symbol": "diamond"
         },
         "mode": "markers",
         "name": "MSN-0018, Exploration",
         "orientation": "v",
         "showlegend": true,
         "type": "scatter",
         "x": [
          255.74
         ],
         "xaxis": "x",
         "y": [
          96.3
         ],
         "yaxis": "y"
        },
        {
         "hovertemplate": "Mission ID=MSN-0019<br>Mission Type=Colonization<br>Mission Cost (billion USD)=%{x}<br>Mission Success (%)=%{y}<extra></extra>",
         "legendgroup": "MSN-0019, Colonization",
         "marker": {
          "color": "#FF97FF",
          "symbol": "circle"
         },
         "mode": "markers",
         "name": "MSN-0019, Colonization",
         "orientation": "v",
         "showlegend": true,
         "type": "scatter",
         "x": [
          305.2
         ],
         "xaxis": "x",
         "y": [
          100
         ],
         "yaxis": "y"
        },
        {
         "hovertemplate": "Mission ID=MSN-0020<br>Mission Type=Colonization<br>Mission Cost (billion USD)=%{x}<br>Mission Success (%)=%{y}<extra></extra>",
         "legendgroup": "MSN-0020, Colonization",
         "marker": {
          "color": "#FECB52",
          "symbol": "circle"
         },
         "mode": "markers",
         "name": "MSN-0020, Colonization",
         "orientation": "v",
         "showlegend": true,
         "type": "scatter",
         "x": [
          329.98
         ],
         "xaxis": "x",
         "y": [
          100
         ],
         "yaxis": "y"
        },
        {
         "hovertemplate": "Mission ID=MSN-0021<br>Mission Type=Colonization<br>Mission Cost (billion USD)=%{x}<br>Mission Success (%)=%{y}<extra></extra>",
         "legendgroup": "MSN-0021, Colonization",
         "marker": {
          "color": "#636efa",
          "symbol": "circle"
         },
         "mode": "markers",
         "name": "MSN-0021, Colonization",
         "orientation": "v",
         "showlegend": true,
         "type": "scatter",
         "x": [
          235.36
         ],
         "xaxis": "x",
         "y": [
          97.9
         ],
         "yaxis": "y"
        },
        {
         "hovertemplate": "Mission ID=MSN-0022<br>Mission Type=Mining<br>Mission Cost (billion USD)=%{x}<br>Mission Success (%)=%{y}<extra></extra>",
         "legendgroup": "MSN-0022, Mining",
         "marker": {
          "color": "#EF553B",
          "symbol": "square"
         },
         "mode": "markers",
         "name": "MSN-0022, Mining",
         "orientation": "v",
         "showlegend": true,
         "type": "scatter",
         "x": [
          201.81
         ],
         "xaxis": "x",
         "y": [
          94.9
         ],
         "yaxis": "y"
        },
        {
         "hovertemplate": "Mission ID=MSN-0023<br>Mission Type=Research<br>Mission Cost (billion USD)=%{x}<br>Mission Success (%)=%{y}<extra></extra>",
         "legendgroup": "MSN-0023, Research",
         "marker": {
          "color": "#00cc96",
          "symbol": "x"
         },
         "mode": "markers",
         "name": "MSN-0023, Research",
         "orientation": "v",
         "showlegend": true,
         "type": "scatter",
         "x": [
          105.14
         ],
         "xaxis": "x",
         "y": [
          81.2
         ],
         "yaxis": "y"
        },
        {
         "hovertemplate": "Mission ID=MSN-0024<br>Mission Type=Mining<br>Mission Cost (billion USD)=%{x}<br>Mission Success (%)=%{y}<extra></extra>",
         "legendgroup": "MSN-0024, Mining",
         "marker": {
          "color": "#ab63fa",
          "symbol": "square"
         },
         "mode": "markers",
         "name": "MSN-0024, Mining",
         "orientation": "v",
         "showlegend": true,
         "type": "scatter",
         "x": [
          232.99
         ],
         "xaxis": "x",
         "y": [
          92.6
         ],
         "yaxis": "y"
        },
        {
         "hovertemplate": "Mission ID=MSN-0025<br>Mission Type=Exploration<br>Mission Cost (billion USD)=%{x}<br>Mission Success (%)=%{y}<extra></extra>",
         "legendgroup": "MSN-0025, Exploration",
         "marker": {
          "color": "#FFA15A",
          "symbol": "diamond"
         },
         "mode": "markers",
         "name": "MSN-0025, Exploration",
         "orientation": "v",
         "showlegend": true,
         "type": "scatter",
         "x": [
          96.59
         ],
         "xaxis": "x",
         "y": [
          77.3
         ],
         "yaxis": "y"
        },
        {
         "hovertemplate": "Mission ID=MSN-0026<br>Mission Type=Mining<br>Mission Cost (billion USD)=%{x}<br>Mission Success (%)=%{y}<extra></extra>",
         "legendgroup": "MSN-0026, Mining",
         "marker": {
          "color": "#19d3f3",
          "symbol": "square"
         },
         "mode": "markers",
         "name": "MSN-0026, Mining",
         "orientation": "v",
         "showlegend": true,
         "type": "scatter",
         "x": [
          386.77
         ],
         "xaxis": "x",
         "y": [
          100
         ],
         "yaxis": "y"
        },
        {
         "hovertemplate": "Mission ID=MSN-0027<br>Mission Type=Exploration<br>Mission Cost (billion USD)=%{x}<br>Mission Success (%)=%{y}<extra></extra>",
         "legendgroup": "MSN-0027, Exploration",
         "marker": {
          "color": "#FF6692",
          "symbol": "diamond"
         },
         "mode": "markers",
         "name": "MSN-0027, Exploration",
         "orientation": "v",
         "showlegend": true,
         "type": "scatter",
         "x": [
          115.53
         ],
         "xaxis": "x",
         "y": [
          78.1
         ],
         "yaxis": "y"
        },
        {
         "hovertemplate": "Mission ID=MSN-0028<br>Mission Type=Mining<br>Mission Cost (billion USD)=%{x}<br>Mission Success (%)=%{y}<extra></extra>",
         "legendgroup": "MSN-0028, Mining",
         "marker": {
          "color": "#B6E880",
          "symbol": "square"
         },
         "mode": "markers",
         "name": "MSN-0028, Mining",
         "orientation": "v",
         "showlegend": true,
         "type": "scatter",
         "x": [
          41.36
         ],
         "xaxis": "x",
         "y": [
          67.4
         ],
         "yaxis": "y"
        },
        {
         "hovertemplate": "Mission ID=MSN-0029<br>Mission Type=Research<br>Mission Cost (billion USD)=%{x}<br>Mission Success (%)=%{y}<extra></extra>",
         "legendgroup": "MSN-0029, Research",
         "marker": {
          "color": "#FF97FF",
          "symbol": "x"
         },
         "mode": "markers",
         "name": "MSN-0029, Research",
         "orientation": "v",
         "showlegend": true,
         "type": "scatter",
         "x": [
          312.53
         ],
         "xaxis": "x",
         "y": [
          100
         ],
         "yaxis": "y"
        },
        {
         "hovertemplate": "Mission ID=MSN-0030<br>Mission Type=Exploration<br>Mission Cost (billion USD)=%{x}<br>Mission Success (%)=%{y}<extra></extra>",
         "legendgroup": "MSN-0030, Exploration",
         "marker": {
          "color": "#FECB52",
          "symbol": "diamond"
         },
         "mode": "markers",
         "name": "MSN-0030, Exploration",
         "orientation": "v",
         "showlegend": true,
         "type": "scatter",
         "x": [
          342.72
         ],
         "xaxis": "x",
         "y": [
          95.8
         ],
         "yaxis": "y"
        },
        {
         "hovertemplate": "Mission ID=MSN-0031<br>Mission Type=Colonization<br>Mission Cost (billion USD)=%{x}<br>Mission Success (%)=%{y}<extra></extra>",
         "legendgroup": "MSN-0031, Colonization",
         "marker": {
          "color": "#636efa",
          "symbol": "circle"
         },
         "mode": "markers",
         "name": "MSN-0031, Colonization",
         "orientation": "v",
         "showlegend": true,
         "type": "scatter",
         "x": [
          484.77
         ],
         "xaxis": "x",
         "y": [
          100
         ],
         "yaxis": "y"
        },
        {
         "hovertemplate": "Mission ID=MSN-0032<br>Mission Type=Colonization<br>Mission Cost (billion USD)=%{x}<br>Mission Success (%)=%{y}<extra></extra>",
         "legendgroup": "MSN-0032, Colonization",
         "marker": {
          "color": "#EF553B",
          "symbol": "circle"
         },
         "mode": "markers",
         "name": "MSN-0032, Colonization",
         "orientation": "v",
         "showlegend": true,
         "type": "scatter",
         "x": [
          322.39
         ],
         "xaxis": "x",
         "y": [
          100
         ],
         "yaxis": "y"
        },
        {
         "hovertemplate": "Mission ID=MSN-0033<br>Mission Type=Mining<br>Mission Cost (billion USD)=%{x}<br>Mission Success (%)=%{y}<extra></extra>",
         "legendgroup": "MSN-0033, Mining",
         "marker": {
          "color": "#00cc96",
          "symbol": "square"
         },
         "mode": "markers",
         "name": "MSN-0033, Mining",
         "orientation": "v",
         "showlegend": true,
         "type": "scatter",
         "x": [
          186.02
         ],
         "xaxis": "x",
         "y": [
          89.3
         ],
         "yaxis": "y"
        },
        {
         "hovertemplate": "Mission ID=MSN-0034<br>Mission Type=Colonization<br>Mission Cost (billion USD)=%{x}<br>Mission Success (%)=%{y}<extra></extra>",
         "legendgroup": "MSN-0034, Colonization",
         "marker": {
          "color": "#ab63fa",
          "symbol": "circle"
         },
         "mode": "markers",
         "name": "MSN-0034, Colonization",
         "orientation": "v",
         "showlegend": true,
         "type": "scatter",
         "x": [
          408.68
         ],
         "xaxis": "x",
         "y": [
          100
         ],
         "yaxis": "y"
        },
        {
         "hovertemplate": "Mission ID=MSN-0035<br>Mission Type=Exploration<br>Mission Cost (billion USD)=%{x}<br>Mission Success (%)=%{y}<extra></extra>",
         "legendgroup": "MSN-0035, Exploration",
         "marker": {
          "color": "#FFA15A",
          "symbol": "diamond"
         },
         "mode": "markers",
         "name": "MSN-0035, Exploration",
         "orientation": "v",
         "showlegend": true,
         "type": "scatter",
         "x": [
          313.28
         ],
         "xaxis": "x",
         "y": [
          100
         ],
         "yaxis": "y"
        },
        {
         "hovertemplate": "Mission ID=MSN-0036<br>Mission Type=Colonization<br>Mission Cost (billion USD)=%{x}<br>Mission Success (%)=%{y}<extra></extra>",
         "legendgroup": "MSN-0036, Colonization",
         "marker": {
          "color": "#19d3f3",
          "symbol": "circle"
         },
         "mode": "markers",
         "name": "MSN-0036, Colonization",
         "orientation": "v",
         "showlegend": true,
         "type": "scatter",
         "x": [
          73.61
         ],
         "xaxis": "x",
         "y": [
          84.2
         ],
         "yaxis": "y"
        },
        {
         "hovertemplate": "Mission ID=MSN-0037<br>Mission Type=Research<br>Mission Cost (billion USD)=%{x}<br>Mission Success (%)=%{y}<extra></extra>",
         "legendgroup": "MSN-0037, Research",
         "marker": {
          "color": "#FF6692",
          "symbol": "x"
         },
         "mode": "markers",
         "name": "MSN-0037, Research",
         "orientation": "v",
         "showlegend": true,
         "type": "scatter",
         "x": [
          316.4
         ],
         "xaxis": "x",
         "y": [
          95.4
         ],
         "yaxis": "y"
        },
        {
         "hovertemplate": "Mission ID=MSN-0038<br>Mission Type=Research<br>Mission Cost (billion USD)=%{x}<br>Mission Success (%)=%{y}<extra></extra>",
         "legendgroup": "MSN-0038, Research",
         "marker": {
          "color": "#B6E880",
          "symbol": "x"
         },
         "mode": "markers",
         "name": "MSN-0038, Research",
         "orientation": "v",
         "showlegend": true,
         "type": "scatter",
         "x": [
          493.74
         ],
         "xaxis": "x",
         "y": [
          100
         ],
         "yaxis": "y"
        },
        {
         "hovertemplate": "Mission ID=MSN-0039<br>Mission Type=Mining<br>Mission Cost (billion USD)=%{x}<br>Mission Success (%)=%{y}<extra></extra>",
         "legendgroup": "MSN-0039, Mining",
         "marker": {
          "color": "#FF97FF",
          "symbol": "square"
         },
         "mode": "markers",
         "name": "MSN-0039, Mining",
         "orientation": "v",
         "showlegend": true,
         "type": "scatter",
         "x": [
          236.61
         ],
         "xaxis": "x",
         "y": [
          90.6
         ],
         "yaxis": "y"
        },
        {
         "hovertemplate": "Mission ID=MSN-0040<br>Mission Type=Exploration<br>Mission Cost (billion USD)=%{x}<br>Mission Success (%)=%{y}<extra></extra>",
         "legendgroup": "MSN-0040, Exploration",
         "marker": {
          "color": "#FECB52",
          "symbol": "diamond"
         },
         "mode": "markers",
         "name": "MSN-0040, Exploration",
         "orientation": "v",
         "showlegend": true,
         "type": "scatter",
         "x": [
          193.59
         ],
         "xaxis": "x",
         "y": [
          84.3
         ],
         "yaxis": "y"
        },
        {
         "hovertemplate": "Mission ID=MSN-0041<br>Mission Type=Research<br>Mission Cost (billion USD)=%{x}<br>Mission Success (%)=%{y}<extra></extra>",
         "legendgroup": "MSN-0041, Research",
         "marker": {
          "color": "#636efa",
          "symbol": "x"
         },
         "mode": "markers",
         "name": "MSN-0041, Research",
         "orientation": "v",
         "showlegend": true,
         "type": "scatter",
         "x": [
          79.75
         ],
         "xaxis": "x",
         "y": [
          71.3
         ],
         "yaxis": "y"
        },
        {
         "hovertemplate": "Mission ID=MSN-0042<br>Mission Type=Research<br>Mission Cost (billion USD)=%{x}<br>Mission Success (%)=%{y}<extra></extra>",
         "legendgroup": "MSN-0042, Research",
         "marker": {
          "color": "#EF553B",
          "symbol": "x"
         },
         "mode": "markers",
         "name": "MSN-0042, Research",
         "orientation": "v",
         "showlegend": true,
         "type": "scatter",
         "x": [
          117.58
         ],
         "xaxis": "x",
         "y": [
          83.9
         ],
         "yaxis": "y"
        },
        {
         "hovertemplate": "Mission ID=MSN-0043<br>Mission Type=Exploration<br>Mission Cost (billion USD)=%{x}<br>Mission Success (%)=%{y}<extra></extra>",
         "legendgroup": "MSN-0043, Exploration",
         "marker": {
          "color": "#00cc96",
          "symbol": "diamond"
         },
         "mode": "markers",
         "name": "MSN-0043, Exploration",
         "orientation": "v",
         "showlegend": true,
         "type": "scatter",
         "x": [
          261.89
         ],
         "xaxis": "x",
         "y": [
          92.8
         ],
         "yaxis": "y"
        },
        {
         "hovertemplate": "Mission ID=MSN-0044<br>Mission Type=Colonization<br>Mission Cost (billion USD)=%{x}<br>Mission Success (%)=%{y}<extra></extra>",
         "legendgroup": "MSN-0044, Colonization",
         "marker": {
          "color": "#ab63fa",
          "symbol": "circle"
         },
         "mode": "markers",
         "name": "MSN-0044, Colonization",
         "orientation": "v",
         "showlegend": true,
         "type": "scatter",
         "x": [
          314.87
         ],
         "xaxis": "x",
         "y": [
          100
         ],
         "yaxis": "y"
        },
        {
         "hovertemplate": "Mission ID=MSN-0045<br>Mission Type=Colonization<br>Mission Cost (billion USD)=%{x}<br>Mission Success (%)=%{y}<extra></extra>",
         "legendgroup": "MSN-0045, Colonization",
         "marker": {
          "color": "#FFA15A",
          "symbol": "circle"
         },
         "mode": "markers",
         "name": "MSN-0045, Colonization",
         "orientation": "v",
         "showlegend": true,
         "type": "scatter",
         "x": [
          77.28
         ],
         "xaxis": "x",
         "y": [
          82.7
         ],
         "yaxis": "y"
        },
        {
         "hovertemplate": "Mission ID=MSN-0046<br>Mission Type=Mining<br>Mission Cost (billion USD)=%{x}<br>Mission Success (%)=%{y}<extra></extra>",
         "legendgroup": "MSN-0046, Mining",
         "marker": {
          "color": "#19d3f3",
          "symbol": "square"
         },
         "mode": "markers",
         "name": "MSN-0046, Mining",
         "orientation": "v",
         "showlegend": true,
         "type": "scatter",
         "x": [
          486.49
         ],
         "xaxis": "x",
         "y": [
          100
         ],
         "yaxis": "y"
        },
        {
         "hovertemplate": "Mission ID=MSN-0047<br>Mission Type=Colonization<br>Mission Cost (billion USD)=%{x}<br>Mission Success (%)=%{y}<extra></extra>",
         "legendgroup": "MSN-0047, Colonization",
         "marker": {
          "color": "#FF6692",
          "symbol": "circle"
         },
         "mode": "markers",
         "name": "MSN-0047, Colonization",
         "orientation": "v",
         "showlegend": true,
         "type": "scatter",
         "x": [
          426.74
         ],
         "xaxis": "x",
         "y": [
          100
         ],
         "yaxis": "y"
        },
        {
         "hovertemplate": "Mission ID=MSN-0048<br>Mission Type=Exploration<br>Mission Cost (billion USD)=%{x}<br>Mission Success (%)=%{y}<extra></extra>",
         "legendgroup": "MSN-0048, Exploration",
         "marker": {
          "color": "#B6E880",
          "symbol": "diamond"
         },
         "mode": "markers",
         "name": "MSN-0048, Exploration",
         "orientation": "v",
         "showlegend": true,
         "type": "scatter",
         "x": [
          298.04
         ],
         "xaxis": "x",
         "y": [
          100
         ],
         "yaxis": "y"
        },
        {
         "hovertemplate": "Mission ID=MSN-0049<br>Mission Type=Research<br>Mission Cost (billion USD)=%{x}<br>Mission Success (%)=%{y}<extra></extra>",
         "legendgroup": "MSN-0049, Research",
         "marker": {
          "color": "#FF97FF",
          "symbol": "x"
         },
         "mode": "markers",
         "name": "MSN-0049, Research",
         "orientation": "v",
         "showlegend": true,
         "type": "scatter",
         "x": [
          444.51
         ],
         "xaxis": "x",
         "y": [
          100
         ],
         "yaxis": "y"
        },
        {
         "hovertemplate": "Mission ID=MSN-0050<br>Mission Type=Colonization<br>Mission Cost (billion USD)=%{x}<br>Mission Success (%)=%{y}<extra></extra>",
         "legendgroup": "MSN-0050, Colonization",
         "marker": {
          "color": "#FECB52",
          "symbol": "circle"
         },
         "mode": "markers",
         "name": "MSN-0050, Colonization",
         "orientation": "v",
         "showlegend": true,
         "type": "scatter",
         "x": [
          53.86
         ],
         "xaxis": "x",
         "y": [
          73
         ],
         "yaxis": "y"
        },
        {
         "hovertemplate": "Mission ID=MSN-0051<br>Mission Type=Mining<br>Mission Cost (billion USD)=%{x}<br>Mission Success (%)=%{y}<extra></extra>",
         "legendgroup": "MSN-0051, Mining",
         "marker": {
          "color": "#636efa",
          "symbol": "square"
         },
         "mode": "markers",
         "name": "MSN-0051, Mining",
         "orientation": "v",
         "showlegend": true,
         "type": "scatter",
         "x": [
          276.95
         ],
         "xaxis": "x",
         "y": [
          93.8
         ],
         "yaxis": "y"
        },
        {
         "hovertemplate": "Mission ID=MSN-0052<br>Mission Type=Colonization<br>Mission Cost (billion USD)=%{x}<br>Mission Success (%)=%{y}<extra></extra>",
         "legendgroup": "MSN-0052, Colonization",
         "marker": {
          "color": "#EF553B",
          "symbol": "circle"
         },
         "mode": "markers",
         "name": "MSN-0052, Colonization",
         "orientation": "v",
         "showlegend": true,
         "type": "scatter",
         "x": [
          326.52
         ],
         "xaxis": "x",
         "y": [
          100
         ],
         "yaxis": "y"
        },
        {
         "hovertemplate": "Mission ID=MSN-0053<br>Mission Type=Exploration<br>Mission Cost (billion USD)=%{x}<br>Mission Success (%)=%{y}<extra></extra>",
         "legendgroup": "MSN-0053, Exploration",
         "marker": {
          "color": "#00cc96",
          "symbol": "diamond"
         },
         "mode": "markers",
         "name": "MSN-0053, Exploration",
         "orientation": "v",
         "showlegend": true,
         "type": "scatter",
         "x": [
          427.73
         ],
         "xaxis": "x",
         "y": [
          100
         ],
         "yaxis": "y"
        },
        {
         "hovertemplate": "Mission ID=MSN-0054<br>Mission Type=Mining<br>Mission Cost (billion USD)=%{x}<br>Mission Success (%)=%{y}<extra></extra>",
         "legendgroup": "MSN-0054, Mining",
         "marker": {
          "color": "#ab63fa",
          "symbol": "square"
         },
         "mode": "markers",
         "name": "MSN-0054, Mining",
         "orientation": "v",
         "showlegend": true,
         "type": "scatter",
         "x": [
          418.02
         ],
         "xaxis": "x",
         "y": [
          100
         ],
         "yaxis": "y"
        },
        {
         "hovertemplate": "Mission ID=MSN-0055<br>Mission Type=Colonization<br>Mission Cost (billion USD)=%{x}<br>Mission Success (%)=%{y}<extra></extra>",
         "legendgroup": "MSN-0055, Colonization",
         "marker": {
          "color": "#FFA15A",
          "symbol": "circle"
         },
         "mode": "markers",
         "name": "MSN-0055, Colonization",
         "orientation": "v",
         "showlegend": true,
         "type": "scatter",
         "x": [
          187.98
         ],
         "xaxis": "x",
         "y": [
          84.7
         ],
         "yaxis": "y"
        },
        {
         "hovertemplate": "Mission ID=MSN-0056<br>Mission Type=Mining<br>Mission Cost (billion USD)=%{x}<br>Mission Success (%)=%{y}<extra></extra>",
         "legendgroup": "MSN-0056, Mining",
         "marker": {
          "color": "#19d3f3",
          "symbol": "square"
         },
         "mode": "markers",
         "name": "MSN-0056, Mining",
         "orientation": "v",
         "showlegend": true,
         "type": "scatter",
         "x": [
          482.12
         ],
         "xaxis": "x",
         "y": [
          100
         ],
         "yaxis": "y"
        },
        {
         "hovertemplate": "Mission ID=MSN-0057<br>Mission Type=Exploration<br>Mission Cost (billion USD)=%{x}<br>Mission Success (%)=%{y}<extra></extra>",
         "legendgroup": "MSN-0057, Exploration",
         "marker": {
          "color": "#FF6692",
          "symbol": "diamond"
         },
         "mode": "markers",
         "name": "MSN-0057, Exploration",
         "orientation": "v",
         "showlegend": true,
         "type": "scatter",
         "x": [
          74.62
         ],
         "xaxis": "x",
         "y": [
          74.6
         ],
         "yaxis": "y"
        },
        {
         "hovertemplate": "Mission ID=MSN-0058<br>Mission Type=Research<br>Mission Cost (billion USD)=%{x}<br>Mission Success (%)=%{y}<extra></extra>",
         "legendgroup": "MSN-0058, Research",
         "marker": {
          "color": "#B6E880",
          "symbol": "x"
         },
         "mode": "markers",
         "name": "MSN-0058, Research",
         "orientation": "v",
         "showlegend": true,
         "type": "scatter",
         "x": [
          476.39
         ],
         "xaxis": "x",
         "y": [
          100
         ],
         "yaxis": "y"
        },
        {
         "hovertemplate": "Mission ID=MSN-0059<br>Mission Type=Exploration<br>Mission Cost (billion USD)=%{x}<br>Mission Success (%)=%{y}<extra></extra>",
         "legendgroup": "MSN-0059, Exploration",
         "marker": {
          "color": "#FF97FF",
          "symbol": "diamond"
         },
         "mode": "markers",
         "name": "MSN-0059, Exploration",
         "orientation": "v",
         "showlegend": true,
         "type": "scatter",
         "x": [
          511.13
         ],
         "xaxis": "x",
         "y": [
          100
         ],
         "yaxis": "y"
        },
        {
         "hovertemplate": "Mission ID=MSN-0060<br>Mission Type=Exploration<br>Mission Cost (billion USD)=%{x}<br>Mission Success (%)=%{y}<extra></extra>",
         "legendgroup": "MSN-0060, Exploration",
         "marker": {
          "color": "#FECB52",
          "symbol": "diamond"
         },
         "mode": "markers",
         "name": "MSN-0060, Exploration",
         "orientation": "v",
         "showlegend": true,
         "type": "scatter",
         "x": [
          138.38
         ],
         "xaxis": "x",
         "y": [
          83.8
         ],
         "yaxis": "y"
        },
        {
         "hovertemplate": "Mission ID=MSN-0061<br>Mission Type=Exploration<br>Mission Cost (billion USD)=%{x}<br>Mission Success (%)=%{y}<extra></extra>",
         "legendgroup": "MSN-0061, Exploration",
         "marker": {
          "color": "#636efa",
          "symbol": "diamond"
         },
         "mode": "markers",
         "name": "MSN-0061, Exploration",
         "orientation": "v",
         "showlegend": true,
         "type": "scatter",
         "x": [
          370.58
         ],
         "xaxis": "x",
         "y": [
          98.6
         ],
         "yaxis": "y"
        },
        {
         "hovertemplate": "Mission ID=MSN-0062<br>Mission Type=Exploration<br>Mission Cost (billion USD)=%{x}<br>Mission Success (%)=%{y}<extra></extra>",
         "legendgroup": "MSN-0062, Exploration",
         "marker": {
          "color": "#EF553B",
          "symbol": "diamond"
         },
         "mode": "markers",
         "name": "MSN-0062, Exploration",
         "orientation": "v",
         "showlegend": true,
         "type": "scatter",
         "x": [
          57.6
         ],
         "xaxis": "x",
         "y": [
          70.2
         ],
         "yaxis": "y"
        },
        {
         "hovertemplate": "Mission ID=MSN-0063<br>Mission Type=Research<br>Mission Cost (billion USD)=%{x}<br>Mission Success (%)=%{y}<extra></extra>",
         "legendgroup": "MSN-0063, Research",
         "marker": {
          "color": "#00cc96",
          "symbol": "x"
         },
         "mode": "markers",
         "name": "MSN-0063, Research",
         "orientation": "v",
         "showlegend": true,
         "type": "scatter",
         "x": [
          218.11
         ],
         "xaxis": "x",
         "y": [
          95.2
         ],
         "yaxis": "y"
        },
        {
         "hovertemplate": "Mission ID=MSN-0064<br>Mission Type=Research<br>Mission Cost (billion USD)=%{x}<br>Mission Success (%)=%{y}<extra></extra>",
         "legendgroup": "MSN-0064, Research",
         "marker": {
          "color": "#ab63fa",
          "symbol": "x"
         },
         "mode": "markers",
         "name": "MSN-0064, Research",
         "orientation": "v",
         "showlegend": true,
         "type": "scatter",
         "x": [
          269.23
         ],
         "xaxis": "x",
         "y": [
          99.9
         ],
         "yaxis": "y"
        },
        {
         "hovertemplate": "Mission ID=MSN-0065<br>Mission Type=Mining<br>Mission Cost (billion USD)=%{x}<br>Mission Success (%)=%{y}<extra></extra>",
         "legendgroup": "MSN-0065, Mining",
         "marker": {
          "color": "#FFA15A",
          "symbol": "square"
         },
         "mode": "markers",
         "name": "MSN-0065, Mining",
         "orientation": "v",
         "showlegend": true,
         "type": "scatter",
         "x": [
          326.89
         ],
         "xaxis": "x",
         "y": [
          100
         ],
         "yaxis": "y"
        },
        {
         "hovertemplate": "Mission ID=MSN-0066<br>Mission Type=Colonization<br>Mission Cost (billion USD)=%{x}<br>Mission Success (%)=%{y}<extra></extra>",
         "legendgroup": "MSN-0066, Colonization",
         "marker": {
          "color": "#19d3f3",
          "symbol": "circle"
         },
         "mode": "markers",
         "name": "MSN-0066, Colonization",
         "orientation": "v",
         "showlegend": true,
         "type": "scatter",
         "x": [
          498.39
         ],
         "xaxis": "x",
         "y": [
          100
         ],
         "yaxis": "y"
        },
        {
         "hovertemplate": "Mission ID=MSN-0067<br>Mission Type=Research<br>Mission Cost (billion USD)=%{x}<br>Mission Success (%)=%{y}<extra></extra>",
         "legendgroup": "MSN-0067, Research",
         "marker": {
          "color": "#FF6692",
          "symbol": "x"
         },
         "mode": "markers",
         "name": "MSN-0067, Research",
         "orientation": "v",
         "showlegend": true,
         "type": "scatter",
         "x": [
          375.74
         ],
         "xaxis": "x",
         "y": [
          100
         ],
         "yaxis": "y"
        },
        {
         "hovertemplate": "Mission ID=MSN-0068<br>Mission Type=Research<br>Mission Cost (billion USD)=%{x}<br>Mission Success (%)=%{y}<extra></extra>",
         "legendgroup": "MSN-0068, Research",
         "marker": {
          "color": "#B6E880",
          "symbol": "x"
         },
         "mode": "markers",
         "name": "MSN-0068, Research",
         "orientation": "v",
         "showlegend": true,
         "type": "scatter",
         "x": [
          259.41
         ],
         "xaxis": "x",
         "y": [
          94.1
         ],
         "yaxis": "y"
        },
        {
         "hovertemplate": "Mission ID=MSN-0069<br>Mission Type=Colonization<br>Mission Cost (billion USD)=%{x}<br>Mission Success (%)=%{y}<extra></extra>",
         "legendgroup": "MSN-0069, Colonization",
         "marker": {
          "color": "#FF97FF",
          "symbol": "circle"
         },
         "mode": "markers",
         "name": "MSN-0069, Colonization",
         "orientation": "v",
         "showlegend": true,
         "type": "scatter",
         "x": [
          428.75
         ],
         "xaxis": "x",
         "y": [
          100
         ],
         "yaxis": "y"
        },
        {
         "hovertemplate": "Mission ID=MSN-0070<br>Mission Type=Research<br>Mission Cost (billion USD)=%{x}<br>Mission Success (%)=%{y}<extra></extra>",
         "legendgroup": "MSN-0070, Research",
         "marker": {
          "color": "#FECB52",
          "symbol": "x"
         },
         "mode": "markers",
         "name": "MSN-0070, Research",
         "orientation": "v",
         "showlegend": true,
         "type": "scatter",
         "x": [
          496.37
         ],
         "xaxis": "x",
         "y": [
          100
         ],
         "yaxis": "y"
        },
        {
         "hovertemplate": "Mission ID=MSN-0071<br>Mission Type=Exploration<br>Mission Cost (billion USD)=%{x}<br>Mission Success (%)=%{y}<extra></extra>",
         "legendgroup": "MSN-0071, Exploration",
         "marker": {
          "color": "#636efa",
          "symbol": "diamond"
         },
         "mode": "markers",
         "name": "MSN-0071, Exploration",
         "orientation": "v",
         "showlegend": true,
         "type": "scatter",
         "x": [
          65.12
         ],
         "xaxis": "x",
         "y": [
          74
         ],
         "yaxis": "y"
        },
        {
         "hovertemplate": "Mission ID=MSN-0072<br>Mission Type=Exploration<br>Mission Cost (billion USD)=%{x}<br>Mission Success (%)=%{y}<extra></extra>",
         "legendgroup": "MSN-0072, Exploration",
         "marker": {
          "color": "#EF553B",
          "symbol": "diamond"
         },
         "mode": "markers",
         "name": "MSN-0072, Exploration",
         "orientation": "v",
         "showlegend": true,
         "type": "scatter",
         "x": [
          506.67
         ],
         "xaxis": "x",
         "y": [
          100
         ],
         "yaxis": "y"
        },
        {
         "hovertemplate": "Mission ID=MSN-0073<br>Mission Type=Colonization<br>Mission Cost (billion USD)=%{x}<br>Mission Success (%)=%{y}<extra></extra>",
         "legendgroup": "MSN-0073, Colonization",
         "marker": {
          "color": "#00cc96",
          "symbol": "circle"
         },
         "mode": "markers",
         "name": "MSN-0073, Colonization",
         "orientation": "v",
         "showlegend": true,
         "type": "scatter",
         "x": [
          63.1
         ],
         "xaxis": "x",
         "y": [
          77.6
         ],
         "yaxis": "y"
        },
        {
         "hovertemplate": "Mission ID=MSN-0074<br>Mission Type=Mining<br>Mission Cost (billion USD)=%{x}<br>Mission Success (%)=%{y}<extra></extra>",
         "legendgroup": "MSN-0074, Mining",
         "marker": {
          "color": "#ab63fa",
          "symbol": "square"
         },
         "mode": "markers",
         "name": "MSN-0074, Mining",
         "orientation": "v",
         "showlegend": true,
         "type": "scatter",
         "x": [
          426.47
         ],
         "xaxis": "x",
         "y": [
          100
         ],
         "yaxis": "y"
        },
        {
         "hovertemplate": "Mission ID=MSN-0075<br>Mission Type=Mining<br>Mission Cost (billion USD)=%{x}<br>Mission Success (%)=%{y}<extra></extra>",
         "legendgroup": "MSN-0075, Mining",
         "marker": {
          "color": "#FFA15A",
          "symbol": "square"
         },
         "mode": "markers",
         "name": "MSN-0075, Mining",
         "orientation": "v",
         "showlegend": true,
         "type": "scatter",
         "x": [
          172.42
         ],
         "xaxis": "x",
         "y": [
          84.7
         ],
         "yaxis": "y"
        },
        {
         "hovertemplate": "Mission ID=MSN-0076<br>Mission Type=Colonization<br>Mission Cost (billion USD)=%{x}<br>Mission Success (%)=%{y}<extra></extra>",
         "legendgroup": "MSN-0076, Colonization",
         "marker": {
          "color": "#19d3f3",
          "symbol": "circle"
         },
         "mode": "markers",
         "name": "MSN-0076, Colonization",
         "orientation": "v",
         "showlegend": true,
         "type": "scatter",
         "x": [
          83.81
         ],
         "xaxis": "x",
         "y": [
          85
         ],
         "yaxis": "y"
        },
        {
         "hovertemplate": "Mission ID=MSN-0077<br>Mission Type=Colonization<br>Mission Cost (billion USD)=%{x}<br>Mission Success (%)=%{y}<extra></extra>",
         "legendgroup": "MSN-0077, Colonization",
         "marker": {
          "color": "#FF6692",
          "symbol": "circle"
         },
         "mode": "markers",
         "name": "MSN-0077, Colonization",
         "orientation": "v",
         "showlegend": true,
         "type": "scatter",
         "x": [
          268.6
         ],
         "xaxis": "x",
         "y": [
          100
         ],
         "yaxis": "y"
        },
        {
         "hovertemplate": "Mission ID=MSN-0078<br>Mission Type=Exploration<br>Mission Cost (billion USD)=%{x}<br>Mission Success (%)=%{y}<extra></extra>",
         "legendgroup": "MSN-0078, Exploration",
         "marker": {
          "color": "#B6E880",
          "symbol": "diamond"
         },
         "mode": "markers",
         "name": "MSN-0078, Exploration",
         "orientation": "v",
         "showlegend": true,
         "type": "scatter",
         "x": [
          337.77
         ],
         "xaxis": "x",
         "y": [
          100
         ],
         "yaxis": "y"
        },
        {
         "hovertemplate": "Mission ID=MSN-0079<br>Mission Type=Mining<br>Mission Cost (billion USD)=%{x}<br>Mission Success (%)=%{y}<extra></extra>",
         "legendgroup": "MSN-0079, Mining",
         "marker": {
          "color": "#FF97FF",
          "symbol": "square"
         },
         "mode": "markers",
         "name": "MSN-0079, Mining",
         "orientation": "v",
         "showlegend": true,
         "type": "scatter",
         "x": [
          238.44
         ],
         "xaxis": "x",
         "y": [
          87.5
         ],
         "yaxis": "y"
        },
        {
         "hovertemplate": "Mission ID=MSN-0080<br>Mission Type=Research<br>Mission Cost (billion USD)=%{x}<br>Mission Success (%)=%{y}<extra></extra>",
         "legendgroup": "MSN-0080, Research",
         "marker": {
          "color": "#FECB52",
          "symbol": "x"
         },
         "mode": "markers",
         "name": "MSN-0080, Research",
         "orientation": "v",
         "showlegend": true,
         "type": "scatter",
         "x": [
          38.07
         ],
         "xaxis": "x",
         "y": [
          74.9
         ],
         "yaxis": "y"
        },
        {
         "hovertemplate": "Mission ID=MSN-0081<br>Mission Type=Exploration<br>Mission Cost (billion USD)=%{x}<br>Mission Success (%)=%{y}<extra></extra>",
         "legendgroup": "MSN-0081, Exploration",
         "marker": {
          "color": "#636efa",
          "symbol": "diamond"
         },
         "mode": "markers",
         "name": "MSN-0081, Exploration",
         "orientation": "v",
         "showlegend": true,
         "type": "scatter",
         "x": [
          334.92
         ],
         "xaxis": "x",
         "y": [
          100
         ],
         "yaxis": "y"
        },
        {
         "hovertemplate": "Mission ID=MSN-0082<br>Mission Type=Colonization<br>Mission Cost (billion USD)=%{x}<br>Mission Success (%)=%{y}<extra></extra>",
         "legendgroup": "MSN-0082, Colonization",
         "marker": {
          "color": "#EF553B",
          "symbol": "circle"
         },
         "mode": "markers",
         "name": "MSN-0082, Colonization",
         "orientation": "v",
         "showlegend": true,
         "type": "scatter",
         "x": [
          497.14
         ],
         "xaxis": "x",
         "y": [
          100
         ],
         "yaxis": "y"
        },
        {
         "hovertemplate": "Mission ID=MSN-0083<br>Mission Type=Mining<br>Mission Cost (billion USD)=%{x}<br>Mission Success (%)=%{y}<extra></extra>",
         "legendgroup": "MSN-0083, Mining",
         "marker": {
          "color": "#00cc96",
          "symbol": "square"
         },
         "mode": "markers",
         "name": "MSN-0083, Mining",
         "orientation": "v",
         "showlegend": true,
         "type": "scatter",
         "x": [
          203.97
         ],
         "xaxis": "x",
         "y": [
          97.2
         ],
         "yaxis": "y"
        },
        {
         "hovertemplate": "Mission ID=MSN-0084<br>Mission Type=Research<br>Mission Cost (billion USD)=%{x}<br>Mission Success (%)=%{y}<extra></extra>",
         "legendgroup": "MSN-0084, Research",
         "marker": {
          "color": "#ab63fa",
          "symbol": "x"
         },
         "mode": "markers",
         "name": "MSN-0084, Research",
         "orientation": "v",
         "showlegend": true,
         "type": "scatter",
         "x": [
          160.55
         ],
         "xaxis": "x",
         "y": [
          92.5
         ],
         "yaxis": "y"
        },
        {
         "hovertemplate": "Mission ID=MSN-0085<br>Mission Type=Research<br>Mission Cost (billion USD)=%{x}<br>Mission Success (%)=%{y}<extra></extra>",
         "legendgroup": "MSN-0085, Research",
         "marker": {
          "color": "#FFA15A",
          "symbol": "x"
         },
         "mode": "markers",
         "name": "MSN-0085, Research",
         "orientation": "v",
         "showlegend": true,
         "type": "scatter",
         "x": [
          247.29
         ],
         "xaxis": "x",
         "y": [
          100
         ],
         "yaxis": "y"
        },
        {
         "hovertemplate": "Mission ID=MSN-0086<br>Mission Type=Exploration<br>Mission Cost (billion USD)=%{x}<br>Mission Success (%)=%{y}<extra></extra>",
         "legendgroup": "MSN-0086, Exploration",
         "marker": {
          "color": "#19d3f3",
          "symbol": "diamond"
         },
         "mode": "markers",
         "name": "MSN-0086, Exploration",
         "orientation": "v",
         "showlegend": true,
         "type": "scatter",
         "x": [
          76.29
         ],
         "xaxis": "x",
         "y": [
          79.2
         ],
         "yaxis": "y"
        },
        {
         "hovertemplate": "Mission ID=MSN-0087<br>Mission Type=Mining<br>Mission Cost (billion USD)=%{x}<br>Mission Success (%)=%{y}<extra></extra>",
         "legendgroup": "MSN-0087, Mining",
         "marker": {
          "color": "#FF6692",
          "symbol": "square"
         },
         "mode": "markers",
         "name": "MSN-0087, Mining",
         "orientation": "v",
         "showlegend": true,
         "type": "scatter",
         "x": [
          445.31
         ],
         "xaxis": "x",
         "y": [
          100
         ],
         "yaxis": "y"
        },
        {
         "hovertemplate": "Mission ID=MSN-0088<br>Mission Type=Mining<br>Mission Cost (billion USD)=%{x}<br>Mission Success (%)=%{y}<extra></extra>",
         "legendgroup": "MSN-0088, Mining",
         "marker": {
          "color": "#B6E880",
          "symbol": "square"
         },
         "mode": "markers",
         "name": "MSN-0088, Mining",
         "orientation": "v",
         "showlegend": true,
         "type": "scatter",
         "x": [
          429.83
         ],
         "xaxis": "x",
         "y": [
          100
         ],
         "yaxis": "y"
        },
        {
         "hovertemplate": "Mission ID=MSN-0089<br>Mission Type=Colonization<br>Mission Cost (billion USD)=%{x}<br>Mission Success (%)=%{y}<extra></extra>",
         "legendgroup": "MSN-0089, Colonization",
         "marker": {
          "color": "#FF97FF",
          "symbol": "circle"
         },
         "mode": "markers",
         "name": "MSN-0089, Colonization",
         "orientation": "v",
         "showlegend": true,
         "type": "scatter",
         "x": [
          306.28
         ],
         "xaxis": "x",
         "y": [
          100
         ],
         "yaxis": "y"
        },
        {
         "hovertemplate": "Mission ID=MSN-0090<br>Mission Type=Mining<br>Mission Cost (billion USD)=%{x}<br>Mission Success (%)=%{y}<extra></extra>",
         "legendgroup": "MSN-0090, Mining",
         "marker": {
          "color": "#FECB52",
          "symbol": "square"
         },
         "mode": "markers",
         "name": "MSN-0090, Mining",
         "orientation": "v",
         "showlegend": true,
         "type": "scatter",
         "x": [
          195.68
         ],
         "xaxis": "x",
         "y": [
          87.1
         ],
         "yaxis": "y"
        },
        {
         "hovertemplate": "Mission ID=MSN-0091<br>Mission Type=Mining<br>Mission Cost (billion USD)=%{x}<br>Mission Success (%)=%{y}<extra></extra>",
         "legendgroup": "MSN-0091, Mining",
         "marker": {
          "color": "#636efa",
          "symbol": "square"
         },
         "mode": "markers",
         "name": "MSN-0091, Mining",
         "orientation": "v",
         "showlegend": true,
         "type": "scatter",
         "x": [
          406.46
         ],
         "xaxis": "x",
         "y": [
          100
         ],
         "yaxis": "y"
        },
        {
         "hovertemplate": "Mission ID=MSN-0092<br>Mission Type=Exploration<br>Mission Cost (billion USD)=%{x}<br>Mission Success (%)=%{y}<extra></extra>",
         "legendgroup": "MSN-0092, Exploration",
         "marker": {
          "color": "#EF553B",
          "symbol": "diamond"
         },
         "mode": "markers",
         "name": "MSN-0092, Exploration",
         "orientation": "v",
         "showlegend": true,
         "type": "scatter",
         "x": [
          287.6
         ],
         "xaxis": "x",
         "y": [
          100
         ],
         "yaxis": "y"
        },
        {
         "hovertemplate": "Mission ID=MSN-0093<br>Mission Type=Mining<br>Mission Cost (billion USD)=%{x}<br>Mission Success (%)=%{y}<extra></extra>",
         "legendgroup": "MSN-0093, Mining",
         "marker": {
          "color": "#00cc96",
          "symbol": "square"
         },
         "mode": "markers",
         "name": "MSN-0093, Mining",
         "orientation": "v",
         "showlegend": true,
         "type": "scatter",
         "x": [
          419.98
         ],
         "xaxis": "x",
         "y": [
          100
         ],
         "yaxis": "y"
        },
        {
         "hovertemplate": "Mission ID=MSN-0094<br>Mission Type=Research<br>Mission Cost (billion USD)=%{x}<br>Mission Success (%)=%{y}<extra></extra>",
         "legendgroup": "MSN-0094, Research",
         "marker": {
          "color": "#ab63fa",
          "symbol": "x"
         },
         "mode": "markers",
         "name": "MSN-0094, Research",
         "orientation": "v",
         "showlegend": true,
         "type": "scatter",
         "x": [
          339.27
         ],
         "xaxis": "x",
         "y": [
          100
         ],
         "yaxis": "y"
        },
        {
         "hovertemplate": "Mission ID=MSN-0095<br>Mission Type=Exploration<br>Mission Cost (billion USD)=%{x}<br>Mission Success (%)=%{y}<extra></extra>",
         "legendgroup": "MSN-0095, Exploration",
         "marker": {
          "color": "#FFA15A",
          "symbol": "diamond"
         },
         "mode": "markers",
         "name": "MSN-0095, Exploration",
         "orientation": "v",
         "showlegend": true,
         "type": "scatter",
         "x": [
          433.28
         ],
         "xaxis": "x",
         "y": [
          100
         ],
         "yaxis": "y"
        },
        {
         "hovertemplate": "Mission ID=MSN-0096<br>Mission Type=Exploration<br>Mission Cost (billion USD)=%{x}<br>Mission Success (%)=%{y}<extra></extra>",
         "legendgroup": "MSN-0096, Exploration",
         "marker": {
          "color": "#19d3f3",
          "symbol": "diamond"
         },
         "mode": "markers",
         "name": "MSN-0096, Exploration",
         "orientation": "v",
         "showlegend": true,
         "type": "scatter",
         "x": [
          309.23
         ],
         "xaxis": "x",
         "y": [
          90
         ],
         "yaxis": "y"
        },
        {
         "hovertemplate": "Mission ID=MSN-0097<br>Mission Type=Colonization<br>Mission Cost (billion USD)=%{x}<br>Mission Success (%)=%{y}<extra></extra>",
         "legendgroup": "MSN-0097, Colonization",
         "marker": {
          "color": "#FF6692",
          "symbol": "circle"
         },
         "mode": "markers",
         "name": "MSN-0097, Colonization",
         "orientation": "v",
         "showlegend": true,
         "type": "scatter",
         "x": [
          217.39
         ],
         "xaxis": "x",
         "y": [
          99.4
         ],
         "yaxis": "y"
        },
        {
         "hovertemplate": "Mission ID=MSN-0098<br>Mission Type=Mining<br>Mission Cost (billion USD)=%{x}<br>Mission Success (%)=%{y}<extra></extra>",
         "legendgroup": "MSN-0098, Mining",
         "marker": {
          "color": "#B6E880",
          "symbol": "square"
         },
         "mode": "markers",
         "name": "MSN-0098, Mining",
         "orientation": "v",
         "showlegend": true,
         "type": "scatter",
         "x": [
          511.73
         ],
         "xaxis": "x",
         "y": [
          100
         ],
         "yaxis": "y"
        },
        {
         "hovertemplate": "Mission ID=MSN-0099<br>Mission Type=Colonization<br>Mission Cost (billion USD)=%{x}<br>Mission Success (%)=%{y}<extra></extra>",
         "legendgroup": "MSN-0099, Colonization",
         "marker": {
          "color": "#FF97FF",
          "symbol": "circle"
         },
         "mode": "markers",
         "name": "MSN-0099, Colonization",
         "orientation": "v",
         "showlegend": true,
         "type": "scatter",
         "x": [
          283.51
         ],
         "xaxis": "x",
         "y": [
          96.1
         ],
         "yaxis": "y"
        },
        {
         "hovertemplate": "Mission ID=MSN-0100<br>Mission Type=Research<br>Mission Cost (billion USD)=%{x}<br>Mission Success (%)=%{y}<extra></extra>",
         "legendgroup": "MSN-0100, Research",
         "marker": {
          "color": "#FECB52",
          "symbol": "x"
         },
         "mode": "markers",
         "name": "MSN-0100, Research",
         "orientation": "v",
         "showlegend": true,
         "type": "scatter",
         "x": [
          310.28
         ],
         "xaxis": "x",
         "y": [
          100
         ],
         "yaxis": "y"
        },
        {
         "hovertemplate": "Mission ID=MSN-0101<br>Mission Type=Exploration<br>Mission Cost (billion USD)=%{x}<br>Mission Success (%)=%{y}<extra></extra>",
         "legendgroup": "MSN-0101, Exploration",
         "marker": {
          "color": "#636efa",
          "symbol": "diamond"
         },
         "mode": "markers",
         "name": "MSN-0101, Exploration",
         "orientation": "v",
         "showlegend": true,
         "type": "scatter",
         "x": [
          123.33
         ],
         "xaxis": "x",
         "y": [
          82.3
         ],
         "yaxis": "y"
        },
        {
         "hovertemplate": "Mission ID=MSN-0102<br>Mission Type=Exploration<br>Mission Cost (billion USD)=%{x}<br>Mission Success (%)=%{y}<extra></extra>",
         "legendgroup": "MSN-0102, Exploration",
         "marker": {
          "color": "#EF553B",
          "symbol": "diamond"
         },
         "mode": "markers",
         "name": "MSN-0102, Exploration",
         "orientation": "v",
         "showlegend": true,
         "type": "scatter",
         "x": [
          360.96
         ],
         "xaxis": "x",
         "y": [
          100
         ],
         "yaxis": "y"
        },
        {
         "hovertemplate": "Mission ID=MSN-0103<br>Mission Type=Exploration<br>Mission Cost (billion USD)=%{x}<br>Mission Success (%)=%{y}<extra></extra>",
         "legendgroup": "MSN-0103, Exploration",
         "marker": {
          "color": "#00cc96",
          "symbol": "diamond"
         },
         "mode": "markers",
         "name": "MSN-0103, Exploration",
         "orientation": "v",
         "showlegend": true,
         "type": "scatter",
         "x": [
          329.2
         ],
         "xaxis": "x",
         "y": [
          100
         ],
         "yaxis": "y"
        },
        {
         "hovertemplate": "Mission ID=MSN-0104<br>Mission Type=Research<br>Mission Cost (billion USD)=%{x}<br>Mission Success (%)=%{y}<extra></extra>",
         "legendgroup": "MSN-0104, Research",
         "marker": {
          "color": "#ab63fa",
          "symbol": "x"
         },
         "mode": "markers",
         "name": "MSN-0104, Research",
         "orientation": "v",
         "showlegend": true,
         "type": "scatter",
         "x": [
          114.85
         ],
         "xaxis": "x",
         "y": [
          74.5
         ],
         "yaxis": "y"
        },
        {
         "hovertemplate": "Mission ID=MSN-0105<br>Mission Type=Research<br>Mission Cost (billion USD)=%{x}<br>Mission Success (%)=%{y}<extra></extra>",
         "legendgroup": "MSN-0105, Research",
         "marker": {
          "color": "#FFA15A",
          "symbol": "x"
         },
         "mode": "markers",
         "name": "MSN-0105, Research",
         "orientation": "v",
         "showlegend": true,
         "type": "scatter",
         "x": [
          67.64
         ],
         "xaxis": "x",
         "y": [
          79.7
         ],
         "yaxis": "y"
        },
        {
         "hovertemplate": "Mission ID=MSN-0106<br>Mission Type=Colonization<br>Mission Cost (billion USD)=%{x}<br>Mission Success (%)=%{y}<extra></extra>",
         "legendgroup": "MSN-0106, Colonization",
         "marker": {
          "color": "#19d3f3",
          "symbol": "circle"
         },
         "mode": "markers",
         "name": "MSN-0106, Colonization",
         "orientation": "v",
         "showlegend": true,
         "type": "scatter",
         "x": [
          331.48
         ],
         "xaxis": "x",
         "y": [
          100
         ],
         "yaxis": "y"
        },
        {
         "hovertemplate": "Mission ID=MSN-0107<br>Mission Type=Colonization<br>Mission Cost (billion USD)=%{x}<br>Mission Success (%)=%{y}<extra></extra>",
         "legendgroup": "MSN-0107, Colonization",
         "marker": {
          "color": "#FF6692",
          "symbol": "circle"
         },
         "mode": "markers",
         "name": "MSN-0107, Colonization",
         "orientation": "v",
         "showlegend": true,
         "type": "scatter",
         "x": [
          417.23
         ],
         "xaxis": "x",
         "y": [
          100
         ],
         "yaxis": "y"
        },
        {
         "hovertemplate": "Mission ID=MSN-0108<br>Mission Type=Colonization<br>Mission Cost (billion USD)=%{x}<br>Mission Success (%)=%{y}<extra></extra>",
         "legendgroup": "MSN-0108, Colonization",
         "marker": {
          "color": "#B6E880",
          "symbol": "circle"
         },
         "mode": "markers",
         "name": "MSN-0108, Colonization",
         "orientation": "v",
         "showlegend": true,
         "type": "scatter",
         "x": [
          298.55
         ],
         "xaxis": "x",
         "y": [
          96.2
         ],
         "yaxis": "y"
        },
        {
         "hovertemplate": "Mission ID=MSN-0109<br>Mission Type=Mining<br>Mission Cost (billion USD)=%{x}<br>Mission Success (%)=%{y}<extra></extra>",
         "legendgroup": "MSN-0109, Mining",
         "marker": {
          "color": "#FF97FF",
          "symbol": "square"
         },
         "mode": "markers",
         "name": "MSN-0109, Mining",
         "orientation": "v",
         "showlegend": true,
         "type": "scatter",
         "x": [
          149.06
         ],
         "xaxis": "x",
         "y": [
          93.6
         ],
         "yaxis": "y"
        },
        {
         "hovertemplate": "Mission ID=MSN-0110<br>Mission Type=Exploration<br>Mission Cost (billion USD)=%{x}<br>Mission Success (%)=%{y}<extra></extra>",
         "legendgroup": "MSN-0110, Exploration",
         "marker": {
          "color": "#FECB52",
          "symbol": "diamond"
         },
         "mode": "markers",
         "name": "MSN-0110, Exploration",
         "orientation": "v",
         "showlegend": true,
         "type": "scatter",
         "x": [
          348.99
         ],
         "xaxis": "x",
         "y": [
          100
         ],
         "yaxis": "y"
        },
        {
         "hovertemplate": "Mission ID=MSN-0111<br>Mission Type=Exploration<br>Mission Cost (billion USD)=%{x}<br>Mission Success (%)=%{y}<extra></extra>",
         "legendgroup": "MSN-0111, Exploration",
         "marker": {
          "color": "#636efa",
          "symbol": "diamond"
         },
         "mode": "markers",
         "name": "MSN-0111, Exploration",
         "orientation": "v",
         "showlegend": true,
         "type": "scatter",
         "x": [
          47.56
         ],
         "xaxis": "x",
         "y": [
          71.1
         ],
         "yaxis": "y"
        },
        {
         "hovertemplate": "Mission ID=MSN-0112<br>Mission Type=Colonization<br>Mission Cost (billion USD)=%{x}<br>Mission Success (%)=%{y}<extra></extra>",
         "legendgroup": "MSN-0112, Colonization",
         "marker": {
          "color": "#EF553B",
          "symbol": "circle"
         },
         "mode": "markers",
         "name": "MSN-0112, Colonization",
         "orientation": "v",
         "showlegend": true,
         "type": "scatter",
         "x": [
          247.02
         ],
         "xaxis": "x",
         "y": [
          88
         ],
         "yaxis": "y"
        },
        {
         "hovertemplate": "Mission ID=MSN-0113<br>Mission Type=Exploration<br>Mission Cost (billion USD)=%{x}<br>Mission Success (%)=%{y}<extra></extra>",
         "legendgroup": "MSN-0113, Exploration",
         "marker": {
          "color": "#00cc96",
          "symbol": "diamond"
         },
         "mode": "markers",
         "name": "MSN-0113, Exploration",
         "orientation": "v",
         "showlegend": true,
         "type": "scatter",
         "x": [
          130.51
         ],
         "xaxis": "x",
         "y": [
          81.1
         ],
         "yaxis": "y"
        },
        {
         "hovertemplate": "Mission ID=MSN-0114<br>Mission Type=Colonization<br>Mission Cost (billion USD)=%{x}<br>Mission Success (%)=%{y}<extra></extra>",
         "legendgroup": "MSN-0114, Colonization",
         "marker": {
          "color": "#ab63fa",
          "symbol": "circle"
         },
         "mode": "markers",
         "name": "MSN-0114, Colonization",
         "orientation": "v",
         "showlegend": true,
         "type": "scatter",
         "x": [
          125.21
         ],
         "xaxis": "x",
         "y": [
          84.7
         ],
         "yaxis": "y"
        },
        {
         "hovertemplate": "Mission ID=MSN-0115<br>Mission Type=Mining<br>Mission Cost (billion USD)=%{x}<br>Mission Success (%)=%{y}<extra></extra>",
         "legendgroup": "MSN-0115, Mining",
         "marker": {
          "color": "#FFA15A",
          "symbol": "square"
         },
         "mode": "markers",
         "name": "MSN-0115, Mining",
         "orientation": "v",
         "showlegend": true,
         "type": "scatter",
         "x": [
          146.94
         ],
         "xaxis": "x",
         "y": [
          85.9
         ],
         "yaxis": "y"
        },
        {
         "hovertemplate": "Mission ID=MSN-0116<br>Mission Type=Mining<br>Mission Cost (billion USD)=%{x}<br>Mission Success (%)=%{y}<extra></extra>",
         "legendgroup": "MSN-0116, Mining",
         "marker": {
          "color": "#19d3f3",
          "symbol": "square"
         },
         "mode": "markers",
         "name": "MSN-0116, Mining",
         "orientation": "v",
         "showlegend": true,
         "type": "scatter",
         "x": [
          245.99
         ],
         "xaxis": "x",
         "y": [
          100
         ],
         "yaxis": "y"
        },
        {
         "hovertemplate": "Mission ID=MSN-0117<br>Mission Type=Research<br>Mission Cost (billion USD)=%{x}<br>Mission Success (%)=%{y}<extra></extra>",
         "legendgroup": "MSN-0117, Research",
         "marker": {
          "color": "#FF6692",
          "symbol": "x"
         },
         "mode": "markers",
         "name": "MSN-0117, Research",
         "orientation": "v",
         "showlegend": true,
         "type": "scatter",
         "x": [
          39.32
         ],
         "xaxis": "x",
         "y": [
          77.9
         ],
         "yaxis": "y"
        },
        {
         "hovertemplate": "Mission ID=MSN-0118<br>Mission Type=Mining<br>Mission Cost (billion USD)=%{x}<br>Mission Success (%)=%{y}<extra></extra>",
         "legendgroup": "MSN-0118, Mining",
         "marker": {
          "color": "#B6E880",
          "symbol": "square"
         },
         "mode": "markers",
         "name": "MSN-0118, Mining",
         "orientation": "v",
         "showlegend": true,
         "type": "scatter",
         "x": [
          236.8
         ],
         "xaxis": "x",
         "y": [
          98.5
         ],
         "yaxis": "y"
        },
        {
         "hovertemplate": "Mission ID=MSN-0119<br>Mission Type=Colonization<br>Mission Cost (billion USD)=%{x}<br>Mission Success (%)=%{y}<extra></extra>",
         "legendgroup": "MSN-0119, Colonization",
         "marker": {
          "color": "#FF97FF",
          "symbol": "circle"
         },
         "mode": "markers",
         "name": "MSN-0119, Colonization",
         "orientation": "v",
         "showlegend": true,
         "type": "scatter",
         "x": [
          292.34
         ],
         "xaxis": "x",
         "y": [
          100
         ],
         "yaxis": "y"
        },
        {
         "hovertemplate": "Mission ID=MSN-0120<br>Mission Type=Mining<br>Mission Cost (billion USD)=%{x}<br>Mission Success (%)=%{y}<extra></extra>",
         "legendgroup": "MSN-0120, Mining",
         "marker": {
          "color": "#FECB52",
          "symbol": "square"
         },
         "mode": "markers",
         "name": "MSN-0120, Mining",
         "orientation": "v",
         "showlegend": true,
         "type": "scatter",
         "x": [
          293.27
         ],
         "xaxis": "x",
         "y": [
          92.4
         ],
         "yaxis": "y"
        },
        {
         "hovertemplate": "Mission ID=MSN-0121<br>Mission Type=Research<br>Mission Cost (billion USD)=%{x}<br>Mission Success (%)=%{y}<extra></extra>",
         "legendgroup": "MSN-0121, Research",
         "marker": {
          "color": "#636efa",
          "symbol": "x"
         },
         "mode": "markers",
         "name": "MSN-0121, Research",
         "orientation": "v",
         "showlegend": true,
         "type": "scatter",
         "x": [
          243.79
         ],
         "xaxis": "x",
         "y": [
          93.4
         ],
         "yaxis": "y"
        },
        {
         "hovertemplate": "Mission ID=MSN-0122<br>Mission Type=Exploration<br>Mission Cost (billion USD)=%{x}<br>Mission Success (%)=%{y}<extra></extra>",
         "legendgroup": "MSN-0122, Exploration",
         "marker": {
          "color": "#EF553B",
          "symbol": "diamond"
         },
         "mode": "markers",
         "name": "MSN-0122, Exploration",
         "orientation": "v",
         "showlegend": true,
         "type": "scatter",
         "x": [
          455.05
         ],
         "xaxis": "x",
         "y": [
          100
         ],
         "yaxis": "y"
        },
        {
         "hovertemplate": "Mission ID=MSN-0123<br>Mission Type=Colonization<br>Mission Cost (billion USD)=%{x}<br>Mission Success (%)=%{y}<extra></extra>",
         "legendgroup": "MSN-0123, Colonization",
         "marker": {
          "color": "#00cc96",
          "symbol": "circle"
         },
         "mode": "markers",
         "name": "MSN-0123, Colonization",
         "orientation": "v",
         "showlegend": true,
         "type": "scatter",
         "x": [
          89.89
         ],
         "xaxis": "x",
         "y": [
          78.7
         ],
         "yaxis": "y"
        },
        {
         "hovertemplate": "Mission ID=MSN-0124<br>Mission Type=Exploration<br>Mission Cost (billion USD)=%{x}<br>Mission Success (%)=%{y}<extra></extra>",
         "legendgroup": "MSN-0124, Exploration",
         "marker": {
          "color": "#ab63fa",
          "symbol": "diamond"
         },
         "mode": "markers",
         "name": "MSN-0124, Exploration",
         "orientation": "v",
         "showlegend": true,
         "type": "scatter",
         "x": [
          295.43
         ],
         "xaxis": "x",
         "y": [
          100
         ],
         "yaxis": "y"
        },
        {
         "hovertemplate": "Mission ID=MSN-0125<br>Mission Type=Research<br>Mission Cost (billion USD)=%{x}<br>Mission Success (%)=%{y}<extra></extra>",
         "legendgroup": "MSN-0125, Research",
         "marker": {
          "color": "#FFA15A",
          "symbol": "x"
         },
         "mode": "markers",
         "name": "MSN-0125, Research",
         "orientation": "v",
         "showlegend": true,
         "type": "scatter",
         "x": [
          41.94
         ],
         "xaxis": "x",
         "y": [
          72.6
         ],
         "yaxis": "y"
        },
        {
         "hovertemplate": "Mission ID=MSN-0126<br>Mission Type=Research<br>Mission Cost (billion USD)=%{x}<br>Mission Success (%)=%{y}<extra></extra>",
         "legendgroup": "MSN-0126, Research",
         "marker": {
          "color": "#19d3f3",
          "symbol": "x"
         },
         "mode": "markers",
         "name": "MSN-0126, Research",
         "orientation": "v",
         "showlegend": true,
         "type": "scatter",
         "x": [
          79.45
         ],
         "xaxis": "x",
         "y": [
          72.8
         ],
         "yaxis": "y"
        },
        {
         "hovertemplate": "Mission ID=MSN-0127<br>Mission Type=Research<br>Mission Cost (billion USD)=%{x}<br>Mission Success (%)=%{y}<extra></extra>",
         "legendgroup": "MSN-0127, Research",
         "marker": {
          "color": "#FF6692",
          "symbol": "x"
         },
         "mode": "markers",
         "name": "MSN-0127, Research",
         "orientation": "v",
         "showlegend": true,
         "type": "scatter",
         "x": [
          334.65
         ],
         "xaxis": "x",
         "y": [
          100
         ],
         "yaxis": "y"
        },
        {
         "hovertemplate": "Mission ID=MSN-0128<br>Mission Type=Exploration<br>Mission Cost (billion USD)=%{x}<br>Mission Success (%)=%{y}<extra></extra>",
         "legendgroup": "MSN-0128, Exploration",
         "marker": {
          "color": "#B6E880",
          "symbol": "diamond"
         },
         "mode": "markers",
         "name": "MSN-0128, Exploration",
         "orientation": "v",
         "showlegend": true,
         "type": "scatter",
         "x": [
          304.96
         ],
         "xaxis": "x",
         "y": [
          100
         ],
         "yaxis": "y"
        },
        {
         "hovertemplate": "Mission ID=MSN-0129<br>Mission Type=Exploration<br>Mission Cost (billion USD)=%{x}<br>Mission Success (%)=%{y}<extra></extra>",
         "legendgroup": "MSN-0129, Exploration",
         "marker": {
          "color": "#FF97FF",
          "symbol": "diamond"
         },
         "mode": "markers",
         "name": "MSN-0129, Exploration",
         "orientation": "v",
         "showlegend": true,
         "type": "scatter",
         "x": [
          471.55
         ],
         "xaxis": "x",
         "y": [
          100
         ],
         "yaxis": "y"
        },
        {
         "hovertemplate": "Mission ID=MSN-0130<br>Mission Type=Exploration<br>Mission Cost (billion USD)=%{x}<br>Mission Success (%)=%{y}<extra></extra>",
         "legendgroup": "MSN-0130, Exploration",
         "marker": {
          "color": "#FECB52",
          "symbol": "diamond"
         },
         "mode": "markers",
         "name": "MSN-0130, Exploration",
         "orientation": "v",
         "showlegend": true,
         "type": "scatter",
         "x": [
          303.23
         ],
         "xaxis": "x",
         "y": [
          99.1
         ],
         "yaxis": "y"
        },
        {
         "hovertemplate": "Mission ID=MSN-0131<br>Mission Type=Exploration<br>Mission Cost (billion USD)=%{x}<br>Mission Success (%)=%{y}<extra></extra>",
         "legendgroup": "MSN-0131, Exploration",
         "marker": {
          "color": "#636efa",
          "symbol": "diamond"
         },
         "mode": "markers",
         "name": "MSN-0131, Exploration",
         "orientation": "v",
         "showlegend": true,
         "type": "scatter",
         "x": [
          502.55
         ],
         "xaxis": "x",
         "y": [
          100
         ],
         "yaxis": "y"
        },
        {
         "hovertemplate": "Mission ID=MSN-0132<br>Mission Type=Research<br>Mission Cost (billion USD)=%{x}<br>Mission Success (%)=%{y}<extra></extra>",
         "legendgroup": "MSN-0132, Research",
         "marker": {
          "color": "#EF553B",
          "symbol": "x"
         },
         "mode": "markers",
         "name": "MSN-0132, Research",
         "orientation": "v",
         "showlegend": true,
         "type": "scatter",
         "x": [
          45.31
         ],
         "xaxis": "x",
         "y": [
          80.1
         ],
         "yaxis": "y"
        },
        {
         "hovertemplate": "Mission ID=MSN-0133<br>Mission Type=Research<br>Mission Cost (billion USD)=%{x}<br>Mission Success (%)=%{y}<extra></extra>",
         "legendgroup": "MSN-0133, Research",
         "marker": {
          "color": "#00cc96",
          "symbol": "x"
         },
         "mode": "markers",
         "name": "MSN-0133, Research",
         "orientation": "v",
         "showlegend": true,
         "type": "scatter",
         "x": [
          91.84
         ],
         "xaxis": "x",
         "y": [
          77.7
         ],
         "yaxis": "y"
        },
        {
         "hovertemplate": "Mission ID=MSN-0134<br>Mission Type=Colonization<br>Mission Cost (billion USD)=%{x}<br>Mission Success (%)=%{y}<extra></extra>",
         "legendgroup": "MSN-0134, Colonization",
         "marker": {
          "color": "#ab63fa",
          "symbol": "circle"
         },
         "mode": "markers",
         "name": "MSN-0134, Colonization",
         "orientation": "v",
         "showlegend": true,
         "type": "scatter",
         "x": [
          73.67
         ],
         "xaxis": "x",
         "y": [
          84.6
         ],
         "yaxis": "y"
        },
        {
         "hovertemplate": "Mission ID=MSN-0135<br>Mission Type=Colonization<br>Mission Cost (billion USD)=%{x}<br>Mission Success (%)=%{y}<extra></extra>",
         "legendgroup": "MSN-0135, Colonization",
         "marker": {
          "color": "#FFA15A",
          "symbol": "circle"
         },
         "mode": "markers",
         "name": "MSN-0135, Colonization",
         "orientation": "v",
         "showlegend": true,
         "type": "scatter",
         "x": [
          143.8
         ],
         "xaxis": "x",
         "y": [
          92
         ],
         "yaxis": "y"
        },
        {
         "hovertemplate": "Mission ID=MSN-0136<br>Mission Type=Exploration<br>Mission Cost (billion USD)=%{x}<br>Mission Success (%)=%{y}<extra></extra>",
         "legendgroup": "MSN-0136, Exploration",
         "marker": {
          "color": "#19d3f3",
          "symbol": "diamond"
         },
         "mode": "markers",
         "name": "MSN-0136, Exploration",
         "orientation": "v",
         "showlegend": true,
         "type": "scatter",
         "x": [
          282.51
         ],
         "xaxis": "x",
         "y": [
          97.8
         ],
         "yaxis": "y"
        },
        {
         "hovertemplate": "Mission ID=MSN-0137<br>Mission Type=Mining<br>Mission Cost (billion USD)=%{x}<br>Mission Success (%)=%{y}<extra></extra>",
         "legendgroup": "MSN-0137, Mining",
         "marker": {
          "color": "#FF6692",
          "symbol": "square"
         },
         "mode": "markers",
         "name": "MSN-0137, Mining",
         "orientation": "v",
         "showlegend": true,
         "type": "scatter",
         "x": [
          368.41
         ],
         "xaxis": "x",
         "y": [
          100
         ],
         "yaxis": "y"
        },
        {
         "hovertemplate": "Mission ID=MSN-0138<br>Mission Type=Mining<br>Mission Cost (billion USD)=%{x}<br>Mission Success (%)=%{y}<extra></extra>",
         "legendgroup": "MSN-0138, Mining",
         "marker": {
          "color": "#B6E880",
          "symbol": "square"
         },
         "mode": "markers",
         "name": "MSN-0138, Mining",
         "orientation": "v",
         "showlegend": true,
         "type": "scatter",
         "x": [
          64.68
         ],
         "xaxis": "x",
         "y": [
          66
         ],
         "yaxis": "y"
        },
        {
         "hovertemplate": "Mission ID=MSN-0139<br>Mission Type=Research<br>Mission Cost (billion USD)=%{x}<br>Mission Success (%)=%{y}<extra></extra>",
         "legendgroup": "MSN-0139, Research",
         "marker": {
          "color": "#FF97FF",
          "symbol": "x"
         },
         "mode": "markers",
         "name": "MSN-0139, Research",
         "orientation": "v",
         "showlegend": true,
         "type": "scatter",
         "x": [
          486.64
         ],
         "xaxis": "x",
         "y": [
          100
         ],
         "yaxis": "y"
        },
        {
         "hovertemplate": "Mission ID=MSN-0140<br>Mission Type=Research<br>Mission Cost (billion USD)=%{x}<br>Mission Success (%)=%{y}<extra></extra>",
         "legendgroup": "MSN-0140, Research",
         "marker": {
          "color": "#FECB52",
          "symbol": "x"
         },
         "mode": "markers",
         "name": "MSN-0140, Research",
         "orientation": "v",
         "showlegend": true,
         "type": "scatter",
         "x": [
          426.15
         ],
         "xaxis": "x",
         "y": [
          100
         ],
         "yaxis": "y"
        },
        {
         "hovertemplate": "Mission ID=MSN-0141<br>Mission Type=Research<br>Mission Cost (billion USD)=%{x}<br>Mission Success (%)=%{y}<extra></extra>",
         "legendgroup": "MSN-0141, Research",
         "marker": {
          "color": "#636efa",
          "symbol": "x"
         },
         "mode": "markers",
         "name": "MSN-0141, Research",
         "orientation": "v",
         "showlegend": true,
         "type": "scatter",
         "x": [
          165.93
         ],
         "xaxis": "x",
         "y": [
          93.5
         ],
         "yaxis": "y"
        },
        {
         "hovertemplate": "Mission ID=MSN-0142<br>Mission Type=Colonization<br>Mission Cost (billion USD)=%{x}<br>Mission Success (%)=%{y}<extra></extra>",
         "legendgroup": "MSN-0142, Colonization",
         "marker": {
          "color": "#EF553B",
          "symbol": "circle"
         },
         "mode": "markers",
         "name": "MSN-0142, Colonization",
         "orientation": "v",
         "showlegend": true,
         "type": "scatter",
         "x": [
          88.9
         ],
         "xaxis": "x",
         "y": [
          79.5
         ],
         "yaxis": "y"
        },
        {
         "hovertemplate": "Mission ID=MSN-0143<br>Mission Type=Colonization<br>Mission Cost (billion USD)=%{x}<br>Mission Success (%)=%{y}<extra></extra>",
         "legendgroup": "MSN-0143, Colonization",
         "marker": {
          "color": "#00cc96",
          "symbol": "circle"
         },
         "mode": "markers",
         "name": "MSN-0143, Colonization",
         "orientation": "v",
         "showlegend": true,
         "type": "scatter",
         "x": [
          121.13
         ],
         "xaxis": "x",
         "y": [
          84.1
         ],
         "yaxis": "y"
        },
        {
         "hovertemplate": "Mission ID=MSN-0144<br>Mission Type=Research<br>Mission Cost (billion USD)=%{x}<br>Mission Success (%)=%{y}<extra></extra>",
         "legendgroup": "MSN-0144, Research",
         "marker": {
          "color": "#ab63fa",
          "symbol": "x"
         },
         "mode": "markers",
         "name": "MSN-0144, Research",
         "orientation": "v",
         "showlegend": true,
         "type": "scatter",
         "x": [
          104.18
         ],
         "xaxis": "x",
         "y": [
          69.3
         ],
         "yaxis": "y"
        },
        {
         "hovertemplate": "Mission ID=MSN-0145<br>Mission Type=Research<br>Mission Cost (billion USD)=%{x}<br>Mission Success (%)=%{y}<extra></extra>",
         "legendgroup": "MSN-0145, Research",
         "marker": {
          "color": "#FFA15A",
          "symbol": "x"
         },
         "mode": "markers",
         "name": "MSN-0145, Research",
         "orientation": "v",
         "showlegend": true,
         "type": "scatter",
         "x": [
          79.65
         ],
         "xaxis": "x",
         "y": [
          72
         ],
         "yaxis": "y"
        },
        {
         "hovertemplate": "Mission ID=MSN-0146<br>Mission Type=Research<br>Mission Cost (billion USD)=%{x}<br>Mission Success (%)=%{y}<extra></extra>",
         "legendgroup": "MSN-0146, Research",
         "marker": {
          "color": "#19d3f3",
          "symbol": "x"
         },
         "mode": "markers",
         "name": "MSN-0146, Research",
         "orientation": "v",
         "showlegend": true,
         "type": "scatter",
         "x": [
          297.95
         ],
         "xaxis": "x",
         "y": [
          100
         ],
         "yaxis": "y"
        },
        {
         "hovertemplate": "Mission ID=MSN-0147<br>Mission Type=Mining<br>Mission Cost (billion USD)=%{x}<br>Mission Success (%)=%{y}<extra></extra>",
         "legendgroup": "MSN-0147, Mining",
         "marker": {
          "color": "#FF6692",
          "symbol": "square"
         },
         "mode": "markers",
         "name": "MSN-0147, Mining",
         "orientation": "v",
         "showlegend": true,
         "type": "scatter",
         "x": [
          129.08
         ],
         "xaxis": "x",
         "y": [
          84.3
         ],
         "yaxis": "y"
        },
        {
         "hovertemplate": "Mission ID=MSN-0148<br>Mission Type=Colonization<br>Mission Cost (billion USD)=%{x}<br>Mission Success (%)=%{y}<extra></extra>",
         "legendgroup": "MSN-0148, Colonization",
         "marker": {
          "color": "#B6E880",
          "symbol": "circle"
         },
         "mode": "markers",
         "name": "MSN-0148, Colonization",
         "orientation": "v",
         "showlegend": true,
         "type": "scatter",
         "x": [
          201.69
         ],
         "xaxis": "x",
         "y": [
          89.4
         ],
         "yaxis": "y"
        },
        {
         "hovertemplate": "Mission ID=MSN-0149<br>Mission Type=Mining<br>Mission Cost (billion USD)=%{x}<br>Mission Success (%)=%{y}<extra></extra>",
         "legendgroup": "MSN-0149, Mining",
         "marker": {
          "color": "#FF97FF",
          "symbol": "square"
         },
         "mode": "markers",
         "name": "MSN-0149, Mining",
         "orientation": "v",
         "showlegend": true,
         "type": "scatter",
         "x": [
          526.51
         ],
         "xaxis": "x",
         "y": [
          100
         ],
         "yaxis": "y"
        },
        {
         "hovertemplate": "Mission ID=MSN-0150<br>Mission Type=Mining<br>Mission Cost (billion USD)=%{x}<br>Mission Success (%)=%{y}<extra></extra>",
         "legendgroup": "MSN-0150, Mining",
         "marker": {
          "color": "#FECB52",
          "symbol": "square"
         },
         "mode": "markers",
         "name": "MSN-0150, Mining",
         "orientation": "v",
         "showlegend": true,
         "type": "scatter",
         "x": [
          351.91
         ],
         "xaxis": "x",
         "y": [
          100
         ],
         "yaxis": "y"
        },
        {
         "hovertemplate": "Mission ID=MSN-0151<br>Mission Type=Research<br>Mission Cost (billion USD)=%{x}<br>Mission Success (%)=%{y}<extra></extra>",
         "legendgroup": "MSN-0151, Research",
         "marker": {
          "color": "#636efa",
          "symbol": "x"
         },
         "mode": "markers",
         "name": "MSN-0151, Research",
         "orientation": "v",
         "showlegend": true,
         "type": "scatter",
         "x": [
          516.08
         ],
         "xaxis": "x",
         "y": [
          100
         ],
         "yaxis": "y"
        },
        {
         "hovertemplate": "Mission ID=MSN-0152<br>Mission Type=Research<br>Mission Cost (billion USD)=%{x}<br>Mission Success (%)=%{y}<extra></extra>",
         "legendgroup": "MSN-0152, Research",
         "marker": {
          "color": "#EF553B",
          "symbol": "x"
         },
         "mode": "markers",
         "name": "MSN-0152, Research",
         "orientation": "v",
         "showlegend": true,
         "type": "scatter",
         "x": [
          88.07
         ],
         "xaxis": "x",
         "y": [
          79.2
         ],
         "yaxis": "y"
        },
        {
         "hovertemplate": "Mission ID=MSN-0153<br>Mission Type=Exploration<br>Mission Cost (billion USD)=%{x}<br>Mission Success (%)=%{y}<extra></extra>",
         "legendgroup": "MSN-0153, Exploration",
         "marker": {
          "color": "#00cc96",
          "symbol": "diamond"
         },
         "mode": "markers",
         "name": "MSN-0153, Exploration",
         "orientation": "v",
         "showlegend": true,
         "type": "scatter",
         "x": [
          227.11
         ],
         "xaxis": "x",
         "y": [
          93.7
         ],
         "yaxis": "y"
        },
        {
         "hovertemplate": "Mission ID=MSN-0154<br>Mission Type=Exploration<br>Mission Cost (billion USD)=%{x}<br>Mission Success (%)=%{y}<extra></extra>",
         "legendgroup": "MSN-0154, Exploration",
         "marker": {
          "color": "#ab63fa",
          "symbol": "diamond"
         },
         "mode": "markers",
         "name": "MSN-0154, Exploration",
         "orientation": "v",
         "showlegend": true,
         "type": "scatter",
         "x": [
          300.45
         ],
         "xaxis": "x",
         "y": [
          100
         ],
         "yaxis": "y"
        },
        {
         "hovertemplate": "Mission ID=MSN-0155<br>Mission Type=Mining<br>Mission Cost (billion USD)=%{x}<br>Mission Success (%)=%{y}<extra></extra>",
         "legendgroup": "MSN-0155, Mining",
         "marker": {
          "color": "#FFA15A",
          "symbol": "square"
         },
         "mode": "markers",
         "name": "MSN-0155, Mining",
         "orientation": "v",
         "showlegend": true,
         "type": "scatter",
         "x": [
          73.21
         ],
         "xaxis": "x",
         "y": [
          66.8
         ],
         "yaxis": "y"
        },
        {
         "hovertemplate": "Mission ID=MSN-0156<br>Mission Type=Colonization<br>Mission Cost (billion USD)=%{x}<br>Mission Success (%)=%{y}<extra></extra>",
         "legendgroup": "MSN-0156, Colonization",
         "marker": {
          "color": "#19d3f3",
          "symbol": "circle"
         },
         "mode": "markers",
         "name": "MSN-0156, Colonization",
         "orientation": "v",
         "showlegend": true,
         "type": "scatter",
         "x": [
          13.32
         ],
         "xaxis": "x",
         "y": [
          74.7
         ],
         "yaxis": "y"
        },
        {
         "hovertemplate": "Mission ID=MSN-0157<br>Mission Type=Research<br>Mission Cost (billion USD)=%{x}<br>Mission Success (%)=%{y}<extra></extra>",
         "legendgroup": "MSN-0157, Research",
         "marker": {
          "color": "#FF6692",
          "symbol": "x"
         },
         "mode": "markers",
         "name": "MSN-0157, Research",
         "orientation": "v",
         "showlegend": true,
         "type": "scatter",
         "x": [
          338.68
         ],
         "xaxis": "x",
         "y": [
          100
         ],
         "yaxis": "y"
        },
        {
         "hovertemplate": "Mission ID=MSN-0158<br>Mission Type=Research<br>Mission Cost (billion USD)=%{x}<br>Mission Success (%)=%{y}<extra></extra>",
         "legendgroup": "MSN-0158, Research",
         "marker": {
          "color": "#B6E880",
          "symbol": "x"
         },
         "mode": "markers",
         "name": "MSN-0158, Research",
         "orientation": "v",
         "showlegend": true,
         "type": "scatter",
         "x": [
          368.27
         ],
         "xaxis": "x",
         "y": [
          100
         ],
         "yaxis": "y"
        },
        {
         "hovertemplate": "Mission ID=MSN-0159<br>Mission Type=Mining<br>Mission Cost (billion USD)=%{x}<br>Mission Success (%)=%{y}<extra></extra>",
         "legendgroup": "MSN-0159, Mining",
         "marker": {
          "color": "#FF97FF",
          "symbol": "square"
         },
         "mode": "markers",
         "name": "MSN-0159, Mining",
         "orientation": "v",
         "showlegend": true,
         "type": "scatter",
         "x": [
          222.56
         ],
         "xaxis": "x",
         "y": [
          89
         ],
         "yaxis": "y"
        },
        {
         "hovertemplate": "Mission ID=MSN-0160<br>Mission Type=Exploration<br>Mission Cost (billion USD)=%{x}<br>Mission Success (%)=%{y}<extra></extra>",
         "legendgroup": "MSN-0160, Exploration",
         "marker": {
          "color": "#FECB52",
          "symbol": "diamond"
         },
         "mode": "markers",
         "name": "MSN-0160, Exploration",
         "orientation": "v",
         "showlegend": true,
         "type": "scatter",
         "x": [
          288.51
         ],
         "xaxis": "x",
         "y": [
          98.6
         ],
         "yaxis": "y"
        },
        {
         "hovertemplate": "Mission ID=MSN-0161<br>Mission Type=Colonization<br>Mission Cost (billion USD)=%{x}<br>Mission Success (%)=%{y}<extra></extra>",
         "legendgroup": "MSN-0161, Colonization",
         "marker": {
          "color": "#636efa",
          "symbol": "circle"
         },
         "mode": "markers",
         "name": "MSN-0161, Colonization",
         "orientation": "v",
         "showlegend": true,
         "type": "scatter",
         "x": [
          260.62
         ],
         "xaxis": "x",
         "y": [
          99.6
         ],
         "yaxis": "y"
        },
        {
         "hovertemplate": "Mission ID=MSN-0162<br>Mission Type=Exploration<br>Mission Cost (billion USD)=%{x}<br>Mission Success (%)=%{y}<extra></extra>",
         "legendgroup": "MSN-0162, Exploration",
         "marker": {
          "color": "#EF553B",
          "symbol": "diamond"
         },
         "mode": "markers",
         "name": "MSN-0162, Exploration",
         "orientation": "v",
         "showlegend": true,
         "type": "scatter",
         "x": [
          28.26
         ],
         "xaxis": "x",
         "y": [
          88.4
         ],
         "yaxis": "y"
        },
        {
         "hovertemplate": "Mission ID=MSN-0163<br>Mission Type=Exploration<br>Mission Cost (billion USD)=%{x}<br>Mission Success (%)=%{y}<extra></extra>",
         "legendgroup": "MSN-0163, Exploration",
         "marker": {
          "color": "#00cc96",
          "symbol": "diamond"
         },
         "mode": "markers",
         "name": "MSN-0163, Exploration",
         "orientation": "v",
         "showlegend": true,
         "type": "scatter",
         "x": [
          184.99
         ],
         "xaxis": "x",
         "y": [
          92.5
         ],
         "yaxis": "y"
        },
        {
         "hovertemplate": "Mission ID=MSN-0164<br>Mission Type=Exploration<br>Mission Cost (billion USD)=%{x}<br>Mission Success (%)=%{y}<extra></extra>",
         "legendgroup": "MSN-0164, Exploration",
         "marker": {
          "color": "#ab63fa",
          "symbol": "diamond"
         },
         "mode": "markers",
         "name": "MSN-0164, Exploration",
         "orientation": "v",
         "showlegend": true,
         "type": "scatter",
         "x": [
          126.13
         ],
         "xaxis": "x",
         "y": [
          78.4
         ],
         "yaxis": "y"
        },
        {
         "hovertemplate": "Mission ID=MSN-0165<br>Mission Type=Exploration<br>Mission Cost (billion USD)=%{x}<br>Mission Success (%)=%{y}<extra></extra>",
         "legendgroup": "MSN-0165, Exploration",
         "marker": {
          "color": "#FFA15A",
          "symbol": "diamond"
         },
         "mode": "markers",
         "name": "MSN-0165, Exploration",
         "orientation": "v",
         "showlegend": true,
         "type": "scatter",
         "x": [
          102.01
         ],
         "xaxis": "x",
         "y": [
          78.1
         ],
         "yaxis": "y"
        },
        {
         "hovertemplate": "Mission ID=MSN-0166<br>Mission Type=Research<br>Mission Cost (billion USD)=%{x}<br>Mission Success (%)=%{y}<extra></extra>",
         "legendgroup": "MSN-0166, Research",
         "marker": {
          "color": "#19d3f3",
          "symbol": "x"
         },
         "mode": "markers",
         "name": "MSN-0166, Research",
         "orientation": "v",
         "showlegend": true,
         "type": "scatter",
         "x": [
          524.47
         ],
         "xaxis": "x",
         "y": [
          100
         ],
         "yaxis": "y"
        },
        {
         "hovertemplate": "Mission ID=MSN-0167<br>Mission Type=Research<br>Mission Cost (billion USD)=%{x}<br>Mission Success (%)=%{y}<extra></extra>",
         "legendgroup": "MSN-0167, Research",
         "marker": {
          "color": "#FF6692",
          "symbol": "x"
         },
         "mode": "markers",
         "name": "MSN-0167, Research",
         "orientation": "v",
         "showlegend": true,
         "type": "scatter",
         "x": [
          327.34
         ],
         "xaxis": "x",
         "y": [
          93.8
         ],
         "yaxis": "y"
        },
        {
         "hovertemplate": "Mission ID=MSN-0168<br>Mission Type=Exploration<br>Mission Cost (billion USD)=%{x}<br>Mission Success (%)=%{y}<extra></extra>",
         "legendgroup": "MSN-0168, Exploration",
         "marker": {
          "color": "#B6E880",
          "symbol": "diamond"
         },
         "mode": "markers",
         "name": "MSN-0168, Exploration",
         "orientation": "v",
         "showlegend": true,
         "type": "scatter",
         "x": [
          405.66
         ],
         "xaxis": "x",
         "y": [
          100
         ],
         "yaxis": "y"
        },
        {
         "hovertemplate": "Mission ID=MSN-0169<br>Mission Type=Colonization<br>Mission Cost (billion USD)=%{x}<br>Mission Success (%)=%{y}<extra></extra>",
         "legendgroup": "MSN-0169, Colonization",
         "marker": {
          "color": "#FF97FF",
          "symbol": "circle"
         },
         "mode": "markers",
         "name": "MSN-0169, Colonization",
         "orientation": "v",
         "showlegend": true,
         "type": "scatter",
         "x": [
          168.75
         ],
         "xaxis": "x",
         "y": [
          90.5
         ],
         "yaxis": "y"
        },
        {
         "hovertemplate": "Mission ID=MSN-0170<br>Mission Type=Mining<br>Mission Cost (billion USD)=%{x}<br>Mission Success (%)=%{y}<extra></extra>",
         "legendgroup": "MSN-0170, Mining",
         "marker": {
          "color": "#FECB52",
          "symbol": "square"
         },
         "mode": "markers",
         "name": "MSN-0170, Mining",
         "orientation": "v",
         "showlegend": true,
         "type": "scatter",
         "x": [
          248.49
         ],
         "xaxis": "x",
         "y": [
          88.5
         ],
         "yaxis": "y"
        },
        {
         "hovertemplate": "Mission ID=MSN-0171<br>Mission Type=Colonization<br>Mission Cost (billion USD)=%{x}<br>Mission Success (%)=%{y}<extra></extra>",
         "legendgroup": "MSN-0171, Colonization",
         "marker": {
          "color": "#636efa",
          "symbol": "circle"
         },
         "mode": "markers",
         "name": "MSN-0171, Colonization",
         "orientation": "v",
         "showlegend": true,
         "type": "scatter",
         "x": [
          170.55
         ],
         "xaxis": "x",
         "y": [
          92.3
         ],
         "yaxis": "y"
        },
        {
         "hovertemplate": "Mission ID=MSN-0172<br>Mission Type=Colonization<br>Mission Cost (billion USD)=%{x}<br>Mission Success (%)=%{y}<extra></extra>",
         "legendgroup": "MSN-0172, Colonization",
         "marker": {
          "color": "#EF553B",
          "symbol": "circle"
         },
         "mode": "markers",
         "name": "MSN-0172, Colonization",
         "orientation": "v",
         "showlegend": true,
         "type": "scatter",
         "x": [
          62.02
         ],
         "xaxis": "x",
         "y": [
          78.6
         ],
         "yaxis": "y"
        },
        {
         "hovertemplate": "Mission ID=MSN-0173<br>Mission Type=Colonization<br>Mission Cost (billion USD)=%{x}<br>Mission Success (%)=%{y}<extra></extra>",
         "legendgroup": "MSN-0173, Colonization",
         "marker": {
          "color": "#00cc96",
          "symbol": "circle"
         },
         "mode": "markers",
         "name": "MSN-0173, Colonization",
         "orientation": "v",
         "showlegend": true,
         "type": "scatter",
         "x": [
          109.27
         ],
         "xaxis": "x",
         "y": [
          77.3
         ],
         "yaxis": "y"
        },
        {
         "hovertemplate": "Mission ID=MSN-0174<br>Mission Type=Exploration<br>Mission Cost (billion USD)=%{x}<br>Mission Success (%)=%{y}<extra></extra>",
         "legendgroup": "MSN-0174, Exploration",
         "marker": {
          "color": "#ab63fa",
          "symbol": "diamond"
         },
         "mode": "markers",
         "name": "MSN-0174, Exploration",
         "orientation": "v",
         "showlegend": true,
         "type": "scatter",
         "x": [
          405.66
         ],
         "xaxis": "x",
         "y": [
          100
         ],
         "yaxis": "y"
        },
        {
         "hovertemplate": "Mission ID=MSN-0175<br>Mission Type=Research<br>Mission Cost (billion USD)=%{x}<br>Mission Success (%)=%{y}<extra></extra>",
         "legendgroup": "MSN-0175, Research",
         "marker": {
          "color": "#FFA15A",
          "symbol": "x"
         },
         "mode": "markers",
         "name": "MSN-0175, Research",
         "orientation": "v",
         "showlegend": true,
         "type": "scatter",
         "x": [
          354.71
         ],
         "xaxis": "x",
         "y": [
          100
         ],
         "yaxis": "y"
        },
        {
         "hovertemplate": "Mission ID=MSN-0176<br>Mission Type=Colonization<br>Mission Cost (billion USD)=%{x}<br>Mission Success (%)=%{y}<extra></extra>",
         "legendgroup": "MSN-0176, Colonization",
         "marker": {
          "color": "#19d3f3",
          "symbol": "circle"
         },
         "mode": "markers",
         "name": "MSN-0176, Colonization",
         "orientation": "v",
         "showlegend": true,
         "type": "scatter",
         "x": [
          316.73
         ],
         "xaxis": "x",
         "y": [
          100
         ],
         "yaxis": "y"
        },
        {
         "hovertemplate": "Mission ID=MSN-0177<br>Mission Type=Exploration<br>Mission Cost (billion USD)=%{x}<br>Mission Success (%)=%{y}<extra></extra>",
         "legendgroup": "MSN-0177, Exploration",
         "marker": {
          "color": "#FF6692",
          "symbol": "diamond"
         },
         "mode": "markers",
         "name": "MSN-0177, Exploration",
         "orientation": "v",
         "showlegend": true,
         "type": "scatter",
         "x": [
          259.69
         ],
         "xaxis": "x",
         "y": [
          96
         ],
         "yaxis": "y"
        },
        {
         "hovertemplate": "Mission ID=MSN-0178<br>Mission Type=Colonization<br>Mission Cost (billion USD)=%{x}<br>Mission Success (%)=%{y}<extra></extra>",
         "legendgroup": "MSN-0178, Colonization",
         "marker": {
          "color": "#B6E880",
          "symbol": "circle"
         },
         "mode": "markers",
         "name": "MSN-0178, Colonization",
         "orientation": "v",
         "showlegend": true,
         "type": "scatter",
         "x": [
          466.93
         ],
         "xaxis": "x",
         "y": [
          100
         ],
         "yaxis": "y"
        },
        {
         "hovertemplate": "Mission ID=MSN-0179<br>Mission Type=Colonization<br>Mission Cost (billion USD)=%{x}<br>Mission Success (%)=%{y}<extra></extra>",
         "legendgroup": "MSN-0179, Colonization",
         "marker": {
          "color": "#FF97FF",
          "symbol": "circle"
         },
         "mode": "markers",
         "name": "MSN-0179, Colonization",
         "orientation": "v",
         "showlegend": true,
         "type": "scatter",
         "x": [
          58.77
         ],
         "xaxis": "x",
         "y": [
          76.3
         ],
         "yaxis": "y"
        },
        {
         "hovertemplate": "Mission ID=MSN-0180<br>Mission Type=Exploration<br>Mission Cost (billion USD)=%{x}<br>Mission Success (%)=%{y}<extra></extra>",
         "legendgroup": "MSN-0180, Exploration",
         "marker": {
          "color": "#FECB52",
          "symbol": "diamond"
         },
         "mode": "markers",
         "name": "MSN-0180, Exploration",
         "orientation": "v",
         "showlegend": true,
         "type": "scatter",
         "x": [
          192.99
         ],
         "xaxis": "x",
         "y": [
          86.7
         ],
         "yaxis": "y"
        },
        {
         "hovertemplate": "Mission ID=MSN-0181<br>Mission Type=Research<br>Mission Cost (billion USD)=%{x}<br>Mission Success (%)=%{y}<extra></extra>",
         "legendgroup": "MSN-0181, Research",
         "marker": {
          "color": "#636efa",
          "symbol": "x"
         },
         "mode": "markers",
         "name": "MSN-0181, Research",
         "orientation": "v",
         "showlegend": true,
         "type": "scatter",
         "x": [
          210.05
         ],
         "xaxis": "x",
         "y": [
          80.5
         ],
         "yaxis": "y"
        },
        {
         "hovertemplate": "Mission ID=MSN-0182<br>Mission Type=Research<br>Mission Cost (billion USD)=%{x}<br>Mission Success (%)=%{y}<extra></extra>",
         "legendgroup": "MSN-0182, Research",
         "marker": {
          "color": "#EF553B",
          "symbol": "x"
         },
         "mode": "markers",
         "name": "MSN-0182, Research",
         "orientation": "v",
         "showlegend": true,
         "type": "scatter",
         "x": [
          413.69
         ],
         "xaxis": "x",
         "y": [
          100
         ],
         "yaxis": "y"
        },
        {
         "hovertemplate": "Mission ID=MSN-0183<br>Mission Type=Mining<br>Mission Cost (billion USD)=%{x}<br>Mission Success (%)=%{y}<extra></extra>",
         "legendgroup": "MSN-0183, Mining",
         "marker": {
          "color": "#00cc96",
          "symbol": "square"
         },
         "mode": "markers",
         "name": "MSN-0183, Mining",
         "orientation": "v",
         "showlegend": true,
         "type": "scatter",
         "x": [
          505.46
         ],
         "xaxis": "x",
         "y": [
          100
         ],
         "yaxis": "y"
        },
        {
         "hovertemplate": "Mission ID=MSN-0184<br>Mission Type=Exploration<br>Mission Cost (billion USD)=%{x}<br>Mission Success (%)=%{y}<extra></extra>",
         "legendgroup": "MSN-0184, Exploration",
         "marker": {
          "color": "#ab63fa",
          "symbol": "diamond"
         },
         "mode": "markers",
         "name": "MSN-0184, Exploration",
         "orientation": "v",
         "showlegend": true,
         "type": "scatter",
         "x": [
          173.47
         ],
         "xaxis": "x",
         "y": [
          89.3
         ],
         "yaxis": "y"
        },
        {
         "hovertemplate": "Mission ID=MSN-0185<br>Mission Type=Mining<br>Mission Cost (billion USD)=%{x}<br>Mission Success (%)=%{y}<extra></extra>",
         "legendgroup": "MSN-0185, Mining",
         "marker": {
          "color": "#FFA15A",
          "symbol": "square"
         },
         "mode": "markers",
         "name": "MSN-0185, Mining",
         "orientation": "v",
         "showlegend": true,
         "type": "scatter",
         "x": [
          479.02
         ],
         "xaxis": "x",
         "y": [
          100
         ],
         "yaxis": "y"
        },
        {
         "hovertemplate": "Mission ID=MSN-0186<br>Mission Type=Mining<br>Mission Cost (billion USD)=%{x}<br>Mission Success (%)=%{y}<extra></extra>",
         "legendgroup": "MSN-0186, Mining",
         "marker": {
          "color": "#19d3f3",
          "symbol": "square"
         },
         "mode": "markers",
         "name": "MSN-0186, Mining",
         "orientation": "v",
         "showlegend": true,
         "type": "scatter",
         "x": [
          430.94
         ],
         "xaxis": "x",
         "y": [
          100
         ],
         "yaxis": "y"
        },
        {
         "hovertemplate": "Mission ID=MSN-0187<br>Mission Type=Mining<br>Mission Cost (billion USD)=%{x}<br>Mission Success (%)=%{y}<extra></extra>",
         "legendgroup": "MSN-0187, Mining",
         "marker": {
          "color": "#FF6692",
          "symbol": "square"
         },
         "mode": "markers",
         "name": "MSN-0187, Mining",
         "orientation": "v",
         "showlegend": true,
         "type": "scatter",
         "x": [
          120.63
         ],
         "xaxis": "x",
         "y": [
          81.1
         ],
         "yaxis": "y"
        },
        {
         "hovertemplate": "Mission ID=MSN-0188<br>Mission Type=Research<br>Mission Cost (billion USD)=%{x}<br>Mission Success (%)=%{y}<extra></extra>",
         "legendgroup": "MSN-0188, Research",
         "marker": {
          "color": "#B6E880",
          "symbol": "x"
         },
         "mode": "markers",
         "name": "MSN-0188, Research",
         "orientation": "v",
         "showlegend": true,
         "type": "scatter",
         "x": [
          206.42
         ],
         "xaxis": "x",
         "y": [
          82.6
         ],
         "yaxis": "y"
        },
        {
         "hovertemplate": "Mission ID=MSN-0189<br>Mission Type=Exploration<br>Mission Cost (billion USD)=%{x}<br>Mission Success (%)=%{y}<extra></extra>",
         "legendgroup": "MSN-0189, Exploration",
         "marker": {
          "color": "#FF97FF",
          "symbol": "diamond"
         },
         "mode": "markers",
         "name": "MSN-0189, Exploration",
         "orientation": "v",
         "showlegend": true,
         "type": "scatter",
         "x": [
          214.7
         ],
         "xaxis": "x",
         "y": [
          100
         ],
         "yaxis": "y"
        },
        {
         "hovertemplate": "Mission ID=MSN-0190<br>Mission Type=Mining<br>Mission Cost (billion USD)=%{x}<br>Mission Success (%)=%{y}<extra></extra>",
         "legendgroup": "MSN-0190, Mining",
         "marker": {
          "color": "#FECB52",
          "symbol": "square"
         },
         "mode": "markers",
         "name": "MSN-0190, Mining",
         "orientation": "v",
         "showlegend": true,
         "type": "scatter",
         "x": [
          518.66
         ],
         "xaxis": "x",
         "y": [
          100
         ],
         "yaxis": "y"
        },
        {
         "hovertemplate": "Mission ID=MSN-0191<br>Mission Type=Exploration<br>Mission Cost (billion USD)=%{x}<br>Mission Success (%)=%{y}<extra></extra>",
         "legendgroup": "MSN-0191, Exploration",
         "marker": {
          "color": "#636efa",
          "symbol": "diamond"
         },
         "mode": "markers",
         "name": "MSN-0191, Exploration",
         "orientation": "v",
         "showlegend": true,
         "type": "scatter",
         "x": [
          141.06
         ],
         "xaxis": "x",
         "y": [
          78.9
         ],
         "yaxis": "y"
        },
        {
         "hovertemplate": "Mission ID=MSN-0192<br>Mission Type=Exploration<br>Mission Cost (billion USD)=%{x}<br>Mission Success (%)=%{y}<extra></extra>",
         "legendgroup": "MSN-0192, Exploration",
         "marker": {
          "color": "#EF553B",
          "symbol": "diamond"
         },
         "mode": "markers",
         "name": "MSN-0192, Exploration",
         "orientation": "v",
         "showlegend": true,
         "type": "scatter",
         "x": [
          425.94
         ],
         "xaxis": "x",
         "y": [
          100
         ],
         "yaxis": "y"
        },
        {
         "hovertemplate": "Mission ID=MSN-0193<br>Mission Type=Research<br>Mission Cost (billion USD)=%{x}<br>Mission Success (%)=%{y}<extra></extra>",
         "legendgroup": "MSN-0193, Research",
         "marker": {
          "color": "#00cc96",
          "symbol": "x"
         },
         "mode": "markers",
         "name": "MSN-0193, Research",
         "orientation": "v",
         "showlegend": true,
         "type": "scatter",
         "x": [
          212.75
         ],
         "xaxis": "x",
         "y": [
          97.7
         ],
         "yaxis": "y"
        },
        {
         "hovertemplate": "Mission ID=MSN-0194<br>Mission Type=Mining<br>Mission Cost (billion USD)=%{x}<br>Mission Success (%)=%{y}<extra></extra>",
         "legendgroup": "MSN-0194, Mining",
         "marker": {
          "color": "#ab63fa",
          "symbol": "square"
         },
         "mode": "markers",
         "name": "MSN-0194, Mining",
         "orientation": "v",
         "showlegend": true,
         "type": "scatter",
         "x": [
          389.65
         ],
         "xaxis": "x",
         "y": [
          100
         ],
         "yaxis": "y"
        },
        {
         "hovertemplate": "Mission ID=MSN-0195<br>Mission Type=Mining<br>Mission Cost (billion USD)=%{x}<br>Mission Success (%)=%{y}<extra></extra>",
         "legendgroup": "MSN-0195, Mining",
         "marker": {
          "color": "#FFA15A",
          "symbol": "square"
         },
         "mode": "markers",
         "name": "MSN-0195, Mining",
         "orientation": "v",
         "showlegend": true,
         "type": "scatter",
         "x": [
          248.62
         ],
         "xaxis": "x",
         "y": [
          88.7
         ],
         "yaxis": "y"
        },
        {
         "hovertemplate": "Mission ID=MSN-0196<br>Mission Type=Exploration<br>Mission Cost (billion USD)=%{x}<br>Mission Success (%)=%{y}<extra></extra>",
         "legendgroup": "MSN-0196, Exploration",
         "marker": {
          "color": "#19d3f3",
          "symbol": "diamond"
         },
         "mode": "markers",
         "name": "MSN-0196, Exploration",
         "orientation": "v",
         "showlegend": true,
         "type": "scatter",
         "x": [
          328.16
         ],
         "xaxis": "x",
         "y": [
          100
         ],
         "yaxis": "y"
        },
        {
         "hovertemplate": "Mission ID=MSN-0197<br>Mission Type=Colonization<br>Mission Cost (billion USD)=%{x}<br>Mission Success (%)=%{y}<extra></extra>",
         "legendgroup": "MSN-0197, Colonization",
         "marker": {
          "color": "#FF6692",
          "symbol": "circle"
         },
         "mode": "markers",
         "name": "MSN-0197, Colonization",
         "orientation": "v",
         "showlegend": true,
         "type": "scatter",
         "x": [
          426.67
         ],
         "xaxis": "x",
         "y": [
          100
         ],
         "yaxis": "y"
        },
        {
         "hovertemplate": "Mission ID=MSN-0198<br>Mission Type=Research<br>Mission Cost (billion USD)=%{x}<br>Mission Success (%)=%{y}<extra></extra>",
         "legendgroup": "MSN-0198, Research",
         "marker": {
          "color": "#B6E880",
          "symbol": "x"
         },
         "mode": "markers",
         "name": "MSN-0198, Research",
         "orientation": "v",
         "showlegend": true,
         "type": "scatter",
         "x": [
          421.75
         ],
         "xaxis": "x",
         "y": [
          100
         ],
         "yaxis": "y"
        },
        {
         "hovertemplate": "Mission ID=MSN-0199<br>Mission Type=Research<br>Mission Cost (billion USD)=%{x}<br>Mission Success (%)=%{y}<extra></extra>",
         "legendgroup": "MSN-0199, Research",
         "marker": {
          "color": "#FF97FF",
          "symbol": "x"
         },
         "mode": "markers",
         "name": "MSN-0199, Research",
         "orientation": "v",
         "showlegend": true,
         "type": "scatter",
         "x": [
          466.13
         ],
         "xaxis": "x",
         "y": [
          100
         ],
         "yaxis": "y"
        },
        {
         "hovertemplate": "Mission ID=MSN-0200<br>Mission Type=Research<br>Mission Cost (billion USD)=%{x}<br>Mission Success (%)=%{y}<extra></extra>",
         "legendgroup": "MSN-0200, Research",
         "marker": {
          "color": "#FECB52",
          "symbol": "x"
         },
         "mode": "markers",
         "name": "MSN-0200, Research",
         "orientation": "v",
         "showlegend": true,
         "type": "scatter",
         "x": [
          38.96
         ],
         "xaxis": "x",
         "y": [
          85.9
         ],
         "yaxis": "y"
        },
        {
         "hovertemplate": "Mission ID=MSN-0201<br>Mission Type=Research<br>Mission Cost (billion USD)=%{x}<br>Mission Success (%)=%{y}<extra></extra>",
         "legendgroup": "MSN-0201, Research",
         "marker": {
          "color": "#636efa",
          "symbol": "x"
         },
         "mode": "markers",
         "name": "MSN-0201, Research",
         "orientation": "v",
         "showlegend": true,
         "type": "scatter",
         "x": [
          366.27
         ],
         "xaxis": "x",
         "y": [
          100
         ],
         "yaxis": "y"
        },
        {
         "hovertemplate": "Mission ID=MSN-0202<br>Mission Type=Mining<br>Mission Cost (billion USD)=%{x}<br>Mission Success (%)=%{y}<extra></extra>",
         "legendgroup": "MSN-0202, Mining",
         "marker": {
          "color": "#EF553B",
          "symbol": "square"
         },
         "mode": "markers",
         "name": "MSN-0202, Mining",
         "orientation": "v",
         "showlegend": true,
         "type": "scatter",
         "x": [
          101.51
         ],
         "xaxis": "x",
         "y": [
          76.7
         ],
         "yaxis": "y"
        },
        {
         "hovertemplate": "Mission ID=MSN-0203<br>Mission Type=Mining<br>Mission Cost (billion USD)=%{x}<br>Mission Success (%)=%{y}<extra></extra>",
         "legendgroup": "MSN-0203, Mining",
         "marker": {
          "color": "#00cc96",
          "symbol": "square"
         },
         "mode": "markers",
         "name": "MSN-0203, Mining",
         "orientation": "v",
         "showlegend": true,
         "type": "scatter",
         "x": [
          260.67
         ],
         "xaxis": "x",
         "y": [
          100
         ],
         "yaxis": "y"
        },
        {
         "hovertemplate": "Mission ID=MSN-0204<br>Mission Type=Colonization<br>Mission Cost (billion USD)=%{x}<br>Mission Success (%)=%{y}<extra></extra>",
         "legendgroup": "MSN-0204, Colonization",
         "marker": {
          "color": "#ab63fa",
          "symbol": "circle"
         },
         "mode": "markers",
         "name": "MSN-0204, Colonization",
         "orientation": "v",
         "showlegend": true,
         "type": "scatter",
         "x": [
          300.8
         ],
         "xaxis": "x",
         "y": [
          100
         ],
         "yaxis": "y"
        },
        {
         "hovertemplate": "Mission ID=MSN-0205<br>Mission Type=Research<br>Mission Cost (billion USD)=%{x}<br>Mission Success (%)=%{y}<extra></extra>",
         "legendgroup": "MSN-0205, Research",
         "marker": {
          "color": "#FFA15A",
          "symbol": "x"
         },
         "mode": "markers",
         "name": "MSN-0205, Research",
         "orientation": "v",
         "showlegend": true,
         "type": "scatter",
         "x": [
          245.34
         ],
         "xaxis": "x",
         "y": [
          97
         ],
         "yaxis": "y"
        },
        {
         "hovertemplate": "Mission ID=MSN-0206<br>Mission Type=Research<br>Mission Cost (billion USD)=%{x}<br>Mission Success (%)=%{y}<extra></extra>",
         "legendgroup": "MSN-0206, Research",
         "marker": {
          "color": "#19d3f3",
          "symbol": "x"
         },
         "mode": "markers",
         "name": "MSN-0206, Research",
         "orientation": "v",
         "showlegend": true,
         "type": "scatter",
         "x": [
          284.37
         ],
         "xaxis": "x",
         "y": [
          90
         ],
         "yaxis": "y"
        },
        {
         "hovertemplate": "Mission ID=MSN-0207<br>Mission Type=Exploration<br>Mission Cost (billion USD)=%{x}<br>Mission Success (%)=%{y}<extra></extra>",
         "legendgroup": "MSN-0207, Exploration",
         "marker": {
          "color": "#FF6692",
          "symbol": "diamond"
         },
         "mode": "markers",
         "name": "MSN-0207, Exploration",
         "orientation": "v",
         "showlegend": true,
         "type": "scatter",
         "x": [
          538.32
         ],
         "xaxis": "x",
         "y": [
          100
         ],
         "yaxis": "y"
        },
        {
         "hovertemplate": "Mission ID=MSN-0208<br>Mission Type=Mining<br>Mission Cost (billion USD)=%{x}<br>Mission Success (%)=%{y}<extra></extra>",
         "legendgroup": "MSN-0208, Mining",
         "marker": {
          "color": "#B6E880",
          "symbol": "square"
         },
         "mode": "markers",
         "name": "MSN-0208, Mining",
         "orientation": "v",
         "showlegend": true,
         "type": "scatter",
         "x": [
          102.13
         ],
         "xaxis": "x",
         "y": [
          76.1
         ],
         "yaxis": "y"
        },
        {
         "hovertemplate": "Mission ID=MSN-0209<br>Mission Type=Research<br>Mission Cost (billion USD)=%{x}<br>Mission Success (%)=%{y}<extra></extra>",
         "legendgroup": "MSN-0209, Research",
         "marker": {
          "color": "#FF97FF",
          "symbol": "x"
         },
         "mode": "markers",
         "name": "MSN-0209, Research",
         "orientation": "v",
         "showlegend": true,
         "type": "scatter",
         "x": [
          383.79
         ],
         "xaxis": "x",
         "y": [
          100
         ],
         "yaxis": "y"
        },
        {
         "hovertemplate": "Mission ID=MSN-0210<br>Mission Type=Colonization<br>Mission Cost (billion USD)=%{x}<br>Mission Success (%)=%{y}<extra></extra>",
         "legendgroup": "MSN-0210, Colonization",
         "marker": {
          "color": "#FECB52",
          "symbol": "circle"
         },
         "mode": "markers",
         "name": "MSN-0210, Colonization",
         "orientation": "v",
         "showlegend": true,
         "type": "scatter",
         "x": [
          222.14
         ],
         "xaxis": "x",
         "y": [
          97.6
         ],
         "yaxis": "y"
        },
        {
         "hovertemplate": "Mission ID=MSN-0211<br>Mission Type=Colonization<br>Mission Cost (billion USD)=%{x}<br>Mission Success (%)=%{y}<extra></extra>",
         "legendgroup": "MSN-0211, Colonization",
         "marker": {
          "color": "#636efa",
          "symbol": "circle"
         },
         "mode": "markers",
         "name": "MSN-0211, Colonization",
         "orientation": "v",
         "showlegend": true,
         "type": "scatter",
         "x": [
          101.46
         ],
         "xaxis": "x",
         "y": [
          69.8
         ],
         "yaxis": "y"
        },
        {
         "hovertemplate": "Mission ID=MSN-0212<br>Mission Type=Mining<br>Mission Cost (billion USD)=%{x}<br>Mission Success (%)=%{y}<extra></extra>",
         "legendgroup": "MSN-0212, Mining",
         "marker": {
          "color": "#EF553B",
          "symbol": "square"
         },
         "mode": "markers",
         "name": "MSN-0212, Mining",
         "orientation": "v",
         "showlegend": true,
         "type": "scatter",
         "x": [
          115.42
         ],
         "xaxis": "x",
         "y": [
          81.4
         ],
         "yaxis": "y"
        },
        {
         "hovertemplate": "Mission ID=MSN-0213<br>Mission Type=Colonization<br>Mission Cost (billion USD)=%{x}<br>Mission Success (%)=%{y}<extra></extra>",
         "legendgroup": "MSN-0213, Colonization",
         "marker": {
          "color": "#00cc96",
          "symbol": "circle"
         },
         "mode": "markers",
         "name": "MSN-0213, Colonization",
         "orientation": "v",
         "showlegend": true,
         "type": "scatter",
         "x": [
          496.35
         ],
         "xaxis": "x",
         "y": [
          100
         ],
         "yaxis": "y"
        },
        {
         "hovertemplate": "Mission ID=MSN-0214<br>Mission Type=Colonization<br>Mission Cost (billion USD)=%{x}<br>Mission Success (%)=%{y}<extra></extra>",
         "legendgroup": "MSN-0214, Colonization",
         "marker": {
          "color": "#ab63fa",
          "symbol": "circle"
         },
         "mode": "markers",
         "name": "MSN-0214, Colonization",
         "orientation": "v",
         "showlegend": true,
         "type": "scatter",
         "x": [
          448.47
         ],
         "xaxis": "x",
         "y": [
          100
         ],
         "yaxis": "y"
        },
        {
         "hovertemplate": "Mission ID=MSN-0215<br>Mission Type=Mining<br>Mission Cost (billion USD)=%{x}<br>Mission Success (%)=%{y}<extra></extra>",
         "legendgroup": "MSN-0215, Mining",
         "marker": {
          "color": "#FFA15A",
          "symbol": "square"
         },
         "mode": "markers",
         "name": "MSN-0215, Mining",
         "orientation": "v",
         "showlegend": true,
         "type": "scatter",
         "x": [
          459.58
         ],
         "xaxis": "x",
         "y": [
          100
         ],
         "yaxis": "y"
        },
        {
         "hovertemplate": "Mission ID=MSN-0216<br>Mission Type=Research<br>Mission Cost (billion USD)=%{x}<br>Mission Success (%)=%{y}<extra></extra>",
         "legendgroup": "MSN-0216, Research",
         "marker": {
          "color": "#19d3f3",
          "symbol": "x"
         },
         "mode": "markers",
         "name": "MSN-0216, Research",
         "orientation": "v",
         "showlegend": true,
         "type": "scatter",
         "x": [
          497.62
         ],
         "xaxis": "x",
         "y": [
          100
         ],
         "yaxis": "y"
        },
        {
         "hovertemplate": "Mission ID=MSN-0217<br>Mission Type=Research<br>Mission Cost (billion USD)=%{x}<br>Mission Success (%)=%{y}<extra></extra>",
         "legendgroup": "MSN-0217, Research",
         "marker": {
          "color": "#FF6692",
          "symbol": "x"
         },
         "mode": "markers",
         "name": "MSN-0217, Research",
         "orientation": "v",
         "showlegend": true,
         "type": "scatter",
         "x": [
          151.9
         ],
         "xaxis": "x",
         "y": [
          86.9
         ],
         "yaxis": "y"
        },
        {
         "hovertemplate": "Mission ID=MSN-0218<br>Mission Type=Colonization<br>Mission Cost (billion USD)=%{x}<br>Mission Success (%)=%{y}<extra></extra>",
         "legendgroup": "MSN-0218, Colonization",
         "marker": {
          "color": "#B6E880",
          "symbol": "circle"
         },
         "mode": "markers",
         "name": "MSN-0218, Colonization",
         "orientation": "v",
         "showlegend": true,
         "type": "scatter",
         "x": [
          193.54
         ],
         "xaxis": "x",
         "y": [
          88
         ],
         "yaxis": "y"
        },
        {
         "hovertemplate": "Mission ID=MSN-0219<br>Mission Type=Colonization<br>Mission Cost (billion USD)=%{x}<br>Mission Success (%)=%{y}<extra></extra>",
         "legendgroup": "MSN-0219, Colonization",
         "marker": {
          "color": "#FF97FF",
          "symbol": "circle"
         },
         "mode": "markers",
         "name": "MSN-0219, Colonization",
         "orientation": "v",
         "showlegend": true,
         "type": "scatter",
         "x": [
          347.61
         ],
         "xaxis": "x",
         "y": [
          98.7
         ],
         "yaxis": "y"
        },
        {
         "hovertemplate": "Mission ID=MSN-0220<br>Mission Type=Research<br>Mission Cost (billion USD)=%{x}<br>Mission Success (%)=%{y}<extra></extra>",
         "legendgroup": "MSN-0220, Research",
         "marker": {
          "color": "#FECB52",
          "symbol": "x"
         },
         "mode": "markers",
         "name": "MSN-0220, Research",
         "orientation": "v",
         "showlegend": true,
         "type": "scatter",
         "x": [
          281.57
         ],
         "xaxis": "x",
         "y": [
          92.5
         ],
         "yaxis": "y"
        },
        {
         "hovertemplate": "Mission ID=MSN-0221<br>Mission Type=Mining<br>Mission Cost (billion USD)=%{x}<br>Mission Success (%)=%{y}<extra></extra>",
         "legendgroup": "MSN-0221, Mining",
         "marker": {
          "color": "#636efa",
          "symbol": "square"
         },
         "mode": "markers",
         "name": "MSN-0221, Mining",
         "orientation": "v",
         "showlegend": true,
         "type": "scatter",
         "x": [
          228.78
         ],
         "xaxis": "x",
         "y": [
          96.4
         ],
         "yaxis": "y"
        },
        {
         "hovertemplate": "Mission ID=MSN-0222<br>Mission Type=Colonization<br>Mission Cost (billion USD)=%{x}<br>Mission Success (%)=%{y}<extra></extra>",
         "legendgroup": "MSN-0222, Colonization",
         "marker": {
          "color": "#EF553B",
          "symbol": "circle"
         },
         "mode": "markers",
         "name": "MSN-0222, Colonization",
         "orientation": "v",
         "showlegend": true,
         "type": "scatter",
         "x": [
          207.9
         ],
         "xaxis": "x",
         "y": [
          90.9
         ],
         "yaxis": "y"
        },
        {
         "hovertemplate": "Mission ID=MSN-0223<br>Mission Type=Exploration<br>Mission Cost (billion USD)=%{x}<br>Mission Success (%)=%{y}<extra></extra>",
         "legendgroup": "MSN-0223, Exploration",
         "marker": {
          "color": "#00cc96",
          "symbol": "diamond"
         },
         "mode": "markers",
         "name": "MSN-0223, Exploration",
         "orientation": "v",
         "showlegend": true,
         "type": "scatter",
         "x": [
          307.86
         ],
         "xaxis": "x",
         "y": [
          100
         ],
         "yaxis": "y"
        },
        {
         "hovertemplate": "Mission ID=MSN-0224<br>Mission Type=Mining<br>Mission Cost (billion USD)=%{x}<br>Mission Success (%)=%{y}<extra></extra>",
         "legendgroup": "MSN-0224, Mining",
         "marker": {
          "color": "#ab63fa",
          "symbol": "square"
         },
         "mode": "markers",
         "name": "MSN-0224, Mining",
         "orientation": "v",
         "showlegend": true,
         "type": "scatter",
         "x": [
          337.93
         ],
         "xaxis": "x",
         "y": [
          100
         ],
         "yaxis": "y"
        },
        {
         "hovertemplate": "Mission ID=MSN-0225<br>Mission Type=Colonization<br>Mission Cost (billion USD)=%{x}<br>Mission Success (%)=%{y}<extra></extra>",
         "legendgroup": "MSN-0225, Colonization",
         "marker": {
          "color": "#FFA15A",
          "symbol": "circle"
         },
         "mode": "markers",
         "name": "MSN-0225, Colonization",
         "orientation": "v",
         "showlegend": true,
         "type": "scatter",
         "x": [
          127.63
         ],
         "xaxis": "x",
         "y": [
          81.2
         ],
         "yaxis": "y"
        },
        {
         "hovertemplate": "Mission ID=MSN-0226<br>Mission Type=Colonization<br>Mission Cost (billion USD)=%{x}<br>Mission Success (%)=%{y}<extra></extra>",
         "legendgroup": "MSN-0226, Colonization",
         "marker": {
          "color": "#19d3f3",
          "symbol": "circle"
         },
         "mode": "markers",
         "name": "MSN-0226, Colonization",
         "orientation": "v",
         "showlegend": true,
         "type": "scatter",
         "x": [
          281.83
         ],
         "xaxis": "x",
         "y": [
          100
         ],
         "yaxis": "y"
        },
        {
         "hovertemplate": "Mission ID=MSN-0227<br>Mission Type=Exploration<br>Mission Cost (billion USD)=%{x}<br>Mission Success (%)=%{y}<extra></extra>",
         "legendgroup": "MSN-0227, Exploration",
         "marker": {
          "color": "#FF6692",
          "symbol": "diamond"
         },
         "mode": "markers",
         "name": "MSN-0227, Exploration",
         "orientation": "v",
         "showlegend": true,
         "type": "scatter",
         "x": [
          299.88
         ],
         "xaxis": "x",
         "y": [
          98.3
         ],
         "yaxis": "y"
        },
        {
         "hovertemplate": "Mission ID=MSN-0228<br>Mission Type=Exploration<br>Mission Cost (billion USD)=%{x}<br>Mission Success (%)=%{y}<extra></extra>",
         "legendgroup": "MSN-0228, Exploration",
         "marker": {
          "color": "#B6E880",
          "symbol": "diamond"
         },
         "mode": "markers",
         "name": "MSN-0228, Exploration",
         "orientation": "v",
         "showlegend": true,
         "type": "scatter",
         "x": [
          325.66
         ],
         "xaxis": "x",
         "y": [
          95.9
         ],
         "yaxis": "y"
        },
        {
         "hovertemplate": "Mission ID=MSN-0229<br>Mission Type=Research<br>Mission Cost (billion USD)=%{x}<br>Mission Success (%)=%{y}<extra></extra>",
         "legendgroup": "MSN-0229, Research",
         "marker": {
          "color": "#FF97FF",
          "symbol": "x"
         },
         "mode": "markers",
         "name": "MSN-0229, Research",
         "orientation": "v",
         "showlegend": true,
         "type": "scatter",
         "x": [
          117.05
         ],
         "xaxis": "x",
         "y": [
          85.4
         ],
         "yaxis": "y"
        },
        {
         "hovertemplate": "Mission ID=MSN-0230<br>Mission Type=Mining<br>Mission Cost (billion USD)=%{x}<br>Mission Success (%)=%{y}<extra></extra>",
         "legendgroup": "MSN-0230, Mining",
         "marker": {
          "color": "#FECB52",
          "symbol": "square"
         },
         "mode": "markers",
         "name": "MSN-0230, Mining",
         "orientation": "v",
         "showlegend": true,
         "type": "scatter",
         "x": [
          373.82
         ],
         "xaxis": "x",
         "y": [
          100
         ],
         "yaxis": "y"
        },
        {
         "hovertemplate": "Mission ID=MSN-0231<br>Mission Type=Mining<br>Mission Cost (billion USD)=%{x}<br>Mission Success (%)=%{y}<extra></extra>",
         "legendgroup": "MSN-0231, Mining",
         "marker": {
          "color": "#636efa",
          "symbol": "square"
         },
         "mode": "markers",
         "name": "MSN-0231, Mining",
         "orientation": "v",
         "showlegend": true,
         "type": "scatter",
         "x": [
          19.43
         ],
         "xaxis": "x",
         "y": [
          72.1
         ],
         "yaxis": "y"
        },
        {
         "hovertemplate": "Mission ID=MSN-0232<br>Mission Type=Research<br>Mission Cost (billion USD)=%{x}<br>Mission Success (%)=%{y}<extra></extra>",
         "legendgroup": "MSN-0232, Research",
         "marker": {
          "color": "#EF553B",
          "symbol": "x"
         },
         "mode": "markers",
         "name": "MSN-0232, Research",
         "orientation": "v",
         "showlegend": true,
         "type": "scatter",
         "x": [
          210.39
         ],
         "xaxis": "x",
         "y": [
          99.1
         ],
         "yaxis": "y"
        },
        {
         "hovertemplate": "Mission ID=MSN-0233<br>Mission Type=Mining<br>Mission Cost (billion USD)=%{x}<br>Mission Success (%)=%{y}<extra></extra>",
         "legendgroup": "MSN-0233, Mining",
         "marker": {
          "color": "#00cc96",
          "symbol": "square"
         },
         "mode": "markers",
         "name": "MSN-0233, Mining",
         "orientation": "v",
         "showlegend": true,
         "type": "scatter",
         "x": [
          414.51
         ],
         "xaxis": "x",
         "y": [
          100
         ],
         "yaxis": "y"
        },
        {
         "hovertemplate": "Mission ID=MSN-0234<br>Mission Type=Mining<br>Mission Cost (billion USD)=%{x}<br>Mission Success (%)=%{y}<extra></extra>",
         "legendgroup": "MSN-0234, Mining",
         "marker": {
          "color": "#ab63fa",
          "symbol": "square"
         },
         "mode": "markers",
         "name": "MSN-0234, Mining",
         "orientation": "v",
         "showlegend": true,
         "type": "scatter",
         "x": [
          310.53
         ],
         "xaxis": "x",
         "y": [
          100
         ],
         "yaxis": "y"
        },
        {
         "hovertemplate": "Mission ID=MSN-0235<br>Mission Type=Mining<br>Mission Cost (billion USD)=%{x}<br>Mission Success (%)=%{y}<extra></extra>",
         "legendgroup": "MSN-0235, Mining",
         "marker": {
          "color": "#FFA15A",
          "symbol": "square"
         },
         "mode": "markers",
         "name": "MSN-0235, Mining",
         "orientation": "v",
         "showlegend": true,
         "type": "scatter",
         "x": [
          135.67
         ],
         "xaxis": "x",
         "y": [
          77.7
         ],
         "yaxis": "y"
        },
        {
         "hovertemplate": "Mission ID=MSN-0236<br>Mission Type=Mining<br>Mission Cost (billion USD)=%{x}<br>Mission Success (%)=%{y}<extra></extra>",
         "legendgroup": "MSN-0236, Mining",
         "marker": {
          "color": "#19d3f3",
          "symbol": "square"
         },
         "mode": "markers",
         "name": "MSN-0236, Mining",
         "orientation": "v",
         "showlegend": true,
         "type": "scatter",
         "x": [
          370.71
         ],
         "xaxis": "x",
         "y": [
          100
         ],
         "yaxis": "y"
        },
        {
         "hovertemplate": "Mission ID=MSN-0237<br>Mission Type=Mining<br>Mission Cost (billion USD)=%{x}<br>Mission Success (%)=%{y}<extra></extra>",
         "legendgroup": "MSN-0237, Mining",
         "marker": {
          "color": "#FF6692",
          "symbol": "square"
         },
         "mode": "markers",
         "name": "MSN-0237, Mining",
         "orientation": "v",
         "showlegend": true,
         "type": "scatter",
         "x": [
          322.04
         ],
         "xaxis": "x",
         "y": [
          100
         ],
         "yaxis": "y"
        },
        {
         "hovertemplate": "Mission ID=MSN-0238<br>Mission Type=Exploration<br>Mission Cost (billion USD)=%{x}<br>Mission Success (%)=%{y}<extra></extra>",
         "legendgroup": "MSN-0238, Exploration",
         "marker": {
          "color": "#B6E880",
          "symbol": "diamond"
         },
         "mode": "markers",
         "name": "MSN-0238, Exploration",
         "orientation": "v",
         "showlegend": true,
         "type": "scatter",
         "x": [
          421.84
         ],
         "xaxis": "x",
         "y": [
          100
         ],
         "yaxis": "y"
        },
        {
         "hovertemplate": "Mission ID=MSN-0239<br>Mission Type=Mining<br>Mission Cost (billion USD)=%{x}<br>Mission Success (%)=%{y}<extra></extra>",
         "legendgroup": "MSN-0239, Mining",
         "marker": {
          "color": "#FF97FF",
          "symbol": "square"
         },
         "mode": "markers",
         "name": "MSN-0239, Mining",
         "orientation": "v",
         "showlegend": true,
         "type": "scatter",
         "x": [
          405.73
         ],
         "xaxis": "x",
         "y": [
          100
         ],
         "yaxis": "y"
        },
        {
         "hovertemplate": "Mission ID=MSN-0240<br>Mission Type=Exploration<br>Mission Cost (billion USD)=%{x}<br>Mission Success (%)=%{y}<extra></extra>",
         "legendgroup": "MSN-0240, Exploration",
         "marker": {
          "color": "#FECB52",
          "symbol": "diamond"
         },
         "mode": "markers",
         "name": "MSN-0240, Exploration",
         "orientation": "v",
         "showlegend": true,
         "type": "scatter",
         "x": [
          319.42
         ],
         "xaxis": "x",
         "y": [
          100
         ],
         "yaxis": "y"
        },
        {
         "hovertemplate": "Mission ID=MSN-0241<br>Mission Type=Mining<br>Mission Cost (billion USD)=%{x}<br>Mission Success (%)=%{y}<extra></extra>",
         "legendgroup": "MSN-0241, Mining",
         "marker": {
          "color": "#636efa",
          "symbol": "square"
         },
         "mode": "markers",
         "name": "MSN-0241, Mining",
         "orientation": "v",
         "showlegend": true,
         "type": "scatter",
         "x": [
          287.49
         ],
         "xaxis": "x",
         "y": [
          99
         ],
         "yaxis": "y"
        },
        {
         "hovertemplate": "Mission ID=MSN-0242<br>Mission Type=Research<br>Mission Cost (billion USD)=%{x}<br>Mission Success (%)=%{y}<extra></extra>",
         "legendgroup": "MSN-0242, Research",
         "marker": {
          "color": "#EF553B",
          "symbol": "x"
         },
         "mode": "markers",
         "name": "MSN-0242, Research",
         "orientation": "v",
         "showlegend": true,
         "type": "scatter",
         "x": [
          100.78
         ],
         "xaxis": "x",
         "y": [
          85.3
         ],
         "yaxis": "y"
        },
        {
         "hovertemplate": "Mission ID=MSN-0243<br>Mission Type=Colonization<br>Mission Cost (billion USD)=%{x}<br>Mission Success (%)=%{y}<extra></extra>",
         "legendgroup": "MSN-0243, Colonization",
         "marker": {
          "color": "#00cc96",
          "symbol": "circle"
         },
         "mode": "markers",
         "name": "MSN-0243, Colonization",
         "orientation": "v",
         "showlegend": true,
         "type": "scatter",
         "x": [
          145.68
         ],
         "xaxis": "x",
         "y": [
          86.2
         ],
         "yaxis": "y"
        },
        {
         "hovertemplate": "Mission ID=MSN-0244<br>Mission Type=Exploration<br>Mission Cost (billion USD)=%{x}<br>Mission Success (%)=%{y}<extra></extra>",
         "legendgroup": "MSN-0244, Exploration",
         "marker": {
          "color": "#ab63fa",
          "symbol": "diamond"
         },
         "mode": "markers",
         "name": "MSN-0244, Exploration",
         "orientation": "v",
         "showlegend": true,
         "type": "scatter",
         "x": [
          225.05
         ],
         "xaxis": "x",
         "y": [
          99.9
         ],
         "yaxis": "y"
        },
        {
         "hovertemplate": "Mission ID=MSN-0245<br>Mission Type=Mining<br>Mission Cost (billion USD)=%{x}<br>Mission Success (%)=%{y}<extra></extra>",
         "legendgroup": "MSN-0245, Mining",
         "marker": {
          "color": "#FFA15A",
          "symbol": "square"
         },
         "mode": "markers",
         "name": "MSN-0245, Mining",
         "orientation": "v",
         "showlegend": true,
         "type": "scatter",
         "x": [
          333.42
         ],
         "xaxis": "x",
         "y": [
          98.4
         ],
         "yaxis": "y"
        },
        {
         "hovertemplate": "Mission ID=MSN-0246<br>Mission Type=Research<br>Mission Cost (billion USD)=%{x}<br>Mission Success (%)=%{y}<extra></extra>",
         "legendgroup": "MSN-0246, Research",
         "marker": {
          "color": "#19d3f3",
          "symbol": "x"
         },
         "mode": "markers",
         "name": "MSN-0246, Research",
         "orientation": "v",
         "showlegend": true,
         "type": "scatter",
         "x": [
          300.97
         ],
         "xaxis": "x",
         "y": [
          100
         ],
         "yaxis": "y"
        },
        {
         "hovertemplate": "Mission ID=MSN-0247<br>Mission Type=Colonization<br>Mission Cost (billion USD)=%{x}<br>Mission Success (%)=%{y}<extra></extra>",
         "legendgroup": "MSN-0247, Colonization",
         "marker": {
          "color": "#FF6692",
          "symbol": "circle"
         },
         "mode": "markers",
         "name": "MSN-0247, Colonization",
         "orientation": "v",
         "showlegend": true,
         "type": "scatter",
         "x": [
          169.02
         ],
         "xaxis": "x",
         "y": [
          87.3
         ],
         "yaxis": "y"
        },
        {
         "hovertemplate": "Mission ID=MSN-0248<br>Mission Type=Exploration<br>Mission Cost (billion USD)=%{x}<br>Mission Success (%)=%{y}<extra></extra>",
         "legendgroup": "MSN-0248, Exploration",
         "marker": {
          "color": "#B6E880",
          "symbol": "diamond"
         },
         "mode": "markers",
         "name": "MSN-0248, Exploration",
         "orientation": "v",
         "showlegend": true,
         "type": "scatter",
         "x": [
          21.86
         ],
         "xaxis": "x",
         "y": [
          66.8
         ],
         "yaxis": "y"
        },
        {
         "hovertemplate": "Mission ID=MSN-0249<br>Mission Type=Colonization<br>Mission Cost (billion USD)=%{x}<br>Mission Success (%)=%{y}<extra></extra>",
         "legendgroup": "MSN-0249, Colonization",
         "marker": {
          "color": "#FF97FF",
          "symbol": "circle"
         },
         "mode": "markers",
         "name": "MSN-0249, Colonization",
         "orientation": "v",
         "showlegend": true,
         "type": "scatter",
         "x": [
          294.13
         ],
         "xaxis": "x",
         "y": [
          100
         ],
         "yaxis": "y"
        },
        {
         "hovertemplate": "Mission ID=MSN-0250<br>Mission Type=Research<br>Mission Cost (billion USD)=%{x}<br>Mission Success (%)=%{y}<extra></extra>",
         "legendgroup": "MSN-0250, Research",
         "marker": {
          "color": "#FECB52",
          "symbol": "x"
         },
         "mode": "markers",
         "name": "MSN-0250, Research",
         "orientation": "v",
         "showlegend": true,
         "type": "scatter",
         "x": [
          180.19
         ],
         "xaxis": "x",
         "y": [
          99.6
         ],
         "yaxis": "y"
        },
        {
         "hovertemplate": "Mission ID=MSN-0251<br>Mission Type=Exploration<br>Mission Cost (billion USD)=%{x}<br>Mission Success (%)=%{y}<extra></extra>",
         "legendgroup": "MSN-0251, Exploration",
         "marker": {
          "color": "#636efa",
          "symbol": "diamond"
         },
         "mode": "markers",
         "name": "MSN-0251, Exploration",
         "orientation": "v",
         "showlegend": true,
         "type": "scatter",
         "x": [
          391.61
         ],
         "xaxis": "x",
         "y": [
          100
         ],
         "yaxis": "y"
        },
        {
         "hovertemplate": "Mission ID=MSN-0252<br>Mission Type=Colonization<br>Mission Cost (billion USD)=%{x}<br>Mission Success (%)=%{y}<extra></extra>",
         "legendgroup": "MSN-0252, Colonization",
         "marker": {
          "color": "#EF553B",
          "symbol": "circle"
         },
         "mode": "markers",
         "name": "MSN-0252, Colonization",
         "orientation": "v",
         "showlegend": true,
         "type": "scatter",
         "x": [
          41.76
         ],
         "xaxis": "x",
         "y": [
          76.7
         ],
         "yaxis": "y"
        },
        {
         "hovertemplate": "Mission ID=MSN-0253<br>Mission Type=Mining<br>Mission Cost (billion USD)=%{x}<br>Mission Success (%)=%{y}<extra></extra>",
         "legendgroup": "MSN-0253, Mining",
         "marker": {
          "color": "#00cc96",
          "symbol": "square"
         },
         "mode": "markers",
         "name": "MSN-0253, Mining",
         "orientation": "v",
         "showlegend": true,
         "type": "scatter",
         "x": [
          305.51
         ],
         "xaxis": "x",
         "y": [
          100
         ],
         "yaxis": "y"
        },
        {
         "hovertemplate": "Mission ID=MSN-0254<br>Mission Type=Exploration<br>Mission Cost (billion USD)=%{x}<br>Mission Success (%)=%{y}<extra></extra>",
         "legendgroup": "MSN-0254, Exploration",
         "marker": {
          "color": "#ab63fa",
          "symbol": "diamond"
         },
         "mode": "markers",
         "name": "MSN-0254, Exploration",
         "orientation": "v",
         "showlegend": true,
         "type": "scatter",
         "x": [
          502.76
         ],
         "xaxis": "x",
         "y": [
          100
         ],
         "yaxis": "y"
        },
        {
         "hovertemplate": "Mission ID=MSN-0255<br>Mission Type=Colonization<br>Mission Cost (billion USD)=%{x}<br>Mission Success (%)=%{y}<extra></extra>",
         "legendgroup": "MSN-0255, Colonization",
         "marker": {
          "color": "#FFA15A",
          "symbol": "circle"
         },
         "mode": "markers",
         "name": "MSN-0255, Colonization",
         "orientation": "v",
         "showlegend": true,
         "type": "scatter",
         "x": [
          109.93
         ],
         "xaxis": "x",
         "y": [
          71.9
         ],
         "yaxis": "y"
        },
        {
         "hovertemplate": "Mission ID=MSN-0256<br>Mission Type=Research<br>Mission Cost (billion USD)=%{x}<br>Mission Success (%)=%{y}<extra></extra>",
         "legendgroup": "MSN-0256, Research",
         "marker": {
          "color": "#19d3f3",
          "symbol": "x"
         },
         "mode": "markers",
         "name": "MSN-0256, Research",
         "orientation": "v",
         "showlegend": true,
         "type": "scatter",
         "x": [
          288.24
         ],
         "xaxis": "x",
         "y": [
          95.3
         ],
         "yaxis": "y"
        },
        {
         "hovertemplate": "Mission ID=MSN-0257<br>Mission Type=Research<br>Mission Cost (billion USD)=%{x}<br>Mission Success (%)=%{y}<extra></extra>",
         "legendgroup": "MSN-0257, Research",
         "marker": {
          "color": "#FF6692",
          "symbol": "x"
         },
         "mode": "markers",
         "name": "MSN-0257, Research",
         "orientation": "v",
         "showlegend": true,
         "type": "scatter",
         "x": [
          74.78
         ],
         "xaxis": "x",
         "y": [
          70.5
         ],
         "yaxis": "y"
        },
        {
         "hovertemplate": "Mission ID=MSN-0258<br>Mission Type=Exploration<br>Mission Cost (billion USD)=%{x}<br>Mission Success (%)=%{y}<extra></extra>",
         "legendgroup": "MSN-0258, Exploration",
         "marker": {
          "color": "#B6E880",
          "symbol": "diamond"
         },
         "mode": "markers",
         "name": "MSN-0258, Exploration",
         "orientation": "v",
         "showlegend": true,
         "type": "scatter",
         "x": [
          339.51
         ],
         "xaxis": "x",
         "y": [
          100
         ],
         "yaxis": "y"
        },
        {
         "hovertemplate": "Mission ID=MSN-0259<br>Mission Type=Colonization<br>Mission Cost (billion USD)=%{x}<br>Mission Success (%)=%{y}<extra></extra>",
         "legendgroup": "MSN-0259, Colonization",
         "marker": {
          "color": "#FF97FF",
          "symbol": "circle"
         },
         "mode": "markers",
         "name": "MSN-0259, Colonization",
         "orientation": "v",
         "showlegend": true,
         "type": "scatter",
         "x": [
          306.23
         ],
         "xaxis": "x",
         "y": [
          100
         ],
         "yaxis": "y"
        },
        {
         "hovertemplate": "Mission ID=MSN-0260<br>Mission Type=Exploration<br>Mission Cost (billion USD)=%{x}<br>Mission Success (%)=%{y}<extra></extra>",
         "legendgroup": "MSN-0260, Exploration",
         "marker": {
          "color": "#FECB52",
          "symbol": "diamond"
         },
         "mode": "markers",
         "name": "MSN-0260, Exploration",
         "orientation": "v",
         "showlegend": true,
         "type": "scatter",
         "x": [
          252.57
         ],
         "xaxis": "x",
         "y": [
          93.5
         ],
         "yaxis": "y"
        },
        {
         "hovertemplate": "Mission ID=MSN-0261<br>Mission Type=Exploration<br>Mission Cost (billion USD)=%{x}<br>Mission Success (%)=%{y}<extra></extra>",
         "legendgroup": "MSN-0261, Exploration",
         "marker": {
          "color": "#636efa",
          "symbol": "diamond"
         },
         "mode": "markers",
         "name": "MSN-0261, Exploration",
         "orientation": "v",
         "showlegend": true,
         "type": "scatter",
         "x": [
          303.34
         ],
         "xaxis": "x",
         "y": [
          100
         ],
         "yaxis": "y"
        },
        {
         "hovertemplate": "Mission ID=MSN-0262<br>Mission Type=Colonization<br>Mission Cost (billion USD)=%{x}<br>Mission Success (%)=%{y}<extra></extra>",
         "legendgroup": "MSN-0262, Colonization",
         "marker": {
          "color": "#EF553B",
          "symbol": "circle"
         },
         "mode": "markers",
         "name": "MSN-0262, Colonization",
         "orientation": "v",
         "showlegend": true,
         "type": "scatter",
         "x": [
          471.91
         ],
         "xaxis": "x",
         "y": [
          100
         ],
         "yaxis": "y"
        },
        {
         "hovertemplate": "Mission ID=MSN-0263<br>Mission Type=Colonization<br>Mission Cost (billion USD)=%{x}<br>Mission Success (%)=%{y}<extra></extra>",
         "legendgroup": "MSN-0263, Colonization",
         "marker": {
          "color": "#00cc96",
          "symbol": "circle"
         },
         "mode": "markers",
         "name": "MSN-0263, Colonization",
         "orientation": "v",
         "showlegend": true,
         "type": "scatter",
         "x": [
          138.37
         ],
         "xaxis": "x",
         "y": [
          80
         ],
         "yaxis": "y"
        },
        {
         "hovertemplate": "Mission ID=MSN-0264<br>Mission Type=Mining<br>Mission Cost (billion USD)=%{x}<br>Mission Success (%)=%{y}<extra></extra>",
         "legendgroup": "MSN-0264, Mining",
         "marker": {
          "color": "#ab63fa",
          "symbol": "square"
         },
         "mode": "markers",
         "name": "MSN-0264, Mining",
         "orientation": "v",
         "showlegend": true,
         "type": "scatter",
         "x": [
          45.88
         ],
         "xaxis": "x",
         "y": [
          74.9
         ],
         "yaxis": "y"
        },
        {
         "hovertemplate": "Mission ID=MSN-0265<br>Mission Type=Colonization<br>Mission Cost (billion USD)=%{x}<br>Mission Success (%)=%{y}<extra></extra>",
         "legendgroup": "MSN-0265, Colonization",
         "marker": {
          "color": "#FFA15A",
          "symbol": "circle"
         },
         "mode": "markers",
         "name": "MSN-0265, Colonization",
         "orientation": "v",
         "showlegend": true,
         "type": "scatter",
         "x": [
          456.63
         ],
         "xaxis": "x",
         "y": [
          100
         ],
         "yaxis": "y"
        },
        {
         "hovertemplate": "Mission ID=MSN-0266<br>Mission Type=Research<br>Mission Cost (billion USD)=%{x}<br>Mission Success (%)=%{y}<extra></extra>",
         "legendgroup": "MSN-0266, Research",
         "marker": {
          "color": "#19d3f3",
          "symbol": "x"
         },
         "mode": "markers",
         "name": "MSN-0266, Research",
         "orientation": "v",
         "showlegend": true,
         "type": "scatter",
         "x": [
          301.07
         ],
         "xaxis": "x",
         "y": [
          100
         ],
         "yaxis": "y"
        },
        {
         "hovertemplate": "Mission ID=MSN-0267<br>Mission Type=Exploration<br>Mission Cost (billion USD)=%{x}<br>Mission Success (%)=%{y}<extra></extra>",
         "legendgroup": "MSN-0267, Exploration",
         "marker": {
          "color": "#FF6692",
          "symbol": "diamond"
         },
         "mode": "markers",
         "name": "MSN-0267, Exploration",
         "orientation": "v",
         "showlegend": true,
         "type": "scatter",
         "x": [
          469.63
         ],
         "xaxis": "x",
         "y": [
          100
         ],
         "yaxis": "y"
        },
        {
         "hovertemplate": "Mission ID=MSN-0268<br>Mission Type=Exploration<br>Mission Cost (billion USD)=%{x}<br>Mission Success (%)=%{y}<extra></extra>",
         "legendgroup": "MSN-0268, Exploration",
         "marker": {
          "color": "#B6E880",
          "symbol": "diamond"
         },
         "mode": "markers",
         "name": "MSN-0268, Exploration",
         "orientation": "v",
         "showlegend": true,
         "type": "scatter",
         "x": [
          313.55
         ],
         "xaxis": "x",
         "y": [
          100
         ],
         "yaxis": "y"
        },
        {
         "hovertemplate": "Mission ID=MSN-0269<br>Mission Type=Research<br>Mission Cost (billion USD)=%{x}<br>Mission Success (%)=%{y}<extra></extra>",
         "legendgroup": "MSN-0269, Research",
         "marker": {
          "color": "#FF97FF",
          "symbol": "x"
         },
         "mode": "markers",
         "name": "MSN-0269, Research",
         "orientation": "v",
         "showlegend": true,
         "type": "scatter",
         "x": [
          451.88
         ],
         "xaxis": "x",
         "y": [
          100
         ],
         "yaxis": "y"
        },
        {
         "hovertemplate": "Mission ID=MSN-0270<br>Mission Type=Colonization<br>Mission Cost (billion USD)=%{x}<br>Mission Success (%)=%{y}<extra></extra>",
         "legendgroup": "MSN-0270, Colonization",
         "marker": {
          "color": "#FECB52",
          "symbol": "circle"
         },
         "mode": "markers",
         "name": "MSN-0270, Colonization",
         "orientation": "v",
         "showlegend": true,
         "type": "scatter",
         "x": [
          235.13
         ],
         "xaxis": "x",
         "y": [
          94.5
         ],
         "yaxis": "y"
        },
        {
         "hovertemplate": "Mission ID=MSN-0271<br>Mission Type=Research<br>Mission Cost (billion USD)=%{x}<br>Mission Success (%)=%{y}<extra></extra>",
         "legendgroup": "MSN-0271, Research",
         "marker": {
          "color": "#636efa",
          "symbol": "x"
         },
         "mode": "markers",
         "name": "MSN-0271, Research",
         "orientation": "v",
         "showlegend": true,
         "type": "scatter",
         "x": [
          423.86
         ],
         "xaxis": "x",
         "y": [
          100
         ],
         "yaxis": "y"
        },
        {
         "hovertemplate": "Mission ID=MSN-0272<br>Mission Type=Research<br>Mission Cost (billion USD)=%{x}<br>Mission Success (%)=%{y}<extra></extra>",
         "legendgroup": "MSN-0272, Research",
         "marker": {
          "color": "#EF553B",
          "symbol": "x"
         },
         "mode": "markers",
         "name": "MSN-0272, Research",
         "orientation": "v",
         "showlegend": true,
         "type": "scatter",
         "x": [
          484.07
         ],
         "xaxis": "x",
         "y": [
          100
         ],
         "yaxis": "y"
        },
        {
         "hovertemplate": "Mission ID=MSN-0273<br>Mission Type=Mining<br>Mission Cost (billion USD)=%{x}<br>Mission Success (%)=%{y}<extra></extra>",
         "legendgroup": "MSN-0273, Mining",
         "marker": {
          "color": "#00cc96",
          "symbol": "square"
         },
         "mode": "markers",
         "name": "MSN-0273, Mining",
         "orientation": "v",
         "showlegend": true,
         "type": "scatter",
         "x": [
          320.15
         ],
         "xaxis": "x",
         "y": [
          96.6
         ],
         "yaxis": "y"
        },
        {
         "hovertemplate": "Mission ID=MSN-0274<br>Mission Type=Research<br>Mission Cost (billion USD)=%{x}<br>Mission Success (%)=%{y}<extra></extra>",
         "legendgroup": "MSN-0274, Research",
         "marker": {
          "color": "#ab63fa",
          "symbol": "x"
         },
         "mode": "markers",
         "name": "MSN-0274, Research",
         "orientation": "v",
         "showlegend": true,
         "type": "scatter",
         "x": [
          122.1
         ],
         "xaxis": "x",
         "y": [
          82.6
         ],
         "yaxis": "y"
        },
        {
         "hovertemplate": "Mission ID=MSN-0275<br>Mission Type=Exploration<br>Mission Cost (billion USD)=%{x}<br>Mission Success (%)=%{y}<extra></extra>",
         "legendgroup": "MSN-0275, Exploration",
         "marker": {
          "color": "#FFA15A",
          "symbol": "diamond"
         },
         "mode": "markers",
         "name": "MSN-0275, Exploration",
         "orientation": "v",
         "showlegend": true,
         "type": "scatter",
         "x": [
          145.39
         ],
         "xaxis": "x",
         "y": [
          82.1
         ],
         "yaxis": "y"
        },
        {
         "hovertemplate": "Mission ID=MSN-0276<br>Mission Type=Research<br>Mission Cost (billion USD)=%{x}<br>Mission Success (%)=%{y}<extra></extra>",
         "legendgroup": "MSN-0276, Research",
         "marker": {
          "color": "#19d3f3",
          "symbol": "x"
         },
         "mode": "markers",
         "name": "MSN-0276, Research",
         "orientation": "v",
         "showlegend": true,
         "type": "scatter",
         "x": [
          122.77
         ],
         "xaxis": "x",
         "y": [
          95
         ],
         "yaxis": "y"
        },
        {
         "hovertemplate": "Mission ID=MSN-0277<br>Mission Type=Exploration<br>Mission Cost (billion USD)=%{x}<br>Mission Success (%)=%{y}<extra></extra>",
         "legendgroup": "MSN-0277, Exploration",
         "marker": {
          "color": "#FF6692",
          "symbol": "diamond"
         },
         "mode": "markers",
         "name": "MSN-0277, Exploration",
         "orientation": "v",
         "showlegend": true,
         "type": "scatter",
         "x": [
          133.06
         ],
         "xaxis": "x",
         "y": [
          83.1
         ],
         "yaxis": "y"
        },
        {
         "hovertemplate": "Mission ID=MSN-0278<br>Mission Type=Exploration<br>Mission Cost (billion USD)=%{x}<br>Mission Success (%)=%{y}<extra></extra>",
         "legendgroup": "MSN-0278, Exploration",
         "marker": {
          "color": "#B6E880",
          "symbol": "diamond"
         },
         "mode": "markers",
         "name": "MSN-0278, Exploration",
         "orientation": "v",
         "showlegend": true,
         "type": "scatter",
         "x": [
          188.22
         ],
         "xaxis": "x",
         "y": [
          81.8
         ],
         "yaxis": "y"
        },
        {
         "hovertemplate": "Mission ID=MSN-0279<br>Mission Type=Exploration<br>Mission Cost (billion USD)=%{x}<br>Mission Success (%)=%{y}<extra></extra>",
         "legendgroup": "MSN-0279, Exploration",
         "marker": {
          "color": "#FF97FF",
          "symbol": "diamond"
         },
         "mode": "markers",
         "name": "MSN-0279, Exploration",
         "orientation": "v",
         "showlegend": true,
         "type": "scatter",
         "x": [
          302.7
         ],
         "xaxis": "x",
         "y": [
          99.6
         ],
         "yaxis": "y"
        },
        {
         "hovertemplate": "Mission ID=MSN-0280<br>Mission Type=Colonization<br>Mission Cost (billion USD)=%{x}<br>Mission Success (%)=%{y}<extra></extra>",
         "legendgroup": "MSN-0280, Colonization",
         "marker": {
          "color": "#FECB52",
          "symbol": "circle"
         },
         "mode": "markers",
         "name": "MSN-0280, Colonization",
         "orientation": "v",
         "showlegend": true,
         "type": "scatter",
         "x": [
          335.17
         ],
         "xaxis": "x",
         "y": [
          100
         ],
         "yaxis": "y"
        },
        {
         "hovertemplate": "Mission ID=MSN-0281<br>Mission Type=Mining<br>Mission Cost (billion USD)=%{x}<br>Mission Success (%)=%{y}<extra></extra>",
         "legendgroup": "MSN-0281, Mining",
         "marker": {
          "color": "#636efa",
          "symbol": "square"
         },
         "mode": "markers",
         "name": "MSN-0281, Mining",
         "orientation": "v",
         "showlegend": true,
         "type": "scatter",
         "x": [
          227.9
         ],
         "xaxis": "x",
         "y": [
          100
         ],
         "yaxis": "y"
        },
        {
         "hovertemplate": "Mission ID=MSN-0282<br>Mission Type=Exploration<br>Mission Cost (billion USD)=%{x}<br>Mission Success (%)=%{y}<extra></extra>",
         "legendgroup": "MSN-0282, Exploration",
         "marker": {
          "color": "#EF553B",
          "symbol": "diamond"
         },
         "mode": "markers",
         "name": "MSN-0282, Exploration",
         "orientation": "v",
         "showlegend": true,
         "type": "scatter",
         "x": [
          318.71
         ],
         "xaxis": "x",
         "y": [
          98.9
         ],
         "yaxis": "y"
        },
        {
         "hovertemplate": "Mission ID=MSN-0283<br>Mission Type=Exploration<br>Mission Cost (billion USD)=%{x}<br>Mission Success (%)=%{y}<extra></extra>",
         "legendgroup": "MSN-0283, Exploration",
         "marker": {
          "color": "#00cc96",
          "symbol": "diamond"
         },
         "mode": "markers",
         "name": "MSN-0283, Exploration",
         "orientation": "v",
         "showlegend": true,
         "type": "scatter",
         "x": [
          66.31
         ],
         "xaxis": "x",
         "y": [
          68.7
         ],
         "yaxis": "y"
        },
        {
         "hovertemplate": "Mission ID=MSN-0284<br>Mission Type=Colonization<br>Mission Cost (billion USD)=%{x}<br>Mission Success (%)=%{y}<extra></extra>",
         "legendgroup": "MSN-0284, Colonization",
         "marker": {
          "color": "#ab63fa",
          "symbol": "circle"
         },
         "mode": "markers",
         "name": "MSN-0284, Colonization",
         "orientation": "v",
         "showlegend": true,
         "type": "scatter",
         "x": [
          94.85
         ],
         "xaxis": "x",
         "y": [
          83.6
         ],
         "yaxis": "y"
        },
        {
         "hovertemplate": "Mission ID=MSN-0285<br>Mission Type=Exploration<br>Mission Cost (billion USD)=%{x}<br>Mission Success (%)=%{y}<extra></extra>",
         "legendgroup": "MSN-0285, Exploration",
         "marker": {
          "color": "#FFA15A",
          "symbol": "diamond"
         },
         "mode": "markers",
         "name": "MSN-0285, Exploration",
         "orientation": "v",
         "showlegend": true,
         "type": "scatter",
         "x": [
          125.86
         ],
         "xaxis": "x",
         "y": [
          75.7
         ],
         "yaxis": "y"
        },
        {
         "hovertemplate": "Mission ID=MSN-0286<br>Mission Type=Research<br>Mission Cost (billion USD)=%{x}<br>Mission Success (%)=%{y}<extra></extra>",
         "legendgroup": "MSN-0286, Research",
         "marker": {
          "color": "#19d3f3",
          "symbol": "x"
         },
         "mode": "markers",
         "name": "MSN-0286, Research",
         "orientation": "v",
         "showlegend": true,
         "type": "scatter",
         "x": [
          282.98
         ],
         "xaxis": "x",
         "y": [
          96.1
         ],
         "yaxis": "y"
        },
        {
         "hovertemplate": "Mission ID=MSN-0287<br>Mission Type=Research<br>Mission Cost (billion USD)=%{x}<br>Mission Success (%)=%{y}<extra></extra>",
         "legendgroup": "MSN-0287, Research",
         "marker": {
          "color": "#FF6692",
          "symbol": "x"
         },
         "mode": "markers",
         "name": "MSN-0287, Research",
         "orientation": "v",
         "showlegend": true,
         "type": "scatter",
         "x": [
          137.3
         ],
         "xaxis": "x",
         "y": [
          82.4
         ],
         "yaxis": "y"
        },
        {
         "hovertemplate": "Mission ID=MSN-0288<br>Mission Type=Mining<br>Mission Cost (billion USD)=%{x}<br>Mission Success (%)=%{y}<extra></extra>",
         "legendgroup": "MSN-0288, Mining",
         "marker": {
          "color": "#B6E880",
          "symbol": "square"
         },
         "mode": "markers",
         "name": "MSN-0288, Mining",
         "orientation": "v",
         "showlegend": true,
         "type": "scatter",
         "x": [
          150.38
         ],
         "xaxis": "x",
         "y": [
          84.7
         ],
         "yaxis": "y"
        },
        {
         "hovertemplate": "Mission ID=MSN-0289<br>Mission Type=Exploration<br>Mission Cost (billion USD)=%{x}<br>Mission Success (%)=%{y}<extra></extra>",
         "legendgroup": "MSN-0289, Exploration",
         "marker": {
          "color": "#FF97FF",
          "symbol": "diamond"
         },
         "mode": "markers",
         "name": "MSN-0289, Exploration",
         "orientation": "v",
         "showlegend": true,
         "type": "scatter",
         "x": [
          252.39
         ],
         "xaxis": "x",
         "y": [
          98.7
         ],
         "yaxis": "y"
        },
        {
         "hovertemplate": "Mission ID=MSN-0290<br>Mission Type=Colonization<br>Mission Cost (billion USD)=%{x}<br>Mission Success (%)=%{y}<extra></extra>",
         "legendgroup": "MSN-0290, Colonization",
         "marker": {
          "color": "#FECB52",
          "symbol": "circle"
         },
         "mode": "markers",
         "name": "MSN-0290, Colonization",
         "orientation": "v",
         "showlegend": true,
         "type": "scatter",
         "x": [
          440.5
         ],
         "xaxis": "x",
         "y": [
          100
         ],
         "yaxis": "y"
        },
        {
         "hovertemplate": "Mission ID=MSN-0291<br>Mission Type=Research<br>Mission Cost (billion USD)=%{x}<br>Mission Success (%)=%{y}<extra></extra>",
         "legendgroup": "MSN-0291, Research",
         "marker": {
          "color": "#636efa",
          "symbol": "x"
         },
         "mode": "markers",
         "name": "MSN-0291, Research",
         "orientation": "v",
         "showlegend": true,
         "type": "scatter",
         "x": [
          26.83
         ],
         "xaxis": "x",
         "y": [
          71.3
         ],
         "yaxis": "y"
        },
        {
         "hovertemplate": "Mission ID=MSN-0292<br>Mission Type=Colonization<br>Mission Cost (billion USD)=%{x}<br>Mission Success (%)=%{y}<extra></extra>",
         "legendgroup": "MSN-0292, Colonization",
         "marker": {
          "color": "#EF553B",
          "symbol": "circle"
         },
         "mode": "markers",
         "name": "MSN-0292, Colonization",
         "orientation": "v",
         "showlegend": true,
         "type": "scatter",
         "x": [
          356.15
         ],
         "xaxis": "x",
         "y": [
          100
         ],
         "yaxis": "y"
        },
        {
         "hovertemplate": "Mission ID=MSN-0293<br>Mission Type=Colonization<br>Mission Cost (billion USD)=%{x}<br>Mission Success (%)=%{y}<extra></extra>",
         "legendgroup": "MSN-0293, Colonization",
         "marker": {
          "color": "#00cc96",
          "symbol": "circle"
         },
         "mode": "markers",
         "name": "MSN-0293, Colonization",
         "orientation": "v",
         "showlegend": true,
         "type": "scatter",
         "x": [
          342.46
         ],
         "xaxis": "x",
         "y": [
          100
         ],
         "yaxis": "y"
        },
        {
         "hovertemplate": "Mission ID=MSN-0294<br>Mission Type=Research<br>Mission Cost (billion USD)=%{x}<br>Mission Success (%)=%{y}<extra></extra>",
         "legendgroup": "MSN-0294, Research",
         "marker": {
          "color": "#ab63fa",
          "symbol": "x"
         },
         "mode": "markers",
         "name": "MSN-0294, Research",
         "orientation": "v",
         "showlegend": true,
         "type": "scatter",
         "x": [
          448.68
         ],
         "xaxis": "x",
         "y": [
          100
         ],
         "yaxis": "y"
        },
        {
         "hovertemplate": "Mission ID=MSN-0295<br>Mission Type=Colonization<br>Mission Cost (billion USD)=%{x}<br>Mission Success (%)=%{y}<extra></extra>",
         "legendgroup": "MSN-0295, Colonization",
         "marker": {
          "color": "#FFA15A",
          "symbol": "circle"
         },
         "mode": "markers",
         "name": "MSN-0295, Colonization",
         "orientation": "v",
         "showlegend": true,
         "type": "scatter",
         "x": [
          476.26
         ],
         "xaxis": "x",
         "y": [
          100
         ],
         "yaxis": "y"
        },
        {
         "hovertemplate": "Mission ID=MSN-0296<br>Mission Type=Research<br>Mission Cost (billion USD)=%{x}<br>Mission Success (%)=%{y}<extra></extra>",
         "legendgroup": "MSN-0296, Research",
         "marker": {
          "color": "#19d3f3",
          "symbol": "x"
         },
         "mode": "markers",
         "name": "MSN-0296, Research",
         "orientation": "v",
         "showlegend": true,
         "type": "scatter",
         "x": [
          47.7
         ],
         "xaxis": "x",
         "y": [
          79
         ],
         "yaxis": "y"
        },
        {
         "hovertemplate": "Mission ID=MSN-0297<br>Mission Type=Colonization<br>Mission Cost (billion USD)=%{x}<br>Mission Success (%)=%{y}<extra></extra>",
         "legendgroup": "MSN-0297, Colonization",
         "marker": {
          "color": "#FF6692",
          "symbol": "circle"
         },
         "mode": "markers",
         "name": "MSN-0297, Colonization",
         "orientation": "v",
         "showlegend": true,
         "type": "scatter",
         "x": [
          94.13
         ],
         "xaxis": "x",
         "y": [
          81.4
         ],
         "yaxis": "y"
        },
        {
         "hovertemplate": "Mission ID=MSN-0298<br>Mission Type=Research<br>Mission Cost (billion USD)=%{x}<br>Mission Success (%)=%{y}<extra></extra>",
         "legendgroup": "MSN-0298, Research",
         "marker": {
          "color": "#B6E880",
          "symbol": "x"
         },
         "mode": "markers",
         "name": "MSN-0298, Research",
         "orientation": "v",
         "showlegend": true,
         "type": "scatter",
         "x": [
          479.81
         ],
         "xaxis": "x",
         "y": [
          100
         ],
         "yaxis": "y"
        },
        {
         "hovertemplate": "Mission ID=MSN-0299<br>Mission Type=Exploration<br>Mission Cost (billion USD)=%{x}<br>Mission Success (%)=%{y}<extra></extra>",
         "legendgroup": "MSN-0299, Exploration",
         "marker": {
          "color": "#FF97FF",
          "symbol": "diamond"
         },
         "mode": "markers",
         "name": "MSN-0299, Exploration",
         "orientation": "v",
         "showlegend": true,
         "type": "scatter",
         "x": [
          271.01
         ],
         "xaxis": "x",
         "y": [
          89.2
         ],
         "yaxis": "y"
        },
        {
         "hovertemplate": "Mission ID=MSN-0300<br>Mission Type=Mining<br>Mission Cost (billion USD)=%{x}<br>Mission Success (%)=%{y}<extra></extra>",
         "legendgroup": "MSN-0300, Mining",
         "marker": {
          "color": "#FECB52",
          "symbol": "square"
         },
         "mode": "markers",
         "name": "MSN-0300, Mining",
         "orientation": "v",
         "showlegend": true,
         "type": "scatter",
         "x": [
          318.45
         ],
         "xaxis": "x",
         "y": [
          100
         ],
         "yaxis": "y"
        },
        {
         "hovertemplate": "Mission ID=MSN-0301<br>Mission Type=Research<br>Mission Cost (billion USD)=%{x}<br>Mission Success (%)=%{y}<extra></extra>",
         "legendgroup": "MSN-0301, Research",
         "marker": {
          "color": "#636efa",
          "symbol": "x"
         },
         "mode": "markers",
         "name": "MSN-0301, Research",
         "orientation": "v",
         "showlegend": true,
         "type": "scatter",
         "x": [
          364.31
         ],
         "xaxis": "x",
         "y": [
          100
         ],
         "yaxis": "y"
        },
        {
         "hovertemplate": "Mission ID=MSN-0302<br>Mission Type=Research<br>Mission Cost (billion USD)=%{x}<br>Mission Success (%)=%{y}<extra></extra>",
         "legendgroup": "MSN-0302, Research",
         "marker": {
          "color": "#EF553B",
          "symbol": "x"
         },
         "mode": "markers",
         "name": "MSN-0302, Research",
         "orientation": "v",
         "showlegend": true,
         "type": "scatter",
         "x": [
          385.88
         ],
         "xaxis": "x",
         "y": [
          100
         ],
         "yaxis": "y"
        },
        {
         "hovertemplate": "Mission ID=MSN-0303<br>Mission Type=Mining<br>Mission Cost (billion USD)=%{x}<br>Mission Success (%)=%{y}<extra></extra>",
         "legendgroup": "MSN-0303, Mining",
         "marker": {
          "color": "#00cc96",
          "symbol": "square"
         },
         "mode": "markers",
         "name": "MSN-0303, Mining",
         "orientation": "v",
         "showlegend": true,
         "type": "scatter",
         "x": [
          471.05
         ],
         "xaxis": "x",
         "y": [
          100
         ],
         "yaxis": "y"
        },
        {
         "hovertemplate": "Mission ID=MSN-0304<br>Mission Type=Research<br>Mission Cost (billion USD)=%{x}<br>Mission Success (%)=%{y}<extra></extra>",
         "legendgroup": "MSN-0304, Research",
         "marker": {
          "color": "#ab63fa",
          "symbol": "x"
         },
         "mode": "markers",
         "name": "MSN-0304, Research",
         "orientation": "v",
         "showlegend": true,
         "type": "scatter",
         "x": [
          515.71
         ],
         "xaxis": "x",
         "y": [
          100
         ],
         "yaxis": "y"
        },
        {
         "hovertemplate": "Mission ID=MSN-0305<br>Mission Type=Research<br>Mission Cost (billion USD)=%{x}<br>Mission Success (%)=%{y}<extra></extra>",
         "legendgroup": "MSN-0305, Research",
         "marker": {
          "color": "#FFA15A",
          "symbol": "x"
         },
         "mode": "markers",
         "name": "MSN-0305, Research",
         "orientation": "v",
         "showlegend": true,
         "type": "scatter",
         "x": [
          374.67
         ],
         "xaxis": "x",
         "y": [
          100
         ],
         "yaxis": "y"
        },
        {
         "hovertemplate": "Mission ID=MSN-0306<br>Mission Type=Colonization<br>Mission Cost (billion USD)=%{x}<br>Mission Success (%)=%{y}<extra></extra>",
         "legendgroup": "MSN-0306, Colonization",
         "marker": {
          "color": "#19d3f3",
          "symbol": "circle"
         },
         "mode": "markers",
         "name": "MSN-0306, Colonization",
         "orientation": "v",
         "showlegend": true,
         "type": "scatter",
         "x": [
          196.56
         ],
         "xaxis": "x",
         "y": [
          92.3
         ],
         "yaxis": "y"
        },
        {
         "hovertemplate": "Mission ID=MSN-0307<br>Mission Type=Mining<br>Mission Cost (billion USD)=%{x}<br>Mission Success (%)=%{y}<extra></extra>",
         "legendgroup": "MSN-0307, Mining",
         "marker": {
          "color": "#FF6692",
          "symbol": "square"
         },
         "mode": "markers",
         "name": "MSN-0307, Mining",
         "orientation": "v",
         "showlegend": true,
         "type": "scatter",
         "x": [
          460.58
         ],
         "xaxis": "x",
         "y": [
          100
         ],
         "yaxis": "y"
        },
        {
         "hovertemplate": "Mission ID=MSN-0308<br>Mission Type=Exploration<br>Mission Cost (billion USD)=%{x}<br>Mission Success (%)=%{y}<extra></extra>",
         "legendgroup": "MSN-0308, Exploration",
         "marker": {
          "color": "#B6E880",
          "symbol": "diamond"
         },
         "mode": "markers",
         "name": "MSN-0308, Exploration",
         "orientation": "v",
         "showlegend": true,
         "type": "scatter",
         "x": [
          66.25
         ],
         "xaxis": "x",
         "y": [
          74.6
         ],
         "yaxis": "y"
        },
        {
         "hovertemplate": "Mission ID=MSN-0309<br>Mission Type=Research<br>Mission Cost (billion USD)=%{x}<br>Mission Success (%)=%{y}<extra></extra>",
         "legendgroup": "MSN-0309, Research",
         "marker": {
          "color": "#FF97FF",
          "symbol": "x"
         },
         "mode": "markers",
         "name": "MSN-0309, Research",
         "orientation": "v",
         "showlegend": true,
         "type": "scatter",
         "x": [
          153.95
         ],
         "xaxis": "x",
         "y": [
          89.9
         ],
         "yaxis": "y"
        },
        {
         "hovertemplate": "Mission ID=MSN-0310<br>Mission Type=Mining<br>Mission Cost (billion USD)=%{x}<br>Mission Success (%)=%{y}<extra></extra>",
         "legendgroup": "MSN-0310, Mining",
         "marker": {
          "color": "#FECB52",
          "symbol": "square"
         },
         "mode": "markers",
         "name": "MSN-0310, Mining",
         "orientation": "v",
         "showlegend": true,
         "type": "scatter",
         "x": [
          460.59
         ],
         "xaxis": "x",
         "y": [
          100
         ],
         "yaxis": "y"
        },
        {
         "hovertemplate": "Mission ID=MSN-0311<br>Mission Type=Colonization<br>Mission Cost (billion USD)=%{x}<br>Mission Success (%)=%{y}<extra></extra>",
         "legendgroup": "MSN-0311, Colonization",
         "marker": {
          "color": "#636efa",
          "symbol": "circle"
         },
         "mode": "markers",
         "name": "MSN-0311, Colonization",
         "orientation": "v",
         "showlegend": true,
         "type": "scatter",
         "x": [
          144.51
         ],
         "xaxis": "x",
         "y": [
          83.8
         ],
         "yaxis": "y"
        },
        {
         "hovertemplate": "Mission ID=MSN-0312<br>Mission Type=Exploration<br>Mission Cost (billion USD)=%{x}<br>Mission Success (%)=%{y}<extra></extra>",
         "legendgroup": "MSN-0312, Exploration",
         "marker": {
          "color": "#EF553B",
          "symbol": "diamond"
         },
         "mode": "markers",
         "name": "MSN-0312, Exploration",
         "orientation": "v",
         "showlegend": true,
         "type": "scatter",
         "x": [
          128.98
         ],
         "xaxis": "x",
         "y": [
          81.8
         ],
         "yaxis": "y"
        },
        {
         "hovertemplate": "Mission ID=MSN-0313<br>Mission Type=Mining<br>Mission Cost (billion USD)=%{x}<br>Mission Success (%)=%{y}<extra></extra>",
         "legendgroup": "MSN-0313, Mining",
         "marker": {
          "color": "#00cc96",
          "symbol": "square"
         },
         "mode": "markers",
         "name": "MSN-0313, Mining",
         "orientation": "v",
         "showlegend": true,
         "type": "scatter",
         "x": [
          94.5
         ],
         "xaxis": "x",
         "y": [
          83.2
         ],
         "yaxis": "y"
        },
        {
         "hovertemplate": "Mission ID=MSN-0314<br>Mission Type=Exploration<br>Mission Cost (billion USD)=%{x}<br>Mission Success (%)=%{y}<extra></extra>",
         "legendgroup": "MSN-0314, Exploration",
         "marker": {
          "color": "#ab63fa",
          "symbol": "diamond"
         },
         "mode": "markers",
         "name": "MSN-0314, Exploration",
         "orientation": "v",
         "showlegend": true,
         "type": "scatter",
         "x": [
          442.73
         ],
         "xaxis": "x",
         "y": [
          100
         ],
         "yaxis": "y"
        },
        {
         "hovertemplate": "Mission ID=MSN-0315<br>Mission Type=Exploration<br>Mission Cost (billion USD)=%{x}<br>Mission Success (%)=%{y}<extra></extra>",
         "legendgroup": "MSN-0315, Exploration",
         "marker": {
          "color": "#FFA15A",
          "symbol": "diamond"
         },
         "mode": "markers",
         "name": "MSN-0315, Exploration",
         "orientation": "v",
         "showlegend": true,
         "type": "scatter",
         "x": [
          254.51
         ],
         "xaxis": "x",
         "y": [
          100
         ],
         "yaxis": "y"
        },
        {
         "hovertemplate": "Mission ID=MSN-0316<br>Mission Type=Exploration<br>Mission Cost (billion USD)=%{x}<br>Mission Success (%)=%{y}<extra></extra>",
         "legendgroup": "MSN-0316, Exploration",
         "marker": {
          "color": "#19d3f3",
          "symbol": "diamond"
         },
         "mode": "markers",
         "name": "MSN-0316, Exploration",
         "orientation": "v",
         "showlegend": true,
         "type": "scatter",
         "x": [
          383.14
         ],
         "xaxis": "x",
         "y": [
          100
         ],
         "yaxis": "y"
        },
        {
         "hovertemplate": "Mission ID=MSN-0317<br>Mission Type=Research<br>Mission Cost (billion USD)=%{x}<br>Mission Success (%)=%{y}<extra></extra>",
         "legendgroup": "MSN-0317, Research",
         "marker": {
          "color": "#FF6692",
          "symbol": "x"
         },
         "mode": "markers",
         "name": "MSN-0317, Research",
         "orientation": "v",
         "showlegend": true,
         "type": "scatter",
         "x": [
          171.66
         ],
         "xaxis": "x",
         "y": [
          89.8
         ],
         "yaxis": "y"
        },
        {
         "hovertemplate": "Mission ID=MSN-0318<br>Mission Type=Research<br>Mission Cost (billion USD)=%{x}<br>Mission Success (%)=%{y}<extra></extra>",
         "legendgroup": "MSN-0318, Research",
         "marker": {
          "color": "#B6E880",
          "symbol": "x"
         },
         "mode": "markers",
         "name": "MSN-0318, Research",
         "orientation": "v",
         "showlegend": true,
         "type": "scatter",
         "x": [
          397.99
         ],
         "xaxis": "x",
         "y": [
          100
         ],
         "yaxis": "y"
        },
        {
         "hovertemplate": "Mission ID=MSN-0319<br>Mission Type=Colonization<br>Mission Cost (billion USD)=%{x}<br>Mission Success (%)=%{y}<extra></extra>",
         "legendgroup": "MSN-0319, Colonization",
         "marker": {
          "color": "#FF97FF",
          "symbol": "circle"
         },
         "mode": "markers",
         "name": "MSN-0319, Colonization",
         "orientation": "v",
         "showlegend": true,
         "type": "scatter",
         "x": [
          398.79
         ],
         "xaxis": "x",
         "y": [
          100
         ],
         "yaxis": "y"
        },
        {
         "hovertemplate": "Mission ID=MSN-0320<br>Mission Type=Colonization<br>Mission Cost (billion USD)=%{x}<br>Mission Success (%)=%{y}<extra></extra>",
         "legendgroup": "MSN-0320, Colonization",
         "marker": {
          "color": "#FECB52",
          "symbol": "circle"
         },
         "mode": "markers",
         "name": "MSN-0320, Colonization",
         "orientation": "v",
         "showlegend": true,
         "type": "scatter",
         "x": [
          161.1
         ],
         "xaxis": "x",
         "y": [
          86.1
         ],
         "yaxis": "y"
        },
        {
         "hovertemplate": "Mission ID=MSN-0321<br>Mission Type=Mining<br>Mission Cost (billion USD)=%{x}<br>Mission Success (%)=%{y}<extra></extra>",
         "legendgroup": "MSN-0321, Mining",
         "marker": {
          "color": "#636efa",
          "symbol": "square"
         },
         "mode": "markers",
         "name": "MSN-0321, Mining",
         "orientation": "v",
         "showlegend": true,
         "type": "scatter",
         "x": [
          242.63
         ],
         "xaxis": "x",
         "y": [
          94.9
         ],
         "yaxis": "y"
        },
        {
         "hovertemplate": "Mission ID=MSN-0322<br>Mission Type=Colonization<br>Mission Cost (billion USD)=%{x}<br>Mission Success (%)=%{y}<extra></extra>",
         "legendgroup": "MSN-0322, Colonization",
         "marker": {
          "color": "#EF553B",
          "symbol": "circle"
         },
         "mode": "markers",
         "name": "MSN-0322, Colonization",
         "orientation": "v",
         "showlegend": true,
         "type": "scatter",
         "x": [
          150.25
         ],
         "xaxis": "x",
         "y": [
          99.6
         ],
         "yaxis": "y"
        },
        {
         "hovertemplate": "Mission ID=MSN-0323<br>Mission Type=Exploration<br>Mission Cost (billion USD)=%{x}<br>Mission Success (%)=%{y}<extra></extra>",
         "legendgroup": "MSN-0323, Exploration",
         "marker": {
          "color": "#00cc96",
          "symbol": "diamond"
         },
         "mode": "markers",
         "name": "MSN-0323, Exploration",
         "orientation": "v",
         "showlegend": true,
         "type": "scatter",
         "x": [
          496.58
         ],
         "xaxis": "x",
         "y": [
          100
         ],
         "yaxis": "y"
        },
        {
         "hovertemplate": "Mission ID=MSN-0324<br>Mission Type=Exploration<br>Mission Cost (billion USD)=%{x}<br>Mission Success (%)=%{y}<extra></extra>",
         "legendgroup": "MSN-0324, Exploration",
         "marker": {
          "color": "#ab63fa",
          "symbol": "diamond"
         },
         "mode": "markers",
         "name": "MSN-0324, Exploration",
         "orientation": "v",
         "showlegend": true,
         "type": "scatter",
         "x": [
          333.37
         ],
         "xaxis": "x",
         "y": [
          97.7
         ],
         "yaxis": "y"
        },
        {
         "hovertemplate": "Mission ID=MSN-0325<br>Mission Type=Research<br>Mission Cost (billion USD)=%{x}<br>Mission Success (%)=%{y}<extra></extra>",
         "legendgroup": "MSN-0325, Research",
         "marker": {
          "color": "#FFA15A",
          "symbol": "x"
         },
         "mode": "markers",
         "name": "MSN-0325, Research",
         "orientation": "v",
         "showlegend": true,
         "type": "scatter",
         "x": [
          507.31
         ],
         "xaxis": "x",
         "y": [
          100
         ],
         "yaxis": "y"
        },
        {
         "hovertemplate": "Mission ID=MSN-0326<br>Mission Type=Exploration<br>Mission Cost (billion USD)=%{x}<br>Mission Success (%)=%{y}<extra></extra>",
         "legendgroup": "MSN-0326, Exploration",
         "marker": {
          "color": "#19d3f3",
          "symbol": "diamond"
         },
         "mode": "markers",
         "name": "MSN-0326, Exploration",
         "orientation": "v",
         "showlegend": true,
         "type": "scatter",
         "x": [
          186.4
         ],
         "xaxis": "x",
         "y": [
          78.3
         ],
         "yaxis": "y"
        },
        {
         "hovertemplate": "Mission ID=MSN-0327<br>Mission Type=Mining<br>Mission Cost (billion USD)=%{x}<br>Mission Success (%)=%{y}<extra></extra>",
         "legendgroup": "MSN-0327, Mining",
         "marker": {
          "color": "#FF6692",
          "symbol": "square"
         },
         "mode": "markers",
         "name": "MSN-0327, Mining",
         "orientation": "v",
         "showlegend": true,
         "type": "scatter",
         "x": [
          395.25
         ],
         "xaxis": "x",
         "y": [
          100
         ],
         "yaxis": "y"
        },
        {
         "hovertemplate": "Mission ID=MSN-0328<br>Mission Type=Exploration<br>Mission Cost (billion USD)=%{x}<br>Mission Success (%)=%{y}<extra></extra>",
         "legendgroup": "MSN-0328, Exploration",
         "marker": {
          "color": "#B6E880",
          "symbol": "diamond"
         },
         "mode": "markers",
         "name": "MSN-0328, Exploration",
         "orientation": "v",
         "showlegend": true,
         "type": "scatter",
         "x": [
          415.6
         ],
         "xaxis": "x",
         "y": [
          100
         ],
         "yaxis": "y"
        },
        {
         "hovertemplate": "Mission ID=MSN-0329<br>Mission Type=Exploration<br>Mission Cost (billion USD)=%{x}<br>Mission Success (%)=%{y}<extra></extra>",
         "legendgroup": "MSN-0329, Exploration",
         "marker": {
          "color": "#FF97FF",
          "symbol": "diamond"
         },
         "mode": "markers",
         "name": "MSN-0329, Exploration",
         "orientation": "v",
         "showlegend": true,
         "type": "scatter",
         "x": [
          363.49
         ],
         "xaxis": "x",
         "y": [
          100
         ],
         "yaxis": "y"
        },
        {
         "hovertemplate": "Mission ID=MSN-0330<br>Mission Type=Mining<br>Mission Cost (billion USD)=%{x}<br>Mission Success (%)=%{y}<extra></extra>",
         "legendgroup": "MSN-0330, Mining",
         "marker": {
          "color": "#FECB52",
          "symbol": "square"
         },
         "mode": "markers",
         "name": "MSN-0330, Mining",
         "orientation": "v",
         "showlegend": true,
         "type": "scatter",
         "x": [
          502.07
         ],
         "xaxis": "x",
         "y": [
          100
         ],
         "yaxis": "y"
        },
        {
         "hovertemplate": "Mission ID=MSN-0331<br>Mission Type=Colonization<br>Mission Cost (billion USD)=%{x}<br>Mission Success (%)=%{y}<extra></extra>",
         "legendgroup": "MSN-0331, Colonization",
         "marker": {
          "color": "#636efa",
          "symbol": "circle"
         },
         "mode": "markers",
         "name": "MSN-0331, Colonization",
         "orientation": "v",
         "showlegend": true,
         "type": "scatter",
         "x": [
          238.52
         ],
         "xaxis": "x",
         "y": [
          91.3
         ],
         "yaxis": "y"
        },
        {
         "hovertemplate": "Mission ID=MSN-0332<br>Mission Type=Colonization<br>Mission Cost (billion USD)=%{x}<br>Mission Success (%)=%{y}<extra></extra>",
         "legendgroup": "MSN-0332, Colonization",
         "marker": {
          "color": "#EF553B",
          "symbol": "circle"
         },
         "mode": "markers",
         "name": "MSN-0332, Colonization",
         "orientation": "v",
         "showlegend": true,
         "type": "scatter",
         "x": [
          110.44
         ],
         "xaxis": "x",
         "y": [
          80.3
         ],
         "yaxis": "y"
        },
        {
         "hovertemplate": "Mission ID=MSN-0333<br>Mission Type=Mining<br>Mission Cost (billion USD)=%{x}<br>Mission Success (%)=%{y}<extra></extra>",
         "legendgroup": "MSN-0333, Mining",
         "marker": {
          "color": "#00cc96",
          "symbol": "square"
         },
         "mode": "markers",
         "name": "MSN-0333, Mining",
         "orientation": "v",
         "showlegend": true,
         "type": "scatter",
         "x": [
          358.12
         ],
         "xaxis": "x",
         "y": [
          100
         ],
         "yaxis": "y"
        },
        {
         "hovertemplate": "Mission ID=MSN-0334<br>Mission Type=Research<br>Mission Cost (billion USD)=%{x}<br>Mission Success (%)=%{y}<extra></extra>",
         "legendgroup": "MSN-0334, Research",
         "marker": {
          "color": "#ab63fa",
          "symbol": "x"
         },
         "mode": "markers",
         "name": "MSN-0334, Research",
         "orientation": "v",
         "showlegend": true,
         "type": "scatter",
         "x": [
          413.41
         ],
         "xaxis": "x",
         "y": [
          100
         ],
         "yaxis": "y"
        },
        {
         "hovertemplate": "Mission ID=MSN-0335<br>Mission Type=Exploration<br>Mission Cost (billion USD)=%{x}<br>Mission Success (%)=%{y}<extra></extra>",
         "legendgroup": "MSN-0335, Exploration",
         "marker": {
          "color": "#FFA15A",
          "symbol": "diamond"
         },
         "mode": "markers",
         "name": "MSN-0335, Exploration",
         "orientation": "v",
         "showlegend": true,
         "type": "scatter",
         "x": [
          310.57
         ],
         "xaxis": "x",
         "y": [
          100
         ],
         "yaxis": "y"
        },
        {
         "hovertemplate": "Mission ID=MSN-0336<br>Mission Type=Mining<br>Mission Cost (billion USD)=%{x}<br>Mission Success (%)=%{y}<extra></extra>",
         "legendgroup": "MSN-0336, Mining",
         "marker": {
          "color": "#19d3f3",
          "symbol": "square"
         },
         "mode": "markers",
         "name": "MSN-0336, Mining",
         "orientation": "v",
         "showlegend": true,
         "type": "scatter",
         "x": [
          146.17
         ],
         "xaxis": "x",
         "y": [
          78.2
         ],
         "yaxis": "y"
        },
        {
         "hovertemplate": "Mission ID=MSN-0337<br>Mission Type=Exploration<br>Mission Cost (billion USD)=%{x}<br>Mission Success (%)=%{y}<extra></extra>",
         "legendgroup": "MSN-0337, Exploration",
         "marker": {
          "color": "#FF6692",
          "symbol": "diamond"
         },
         "mode": "markers",
         "name": "MSN-0337, Exploration",
         "orientation": "v",
         "showlegend": true,
         "type": "scatter",
         "x": [
          279.41
         ],
         "xaxis": "x",
         "y": [
          95.9
         ],
         "yaxis": "y"
        },
        {
         "hovertemplate": "Mission ID=MSN-0338<br>Mission Type=Research<br>Mission Cost (billion USD)=%{x}<br>Mission Success (%)=%{y}<extra></extra>",
         "legendgroup": "MSN-0338, Research",
         "marker": {
          "color": "#B6E880",
          "symbol": "x"
         },
         "mode": "markers",
         "name": "MSN-0338, Research",
         "orientation": "v",
         "showlegend": true,
         "type": "scatter",
         "x": [
          204.53
         ],
         "xaxis": "x",
         "y": [
          85.5
         ],
         "yaxis": "y"
        },
        {
         "hovertemplate": "Mission ID=MSN-0339<br>Mission Type=Exploration<br>Mission Cost (billion USD)=%{x}<br>Mission Success (%)=%{y}<extra></extra>",
         "legendgroup": "MSN-0339, Exploration",
         "marker": {
          "color": "#FF97FF",
          "symbol": "diamond"
         },
         "mode": "markers",
         "name": "MSN-0339, Exploration",
         "orientation": "v",
         "showlegend": true,
         "type": "scatter",
         "x": [
          262.08
         ],
         "xaxis": "x",
         "y": [
          99
         ],
         "yaxis": "y"
        },
        {
         "hovertemplate": "Mission ID=MSN-0340<br>Mission Type=Mining<br>Mission Cost (billion USD)=%{x}<br>Mission Success (%)=%{y}<extra></extra>",
         "legendgroup": "MSN-0340, Mining",
         "marker": {
          "color": "#FECB52",
          "symbol": "square"
         },
         "mode": "markers",
         "name": "MSN-0340, Mining",
         "orientation": "v",
         "showlegend": true,
         "type": "scatter",
         "x": [
          329.68
         ],
         "xaxis": "x",
         "y": [
          100
         ],
         "yaxis": "y"
        },
        {
         "hovertemplate": "Mission ID=MSN-0341<br>Mission Type=Exploration<br>Mission Cost (billion USD)=%{x}<br>Mission Success (%)=%{y}<extra></extra>",
         "legendgroup": "MSN-0341, Exploration",
         "marker": {
          "color": "#636efa",
          "symbol": "diamond"
         },
         "mode": "markers",
         "name": "MSN-0341, Exploration",
         "orientation": "v",
         "showlegend": true,
         "type": "scatter",
         "x": [
          420.79
         ],
         "xaxis": "x",
         "y": [
          100
         ],
         "yaxis": "y"
        },
        {
         "hovertemplate": "Mission ID=MSN-0342<br>Mission Type=Colonization<br>Mission Cost (billion USD)=%{x}<br>Mission Success (%)=%{y}<extra></extra>",
         "legendgroup": "MSN-0342, Colonization",
         "marker": {
          "color": "#EF553B",
          "symbol": "circle"
         },
         "mode": "markers",
         "name": "MSN-0342, Colonization",
         "orientation": "v",
         "showlegend": true,
         "type": "scatter",
         "x": [
          161.4
         ],
         "xaxis": "x",
         "y": [
          76.9
         ],
         "yaxis": "y"
        },
        {
         "hovertemplate": "Mission ID=MSN-0343<br>Mission Type=Research<br>Mission Cost (billion USD)=%{x}<br>Mission Success (%)=%{y}<extra></extra>",
         "legendgroup": "MSN-0343, Research",
         "marker": {
          "color": "#00cc96",
          "symbol": "x"
         },
         "mode": "markers",
         "name": "MSN-0343, Research",
         "orientation": "v",
         "showlegend": true,
         "type": "scatter",
         "x": [
          245.42
         ],
         "xaxis": "x",
         "y": [
          93.9
         ],
         "yaxis": "y"
        },
        {
         "hovertemplate": "Mission ID=MSN-0344<br>Mission Type=Research<br>Mission Cost (billion USD)=%{x}<br>Mission Success (%)=%{y}<extra></extra>",
         "legendgroup": "MSN-0344, Research",
         "marker": {
          "color": "#ab63fa",
          "symbol": "x"
         },
         "mode": "markers",
         "name": "MSN-0344, Research",
         "orientation": "v",
         "showlegend": true,
         "type": "scatter",
         "x": [
          149.09
         ],
         "xaxis": "x",
         "y": [
          85
         ],
         "yaxis": "y"
        },
        {
         "hovertemplate": "Mission ID=MSN-0345<br>Mission Type=Research<br>Mission Cost (billion USD)=%{x}<br>Mission Success (%)=%{y}<extra></extra>",
         "legendgroup": "MSN-0345, Research",
         "marker": {
          "color": "#FFA15A",
          "symbol": "x"
         },
         "mode": "markers",
         "name": "MSN-0345, Research",
         "orientation": "v",
         "showlegend": true,
         "type": "scatter",
         "x": [
          143.75
         ],
         "xaxis": "x",
         "y": [
          85.5
         ],
         "yaxis": "y"
        },
        {
         "hovertemplate": "Mission ID=MSN-0346<br>Mission Type=Mining<br>Mission Cost (billion USD)=%{x}<br>Mission Success (%)=%{y}<extra></extra>",
         "legendgroup": "MSN-0346, Mining",
         "marker": {
          "color": "#19d3f3",
          "symbol": "square"
         },
         "mode": "markers",
         "name": "MSN-0346, Mining",
         "orientation": "v",
         "showlegend": true,
         "type": "scatter",
         "x": [
          435.46
         ],
         "xaxis": "x",
         "y": [
          100
         ],
         "yaxis": "y"
        },
        {
         "hovertemplate": "Mission ID=MSN-0347<br>Mission Type=Research<br>Mission Cost (billion USD)=%{x}<br>Mission Success (%)=%{y}<extra></extra>",
         "legendgroup": "MSN-0347, Research",
         "marker": {
          "color": "#FF6692",
          "symbol": "x"
         },
         "mode": "markers",
         "name": "MSN-0347, Research",
         "orientation": "v",
         "showlegend": true,
         "type": "scatter",
         "x": [
          470.27
         ],
         "xaxis": "x",
         "y": [
          100
         ],
         "yaxis": "y"
        },
        {
         "hovertemplate": "Mission ID=MSN-0348<br>Mission Type=Colonization<br>Mission Cost (billion USD)=%{x}<br>Mission Success (%)=%{y}<extra></extra>",
         "legendgroup": "MSN-0348, Colonization",
         "marker": {
          "color": "#B6E880",
          "symbol": "circle"
         },
         "mode": "markers",
         "name": "MSN-0348, Colonization",
         "orientation": "v",
         "showlegend": true,
         "type": "scatter",
         "x": [
          235.91
         ],
         "xaxis": "x",
         "y": [
          95.4
         ],
         "yaxis": "y"
        },
        {
         "hovertemplate": "Mission ID=MSN-0349<br>Mission Type=Mining<br>Mission Cost (billion USD)=%{x}<br>Mission Success (%)=%{y}<extra></extra>",
         "legendgroup": "MSN-0349, Mining",
         "marker": {
          "color": "#FF97FF",
          "symbol": "square"
         },
         "mode": "markers",
         "name": "MSN-0349, Mining",
         "orientation": "v",
         "showlegend": true,
         "type": "scatter",
         "x": [
          380.34
         ],
         "xaxis": "x",
         "y": [
          100
         ],
         "yaxis": "y"
        },
        {
         "hovertemplate": "Mission ID=MSN-0350<br>Mission Type=Colonization<br>Mission Cost (billion USD)=%{x}<br>Mission Success (%)=%{y}<extra></extra>",
         "legendgroup": "MSN-0350, Colonization",
         "marker": {
          "color": "#FECB52",
          "symbol": "circle"
         },
         "mode": "markers",
         "name": "MSN-0350, Colonization",
         "orientation": "v",
         "showlegend": true,
         "type": "scatter",
         "x": [
          457.35
         ],
         "xaxis": "x",
         "y": [
          100
         ],
         "yaxis": "y"
        },
        {
         "hovertemplate": "Mission ID=MSN-0351<br>Mission Type=Exploration<br>Mission Cost (billion USD)=%{x}<br>Mission Success (%)=%{y}<extra></extra>",
         "legendgroup": "MSN-0351, Exploration",
         "marker": {
          "color": "#636efa",
          "symbol": "diamond"
         },
         "mode": "markers",
         "name": "MSN-0351, Exploration",
         "orientation": "v",
         "showlegend": true,
         "type": "scatter",
         "x": [
          451.19
         ],
         "xaxis": "x",
         "y": [
          100
         ],
         "yaxis": "y"
        },
        {
         "hovertemplate": "Mission ID=MSN-0352<br>Mission Type=Exploration<br>Mission Cost (billion USD)=%{x}<br>Mission Success (%)=%{y}<extra></extra>",
         "legendgroup": "MSN-0352, Exploration",
         "marker": {
          "color": "#EF553B",
          "symbol": "diamond"
         },
         "mode": "markers",
         "name": "MSN-0352, Exploration",
         "orientation": "v",
         "showlegend": true,
         "type": "scatter",
         "x": [
          124.71
         ],
         "xaxis": "x",
         "y": [
          83.5
         ],
         "yaxis": "y"
        },
        {
         "hovertemplate": "Mission ID=MSN-0353<br>Mission Type=Exploration<br>Mission Cost (billion USD)=%{x}<br>Mission Success (%)=%{y}<extra></extra>",
         "legendgroup": "MSN-0353, Exploration",
         "marker": {
          "color": "#00cc96",
          "symbol": "diamond"
         },
         "mode": "markers",
         "name": "MSN-0353, Exploration",
         "orientation": "v",
         "showlegend": true,
         "type": "scatter",
         "x": [
          510.96
         ],
         "xaxis": "x",
         "y": [
          100
         ],
         "yaxis": "y"
        },
        {
         "hovertemplate": "Mission ID=MSN-0354<br>Mission Type=Exploration<br>Mission Cost (billion USD)=%{x}<br>Mission Success (%)=%{y}<extra></extra>",
         "legendgroup": "MSN-0354, Exploration",
         "marker": {
          "color": "#ab63fa",
          "symbol": "diamond"
         },
         "mode": "markers",
         "name": "MSN-0354, Exploration",
         "orientation": "v",
         "showlegend": true,
         "type": "scatter",
         "x": [
          193.28
         ],
         "xaxis": "x",
         "y": [
          98
         ],
         "yaxis": "y"
        },
        {
         "hovertemplate": "Mission ID=MSN-0355<br>Mission Type=Colonization<br>Mission Cost (billion USD)=%{x}<br>Mission Success (%)=%{y}<extra></extra>",
         "legendgroup": "MSN-0355, Colonization",
         "marker": {
          "color": "#FFA15A",
          "symbol": "circle"
         },
         "mode": "markers",
         "name": "MSN-0355, Colonization",
         "orientation": "v",
         "showlegend": true,
         "type": "scatter",
         "x": [
          220.96
         ],
         "xaxis": "x",
         "y": [
          88.9
         ],
         "yaxis": "y"
        },
        {
         "hovertemplate": "Mission ID=MSN-0356<br>Mission Type=Mining<br>Mission Cost (billion USD)=%{x}<br>Mission Success (%)=%{y}<extra></extra>",
         "legendgroup": "MSN-0356, Mining",
         "marker": {
          "color": "#19d3f3",
          "symbol": "square"
         },
         "mode": "markers",
         "name": "MSN-0356, Mining",
         "orientation": "v",
         "showlegend": true,
         "type": "scatter",
         "x": [
          39.08
         ],
         "xaxis": "x",
         "y": [
          73.7
         ],
         "yaxis": "y"
        },
        {
         "hovertemplate": "Mission ID=MSN-0357<br>Mission Type=Mining<br>Mission Cost (billion USD)=%{x}<br>Mission Success (%)=%{y}<extra></extra>",
         "legendgroup": "MSN-0357, Mining",
         "marker": {
          "color": "#FF6692",
          "symbol": "square"
         },
         "mode": "markers",
         "name": "MSN-0357, Mining",
         "orientation": "v",
         "showlegend": true,
         "type": "scatter",
         "x": [
          253.66
         ],
         "xaxis": "x",
         "y": [
          98.1
         ],
         "yaxis": "y"
        },
        {
         "hovertemplate": "Mission ID=MSN-0358<br>Mission Type=Research<br>Mission Cost (billion USD)=%{x}<br>Mission Success (%)=%{y}<extra></extra>",
         "legendgroup": "MSN-0358, Research",
         "marker": {
          "color": "#B6E880",
          "symbol": "x"
         },
         "mode": "markers",
         "name": "MSN-0358, Research",
         "orientation": "v",
         "showlegend": true,
         "type": "scatter",
         "x": [
          60.64
         ],
         "xaxis": "x",
         "y": [
          73.1
         ],
         "yaxis": "y"
        },
        {
         "hovertemplate": "Mission ID=MSN-0359<br>Mission Type=Colonization<br>Mission Cost (billion USD)=%{x}<br>Mission Success (%)=%{y}<extra></extra>",
         "legendgroup": "MSN-0359, Colonization",
         "marker": {
          "color": "#FF97FF",
          "symbol": "circle"
         },
         "mode": "markers",
         "name": "MSN-0359, Colonization",
         "orientation": "v",
         "showlegend": true,
         "type": "scatter",
         "x": [
          156.83
         ],
         "xaxis": "x",
         "y": [
          76.5
         ],
         "yaxis": "y"
        },
        {
         "hovertemplate": "Mission ID=MSN-0360<br>Mission Type=Exploration<br>Mission Cost (billion USD)=%{x}<br>Mission Success (%)=%{y}<extra></extra>",
         "legendgroup": "MSN-0360, Exploration",
         "marker": {
          "color": "#FECB52",
          "symbol": "diamond"
         },
         "mode": "markers",
         "name": "MSN-0360, Exploration",
         "orientation": "v",
         "showlegend": true,
         "type": "scatter",
         "x": [
          208.58
         ],
         "xaxis": "x",
         "y": [
          88.7
         ],
         "yaxis": "y"
        },
        {
         "hovertemplate": "Mission ID=MSN-0361<br>Mission Type=Colonization<br>Mission Cost (billion USD)=%{x}<br>Mission Success (%)=%{y}<extra></extra>",
         "legendgroup": "MSN-0361, Colonization",
         "marker": {
          "color": "#636efa",
          "symbol": "circle"
         },
         "mode": "markers",
         "name": "MSN-0361, Colonization",
         "orientation": "v",
         "showlegend": true,
         "type": "scatter",
         "x": [
          438.98
         ],
         "xaxis": "x",
         "y": [
          100
         ],
         "yaxis": "y"
        },
        {
         "hovertemplate": "Mission ID=MSN-0362<br>Mission Type=Research<br>Mission Cost (billion USD)=%{x}<br>Mission Success (%)=%{y}<extra></extra>",
         "legendgroup": "MSN-0362, Research",
         "marker": {
          "color": "#EF553B",
          "symbol": "x"
         },
         "mode": "markers",
         "name": "MSN-0362, Research",
         "orientation": "v",
         "showlegend": true,
         "type": "scatter",
         "x": [
          479.66
         ],
         "xaxis": "x",
         "y": [
          100
         ],
         "yaxis": "y"
        },
        {
         "hovertemplate": "Mission ID=MSN-0363<br>Mission Type=Research<br>Mission Cost (billion USD)=%{x}<br>Mission Success (%)=%{y}<extra></extra>",
         "legendgroup": "MSN-0363, Research",
         "marker": {
          "color": "#00cc96",
          "symbol": "x"
         },
         "mode": "markers",
         "name": "MSN-0363, Research",
         "orientation": "v",
         "showlegend": true,
         "type": "scatter",
         "x": [
          156.35
         ],
         "xaxis": "x",
         "y": [
          81.4
         ],
         "yaxis": "y"
        },
        {
         "hovertemplate": "Mission ID=MSN-0364<br>Mission Type=Colonization<br>Mission Cost (billion USD)=%{x}<br>Mission Success (%)=%{y}<extra></extra>",
         "legendgroup": "MSN-0364, Colonization",
         "marker": {
          "color": "#ab63fa",
          "symbol": "circle"
         },
         "mode": "markers",
         "name": "MSN-0364, Colonization",
         "orientation": "v",
         "showlegend": true,
         "type": "scatter",
         "x": [
          457.61
         ],
         "xaxis": "x",
         "y": [
          100
         ],
         "yaxis": "y"
        },
        {
         "hovertemplate": "Mission ID=MSN-0365<br>Mission Type=Colonization<br>Mission Cost (billion USD)=%{x}<br>Mission Success (%)=%{y}<extra></extra>",
         "legendgroup": "MSN-0365, Colonization",
         "marker": {
          "color": "#FFA15A",
          "symbol": "circle"
         },
         "mode": "markers",
         "name": "MSN-0365, Colonization",
         "orientation": "v",
         "showlegend": true,
         "type": "scatter",
         "x": [
          452.87
         ],
         "xaxis": "x",
         "y": [
          100
         ],
         "yaxis": "y"
        },
        {
         "hovertemplate": "Mission ID=MSN-0366<br>Mission Type=Colonization<br>Mission Cost (billion USD)=%{x}<br>Mission Success (%)=%{y}<extra></extra>",
         "legendgroup": "MSN-0366, Colonization",
         "marker": {
          "color": "#19d3f3",
          "symbol": "circle"
         },
         "mode": "markers",
         "name": "MSN-0366, Colonization",
         "orientation": "v",
         "showlegend": true,
         "type": "scatter",
         "x": [
          408.95
         ],
         "xaxis": "x",
         "y": [
          100
         ],
         "yaxis": "y"
        },
        {
         "hovertemplate": "Mission ID=MSN-0367<br>Mission Type=Mining<br>Mission Cost (billion USD)=%{x}<br>Mission Success (%)=%{y}<extra></extra>",
         "legendgroup": "MSN-0367, Mining",
         "marker": {
          "color": "#FF6692",
          "symbol": "square"
         },
         "mode": "markers",
         "name": "MSN-0367, Mining",
         "orientation": "v",
         "showlegend": true,
         "type": "scatter",
         "x": [
          82.14
         ],
         "xaxis": "x",
         "y": [
          79
         ],
         "yaxis": "y"
        },
        {
         "hovertemplate": "Mission ID=MSN-0368<br>Mission Type=Exploration<br>Mission Cost (billion USD)=%{x}<br>Mission Success (%)=%{y}<extra></extra>",
         "legendgroup": "MSN-0368, Exploration",
         "marker": {
          "color": "#B6E880",
          "symbol": "diamond"
         },
         "mode": "markers",
         "name": "MSN-0368, Exploration",
         "orientation": "v",
         "showlegend": true,
         "type": "scatter",
         "x": [
          381.24
         ],
         "xaxis": "x",
         "y": [
          100
         ],
         "yaxis": "y"
        },
        {
         "hovertemplate": "Mission ID=MSN-0369<br>Mission Type=Colonization<br>Mission Cost (billion USD)=%{x}<br>Mission Success (%)=%{y}<extra></extra>",
         "legendgroup": "MSN-0369, Colonization",
         "marker": {
          "color": "#FF97FF",
          "symbol": "circle"
         },
         "mode": "markers",
         "name": "MSN-0369, Colonization",
         "orientation": "v",
         "showlegend": true,
         "type": "scatter",
         "x": [
          498.46
         ],
         "xaxis": "x",
         "y": [
          100
         ],
         "yaxis": "y"
        },
        {
         "hovertemplate": "Mission ID=MSN-0370<br>Mission Type=Colonization<br>Mission Cost (billion USD)=%{x}<br>Mission Success (%)=%{y}<extra></extra>",
         "legendgroup": "MSN-0370, Colonization",
         "marker": {
          "color": "#FECB52",
          "symbol": "circle"
         },
         "mode": "markers",
         "name": "MSN-0370, Colonization",
         "orientation": "v",
         "showlegend": true,
         "type": "scatter",
         "x": [
          381.34
         ],
         "xaxis": "x",
         "y": [
          100
         ],
         "yaxis": "y"
        },
        {
         "hovertemplate": "Mission ID=MSN-0371<br>Mission Type=Colonization<br>Mission Cost (billion USD)=%{x}<br>Mission Success (%)=%{y}<extra></extra>",
         "legendgroup": "MSN-0371, Colonization",
         "marker": {
          "color": "#636efa",
          "symbol": "circle"
         },
         "mode": "markers",
         "name": "MSN-0371, Colonization",
         "orientation": "v",
         "showlegend": true,
         "type": "scatter",
         "x": [
          193.93
         ],
         "xaxis": "x",
         "y": [
          95.2
         ],
         "yaxis": "y"
        },
        {
         "hovertemplate": "Mission ID=MSN-0372<br>Mission Type=Research<br>Mission Cost (billion USD)=%{x}<br>Mission Success (%)=%{y}<extra></extra>",
         "legendgroup": "MSN-0372, Research",
         "marker": {
          "color": "#EF553B",
          "symbol": "x"
         },
         "mode": "markers",
         "name": "MSN-0372, Research",
         "orientation": "v",
         "showlegend": true,
         "type": "scatter",
         "x": [
          261.12
         ],
         "xaxis": "x",
         "y": [
          93.6
         ],
         "yaxis": "y"
        },
        {
         "hovertemplate": "Mission ID=MSN-0373<br>Mission Type=Research<br>Mission Cost (billion USD)=%{x}<br>Mission Success (%)=%{y}<extra></extra>",
         "legendgroup": "MSN-0373, Research",
         "marker": {
          "color": "#00cc96",
          "symbol": "x"
         },
         "mode": "markers",
         "name": "MSN-0373, Research",
         "orientation": "v",
         "showlegend": true,
         "type": "scatter",
         "x": [
          357.41
         ],
         "xaxis": "x",
         "y": [
          100
         ],
         "yaxis": "y"
        },
        {
         "hovertemplate": "Mission ID=MSN-0374<br>Mission Type=Mining<br>Mission Cost (billion USD)=%{x}<br>Mission Success (%)=%{y}<extra></extra>",
         "legendgroup": "MSN-0374, Mining",
         "marker": {
          "color": "#ab63fa",
          "symbol": "square"
         },
         "mode": "markers",
         "name": "MSN-0374, Mining",
         "orientation": "v",
         "showlegend": true,
         "type": "scatter",
         "x": [
          267.2
         ],
         "xaxis": "x",
         "y": [
          97
         ],
         "yaxis": "y"
        },
        {
         "hovertemplate": "Mission ID=MSN-0375<br>Mission Type=Exploration<br>Mission Cost (billion USD)=%{x}<br>Mission Success (%)=%{y}<extra></extra>",
         "legendgroup": "MSN-0375, Exploration",
         "marker": {
          "color": "#FFA15A",
          "symbol": "diamond"
         },
         "mode": "markers",
         "name": "MSN-0375, Exploration",
         "orientation": "v",
         "showlegend": true,
         "type": "scatter",
         "x": [
          108.15
         ],
         "xaxis": "x",
         "y": [
          81.4
         ],
         "yaxis": "y"
        },
        {
         "hovertemplate": "Mission ID=MSN-0376<br>Mission Type=Mining<br>Mission Cost (billion USD)=%{x}<br>Mission Success (%)=%{y}<extra></extra>",
         "legendgroup": "MSN-0376, Mining",
         "marker": {
          "color": "#19d3f3",
          "symbol": "square"
         },
         "mode": "markers",
         "name": "MSN-0376, Mining",
         "orientation": "v",
         "showlegend": true,
         "type": "scatter",
         "x": [
          190.49
         ],
         "xaxis": "x",
         "y": [
          83.7
         ],
         "yaxis": "y"
        },
        {
         "hovertemplate": "Mission ID=MSN-0377<br>Mission Type=Exploration<br>Mission Cost (billion USD)=%{x}<br>Mission Success (%)=%{y}<extra></extra>",
         "legendgroup": "MSN-0377, Exploration",
         "marker": {
          "color": "#FF6692",
          "symbol": "diamond"
         },
         "mode": "markers",
         "name": "MSN-0377, Exploration",
         "orientation": "v",
         "showlegend": true,
         "type": "scatter",
         "x": [
          410.9
         ],
         "xaxis": "x",
         "y": [
          100
         ],
         "yaxis": "y"
        },
        {
         "hovertemplate": "Mission ID=MSN-0378<br>Mission Type=Research<br>Mission Cost (billion USD)=%{x}<br>Mission Success (%)=%{y}<extra></extra>",
         "legendgroup": "MSN-0378, Research",
         "marker": {
          "color": "#B6E880",
          "symbol": "x"
         },
         "mode": "markers",
         "name": "MSN-0378, Research",
         "orientation": "v",
         "showlegend": true,
         "type": "scatter",
         "x": [
          479.55
         ],
         "xaxis": "x",
         "y": [
          100
         ],
         "yaxis": "y"
        },
        {
         "hovertemplate": "Mission ID=MSN-0379<br>Mission Type=Research<br>Mission Cost (billion USD)=%{x}<br>Mission Success (%)=%{y}<extra></extra>",
         "legendgroup": "MSN-0379, Research",
         "marker": {
          "color": "#FF97FF",
          "symbol": "x"
         },
         "mode": "markers",
         "name": "MSN-0379, Research",
         "orientation": "v",
         "showlegend": true,
         "type": "scatter",
         "x": [
          99.35
         ],
         "xaxis": "x",
         "y": [
          81.7
         ],
         "yaxis": "y"
        },
        {
         "hovertemplate": "Mission ID=MSN-0380<br>Mission Type=Research<br>Mission Cost (billion USD)=%{x}<br>Mission Success (%)=%{y}<extra></extra>",
         "legendgroup": "MSN-0380, Research",
         "marker": {
          "color": "#FECB52",
          "symbol": "x"
         },
         "mode": "markers",
         "name": "MSN-0380, Research",
         "orientation": "v",
         "showlegend": true,
         "type": "scatter",
         "x": [
          481.02
         ],
         "xaxis": "x",
         "y": [
          100
         ],
         "yaxis": "y"
        },
        {
         "hovertemplate": "Mission ID=MSN-0381<br>Mission Type=Mining<br>Mission Cost (billion USD)=%{x}<br>Mission Success (%)=%{y}<extra></extra>",
         "legendgroup": "MSN-0381, Mining",
         "marker": {
          "color": "#636efa",
          "symbol": "square"
         },
         "mode": "markers",
         "name": "MSN-0381, Mining",
         "orientation": "v",
         "showlegend": true,
         "type": "scatter",
         "x": [
          199.46
         ],
         "xaxis": "x",
         "y": [
          91.4
         ],
         "yaxis": "y"
        },
        {
         "hovertemplate": "Mission ID=MSN-0382<br>Mission Type=Colonization<br>Mission Cost (billion USD)=%{x}<br>Mission Success (%)=%{y}<extra></extra>",
         "legendgroup": "MSN-0382, Colonization",
         "marker": {
          "color": "#EF553B",
          "symbol": "circle"
         },
         "mode": "markers",
         "name": "MSN-0382, Colonization",
         "orientation": "v",
         "showlegend": true,
         "type": "scatter",
         "x": [
          346.26
         ],
         "xaxis": "x",
         "y": [
          100
         ],
         "yaxis": "y"
        },
        {
         "hovertemplate": "Mission ID=MSN-0383<br>Mission Type=Colonization<br>Mission Cost (billion USD)=%{x}<br>Mission Success (%)=%{y}<extra></extra>",
         "legendgroup": "MSN-0383, Colonization",
         "marker": {
          "color": "#00cc96",
          "symbol": "circle"
         },
         "mode": "markers",
         "name": "MSN-0383, Colonization",
         "orientation": "v",
         "showlegend": true,
         "type": "scatter",
         "x": [
          417.53
         ],
         "xaxis": "x",
         "y": [
          100
         ],
         "yaxis": "y"
        },
        {
         "hovertemplate": "Mission ID=MSN-0384<br>Mission Type=Research<br>Mission Cost (billion USD)=%{x}<br>Mission Success (%)=%{y}<extra></extra>",
         "legendgroup": "MSN-0384, Research",
         "marker": {
          "color": "#ab63fa",
          "symbol": "x"
         },
         "mode": "markers",
         "name": "MSN-0384, Research",
         "orientation": "v",
         "showlegend": true,
         "type": "scatter",
         "x": [
          447.97
         ],
         "xaxis": "x",
         "y": [
          100
         ],
         "yaxis": "y"
        },
        {
         "hovertemplate": "Mission ID=MSN-0385<br>Mission Type=Colonization<br>Mission Cost (billion USD)=%{x}<br>Mission Success (%)=%{y}<extra></extra>",
         "legendgroup": "MSN-0385, Colonization",
         "marker": {
          "color": "#FFA15A",
          "symbol": "circle"
         },
         "mode": "markers",
         "name": "MSN-0385, Colonization",
         "orientation": "v",
         "showlegend": true,
         "type": "scatter",
         "x": [
          522.12
         ],
         "xaxis": "x",
         "y": [
          100
         ],
         "yaxis": "y"
        },
        {
         "hovertemplate": "Mission ID=MSN-0386<br>Mission Type=Colonization<br>Mission Cost (billion USD)=%{x}<br>Mission Success (%)=%{y}<extra></extra>",
         "legendgroup": "MSN-0386, Colonization",
         "marker": {
          "color": "#19d3f3",
          "symbol": "circle"
         },
         "mode": "markers",
         "name": "MSN-0386, Colonization",
         "orientation": "v",
         "showlegend": true,
         "type": "scatter",
         "x": [
          185.49
         ],
         "xaxis": "x",
         "y": [
          88.6
         ],
         "yaxis": "y"
        },
        {
         "hovertemplate": "Mission ID=MSN-0387<br>Mission Type=Mining<br>Mission Cost (billion USD)=%{x}<br>Mission Success (%)=%{y}<extra></extra>",
         "legendgroup": "MSN-0387, Mining",
         "marker": {
          "color": "#FF6692",
          "symbol": "square"
         },
         "mode": "markers",
         "name": "MSN-0387, Mining",
         "orientation": "v",
         "showlegend": true,
         "type": "scatter",
         "x": [
          453.24
         ],
         "xaxis": "x",
         "y": [
          100
         ],
         "yaxis": "y"
        },
        {
         "hovertemplate": "Mission ID=MSN-0388<br>Mission Type=Exploration<br>Mission Cost (billion USD)=%{x}<br>Mission Success (%)=%{y}<extra></extra>",
         "legendgroup": "MSN-0388, Exploration",
         "marker": {
          "color": "#B6E880",
          "symbol": "diamond"
         },
         "mode": "markers",
         "name": "MSN-0388, Exploration",
         "orientation": "v",
         "showlegend": true,
         "type": "scatter",
         "x": [
          108.12
         ],
         "xaxis": "x",
         "y": [
          76.2
         ],
         "yaxis": "y"
        },
        {
         "hovertemplate": "Mission ID=MSN-0389<br>Mission Type=Research<br>Mission Cost (billion USD)=%{x}<br>Mission Success (%)=%{y}<extra></extra>",
         "legendgroup": "MSN-0389, Research",
         "marker": {
          "color": "#FF97FF",
          "symbol": "x"
         },
         "mode": "markers",
         "name": "MSN-0389, Research",
         "orientation": "v",
         "showlegend": true,
         "type": "scatter",
         "x": [
          361.49
         ],
         "xaxis": "x",
         "y": [
          100
         ],
         "yaxis": "y"
        },
        {
         "hovertemplate": "Mission ID=MSN-0390<br>Mission Type=Research<br>Mission Cost (billion USD)=%{x}<br>Mission Success (%)=%{y}<extra></extra>",
         "legendgroup": "MSN-0390, Research",
         "marker": {
          "color": "#FECB52",
          "symbol": "x"
         },
         "mode": "markers",
         "name": "MSN-0390, Research",
         "orientation": "v",
         "showlegend": true,
         "type": "scatter",
         "x": [
          400.1
         ],
         "xaxis": "x",
         "y": [
          100
         ],
         "yaxis": "y"
        },
        {
         "hovertemplate": "Mission ID=MSN-0391<br>Mission Type=Mining<br>Mission Cost (billion USD)=%{x}<br>Mission Success (%)=%{y}<extra></extra>",
         "legendgroup": "MSN-0391, Mining",
         "marker": {
          "color": "#636efa",
          "symbol": "square"
         },
         "mode": "markers",
         "name": "MSN-0391, Mining",
         "orientation": "v",
         "showlegend": true,
         "type": "scatter",
         "x": [
          368.22
         ],
         "xaxis": "x",
         "y": [
          100
         ],
         "yaxis": "y"
        },
        {
         "hovertemplate": "Mission ID=MSN-0392<br>Mission Type=Mining<br>Mission Cost (billion USD)=%{x}<br>Mission Success (%)=%{y}<extra></extra>",
         "legendgroup": "MSN-0392, Mining",
         "marker": {
          "color": "#EF553B",
          "symbol": "square"
         },
         "mode": "markers",
         "name": "MSN-0392, Mining",
         "orientation": "v",
         "showlegend": true,
         "type": "scatter",
         "x": [
          135.28
         ],
         "xaxis": "x",
         "y": [
          85.6
         ],
         "yaxis": "y"
        },
        {
         "hovertemplate": "Mission ID=MSN-0393<br>Mission Type=Colonization<br>Mission Cost (billion USD)=%{x}<br>Mission Success (%)=%{y}<extra></extra>",
         "legendgroup": "MSN-0393, Colonization",
         "marker": {
          "color": "#00cc96",
          "symbol": "circle"
         },
         "mode": "markers",
         "name": "MSN-0393, Colonization",
         "orientation": "v",
         "showlegend": true,
         "type": "scatter",
         "x": [
          458.63
         ],
         "xaxis": "x",
         "y": [
          100
         ],
         "yaxis": "y"
        },
        {
         "hovertemplate": "Mission ID=MSN-0394<br>Mission Type=Research<br>Mission Cost (billion USD)=%{x}<br>Mission Success (%)=%{y}<extra></extra>",
         "legendgroup": "MSN-0394, Research",
         "marker": {
          "color": "#ab63fa",
          "symbol": "x"
         },
         "mode": "markers",
         "name": "MSN-0394, Research",
         "orientation": "v",
         "showlegend": true,
         "type": "scatter",
         "x": [
          131.41
         ],
         "xaxis": "x",
         "y": [
          87.9
         ],
         "yaxis": "y"
        },
        {
         "hovertemplate": "Mission ID=MSN-0395<br>Mission Type=Exploration<br>Mission Cost (billion USD)=%{x}<br>Mission Success (%)=%{y}<extra></extra>",
         "legendgroup": "MSN-0395, Exploration",
         "marker": {
          "color": "#FFA15A",
          "symbol": "diamond"
         },
         "mode": "markers",
         "name": "MSN-0395, Exploration",
         "orientation": "v",
         "showlegend": true,
         "type": "scatter",
         "x": [
          74.5
         ],
         "xaxis": "x",
         "y": [
          86.5
         ],
         "yaxis": "y"
        },
        {
         "hovertemplate": "Mission ID=MSN-0396<br>Mission Type=Mining<br>Mission Cost (billion USD)=%{x}<br>Mission Success (%)=%{y}<extra></extra>",
         "legendgroup": "MSN-0396, Mining",
         "marker": {
          "color": "#19d3f3",
          "symbol": "square"
         },
         "mode": "markers",
         "name": "MSN-0396, Mining",
         "orientation": "v",
         "showlegend": true,
         "type": "scatter",
         "x": [
          366.01
         ],
         "xaxis": "x",
         "y": [
          100
         ],
         "yaxis": "y"
        },
        {
         "hovertemplate": "Mission ID=MSN-0397<br>Mission Type=Exploration<br>Mission Cost (billion USD)=%{x}<br>Mission Success (%)=%{y}<extra></extra>",
         "legendgroup": "MSN-0397, Exploration",
         "marker": {
          "color": "#FF6692",
          "symbol": "diamond"
         },
         "mode": "markers",
         "name": "MSN-0397, Exploration",
         "orientation": "v",
         "showlegend": true,
         "type": "scatter",
         "x": [
          245.8
         ],
         "xaxis": "x",
         "y": [
          89.3
         ],
         "yaxis": "y"
        },
        {
         "hovertemplate": "Mission ID=MSN-0398<br>Mission Type=Exploration<br>Mission Cost (billion USD)=%{x}<br>Mission Success (%)=%{y}<extra></extra>",
         "legendgroup": "MSN-0398, Exploration",
         "marker": {
          "color": "#B6E880",
          "symbol": "diamond"
         },
         "mode": "markers",
         "name": "MSN-0398, Exploration",
         "orientation": "v",
         "showlegend": true,
         "type": "scatter",
         "x": [
          439.17
         ],
         "xaxis": "x",
         "y": [
          100
         ],
         "yaxis": "y"
        },
        {
         "hovertemplate": "Mission ID=MSN-0399<br>Mission Type=Research<br>Mission Cost (billion USD)=%{x}<br>Mission Success (%)=%{y}<extra></extra>",
         "legendgroup": "MSN-0399, Research",
         "marker": {
          "color": "#FF97FF",
          "symbol": "x"
         },
         "mode": "markers",
         "name": "MSN-0399, Research",
         "orientation": "v",
         "showlegend": true,
         "type": "scatter",
         "x": [
          238.66
         ],
         "xaxis": "x",
         "y": [
          95.4
         ],
         "yaxis": "y"
        },
        {
         "hovertemplate": "Mission ID=MSN-0400<br>Mission Type=Research<br>Mission Cost (billion USD)=%{x}<br>Mission Success (%)=%{y}<extra></extra>",
         "legendgroup": "MSN-0400, Research",
         "marker": {
          "color": "#FECB52",
          "symbol": "x"
         },
         "mode": "markers",
         "name": "MSN-0400, Research",
         "orientation": "v",
         "showlegend": true,
         "type": "scatter",
         "x": [
          95.62
         ],
         "xaxis": "x",
         "y": [
          89.9
         ],
         "yaxis": "y"
        },
        {
         "hovertemplate": "Mission ID=MSN-0401<br>Mission Type=Mining<br>Mission Cost (billion USD)=%{x}<br>Mission Success (%)=%{y}<extra></extra>",
         "legendgroup": "MSN-0401, Mining",
         "marker": {
          "color": "#636efa",
          "symbol": "square"
         },
         "mode": "markers",
         "name": "MSN-0401, Mining",
         "orientation": "v",
         "showlegend": true,
         "type": "scatter",
         "x": [
          455.33
         ],
         "xaxis": "x",
         "y": [
          100
         ],
         "yaxis": "y"
        },
        {
         "hovertemplate": "Mission ID=MSN-0402<br>Mission Type=Research<br>Mission Cost (billion USD)=%{x}<br>Mission Success (%)=%{y}<extra></extra>",
         "legendgroup": "MSN-0402, Research",
         "marker": {
          "color": "#EF553B",
          "symbol": "x"
         },
         "mode": "markers",
         "name": "MSN-0402, Research",
         "orientation": "v",
         "showlegend": true,
         "type": "scatter",
         "x": [
          282.66
         ],
         "xaxis": "x",
         "y": [
          100
         ],
         "yaxis": "y"
        },
        {
         "hovertemplate": "Mission ID=MSN-0403<br>Mission Type=Research<br>Mission Cost (billion USD)=%{x}<br>Mission Success (%)=%{y}<extra></extra>",
         "legendgroup": "MSN-0403, Research",
         "marker": {
          "color": "#00cc96",
          "symbol": "x"
         },
         "mode": "markers",
         "name": "MSN-0403, Research",
         "orientation": "v",
         "showlegend": true,
         "type": "scatter",
         "x": [
          130.18
         ],
         "xaxis": "x",
         "y": [
          83.9
         ],
         "yaxis": "y"
        },
        {
         "hovertemplate": "Mission ID=MSN-0404<br>Mission Type=Research<br>Mission Cost (billion USD)=%{x}<br>Mission Success (%)=%{y}<extra></extra>",
         "legendgroup": "MSN-0404, Research",
         "marker": {
          "color": "#ab63fa",
          "symbol": "x"
         },
         "mode": "markers",
         "name": "MSN-0404, Research",
         "orientation": "v",
         "showlegend": true,
         "type": "scatter",
         "x": [
          380.05
         ],
         "xaxis": "x",
         "y": [
          100
         ],
         "yaxis": "y"
        },
        {
         "hovertemplate": "Mission ID=MSN-0405<br>Mission Type=Exploration<br>Mission Cost (billion USD)=%{x}<br>Mission Success (%)=%{y}<extra></extra>",
         "legendgroup": "MSN-0405, Exploration",
         "marker": {
          "color": "#FFA15A",
          "symbol": "diamond"
         },
         "mode": "markers",
         "name": "MSN-0405, Exploration",
         "orientation": "v",
         "showlegend": true,
         "type": "scatter",
         "x": [
          297.66
         ],
         "xaxis": "x",
         "y": [
          99.3
         ],
         "yaxis": "y"
        },
        {
         "hovertemplate": "Mission ID=MSN-0406<br>Mission Type=Mining<br>Mission Cost (billion USD)=%{x}<br>Mission Success (%)=%{y}<extra></extra>",
         "legendgroup": "MSN-0406, Mining",
         "marker": {
          "color": "#19d3f3",
          "symbol": "square"
         },
         "mode": "markers",
         "name": "MSN-0406, Mining",
         "orientation": "v",
         "showlegend": true,
         "type": "scatter",
         "x": [
          316.6
         ],
         "xaxis": "x",
         "y": [
          97.4
         ],
         "yaxis": "y"
        },
        {
         "hovertemplate": "Mission ID=MSN-0407<br>Mission Type=Colonization<br>Mission Cost (billion USD)=%{x}<br>Mission Success (%)=%{y}<extra></extra>",
         "legendgroup": "MSN-0407, Colonization",
         "marker": {
          "color": "#FF6692",
          "symbol": "circle"
         },
         "mode": "markers",
         "name": "MSN-0407, Colonization",
         "orientation": "v",
         "showlegend": true,
         "type": "scatter",
         "x": [
          265.47
         ],
         "xaxis": "x",
         "y": [
          100
         ],
         "yaxis": "y"
        },
        {
         "hovertemplate": "Mission ID=MSN-0408<br>Mission Type=Exploration<br>Mission Cost (billion USD)=%{x}<br>Mission Success (%)=%{y}<extra></extra>",
         "legendgroup": "MSN-0408, Exploration",
         "marker": {
          "color": "#B6E880",
          "symbol": "diamond"
         },
         "mode": "markers",
         "name": "MSN-0408, Exploration",
         "orientation": "v",
         "showlegend": true,
         "type": "scatter",
         "x": [
          427.75
         ],
         "xaxis": "x",
         "y": [
          100
         ],
         "yaxis": "y"
        },
        {
         "hovertemplate": "Mission ID=MSN-0409<br>Mission Type=Research<br>Mission Cost (billion USD)=%{x}<br>Mission Success (%)=%{y}<extra></extra>",
         "legendgroup": "MSN-0409, Research",
         "marker": {
          "color": "#FF97FF",
          "symbol": "x"
         },
         "mode": "markers",
         "name": "MSN-0409, Research",
         "orientation": "v",
         "showlegend": true,
         "type": "scatter",
         "x": [
          451.62
         ],
         "xaxis": "x",
         "y": [
          100
         ],
         "yaxis": "y"
        },
        {
         "hovertemplate": "Mission ID=MSN-0410<br>Mission Type=Exploration<br>Mission Cost (billion USD)=%{x}<br>Mission Success (%)=%{y}<extra></extra>",
         "legendgroup": "MSN-0410, Exploration",
         "marker": {
          "color": "#FECB52",
          "symbol": "diamond"
         },
         "mode": "markers",
         "name": "MSN-0410, Exploration",
         "orientation": "v",
         "showlegend": true,
         "type": "scatter",
         "x": [
          399.96
         ],
         "xaxis": "x",
         "y": [
          100
         ],
         "yaxis": "y"
        },
        {
         "hovertemplate": "Mission ID=MSN-0411<br>Mission Type=Research<br>Mission Cost (billion USD)=%{x}<br>Mission Success (%)=%{y}<extra></extra>",
         "legendgroup": "MSN-0411, Research",
         "marker": {
          "color": "#636efa",
          "symbol": "x"
         },
         "mode": "markers",
         "name": "MSN-0411, Research",
         "orientation": "v",
         "showlegend": true,
         "type": "scatter",
         "x": [
          64.36
         ],
         "xaxis": "x",
         "y": [
          73.4
         ],
         "yaxis": "y"
        },
        {
         "hovertemplate": "Mission ID=MSN-0412<br>Mission Type=Research<br>Mission Cost (billion USD)=%{x}<br>Mission Success (%)=%{y}<extra></extra>",
         "legendgroup": "MSN-0412, Research",
         "marker": {
          "color": "#EF553B",
          "symbol": "x"
         },
         "mode": "markers",
         "name": "MSN-0412, Research",
         "orientation": "v",
         "showlegend": true,
         "type": "scatter",
         "x": [
          463.71
         ],
         "xaxis": "x",
         "y": [
          100
         ],
         "yaxis": "y"
        },
        {
         "hovertemplate": "Mission ID=MSN-0413<br>Mission Type=Exploration<br>Mission Cost (billion USD)=%{x}<br>Mission Success (%)=%{y}<extra></extra>",
         "legendgroup": "MSN-0413, Exploration",
         "marker": {
          "color": "#00cc96",
          "symbol": "diamond"
         },
         "mode": "markers",
         "name": "MSN-0413, Exploration",
         "orientation": "v",
         "showlegend": true,
         "type": "scatter",
         "x": [
          367.24
         ],
         "xaxis": "x",
         "y": [
          100
         ],
         "yaxis": "y"
        },
        {
         "hovertemplate": "Mission ID=MSN-0414<br>Mission Type=Mining<br>Mission Cost (billion USD)=%{x}<br>Mission Success (%)=%{y}<extra></extra>",
         "legendgroup": "MSN-0414, Mining",
         "marker": {
          "color": "#ab63fa",
          "symbol": "square"
         },
         "mode": "markers",
         "name": "MSN-0414, Mining",
         "orientation": "v",
         "showlegend": true,
         "type": "scatter",
         "x": [
          357.28
         ],
         "xaxis": "x",
         "y": [
          100
         ],
         "yaxis": "y"
        },
        {
         "hovertemplate": "Mission ID=MSN-0415<br>Mission Type=Research<br>Mission Cost (billion USD)=%{x}<br>Mission Success (%)=%{y}<extra></extra>",
         "legendgroup": "MSN-0415, Research",
         "marker": {
          "color": "#FFA15A",
          "symbol": "x"
         },
         "mode": "markers",
         "name": "MSN-0415, Research",
         "orientation": "v",
         "showlegend": true,
         "type": "scatter",
         "x": [
          206.65
         ],
         "xaxis": "x",
         "y": [
          85.8
         ],
         "yaxis": "y"
        },
        {
         "hovertemplate": "Mission ID=MSN-0416<br>Mission Type=Mining<br>Mission Cost (billion USD)=%{x}<br>Mission Success (%)=%{y}<extra></extra>",
         "legendgroup": "MSN-0416, Mining",
         "marker": {
          "color": "#19d3f3",
          "symbol": "square"
         },
         "mode": "markers",
         "name": "MSN-0416, Mining",
         "orientation": "v",
         "showlegend": true,
         "type": "scatter",
         "x": [
          449.13
         ],
         "xaxis": "x",
         "y": [
          100
         ],
         "yaxis": "y"
        },
        {
         "hovertemplate": "Mission ID=MSN-0417<br>Mission Type=Colonization<br>Mission Cost (billion USD)=%{x}<br>Mission Success (%)=%{y}<extra></extra>",
         "legendgroup": "MSN-0417, Colonization",
         "marker": {
          "color": "#FF6692",
          "symbol": "circle"
         },
         "mode": "markers",
         "name": "MSN-0417, Colonization",
         "orientation": "v",
         "showlegend": true,
         "type": "scatter",
         "x": [
          399.37
         ],
         "xaxis": "x",
         "y": [
          100
         ],
         "yaxis": "y"
        },
        {
         "hovertemplate": "Mission ID=MSN-0418<br>Mission Type=Research<br>Mission Cost (billion USD)=%{x}<br>Mission Success (%)=%{y}<extra></extra>",
         "legendgroup": "MSN-0418, Research",
         "marker": {
          "color": "#B6E880",
          "symbol": "x"
         },
         "mode": "markers",
         "name": "MSN-0418, Research",
         "orientation": "v",
         "showlegend": true,
         "type": "scatter",
         "x": [
          98.93
         ],
         "xaxis": "x",
         "y": [
          72.5
         ],
         "yaxis": "y"
        },
        {
         "hovertemplate": "Mission ID=MSN-0419<br>Mission Type=Mining<br>Mission Cost (billion USD)=%{x}<br>Mission Success (%)=%{y}<extra></extra>",
         "legendgroup": "MSN-0419, Mining",
         "marker": {
          "color": "#FF97FF",
          "symbol": "square"
         },
         "mode": "markers",
         "name": "MSN-0419, Mining",
         "orientation": "v",
         "showlegend": true,
         "type": "scatter",
         "x": [
          213.03
         ],
         "xaxis": "x",
         "y": [
          87.2
         ],
         "yaxis": "y"
        },
        {
         "hovertemplate": "Mission ID=MSN-0420<br>Mission Type=Mining<br>Mission Cost (billion USD)=%{x}<br>Mission Success (%)=%{y}<extra></extra>",
         "legendgroup": "MSN-0420, Mining",
         "marker": {
          "color": "#FECB52",
          "symbol": "square"
         },
         "mode": "markers",
         "name": "MSN-0420, Mining",
         "orientation": "v",
         "showlegend": true,
         "type": "scatter",
         "x": [
          469.55
         ],
         "xaxis": "x",
         "y": [
          100
         ],
         "yaxis": "y"
        },
        {
         "hovertemplate": "Mission ID=MSN-0421<br>Mission Type=Colonization<br>Mission Cost (billion USD)=%{x}<br>Mission Success (%)=%{y}<extra></extra>",
         "legendgroup": "MSN-0421, Colonization",
         "marker": {
          "color": "#636efa",
          "symbol": "circle"
         },
         "mode": "markers",
         "name": "MSN-0421, Colonization",
         "orientation": "v",
         "showlegend": true,
         "type": "scatter",
         "x": [
          69.27
         ],
         "xaxis": "x",
         "y": [
          74.9
         ],
         "yaxis": "y"
        },
        {
         "hovertemplate": "Mission ID=MSN-0422<br>Mission Type=Mining<br>Mission Cost (billion USD)=%{x}<br>Mission Success (%)=%{y}<extra></extra>",
         "legendgroup": "MSN-0422, Mining",
         "marker": {
          "color": "#EF553B",
          "symbol": "square"
         },
         "mode": "markers",
         "name": "MSN-0422, Mining",
         "orientation": "v",
         "showlegend": true,
         "type": "scatter",
         "x": [
          527.77
         ],
         "xaxis": "x",
         "y": [
          100
         ],
         "yaxis": "y"
        },
        {
         "hovertemplate": "Mission ID=MSN-0423<br>Mission Type=Mining<br>Mission Cost (billion USD)=%{x}<br>Mission Success (%)=%{y}<extra></extra>",
         "legendgroup": "MSN-0423, Mining",
         "marker": {
          "color": "#00cc96",
          "symbol": "square"
         },
         "mode": "markers",
         "name": "MSN-0423, Mining",
         "orientation": "v",
         "showlegend": true,
         "type": "scatter",
         "x": [
          367.36
         ],
         "xaxis": "x",
         "y": [
          98.6
         ],
         "yaxis": "y"
        },
        {
         "hovertemplate": "Mission ID=MSN-0424<br>Mission Type=Colonization<br>Mission Cost (billion USD)=%{x}<br>Mission Success (%)=%{y}<extra></extra>",
         "legendgroup": "MSN-0424, Colonization",
         "marker": {
          "color": "#ab63fa",
          "symbol": "circle"
         },
         "mode": "markers",
         "name": "MSN-0424, Colonization",
         "orientation": "v",
         "showlegend": true,
         "type": "scatter",
         "x": [
          365.11
         ],
         "xaxis": "x",
         "y": [
          100
         ],
         "yaxis": "y"
        },
        {
         "hovertemplate": "Mission ID=MSN-0425<br>Mission Type=Research<br>Mission Cost (billion USD)=%{x}<br>Mission Success (%)=%{y}<extra></extra>",
         "legendgroup": "MSN-0425, Research",
         "marker": {
          "color": "#FFA15A",
          "symbol": "x"
         },
         "mode": "markers",
         "name": "MSN-0425, Research",
         "orientation": "v",
         "showlegend": true,
         "type": "scatter",
         "x": [
          166.2
         ],
         "xaxis": "x",
         "y": [
          92.9
         ],
         "yaxis": "y"
        },
        {
         "hovertemplate": "Mission ID=MSN-0426<br>Mission Type=Mining<br>Mission Cost (billion USD)=%{x}<br>Mission Success (%)=%{y}<extra></extra>",
         "legendgroup": "MSN-0426, Mining",
         "marker": {
          "color": "#19d3f3",
          "symbol": "square"
         },
         "mode": "markers",
         "name": "MSN-0426, Mining",
         "orientation": "v",
         "showlegend": true,
         "type": "scatter",
         "x": [
          148.47
         ],
         "xaxis": "x",
         "y": [
          81
         ],
         "yaxis": "y"
        },
        {
         "hovertemplate": "Mission ID=MSN-0427<br>Mission Type=Mining<br>Mission Cost (billion USD)=%{x}<br>Mission Success (%)=%{y}<extra></extra>",
         "legendgroup": "MSN-0427, Mining",
         "marker": {
          "color": "#FF6692",
          "symbol": "square"
         },
         "mode": "markers",
         "name": "MSN-0427, Mining",
         "orientation": "v",
         "showlegend": true,
         "type": "scatter",
         "x": [
          513.86
         ],
         "xaxis": "x",
         "y": [
          100
         ],
         "yaxis": "y"
        },
        {
         "hovertemplate": "Mission ID=MSN-0428<br>Mission Type=Mining<br>Mission Cost (billion USD)=%{x}<br>Mission Success (%)=%{y}<extra></extra>",
         "legendgroup": "MSN-0428, Mining",
         "marker": {
          "color": "#B6E880",
          "symbol": "square"
         },
         "mode": "markers",
         "name": "MSN-0428, Mining",
         "orientation": "v",
         "showlegend": true,
         "type": "scatter",
         "x": [
          177.81
         ],
         "xaxis": "x",
         "y": [
          89.9
         ],
         "yaxis": "y"
        },
        {
         "hovertemplate": "Mission ID=MSN-0429<br>Mission Type=Exploration<br>Mission Cost (billion USD)=%{x}<br>Mission Success (%)=%{y}<extra></extra>",
         "legendgroup": "MSN-0429, Exploration",
         "marker": {
          "color": "#FF97FF",
          "symbol": "diamond"
         },
         "mode": "markers",
         "name": "MSN-0429, Exploration",
         "orientation": "v",
         "showlegend": true,
         "type": "scatter",
         "x": [
          413.02
         ],
         "xaxis": "x",
         "y": [
          100
         ],
         "yaxis": "y"
        },
        {
         "hovertemplate": "Mission ID=MSN-0430<br>Mission Type=Colonization<br>Mission Cost (billion USD)=%{x}<br>Mission Success (%)=%{y}<extra></extra>",
         "legendgroup": "MSN-0430, Colonization",
         "marker": {
          "color": "#FECB52",
          "symbol": "circle"
         },
         "mode": "markers",
         "name": "MSN-0430, Colonization",
         "orientation": "v",
         "showlegend": true,
         "type": "scatter",
         "x": [
          224.63
         ],
         "xaxis": "x",
         "y": [
          88.4
         ],
         "yaxis": "y"
        },
        {
         "hovertemplate": "Mission ID=MSN-0431<br>Mission Type=Exploration<br>Mission Cost (billion USD)=%{x}<br>Mission Success (%)=%{y}<extra></extra>",
         "legendgroup": "MSN-0431, Exploration",
         "marker": {
          "color": "#636efa",
          "symbol": "diamond"
         },
         "mode": "markers",
         "name": "MSN-0431, Exploration",
         "orientation": "v",
         "showlegend": true,
         "type": "scatter",
         "x": [
          116.44
         ],
         "xaxis": "x",
         "y": [
          87.1
         ],
         "yaxis": "y"
        },
        {
         "hovertemplate": "Mission ID=MSN-0432<br>Mission Type=Colonization<br>Mission Cost (billion USD)=%{x}<br>Mission Success (%)=%{y}<extra></extra>",
         "legendgroup": "MSN-0432, Colonization",
         "marker": {
          "color": "#EF553B",
          "symbol": "circle"
         },
         "mode": "markers",
         "name": "MSN-0432, Colonization",
         "orientation": "v",
         "showlegend": true,
         "type": "scatter",
         "x": [
          52.07
         ],
         "xaxis": "x",
         "y": [
          72.5
         ],
         "yaxis": "y"
        },
        {
         "hovertemplate": "Mission ID=MSN-0433<br>Mission Type=Research<br>Mission Cost (billion USD)=%{x}<br>Mission Success (%)=%{y}<extra></extra>",
         "legendgroup": "MSN-0433, Research",
         "marker": {
          "color": "#00cc96",
          "symbol": "x"
         },
         "mode": "markers",
         "name": "MSN-0433, Research",
         "orientation": "v",
         "showlegend": true,
         "type": "scatter",
         "x": [
          295.17
         ],
         "xaxis": "x",
         "y": [
          92.8
         ],
         "yaxis": "y"
        },
        {
         "hovertemplate": "Mission ID=MSN-0434<br>Mission Type=Research<br>Mission Cost (billion USD)=%{x}<br>Mission Success (%)=%{y}<extra></extra>",
         "legendgroup": "MSN-0434, Research",
         "marker": {
          "color": "#ab63fa",
          "symbol": "x"
         },
         "mode": "markers",
         "name": "MSN-0434, Research",
         "orientation": "v",
         "showlegend": true,
         "type": "scatter",
         "x": [
          505.33
         ],
         "xaxis": "x",
         "y": [
          100
         ],
         "yaxis": "y"
        },
        {
         "hovertemplate": "Mission ID=MSN-0435<br>Mission Type=Mining<br>Mission Cost (billion USD)=%{x}<br>Mission Success (%)=%{y}<extra></extra>",
         "legendgroup": "MSN-0435, Mining",
         "marker": {
          "color": "#FFA15A",
          "symbol": "square"
         },
         "mode": "markers",
         "name": "MSN-0435, Mining",
         "orientation": "v",
         "showlegend": true,
         "type": "scatter",
         "x": [
          212.8
         ],
         "xaxis": "x",
         "y": [
          97.7
         ],
         "yaxis": "y"
        },
        {
         "hovertemplate": "Mission ID=MSN-0436<br>Mission Type=Colonization<br>Mission Cost (billion USD)=%{x}<br>Mission Success (%)=%{y}<extra></extra>",
         "legendgroup": "MSN-0436, Colonization",
         "marker": {
          "color": "#19d3f3",
          "symbol": "circle"
         },
         "mode": "markers",
         "name": "MSN-0436, Colonization",
         "orientation": "v",
         "showlegend": true,
         "type": "scatter",
         "x": [
          210.87
         ],
         "xaxis": "x",
         "y": [
          100
         ],
         "yaxis": "y"
        },
        {
         "hovertemplate": "Mission ID=MSN-0437<br>Mission Type=Research<br>Mission Cost (billion USD)=%{x}<br>Mission Success (%)=%{y}<extra></extra>",
         "legendgroup": "MSN-0437, Research",
         "marker": {
          "color": "#FF6692",
          "symbol": "x"
         },
         "mode": "markers",
         "name": "MSN-0437, Research",
         "orientation": "v",
         "showlegend": true,
         "type": "scatter",
         "x": [
          188.03
         ],
         "xaxis": "x",
         "y": [
          82.8
         ],
         "yaxis": "y"
        },
        {
         "hovertemplate": "Mission ID=MSN-0438<br>Mission Type=Colonization<br>Mission Cost (billion USD)=%{x}<br>Mission Success (%)=%{y}<extra></extra>",
         "legendgroup": "MSN-0438, Colonization",
         "marker": {
          "color": "#B6E880",
          "symbol": "circle"
         },
         "mode": "markers",
         "name": "MSN-0438, Colonization",
         "orientation": "v",
         "showlegend": true,
         "type": "scatter",
         "x": [
          302.55
         ],
         "xaxis": "x",
         "y": [
          100
         ],
         "yaxis": "y"
        },
        {
         "hovertemplate": "Mission ID=MSN-0439<br>Mission Type=Research<br>Mission Cost (billion USD)=%{x}<br>Mission Success (%)=%{y}<extra></extra>",
         "legendgroup": "MSN-0439, Research",
         "marker": {
          "color": "#FF97FF",
          "symbol": "x"
         },
         "mode": "markers",
         "name": "MSN-0439, Research",
         "orientation": "v",
         "showlegend": true,
         "type": "scatter",
         "x": [
          247.99
         ],
         "xaxis": "x",
         "y": [
          92.7
         ],
         "yaxis": "y"
        },
        {
         "hovertemplate": "Mission ID=MSN-0440<br>Mission Type=Exploration<br>Mission Cost (billion USD)=%{x}<br>Mission Success (%)=%{y}<extra></extra>",
         "legendgroup": "MSN-0440, Exploration",
         "marker": {
          "color": "#FECB52",
          "symbol": "diamond"
         },
         "mode": "markers",
         "name": "MSN-0440, Exploration",
         "orientation": "v",
         "showlegend": true,
         "type": "scatter",
         "x": [
          457.92
         ],
         "xaxis": "x",
         "y": [
          100
         ],
         "yaxis": "y"
        },
        {
         "hovertemplate": "Mission ID=MSN-0441<br>Mission Type=Research<br>Mission Cost (billion USD)=%{x}<br>Mission Success (%)=%{y}<extra></extra>",
         "legendgroup": "MSN-0441, Research",
         "marker": {
          "color": "#636efa",
          "symbol": "x"
         },
         "mode": "markers",
         "name": "MSN-0441, Research",
         "orientation": "v",
         "showlegend": true,
         "type": "scatter",
         "x": [
          261.48
         ],
         "xaxis": "x",
         "y": [
          88.8
         ],
         "yaxis": "y"
        },
        {
         "hovertemplate": "Mission ID=MSN-0442<br>Mission Type=Exploration<br>Mission Cost (billion USD)=%{x}<br>Mission Success (%)=%{y}<extra></extra>",
         "legendgroup": "MSN-0442, Exploration",
         "marker": {
          "color": "#EF553B",
          "symbol": "diamond"
         },
         "mode": "markers",
         "name": "MSN-0442, Exploration",
         "orientation": "v",
         "showlegend": true,
         "type": "scatter",
         "x": [
          269.05
         ],
         "xaxis": "x",
         "y": [
          90.6
         ],
         "yaxis": "y"
        },
        {
         "hovertemplate": "Mission ID=MSN-0443<br>Mission Type=Research<br>Mission Cost (billion USD)=%{x}<br>Mission Success (%)=%{y}<extra></extra>",
         "legendgroup": "MSN-0443, Research",
         "marker": {
          "color": "#00cc96",
          "symbol": "x"
         },
         "mode": "markers",
         "name": "MSN-0443, Research",
         "orientation": "v",
         "showlegend": true,
         "type": "scatter",
         "x": [
          121.01
         ],
         "xaxis": "x",
         "y": [
          78.2
         ],
         "yaxis": "y"
        },
        {
         "hovertemplate": "Mission ID=MSN-0444<br>Mission Type=Mining<br>Mission Cost (billion USD)=%{x}<br>Mission Success (%)=%{y}<extra></extra>",
         "legendgroup": "MSN-0444, Mining",
         "marker": {
          "color": "#ab63fa",
          "symbol": "square"
         },
         "mode": "markers",
         "name": "MSN-0444, Mining",
         "orientation": "v",
         "showlegend": true,
         "type": "scatter",
         "x": [
          507.4
         ],
         "xaxis": "x",
         "y": [
          100
         ],
         "yaxis": "y"
        },
        {
         "hovertemplate": "Mission ID=MSN-0445<br>Mission Type=Exploration<br>Mission Cost (billion USD)=%{x}<br>Mission Success (%)=%{y}<extra></extra>",
         "legendgroup": "MSN-0445, Exploration",
         "marker": {
          "color": "#FFA15A",
          "symbol": "diamond"
         },
         "mode": "markers",
         "name": "MSN-0445, Exploration",
         "orientation": "v",
         "showlegend": true,
         "type": "scatter",
         "x": [
          138.02
         ],
         "xaxis": "x",
         "y": [
          80.6
         ],
         "yaxis": "y"
        },
        {
         "hovertemplate": "Mission ID=MSN-0446<br>Mission Type=Research<br>Mission Cost (billion USD)=%{x}<br>Mission Success (%)=%{y}<extra></extra>",
         "legendgroup": "MSN-0446, Research",
         "marker": {
          "color": "#19d3f3",
          "symbol": "x"
         },
         "mode": "markers",
         "name": "MSN-0446, Research",
         "orientation": "v",
         "showlegend": true,
         "type": "scatter",
         "x": [
          64.87
         ],
         "xaxis": "x",
         "y": [
          79.8
         ],
         "yaxis": "y"
        },
        {
         "hovertemplate": "Mission ID=MSN-0447<br>Mission Type=Mining<br>Mission Cost (billion USD)=%{x}<br>Mission Success (%)=%{y}<extra></extra>",
         "legendgroup": "MSN-0447, Mining",
         "marker": {
          "color": "#FF6692",
          "symbol": "square"
         },
         "mode": "markers",
         "name": "MSN-0447, Mining",
         "orientation": "v",
         "showlegend": true,
         "type": "scatter",
         "x": [
          349.3
         ],
         "xaxis": "x",
         "y": [
          100
         ],
         "yaxis": "y"
        },
        {
         "hovertemplate": "Mission ID=MSN-0448<br>Mission Type=Exploration<br>Mission Cost (billion USD)=%{x}<br>Mission Success (%)=%{y}<extra></extra>",
         "legendgroup": "MSN-0448, Exploration",
         "marker": {
          "color": "#B6E880",
          "symbol": "diamond"
         },
         "mode": "markers",
         "name": "MSN-0448, Exploration",
         "orientation": "v",
         "showlegend": true,
         "type": "scatter",
         "x": [
          302.42
         ],
         "xaxis": "x",
         "y": [
          100
         ],
         "yaxis": "y"
        },
        {
         "hovertemplate": "Mission ID=MSN-0449<br>Mission Type=Mining<br>Mission Cost (billion USD)=%{x}<br>Mission Success (%)=%{y}<extra></extra>",
         "legendgroup": "MSN-0449, Mining",
         "marker": {
          "color": "#FF97FF",
          "symbol": "square"
         },
         "mode": "markers",
         "name": "MSN-0449, Mining",
         "orientation": "v",
         "showlegend": true,
         "type": "scatter",
         "x": [
          227.33
         ],
         "xaxis": "x",
         "y": [
          100
         ],
         "yaxis": "y"
        },
        {
         "hovertemplate": "Mission ID=MSN-0450<br>Mission Type=Colonization<br>Mission Cost (billion USD)=%{x}<br>Mission Success (%)=%{y}<extra></extra>",
         "legendgroup": "MSN-0450, Colonization",
         "marker": {
          "color": "#FECB52",
          "symbol": "circle"
         },
         "mode": "markers",
         "name": "MSN-0450, Colonization",
         "orientation": "v",
         "showlegend": true,
         "type": "scatter",
         "x": [
          241.66
         ],
         "xaxis": "x",
         "y": [
          96.2
         ],
         "yaxis": "y"
        },
        {
         "hovertemplate": "Mission ID=MSN-0451<br>Mission Type=Colonization<br>Mission Cost (billion USD)=%{x}<br>Mission Success (%)=%{y}<extra></extra>",
         "legendgroup": "MSN-0451, Colonization",
         "marker": {
          "color": "#636efa",
          "symbol": "circle"
         },
         "mode": "markers",
         "name": "MSN-0451, Colonization",
         "orientation": "v",
         "showlegend": true,
         "type": "scatter",
         "x": [
          421.63
         ],
         "xaxis": "x",
         "y": [
          100
         ],
         "yaxis": "y"
        },
        {
         "hovertemplate": "Mission ID=MSN-0452<br>Mission Type=Exploration<br>Mission Cost (billion USD)=%{x}<br>Mission Success (%)=%{y}<extra></extra>",
         "legendgroup": "MSN-0452, Exploration",
         "marker": {
          "color": "#EF553B",
          "symbol": "diamond"
         },
         "mode": "markers",
         "name": "MSN-0452, Exploration",
         "orientation": "v",
         "showlegend": true,
         "type": "scatter",
         "x": [
          120.37
         ],
         "xaxis": "x",
         "y": [
          88.9
         ],
         "yaxis": "y"
        },
        {
         "hovertemplate": "Mission ID=MSN-0453<br>Mission Type=Research<br>Mission Cost (billion USD)=%{x}<br>Mission Success (%)=%{y}<extra></extra>",
         "legendgroup": "MSN-0453, Research",
         "marker": {
          "color": "#00cc96",
          "symbol": "x"
         },
         "mode": "markers",
         "name": "MSN-0453, Research",
         "orientation": "v",
         "showlegend": true,
         "type": "scatter",
         "x": [
          433.97
         ],
         "xaxis": "x",
         "y": [
          100
         ],
         "yaxis": "y"
        },
        {
         "hovertemplate": "Mission ID=MSN-0454<br>Mission Type=Exploration<br>Mission Cost (billion USD)=%{x}<br>Mission Success (%)=%{y}<extra></extra>",
         "legendgroup": "MSN-0454, Exploration",
         "marker": {
          "color": "#ab63fa",
          "symbol": "diamond"
         },
         "mode": "markers",
         "name": "MSN-0454, Exploration",
         "orientation": "v",
         "showlegend": true,
         "type": "scatter",
         "x": [
          374.46
         ],
         "xaxis": "x",
         "y": [
          100
         ],
         "yaxis": "y"
        },
        {
         "hovertemplate": "Mission ID=MSN-0455<br>Mission Type=Mining<br>Mission Cost (billion USD)=%{x}<br>Mission Success (%)=%{y}<extra></extra>",
         "legendgroup": "MSN-0455, Mining",
         "marker": {
          "color": "#FFA15A",
          "symbol": "square"
         },
         "mode": "markers",
         "name": "MSN-0455, Mining",
         "orientation": "v",
         "showlegend": true,
         "type": "scatter",
         "x": [
          231.89
         ],
         "xaxis": "x",
         "y": [
          100
         ],
         "yaxis": "y"
        },
        {
         "hovertemplate": "Mission ID=MSN-0456<br>Mission Type=Research<br>Mission Cost (billion USD)=%{x}<br>Mission Success (%)=%{y}<extra></extra>",
         "legendgroup": "MSN-0456, Research",
         "marker": {
          "color": "#19d3f3",
          "symbol": "x"
         },
         "mode": "markers",
         "name": "MSN-0456, Research",
         "orientation": "v",
         "showlegend": true,
         "type": "scatter",
         "x": [
          245.35
         ],
         "xaxis": "x",
         "y": [
          96.8
         ],
         "yaxis": "y"
        },
        {
         "hovertemplate": "Mission ID=MSN-0457<br>Mission Type=Colonization<br>Mission Cost (billion USD)=%{x}<br>Mission Success (%)=%{y}<extra></extra>",
         "legendgroup": "MSN-0457, Colonization",
         "marker": {
          "color": "#FF6692",
          "symbol": "circle"
         },
         "mode": "markers",
         "name": "MSN-0457, Colonization",
         "orientation": "v",
         "showlegend": true,
         "type": "scatter",
         "x": [
          144.98
         ],
         "xaxis": "x",
         "y": [
          77
         ],
         "yaxis": "y"
        },
        {
         "hovertemplate": "Mission ID=MSN-0458<br>Mission Type=Research<br>Mission Cost (billion USD)=%{x}<br>Mission Success (%)=%{y}<extra></extra>",
         "legendgroup": "MSN-0458, Research",
         "marker": {
          "color": "#B6E880",
          "symbol": "x"
         },
         "mode": "markers",
         "name": "MSN-0458, Research",
         "orientation": "v",
         "showlegend": true,
         "type": "scatter",
         "x": [
          400.73
         ],
         "xaxis": "x",
         "y": [
          100
         ],
         "yaxis": "y"
        },
        {
         "hovertemplate": "Mission ID=MSN-0459<br>Mission Type=Colonization<br>Mission Cost (billion USD)=%{x}<br>Mission Success (%)=%{y}<extra></extra>",
         "legendgroup": "MSN-0459, Colonization",
         "marker": {
          "color": "#FF97FF",
          "symbol": "circle"
         },
         "mode": "markers",
         "name": "MSN-0459, Colonization",
         "orientation": "v",
         "showlegend": true,
         "type": "scatter",
         "x": [
          297.07
         ],
         "xaxis": "x",
         "y": [
          100
         ],
         "yaxis": "y"
        },
        {
         "hovertemplate": "Mission ID=MSN-0460<br>Mission Type=Research<br>Mission Cost (billion USD)=%{x}<br>Mission Success (%)=%{y}<extra></extra>",
         "legendgroup": "MSN-0460, Research",
         "marker": {
          "color": "#FECB52",
          "symbol": "x"
         },
         "mode": "markers",
         "name": "MSN-0460, Research",
         "orientation": "v",
         "showlegend": true,
         "type": "scatter",
         "x": [
          174.89
         ],
         "xaxis": "x",
         "y": [
          86.6
         ],
         "yaxis": "y"
        },
        {
         "hovertemplate": "Mission ID=MSN-0461<br>Mission Type=Research<br>Mission Cost (billion USD)=%{x}<br>Mission Success (%)=%{y}<extra></extra>",
         "legendgroup": "MSN-0461, Research",
         "marker": {
          "color": "#636efa",
          "symbol": "x"
         },
         "mode": "markers",
         "name": "MSN-0461, Research",
         "orientation": "v",
         "showlegend": true,
         "type": "scatter",
         "x": [
          335.81
         ],
         "xaxis": "x",
         "y": [
          100
         ],
         "yaxis": "y"
        },
        {
         "hovertemplate": "Mission ID=MSN-0462<br>Mission Type=Research<br>Mission Cost (billion USD)=%{x}<br>Mission Success (%)=%{y}<extra></extra>",
         "legendgroup": "MSN-0462, Research",
         "marker": {
          "color": "#EF553B",
          "symbol": "x"
         },
         "mode": "markers",
         "name": "MSN-0462, Research",
         "orientation": "v",
         "showlegend": true,
         "type": "scatter",
         "x": [
          499.94
         ],
         "xaxis": "x",
         "y": [
          100
         ],
         "yaxis": "y"
        },
        {
         "hovertemplate": "Mission ID=MSN-0463<br>Mission Type=Mining<br>Mission Cost (billion USD)=%{x}<br>Mission Success (%)=%{y}<extra></extra>",
         "legendgroup": "MSN-0463, Mining",
         "marker": {
          "color": "#00cc96",
          "symbol": "square"
         },
         "mode": "markers",
         "name": "MSN-0463, Mining",
         "orientation": "v",
         "showlegend": true,
         "type": "scatter",
         "x": [
          241.98
         ],
         "xaxis": "x",
         "y": [
          97.7
         ],
         "yaxis": "y"
        },
        {
         "hovertemplate": "Mission ID=MSN-0464<br>Mission Type=Mining<br>Mission Cost (billion USD)=%{x}<br>Mission Success (%)=%{y}<extra></extra>",
         "legendgroup": "MSN-0464, Mining",
         "marker": {
          "color": "#ab63fa",
          "symbol": "square"
         },
         "mode": "markers",
         "name": "MSN-0464, Mining",
         "orientation": "v",
         "showlegend": true,
         "type": "scatter",
         "x": [
          499.77
         ],
         "xaxis": "x",
         "y": [
          100
         ],
         "yaxis": "y"
        },
        {
         "hovertemplate": "Mission ID=MSN-0465<br>Mission Type=Exploration<br>Mission Cost (billion USD)=%{x}<br>Mission Success (%)=%{y}<extra></extra>",
         "legendgroup": "MSN-0465, Exploration",
         "marker": {
          "color": "#FFA15A",
          "symbol": "diamond"
         },
         "mode": "markers",
         "name": "MSN-0465, Exploration",
         "orientation": "v",
         "showlegend": true,
         "type": "scatter",
         "x": [
          193.4
         ],
         "xaxis": "x",
         "y": [
          88.3
         ],
         "yaxis": "y"
        },
        {
         "hovertemplate": "Mission ID=MSN-0466<br>Mission Type=Exploration<br>Mission Cost (billion USD)=%{x}<br>Mission Success (%)=%{y}<extra></extra>",
         "legendgroup": "MSN-0466, Exploration",
         "marker": {
          "color": "#19d3f3",
          "symbol": "diamond"
         },
         "mode": "markers",
         "name": "MSN-0466, Exploration",
         "orientation": "v",
         "showlegend": true,
         "type": "scatter",
         "x": [
          60.72
         ],
         "xaxis": "x",
         "y": [
          74.5
         ],
         "yaxis": "y"
        },
        {
         "hovertemplate": "Mission ID=MSN-0467<br>Mission Type=Colonization<br>Mission Cost (billion USD)=%{x}<br>Mission Success (%)=%{y}<extra></extra>",
         "legendgroup": "MSN-0467, Colonization",
         "marker": {
          "color": "#FF6692",
          "symbol": "circle"
         },
         "mode": "markers",
         "name": "MSN-0467, Colonization",
         "orientation": "v",
         "showlegend": true,
         "type": "scatter",
         "x": [
          117.14
         ],
         "xaxis": "x",
         "y": [
          86
         ],
         "yaxis": "y"
        },
        {
         "hovertemplate": "Mission ID=MSN-0468<br>Mission Type=Mining<br>Mission Cost (billion USD)=%{x}<br>Mission Success (%)=%{y}<extra></extra>",
         "legendgroup": "MSN-0468, Mining",
         "marker": {
          "color": "#B6E880",
          "symbol": "square"
         },
         "mode": "markers",
         "name": "MSN-0468, Mining",
         "orientation": "v",
         "showlegend": true,
         "type": "scatter",
         "x": [
          249.61
         ],
         "xaxis": "x",
         "y": [
          97.7
         ],
         "yaxis": "y"
        },
        {
         "hovertemplate": "Mission ID=MSN-0469<br>Mission Type=Colonization<br>Mission Cost (billion USD)=%{x}<br>Mission Success (%)=%{y}<extra></extra>",
         "legendgroup": "MSN-0469, Colonization",
         "marker": {
          "color": "#FF97FF",
          "symbol": "circle"
         },
         "mode": "markers",
         "name": "MSN-0469, Colonization",
         "orientation": "v",
         "showlegend": true,
         "type": "scatter",
         "x": [
          117.26
         ],
         "xaxis": "x",
         "y": [
          80.4
         ],
         "yaxis": "y"
        },
        {
         "hovertemplate": "Mission ID=MSN-0470<br>Mission Type=Exploration<br>Mission Cost (billion USD)=%{x}<br>Mission Success (%)=%{y}<extra></extra>",
         "legendgroup": "MSN-0470, Exploration",
         "marker": {
          "color": "#FECB52",
          "symbol": "diamond"
         },
         "mode": "markers",
         "name": "MSN-0470, Exploration",
         "orientation": "v",
         "showlegend": true,
         "type": "scatter",
         "x": [
          47.87
         ],
         "xaxis": "x",
         "y": [
          80.2
         ],
         "yaxis": "y"
        },
        {
         "hovertemplate": "Mission ID=MSN-0471<br>Mission Type=Colonization<br>Mission Cost (billion USD)=%{x}<br>Mission Success (%)=%{y}<extra></extra>",
         "legendgroup": "MSN-0471, Colonization",
         "marker": {
          "color": "#636efa",
          "symbol": "circle"
         },
         "mode": "markers",
         "name": "MSN-0471, Colonization",
         "orientation": "v",
         "showlegend": true,
         "type": "scatter",
         "x": [
          468.66
         ],
         "xaxis": "x",
         "y": [
          100
         ],
         "yaxis": "y"
        },
        {
         "hovertemplate": "Mission ID=MSN-0472<br>Mission Type=Exploration<br>Mission Cost (billion USD)=%{x}<br>Mission Success (%)=%{y}<extra></extra>",
         "legendgroup": "MSN-0472, Exploration",
         "marker": {
          "color": "#EF553B",
          "symbol": "diamond"
         },
         "mode": "markers",
         "name": "MSN-0472, Exploration",
         "orientation": "v",
         "showlegend": true,
         "type": "scatter",
         "x": [
          466.55
         ],
         "xaxis": "x",
         "y": [
          100
         ],
         "yaxis": "y"
        },
        {
         "hovertemplate": "Mission ID=MSN-0473<br>Mission Type=Mining<br>Mission Cost (billion USD)=%{x}<br>Mission Success (%)=%{y}<extra></extra>",
         "legendgroup": "MSN-0473, Mining",
         "marker": {
          "color": "#00cc96",
          "symbol": "square"
         },
         "mode": "markers",
         "name": "MSN-0473, Mining",
         "orientation": "v",
         "showlegend": true,
         "type": "scatter",
         "x": [
          390.72
         ],
         "xaxis": "x",
         "y": [
          100
         ],
         "yaxis": "y"
        },
        {
         "hovertemplate": "Mission ID=MSN-0474<br>Mission Type=Research<br>Mission Cost (billion USD)=%{x}<br>Mission Success (%)=%{y}<extra></extra>",
         "legendgroup": "MSN-0474, Research",
         "marker": {
          "color": "#ab63fa",
          "symbol": "x"
         },
         "mode": "markers",
         "name": "MSN-0474, Research",
         "orientation": "v",
         "showlegend": true,
         "type": "scatter",
         "x": [
          124.46
         ],
         "xaxis": "x",
         "y": [
          77.6
         ],
         "yaxis": "y"
        },
        {
         "hovertemplate": "Mission ID=MSN-0475<br>Mission Type=Mining<br>Mission Cost (billion USD)=%{x}<br>Mission Success (%)=%{y}<extra></extra>",
         "legendgroup": "MSN-0475, Mining",
         "marker": {
          "color": "#FFA15A",
          "symbol": "square"
         },
         "mode": "markers",
         "name": "MSN-0475, Mining",
         "orientation": "v",
         "showlegend": true,
         "type": "scatter",
         "x": [
          81.24
         ],
         "xaxis": "x",
         "y": [
          76.8
         ],
         "yaxis": "y"
        },
        {
         "hovertemplate": "Mission ID=MSN-0476<br>Mission Type=Colonization<br>Mission Cost (billion USD)=%{x}<br>Mission Success (%)=%{y}<extra></extra>",
         "legendgroup": "MSN-0476, Colonization",
         "marker": {
          "color": "#19d3f3",
          "symbol": "circle"
         },
         "mode": "markers",
         "name": "MSN-0476, Colonization",
         "orientation": "v",
         "showlegend": true,
         "type": "scatter",
         "x": [
          83.84
         ],
         "xaxis": "x",
         "y": [
          84.6
         ],
         "yaxis": "y"
        },
        {
         "hovertemplate": "Mission ID=MSN-0477<br>Mission Type=Colonization<br>Mission Cost (billion USD)=%{x}<br>Mission Success (%)=%{y}<extra></extra>",
         "legendgroup": "MSN-0477, Colonization",
         "marker": {
          "color": "#FF6692",
          "symbol": "circle"
         },
         "mode": "markers",
         "name": "MSN-0477, Colonization",
         "orientation": "v",
         "showlegend": true,
         "type": "scatter",
         "x": [
          370.61
         ],
         "xaxis": "x",
         "y": [
          100
         ],
         "yaxis": "y"
        },
        {
         "hovertemplate": "Mission ID=MSN-0478<br>Mission Type=Mining<br>Mission Cost (billion USD)=%{x}<br>Mission Success (%)=%{y}<extra></extra>",
         "legendgroup": "MSN-0478, Mining",
         "marker": {
          "color": "#B6E880",
          "symbol": "square"
         },
         "mode": "markers",
         "name": "MSN-0478, Mining",
         "orientation": "v",
         "showlegend": true,
         "type": "scatter",
         "x": [
          474.5
         ],
         "xaxis": "x",
         "y": [
          100
         ],
         "yaxis": "y"
        },
        {
         "hovertemplate": "Mission ID=MSN-0479<br>Mission Type=Mining<br>Mission Cost (billion USD)=%{x}<br>Mission Success (%)=%{y}<extra></extra>",
         "legendgroup": "MSN-0479, Mining",
         "marker": {
          "color": "#FF97FF",
          "symbol": "square"
         },
         "mode": "markers",
         "name": "MSN-0479, Mining",
         "orientation": "v",
         "showlegend": true,
         "type": "scatter",
         "x": [
          243.26
         ],
         "xaxis": "x",
         "y": [
          91
         ],
         "yaxis": "y"
        },
        {
         "hovertemplate": "Mission ID=MSN-0480<br>Mission Type=Exploration<br>Mission Cost (billion USD)=%{x}<br>Mission Success (%)=%{y}<extra></extra>",
         "legendgroup": "MSN-0480, Exploration",
         "marker": {
          "color": "#FECB52",
          "symbol": "diamond"
         },
         "mode": "markers",
         "name": "MSN-0480, Exploration",
         "orientation": "v",
         "showlegend": true,
         "type": "scatter",
         "x": [
          68.96
         ],
         "xaxis": "x",
         "y": [
          75.6
         ],
         "yaxis": "y"
        },
        {
         "hovertemplate": "Mission ID=MSN-0481<br>Mission Type=Colonization<br>Mission Cost (billion USD)=%{x}<br>Mission Success (%)=%{y}<extra></extra>",
         "legendgroup": "MSN-0481, Colonization",
         "marker": {
          "color": "#636efa",
          "symbol": "circle"
         },
         "mode": "markers",
         "name": "MSN-0481, Colonization",
         "orientation": "v",
         "showlegend": true,
         "type": "scatter",
         "x": [
          269.25
         ],
         "xaxis": "x",
         "y": [
          89.4
         ],
         "yaxis": "y"
        },
        {
         "hovertemplate": "Mission ID=MSN-0482<br>Mission Type=Colonization<br>Mission Cost (billion USD)=%{x}<br>Mission Success (%)=%{y}<extra></extra>",
         "legendgroup": "MSN-0482, Colonization",
         "marker": {
          "color": "#EF553B",
          "symbol": "circle"
         },
         "mode": "markers",
         "name": "MSN-0482, Colonization",
         "orientation": "v",
         "showlegend": true,
         "type": "scatter",
         "x": [
          224.89
         ],
         "xaxis": "x",
         "y": [
          91.4
         ],
         "yaxis": "y"
        },
        {
         "hovertemplate": "Mission ID=MSN-0483<br>Mission Type=Mining<br>Mission Cost (billion USD)=%{x}<br>Mission Success (%)=%{y}<extra></extra>",
         "legendgroup": "MSN-0483, Mining",
         "marker": {
          "color": "#00cc96",
          "symbol": "square"
         },
         "mode": "markers",
         "name": "MSN-0483, Mining",
         "orientation": "v",
         "showlegend": true,
         "type": "scatter",
         "x": [
          239.4
         ],
         "xaxis": "x",
         "y": [
          93
         ],
         "yaxis": "y"
        },
        {
         "hovertemplate": "Mission ID=MSN-0484<br>Mission Type=Research<br>Mission Cost (billion USD)=%{x}<br>Mission Success (%)=%{y}<extra></extra>",
         "legendgroup": "MSN-0484, Research",
         "marker": {
          "color": "#ab63fa",
          "symbol": "x"
         },
         "mode": "markers",
         "name": "MSN-0484, Research",
         "orientation": "v",
         "showlegend": true,
         "type": "scatter",
         "x": [
          331.99
         ],
         "xaxis": "x",
         "y": [
          100
         ],
         "yaxis": "y"
        },
        {
         "hovertemplate": "Mission ID=MSN-0485<br>Mission Type=Colonization<br>Mission Cost (billion USD)=%{x}<br>Mission Success (%)=%{y}<extra></extra>",
         "legendgroup": "MSN-0485, Colonization",
         "marker": {
          "color": "#FFA15A",
          "symbol": "circle"
         },
         "mode": "markers",
         "name": "MSN-0485, Colonization",
         "orientation": "v",
         "showlegend": true,
         "type": "scatter",
         "x": [
          406.99
         ],
         "xaxis": "x",
         "y": [
          100
         ],
         "yaxis": "y"
        },
        {
         "hovertemplate": "Mission ID=MSN-0486<br>Mission Type=Research<br>Mission Cost (billion USD)=%{x}<br>Mission Success (%)=%{y}<extra></extra>",
         "legendgroup": "MSN-0486, Research",
         "marker": {
          "color": "#19d3f3",
          "symbol": "x"
         },
         "mode": "markers",
         "name": "MSN-0486, Research",
         "orientation": "v",
         "showlegend": true,
         "type": "scatter",
         "x": [
          87.45
         ],
         "xaxis": "x",
         "y": [
          72.8
         ],
         "yaxis": "y"
        },
        {
         "hovertemplate": "Mission ID=MSN-0487<br>Mission Type=Mining<br>Mission Cost (billion USD)=%{x}<br>Mission Success (%)=%{y}<extra></extra>",
         "legendgroup": "MSN-0487, Mining",
         "marker": {
          "color": "#FF6692",
          "symbol": "square"
         },
         "mode": "markers",
         "name": "MSN-0487, Mining",
         "orientation": "v",
         "showlegend": true,
         "type": "scatter",
         "x": [
          36.82
         ],
         "xaxis": "x",
         "y": [
          79.1
         ],
         "yaxis": "y"
        },
        {
         "hovertemplate": "Mission ID=MSN-0488<br>Mission Type=Mining<br>Mission Cost (billion USD)=%{x}<br>Mission Success (%)=%{y}<extra></extra>",
         "legendgroup": "MSN-0488, Mining",
         "marker": {
          "color": "#B6E880",
          "symbol": "square"
         },
         "mode": "markers",
         "name": "MSN-0488, Mining",
         "orientation": "v",
         "showlegend": true,
         "type": "scatter",
         "x": [
          532.62
         ],
         "xaxis": "x",
         "y": [
          100
         ],
         "yaxis": "y"
        },
        {
         "hovertemplate": "Mission ID=MSN-0489<br>Mission Type=Exploration<br>Mission Cost (billion USD)=%{x}<br>Mission Success (%)=%{y}<extra></extra>",
         "legendgroup": "MSN-0489, Exploration",
         "marker": {
          "color": "#FF97FF",
          "symbol": "diamond"
         },
         "mode": "markers",
         "name": "MSN-0489, Exploration",
         "orientation": "v",
         "showlegend": true,
         "type": "scatter",
         "x": [
          153.49
         ],
         "xaxis": "x",
         "y": [
          86.3
         ],
         "yaxis": "y"
        },
        {
         "hovertemplate": "Mission ID=MSN-0490<br>Mission Type=Colonization<br>Mission Cost (billion USD)=%{x}<br>Mission Success (%)=%{y}<extra></extra>",
         "legendgroup": "MSN-0490, Colonization",
         "marker": {
          "color": "#FECB52",
          "symbol": "circle"
         },
         "mode": "markers",
         "name": "MSN-0490, Colonization",
         "orientation": "v",
         "showlegend": true,
         "type": "scatter",
         "x": [
          81.12
         ],
         "xaxis": "x",
         "y": [
          78.1
         ],
         "yaxis": "y"
        },
        {
         "hovertemplate": "Mission ID=MSN-0491<br>Mission Type=Research<br>Mission Cost (billion USD)=%{x}<br>Mission Success (%)=%{y}<extra></extra>",
         "legendgroup": "MSN-0491, Research",
         "marker": {
          "color": "#636efa",
          "symbol": "x"
         },
         "mode": "markers",
         "name": "MSN-0491, Research",
         "orientation": "v",
         "showlegend": true,
         "type": "scatter",
         "x": [
          112.99
         ],
         "xaxis": "x",
         "y": [
          78.7
         ],
         "yaxis": "y"
        },
        {
         "hovertemplate": "Mission ID=MSN-0492<br>Mission Type=Exploration<br>Mission Cost (billion USD)=%{x}<br>Mission Success (%)=%{y}<extra></extra>",
         "legendgroup": "MSN-0492, Exploration",
         "marker": {
          "color": "#EF553B",
          "symbol": "diamond"
         },
         "mode": "markers",
         "name": "MSN-0492, Exploration",
         "orientation": "v",
         "showlegend": true,
         "type": "scatter",
         "x": [
          58.23
         ],
         "xaxis": "x",
         "y": [
          76.9
         ],
         "yaxis": "y"
        },
        {
         "hovertemplate": "Mission ID=MSN-0493<br>Mission Type=Colonization<br>Mission Cost (billion USD)=%{x}<br>Mission Success (%)=%{y}<extra></extra>",
         "legendgroup": "MSN-0493, Colonization",
         "marker": {
          "color": "#00cc96",
          "symbol": "circle"
         },
         "mode": "markers",
         "name": "MSN-0493, Colonization",
         "orientation": "v",
         "showlegend": true,
         "type": "scatter",
         "x": [
          202.5
         ],
         "xaxis": "x",
         "y": [
          92.6
         ],
         "yaxis": "y"
        },
        {
         "hovertemplate": "Mission ID=MSN-0494<br>Mission Type=Exploration<br>Mission Cost (billion USD)=%{x}<br>Mission Success (%)=%{y}<extra></extra>",
         "legendgroup": "MSN-0494, Exploration",
         "marker": {
          "color": "#ab63fa",
          "symbol": "diamond"
         },
         "mode": "markers",
         "name": "MSN-0494, Exploration",
         "orientation": "v",
         "showlegend": true,
         "type": "scatter",
         "x": [
          408.77
         ],
         "xaxis": "x",
         "y": [
          100
         ],
         "yaxis": "y"
        },
        {
         "hovertemplate": "Mission ID=MSN-0495<br>Mission Type=Mining<br>Mission Cost (billion USD)=%{x}<br>Mission Success (%)=%{y}<extra></extra>",
         "legendgroup": "MSN-0495, Mining",
         "marker": {
          "color": "#FFA15A",
          "symbol": "square"
         },
         "mode": "markers",
         "name": "MSN-0495, Mining",
         "orientation": "v",
         "showlegend": true,
         "type": "scatter",
         "x": [
          175.09
         ],
         "xaxis": "x",
         "y": [
          84.8
         ],
         "yaxis": "y"
        },
        {
         "hovertemplate": "Mission ID=MSN-0496<br>Mission Type=Colonization<br>Mission Cost (billion USD)=%{x}<br>Mission Success (%)=%{y}<extra></extra>",
         "legendgroup": "MSN-0496, Colonization",
         "marker": {
          "color": "#19d3f3",
          "symbol": "circle"
         },
         "mode": "markers",
         "name": "MSN-0496, Colonization",
         "orientation": "v",
         "showlegend": true,
         "type": "scatter",
         "x": [
          274.82
         ],
         "xaxis": "x",
         "y": [
          96.2
         ],
         "yaxis": "y"
        },
        {
         "hovertemplate": "Mission ID=MSN-0497<br>Mission Type=Exploration<br>Mission Cost (billion USD)=%{x}<br>Mission Success (%)=%{y}<extra></extra>",
         "legendgroup": "MSN-0497, Exploration",
         "marker": {
          "color": "#FF6692",
          "symbol": "diamond"
         },
         "mode": "markers",
         "name": "MSN-0497, Exploration",
         "orientation": "v",
         "showlegend": true,
         "type": "scatter",
         "x": [
          379.71
         ],
         "xaxis": "x",
         "y": [
          100
         ],
         "yaxis": "y"
        },
        {
         "hovertemplate": "Mission ID=MSN-0498<br>Mission Type=Exploration<br>Mission Cost (billion USD)=%{x}<br>Mission Success (%)=%{y}<extra></extra>",
         "legendgroup": "MSN-0498, Exploration",
         "marker": {
          "color": "#B6E880",
          "symbol": "diamond"
         },
         "mode": "markers",
         "name": "MSN-0498, Exploration",
         "orientation": "v",
         "showlegend": true,
         "type": "scatter",
         "x": [
          296.45
         ],
         "xaxis": "x",
         "y": [
          100
         ],
         "yaxis": "y"
        },
        {
         "hovertemplate": "Mission ID=MSN-0499<br>Mission Type=Research<br>Mission Cost (billion USD)=%{x}<br>Mission Success (%)=%{y}<extra></extra>",
         "legendgroup": "MSN-0499, Research",
         "marker": {
          "color": "#FF97FF",
          "symbol": "x"
         },
         "mode": "markers",
         "name": "MSN-0499, Research",
         "orientation": "v",
         "showlegend": true,
         "type": "scatter",
         "x": [
          457.38
         ],
         "xaxis": "x",
         "y": [
          100
         ],
         "yaxis": "y"
        },
        {
         "hovertemplate": "Mission ID=MSN-0500<br>Mission Type=Exploration<br>Mission Cost (billion USD)=%{x}<br>Mission Success (%)=%{y}<extra></extra>",
         "legendgroup": "MSN-0500, Exploration",
         "marker": {
          "color": "#FECB52",
          "symbol": "diamond"
         },
         "mode": "markers",
         "name": "MSN-0500, Exploration",
         "orientation": "v",
         "showlegend": true,
         "type": "scatter",
         "x": [
          449.4
         ],
         "xaxis": "x",
         "y": [
          100
         ],
         "yaxis": "y"
        }
       ],
       "layout": {
        "legend": {
         "title": {
          "text": "Mission ID, Mission Type"
         },
         "tracegroupgap": 0
        },
        "template": {
         "data": {
          "bar": [
           {
            "error_x": {
             "color": "#2a3f5f"
            },
            "error_y": {
             "color": "#2a3f5f"
            },
            "marker": {
             "line": {
              "color": "#E5ECF6",
              "width": 0.5
             },
             "pattern": {
              "fillmode": "overlay",
              "size": 10,
              "solidity": 0.2
             }
            },
            "type": "bar"
           }
          ],
          "barpolar": [
           {
            "marker": {
             "line": {
              "color": "#E5ECF6",
              "width": 0.5
             },
             "pattern": {
              "fillmode": "overlay",
              "size": 10,
              "solidity": 0.2
             }
            },
            "type": "barpolar"
           }
          ],
          "carpet": [
           {
            "aaxis": {
             "endlinecolor": "#2a3f5f",
             "gridcolor": "white",
             "linecolor": "white",
             "minorgridcolor": "white",
             "startlinecolor": "#2a3f5f"
            },
            "baxis": {
             "endlinecolor": "#2a3f5f",
             "gridcolor": "white",
             "linecolor": "white",
             "minorgridcolor": "white",
             "startlinecolor": "#2a3f5f"
            },
            "type": "carpet"
           }
          ],
          "choropleth": [
           {
            "colorbar": {
             "outlinewidth": 0,
             "ticks": ""
            },
            "type": "choropleth"
           }
          ],
          "contour": [
           {
            "colorbar": {
             "outlinewidth": 0,
             "ticks": ""
            },
            "colorscale": [
             [
              0,
              "#0d0887"
             ],
             [
              0.1111111111111111,
              "#46039f"
             ],
             [
              0.2222222222222222,
              "#7201a8"
             ],
             [
              0.3333333333333333,
              "#9c179e"
             ],
             [
              0.4444444444444444,
              "#bd3786"
             ],
             [
              0.5555555555555556,
              "#d8576b"
             ],
             [
              0.6666666666666666,
              "#ed7953"
             ],
             [
              0.7777777777777778,
              "#fb9f3a"
             ],
             [
              0.8888888888888888,
              "#fdca26"
             ],
             [
              1,
              "#f0f921"
             ]
            ],
            "type": "contour"
           }
          ],
          "contourcarpet": [
           {
            "colorbar": {
             "outlinewidth": 0,
             "ticks": ""
            },
            "type": "contourcarpet"
           }
          ],
          "heatmap": [
           {
            "colorbar": {
             "outlinewidth": 0,
             "ticks": ""
            },
            "colorscale": [
             [
              0,
              "#0d0887"
             ],
             [
              0.1111111111111111,
              "#46039f"
             ],
             [
              0.2222222222222222,
              "#7201a8"
             ],
             [
              0.3333333333333333,
              "#9c179e"
             ],
             [
              0.4444444444444444,
              "#bd3786"
             ],
             [
              0.5555555555555556,
              "#d8576b"
             ],
             [
              0.6666666666666666,
              "#ed7953"
             ],
             [
              0.7777777777777778,
              "#fb9f3a"
             ],
             [
              0.8888888888888888,
              "#fdca26"
             ],
             [
              1,
              "#f0f921"
             ]
            ],
            "type": "heatmap"
           }
          ],
          "heatmapgl": [
           {
            "colorbar": {
             "outlinewidth": 0,
             "ticks": ""
            },
            "colorscale": [
             [
              0,
              "#0d0887"
             ],
             [
              0.1111111111111111,
              "#46039f"
             ],
             [
              0.2222222222222222,
              "#7201a8"
             ],
             [
              0.3333333333333333,
              "#9c179e"
             ],
             [
              0.4444444444444444,
              "#bd3786"
             ],
             [
              0.5555555555555556,
              "#d8576b"
             ],
             [
              0.6666666666666666,
              "#ed7953"
             ],
             [
              0.7777777777777778,
              "#fb9f3a"
             ],
             [
              0.8888888888888888,
              "#fdca26"
             ],
             [
              1,
              "#f0f921"
             ]
            ],
            "type": "heatmapgl"
           }
          ],
          "histogram": [
           {
            "marker": {
             "pattern": {
              "fillmode": "overlay",
              "size": 10,
              "solidity": 0.2
             }
            },
            "type": "histogram"
           }
          ],
          "histogram2d": [
           {
            "colorbar": {
             "outlinewidth": 0,
             "ticks": ""
            },
            "colorscale": [
             [
              0,
              "#0d0887"
             ],
             [
              0.1111111111111111,
              "#46039f"
             ],
             [
              0.2222222222222222,
              "#7201a8"
             ],
             [
              0.3333333333333333,
              "#9c179e"
             ],
             [
              0.4444444444444444,
              "#bd3786"
             ],
             [
              0.5555555555555556,
              "#d8576b"
             ],
             [
              0.6666666666666666,
              "#ed7953"
             ],
             [
              0.7777777777777778,
              "#fb9f3a"
             ],
             [
              0.8888888888888888,
              "#fdca26"
             ],
             [
              1,
              "#f0f921"
             ]
            ],
            "type": "histogram2d"
           }
          ],
          "histogram2dcontour": [
           {
            "colorbar": {
             "outlinewidth": 0,
             "ticks": ""
            },
            "colorscale": [
             [
              0,
              "#0d0887"
             ],
             [
              0.1111111111111111,
              "#46039f"
             ],
             [
              0.2222222222222222,
              "#7201a8"
             ],
             [
              0.3333333333333333,
              "#9c179e"
             ],
             [
              0.4444444444444444,
              "#bd3786"
             ],
             [
              0.5555555555555556,
              "#d8576b"
             ],
             [
              0.6666666666666666,
              "#ed7953"
             ],
             [
              0.7777777777777778,
              "#fb9f3a"
             ],
             [
              0.8888888888888888,
              "#fdca26"
             ],
             [
              1,
              "#f0f921"
             ]
            ],
            "type": "histogram2dcontour"
           }
          ],
          "mesh3d": [
           {
            "colorbar": {
             "outlinewidth": 0,
             "ticks": ""
            },
            "type": "mesh3d"
           }
          ],
          "parcoords": [
           {
            "line": {
             "colorbar": {
              "outlinewidth": 0,
              "ticks": ""
             }
            },
            "type": "parcoords"
           }
          ],
          "pie": [
           {
            "automargin": true,
            "type": "pie"
           }
          ],
          "scatter": [
           {
            "fillpattern": {
             "fillmode": "overlay",
             "size": 10,
             "solidity": 0.2
            },
            "type": "scatter"
           }
          ],
          "scatter3d": [
           {
            "line": {
             "colorbar": {
              "outlinewidth": 0,
              "ticks": ""
             }
            },
            "marker": {
             "colorbar": {
              "outlinewidth": 0,
              "ticks": ""
             }
            },
            "type": "scatter3d"
           }
          ],
          "scattercarpet": [
           {
            "marker": {
             "colorbar": {
              "outlinewidth": 0,
              "ticks": ""
             }
            },
            "type": "scattercarpet"
           }
          ],
          "scattergeo": [
           {
            "marker": {
             "colorbar": {
              "outlinewidth": 0,
              "ticks": ""
             }
            },
            "type": "scattergeo"
           }
          ],
          "scattergl": [
           {
            "marker": {
             "colorbar": {
              "outlinewidth": 0,
              "ticks": ""
             }
            },
            "type": "scattergl"
           }
          ],
          "scattermapbox": [
           {
            "marker": {
             "colorbar": {
              "outlinewidth": 0,
              "ticks": ""
             }
            },
            "type": "scattermapbox"
           }
          ],
          "scatterpolar": [
           {
            "marker": {
             "colorbar": {
              "outlinewidth": 0,
              "ticks": ""
             }
            },
            "type": "scatterpolar"
           }
          ],
          "scatterpolargl": [
           {
            "marker": {
             "colorbar": {
              "outlinewidth": 0,
              "ticks": ""
             }
            },
            "type": "scatterpolargl"
           }
          ],
          "scatterternary": [
           {
            "marker": {
             "colorbar": {
              "outlinewidth": 0,
              "ticks": ""
             }
            },
            "type": "scatterternary"
           }
          ],
          "surface": [
           {
            "colorbar": {
             "outlinewidth": 0,
             "ticks": ""
            },
            "colorscale": [
             [
              0,
              "#0d0887"
             ],
             [
              0.1111111111111111,
              "#46039f"
             ],
             [
              0.2222222222222222,
              "#7201a8"
             ],
             [
              0.3333333333333333,
              "#9c179e"
             ],
             [
              0.4444444444444444,
              "#bd3786"
             ],
             [
              0.5555555555555556,
              "#d8576b"
             ],
             [
              0.6666666666666666,
              "#ed7953"
             ],
             [
              0.7777777777777778,
              "#fb9f3a"
             ],
             [
              0.8888888888888888,
              "#fdca26"
             ],
             [
              1,
              "#f0f921"
             ]
            ],
            "type": "surface"
           }
          ],
          "table": [
           {
            "cells": {
             "fill": {
              "color": "#EBF0F8"
             },
             "line": {
              "color": "white"
             }
            },
            "header": {
             "fill": {
              "color": "#C8D4E3"
             },
             "line": {
              "color": "white"
             }
            },
            "type": "table"
           }
          ]
         },
         "layout": {
          "annotationdefaults": {
           "arrowcolor": "#2a3f5f",
           "arrowhead": 0,
           "arrowwidth": 1
          },
          "autotypenumbers": "strict",
          "coloraxis": {
           "colorbar": {
            "outlinewidth": 0,
            "ticks": ""
           }
          },
          "colorscale": {
           "diverging": [
            [
             0,
             "#8e0152"
            ],
            [
             0.1,
             "#c51b7d"
            ],
            [
             0.2,
             "#de77ae"
            ],
            [
             0.3,
             "#f1b6da"
            ],
            [
             0.4,
             "#fde0ef"
            ],
            [
             0.5,
             "#f7f7f7"
            ],
            [
             0.6,
             "#e6f5d0"
            ],
            [
             0.7,
             "#b8e186"
            ],
            [
             0.8,
             "#7fbc41"
            ],
            [
             0.9,
             "#4d9221"
            ],
            [
             1,
             "#276419"
            ]
           ],
           "sequential": [
            [
             0,
             "#0d0887"
            ],
            [
             0.1111111111111111,
             "#46039f"
            ],
            [
             0.2222222222222222,
             "#7201a8"
            ],
            [
             0.3333333333333333,
             "#9c179e"
            ],
            [
             0.4444444444444444,
             "#bd3786"
            ],
            [
             0.5555555555555556,
             "#d8576b"
            ],
            [
             0.6666666666666666,
             "#ed7953"
            ],
            [
             0.7777777777777778,
             "#fb9f3a"
            ],
            [
             0.8888888888888888,
             "#fdca26"
            ],
            [
             1,
             "#f0f921"
            ]
           ],
           "sequentialminus": [
            [
             0,
             "#0d0887"
            ],
            [
             0.1111111111111111,
             "#46039f"
            ],
            [
             0.2222222222222222,
             "#7201a8"
            ],
            [
             0.3333333333333333,
             "#9c179e"
            ],
            [
             0.4444444444444444,
             "#bd3786"
            ],
            [
             0.5555555555555556,
             "#d8576b"
            ],
            [
             0.6666666666666666,
             "#ed7953"
            ],
            [
             0.7777777777777778,
             "#fb9f3a"
            ],
            [
             0.8888888888888888,
             "#fdca26"
            ],
            [
             1,
             "#f0f921"
            ]
           ]
          },
          "colorway": [
           "#636efa",
           "#EF553B",
           "#00cc96",
           "#ab63fa",
           "#FFA15A",
           "#19d3f3",
           "#FF6692",
           "#B6E880",
           "#FF97FF",
           "#FECB52"
          ],
          "font": {
           "color": "#2a3f5f"
          },
          "geo": {
           "bgcolor": "white",
           "lakecolor": "white",
           "landcolor": "#E5ECF6",
           "showlakes": true,
           "showland": true,
           "subunitcolor": "white"
          },
          "hoverlabel": {
           "align": "left"
          },
          "hovermode": "closest",
          "mapbox": {
           "style": "light"
          },
          "paper_bgcolor": "white",
          "plot_bgcolor": "#E5ECF6",
          "polar": {
           "angularaxis": {
            "gridcolor": "white",
            "linecolor": "white",
            "ticks": ""
           },
           "bgcolor": "#E5ECF6",
           "radialaxis": {
            "gridcolor": "white",
            "linecolor": "white",
            "ticks": ""
           }
          },
          "scene": {
           "xaxis": {
            "backgroundcolor": "#E5ECF6",
            "gridcolor": "white",
            "gridwidth": 2,
            "linecolor": "white",
            "showbackground": true,
            "ticks": "",
            "zerolinecolor": "white"
           },
           "yaxis": {
            "backgroundcolor": "#E5ECF6",
            "gridcolor": "white",
            "gridwidth": 2,
            "linecolor": "white",
            "showbackground": true,
            "ticks": "",
            "zerolinecolor": "white"
           },
           "zaxis": {
            "backgroundcolor": "#E5ECF6",
            "gridcolor": "white",
            "gridwidth": 2,
            "linecolor": "white",
            "showbackground": true,
            "ticks": "",
            "zerolinecolor": "white"
           }
          },
          "shapedefaults": {
           "line": {
            "color": "#2a3f5f"
           }
          },
          "ternary": {
           "aaxis": {
            "gridcolor": "white",
            "linecolor": "white",
            "ticks": ""
           },
           "baxis": {
            "gridcolor": "white",
            "linecolor": "white",
            "ticks": ""
           },
           "bgcolor": "#E5ECF6",
           "caxis": {
            "gridcolor": "white",
            "linecolor": "white",
            "ticks": ""
           }
          },
          "title": {
           "x": 0.05
          },
          "xaxis": {
           "automargin": true,
           "gridcolor": "white",
           "linecolor": "white",
           "ticks": "",
           "title": {
            "standoff": 15
           },
           "zerolinecolor": "white",
           "zerolinewidth": 2
          },
          "yaxis": {
           "automargin": true,
           "gridcolor": "white",
           "linecolor": "white",
           "ticks": "",
           "title": {
            "standoff": 15
           },
           "zerolinecolor": "white",
           "zerolinewidth": 2
          }
         }
        },
        "title": {
         "text": "Mission Cost vs. Mission Success"
        },
        "xaxis": {
         "anchor": "y",
         "domain": [
          0,
          1
         ],
         "title": {
          "text": "Mission Cost (billion USD)"
         }
        },
        "yaxis": {
         "anchor": "x",
         "domain": [
          0,
          1
         ],
         "title": {
          "text": "Mission Success (%)"
         }
        }
       }
      }
     },
     "metadata": {},
     "output_type": "display_data"
    }
   ],
   "source": [
    "# Create a scatter plot for Mission Cost vs. Mission Success\n",
    "fig = px.scatter(df, x='Mission Cost (billion USD)', y='Mission Success (%)',\n",
    "                 title='Mission Cost vs. Mission Success',\n",
    "                 color='Mission ID',        #we used color to show the mission id\n",
    "                 symbol='Mission Type')        #we used symbol to show the mission type\n",
    "\n",
    "fig.show()"
   ]
  },
  {
   "cell_type": "code",
   "execution_count": 10,
   "metadata": {},
   "outputs": [
    {
     "data": {
      "application/vnd.plotly.v1+json": {
       "config": {
        "plotlyServerURL": "https://plot.ly"
       },
       "data": [
        {
         "hovertemplate": "Mission ID=%{y}<br>Scientific Yield (points)=%{x}<extra></extra>",
         "legendgroup": "MSN-0375",
         "marker": {
          "color": "rgb(141,211,199)"
         },
         "name": "MSN-0375",
         "orientation": "h",
         "showlegend": true,
         "type": "funnel",
         "x": [
          56.9
         ],
         "xaxis": "x",
         "y": [
          "MSN-0375"
         ],
         "yaxis": "y"
        },
        {
         "hovertemplate": "Mission ID=%{y}<br>Scientific Yield (points)=%{x}<extra></extra>",
         "legendgroup": "MSN-0156",
         "marker": {
          "color": "rgb(255,255,179)"
         },
         "name": "MSN-0156",
         "orientation": "h",
         "showlegend": true,
         "type": "funnel",
         "x": [
          66.2
         ],
         "xaxis": "x",
         "y": [
          "MSN-0156"
         ],
         "yaxis": "y"
        },
        {
         "hovertemplate": "Mission ID=%{y}<br>Scientific Yield (points)=%{x}<extra></extra>",
         "legendgroup": "MSN-0105",
         "marker": {
          "color": "rgb(190,186,218)"
         },
         "name": "MSN-0105",
         "orientation": "h",
         "showlegend": true,
         "type": "funnel",
         "x": [
          76.4
         ],
         "xaxis": "x",
         "y": [
          "MSN-0105"
         ],
         "yaxis": "y"
        },
        {
         "hovertemplate": "Mission ID=%{y}<br>Scientific Yield (points)=%{x}<extra></extra>",
         "legendgroup": "MSN-0074",
         "marker": {
          "color": "rgb(251,128,114)"
         },
         "name": "MSN-0074",
         "orientation": "h",
         "showlegend": true,
         "type": "funnel",
         "x": [
          96
         ],
         "xaxis": "x",
         "y": [
          "MSN-0074"
         ],
         "yaxis": "y"
        },
        {
         "hovertemplate": "Mission ID=%{y}<br>Scientific Yield (points)=%{x}<extra></extra>",
         "legendgroup": "MSN-0362",
         "marker": {
          "color": "rgb(128,177,211)"
         },
         "name": "MSN-0362",
         "orientation": "h",
         "showlegend": true,
         "type": "funnel",
         "x": [
          98.3
         ],
         "xaxis": "x",
         "y": [
          "MSN-0362"
         ],
         "yaxis": "y"
        }
       ],
       "layout": {
        "legend": {
         "title": {
          "text": "Mission ID"
         },
         "tracegroupgap": 0
        },
        "template": {
         "data": {
          "bar": [
           {
            "error_x": {
             "color": "#2a3f5f"
            },
            "error_y": {
             "color": "#2a3f5f"
            },
            "marker": {
             "line": {
              "color": "#E5ECF6",
              "width": 0.5
             },
             "pattern": {
              "fillmode": "overlay",
              "size": 10,
              "solidity": 0.2
             }
            },
            "type": "bar"
           }
          ],
          "barpolar": [
           {
            "marker": {
             "line": {
              "color": "#E5ECF6",
              "width": 0.5
             },
             "pattern": {
              "fillmode": "overlay",
              "size": 10,
              "solidity": 0.2
             }
            },
            "type": "barpolar"
           }
          ],
          "carpet": [
           {
            "aaxis": {
             "endlinecolor": "#2a3f5f",
             "gridcolor": "white",
             "linecolor": "white",
             "minorgridcolor": "white",
             "startlinecolor": "#2a3f5f"
            },
            "baxis": {
             "endlinecolor": "#2a3f5f",
             "gridcolor": "white",
             "linecolor": "white",
             "minorgridcolor": "white",
             "startlinecolor": "#2a3f5f"
            },
            "type": "carpet"
           }
          ],
          "choropleth": [
           {
            "colorbar": {
             "outlinewidth": 0,
             "ticks": ""
            },
            "type": "choropleth"
           }
          ],
          "contour": [
           {
            "colorbar": {
             "outlinewidth": 0,
             "ticks": ""
            },
            "colorscale": [
             [
              0,
              "#0d0887"
             ],
             [
              0.1111111111111111,
              "#46039f"
             ],
             [
              0.2222222222222222,
              "#7201a8"
             ],
             [
              0.3333333333333333,
              "#9c179e"
             ],
             [
              0.4444444444444444,
              "#bd3786"
             ],
             [
              0.5555555555555556,
              "#d8576b"
             ],
             [
              0.6666666666666666,
              "#ed7953"
             ],
             [
              0.7777777777777778,
              "#fb9f3a"
             ],
             [
              0.8888888888888888,
              "#fdca26"
             ],
             [
              1,
              "#f0f921"
             ]
            ],
            "type": "contour"
           }
          ],
          "contourcarpet": [
           {
            "colorbar": {
             "outlinewidth": 0,
             "ticks": ""
            },
            "type": "contourcarpet"
           }
          ],
          "heatmap": [
           {
            "colorbar": {
             "outlinewidth": 0,
             "ticks": ""
            },
            "colorscale": [
             [
              0,
              "#0d0887"
             ],
             [
              0.1111111111111111,
              "#46039f"
             ],
             [
              0.2222222222222222,
              "#7201a8"
             ],
             [
              0.3333333333333333,
              "#9c179e"
             ],
             [
              0.4444444444444444,
              "#bd3786"
             ],
             [
              0.5555555555555556,
              "#d8576b"
             ],
             [
              0.6666666666666666,
              "#ed7953"
             ],
             [
              0.7777777777777778,
              "#fb9f3a"
             ],
             [
              0.8888888888888888,
              "#fdca26"
             ],
             [
              1,
              "#f0f921"
             ]
            ],
            "type": "heatmap"
           }
          ],
          "heatmapgl": [
           {
            "colorbar": {
             "outlinewidth": 0,
             "ticks": ""
            },
            "colorscale": [
             [
              0,
              "#0d0887"
             ],
             [
              0.1111111111111111,
              "#46039f"
             ],
             [
              0.2222222222222222,
              "#7201a8"
             ],
             [
              0.3333333333333333,
              "#9c179e"
             ],
             [
              0.4444444444444444,
              "#bd3786"
             ],
             [
              0.5555555555555556,
              "#d8576b"
             ],
             [
              0.6666666666666666,
              "#ed7953"
             ],
             [
              0.7777777777777778,
              "#fb9f3a"
             ],
             [
              0.8888888888888888,
              "#fdca26"
             ],
             [
              1,
              "#f0f921"
             ]
            ],
            "type": "heatmapgl"
           }
          ],
          "histogram": [
           {
            "marker": {
             "pattern": {
              "fillmode": "overlay",
              "size": 10,
              "solidity": 0.2
             }
            },
            "type": "histogram"
           }
          ],
          "histogram2d": [
           {
            "colorbar": {
             "outlinewidth": 0,
             "ticks": ""
            },
            "colorscale": [
             [
              0,
              "#0d0887"
             ],
             [
              0.1111111111111111,
              "#46039f"
             ],
             [
              0.2222222222222222,
              "#7201a8"
             ],
             [
              0.3333333333333333,
              "#9c179e"
             ],
             [
              0.4444444444444444,
              "#bd3786"
             ],
             [
              0.5555555555555556,
              "#d8576b"
             ],
             [
              0.6666666666666666,
              "#ed7953"
             ],
             [
              0.7777777777777778,
              "#fb9f3a"
             ],
             [
              0.8888888888888888,
              "#fdca26"
             ],
             [
              1,
              "#f0f921"
             ]
            ],
            "type": "histogram2d"
           }
          ],
          "histogram2dcontour": [
           {
            "colorbar": {
             "outlinewidth": 0,
             "ticks": ""
            },
            "colorscale": [
             [
              0,
              "#0d0887"
             ],
             [
              0.1111111111111111,
              "#46039f"
             ],
             [
              0.2222222222222222,
              "#7201a8"
             ],
             [
              0.3333333333333333,
              "#9c179e"
             ],
             [
              0.4444444444444444,
              "#bd3786"
             ],
             [
              0.5555555555555556,
              "#d8576b"
             ],
             [
              0.6666666666666666,
              "#ed7953"
             ],
             [
              0.7777777777777778,
              "#fb9f3a"
             ],
             [
              0.8888888888888888,
              "#fdca26"
             ],
             [
              1,
              "#f0f921"
             ]
            ],
            "type": "histogram2dcontour"
           }
          ],
          "mesh3d": [
           {
            "colorbar": {
             "outlinewidth": 0,
             "ticks": ""
            },
            "type": "mesh3d"
           }
          ],
          "parcoords": [
           {
            "line": {
             "colorbar": {
              "outlinewidth": 0,
              "ticks": ""
             }
            },
            "type": "parcoords"
           }
          ],
          "pie": [
           {
            "automargin": true,
            "type": "pie"
           }
          ],
          "scatter": [
           {
            "fillpattern": {
             "fillmode": "overlay",
             "size": 10,
             "solidity": 0.2
            },
            "type": "scatter"
           }
          ],
          "scatter3d": [
           {
            "line": {
             "colorbar": {
              "outlinewidth": 0,
              "ticks": ""
             }
            },
            "marker": {
             "colorbar": {
              "outlinewidth": 0,
              "ticks": ""
             }
            },
            "type": "scatter3d"
           }
          ],
          "scattercarpet": [
           {
            "marker": {
             "colorbar": {
              "outlinewidth": 0,
              "ticks": ""
             }
            },
            "type": "scattercarpet"
           }
          ],
          "scattergeo": [
           {
            "marker": {
             "colorbar": {
              "outlinewidth": 0,
              "ticks": ""
             }
            },
            "type": "scattergeo"
           }
          ],
          "scattergl": [
           {
            "marker": {
             "colorbar": {
              "outlinewidth": 0,
              "ticks": ""
             }
            },
            "type": "scattergl"
           }
          ],
          "scattermapbox": [
           {
            "marker": {
             "colorbar": {
              "outlinewidth": 0,
              "ticks": ""
             }
            },
            "type": "scattermapbox"
           }
          ],
          "scatterpolar": [
           {
            "marker": {
             "colorbar": {
              "outlinewidth": 0,
              "ticks": ""
             }
            },
            "type": "scatterpolar"
           }
          ],
          "scatterpolargl": [
           {
            "marker": {
             "colorbar": {
              "outlinewidth": 0,
              "ticks": ""
             }
            },
            "type": "scatterpolargl"
           }
          ],
          "scatterternary": [
           {
            "marker": {
             "colorbar": {
              "outlinewidth": 0,
              "ticks": ""
             }
            },
            "type": "scatterternary"
           }
          ],
          "surface": [
           {
            "colorbar": {
             "outlinewidth": 0,
             "ticks": ""
            },
            "colorscale": [
             [
              0,
              "#0d0887"
             ],
             [
              0.1111111111111111,
              "#46039f"
             ],
             [
              0.2222222222222222,
              "#7201a8"
             ],
             [
              0.3333333333333333,
              "#9c179e"
             ],
             [
              0.4444444444444444,
              "#bd3786"
             ],
             [
              0.5555555555555556,
              "#d8576b"
             ],
             [
              0.6666666666666666,
              "#ed7953"
             ],
             [
              0.7777777777777778,
              "#fb9f3a"
             ],
             [
              0.8888888888888888,
              "#fdca26"
             ],
             [
              1,
              "#f0f921"
             ]
            ],
            "type": "surface"
           }
          ],
          "table": [
           {
            "cells": {
             "fill": {
              "color": "#EBF0F8"
             },
             "line": {
              "color": "white"
             }
            },
            "header": {
             "fill": {
              "color": "#C8D4E3"
             },
             "line": {
              "color": "white"
             }
            },
            "type": "table"
           }
          ]
         },
         "layout": {
          "annotationdefaults": {
           "arrowcolor": "#2a3f5f",
           "arrowhead": 0,
           "arrowwidth": 1
          },
          "autotypenumbers": "strict",
          "coloraxis": {
           "colorbar": {
            "outlinewidth": 0,
            "ticks": ""
           }
          },
          "colorscale": {
           "diverging": [
            [
             0,
             "#8e0152"
            ],
            [
             0.1,
             "#c51b7d"
            ],
            [
             0.2,
             "#de77ae"
            ],
            [
             0.3,
             "#f1b6da"
            ],
            [
             0.4,
             "#fde0ef"
            ],
            [
             0.5,
             "#f7f7f7"
            ],
            [
             0.6,
             "#e6f5d0"
            ],
            [
             0.7,
             "#b8e186"
            ],
            [
             0.8,
             "#7fbc41"
            ],
            [
             0.9,
             "#4d9221"
            ],
            [
             1,
             "#276419"
            ]
           ],
           "sequential": [
            [
             0,
             "#0d0887"
            ],
            [
             0.1111111111111111,
             "#46039f"
            ],
            [
             0.2222222222222222,
             "#7201a8"
            ],
            [
             0.3333333333333333,
             "#9c179e"
            ],
            [
             0.4444444444444444,
             "#bd3786"
            ],
            [
             0.5555555555555556,
             "#d8576b"
            ],
            [
             0.6666666666666666,
             "#ed7953"
            ],
            [
             0.7777777777777778,
             "#fb9f3a"
            ],
            [
             0.8888888888888888,
             "#fdca26"
            ],
            [
             1,
             "#f0f921"
            ]
           ],
           "sequentialminus": [
            [
             0,
             "#0d0887"
            ],
            [
             0.1111111111111111,
             "#46039f"
            ],
            [
             0.2222222222222222,
             "#7201a8"
            ],
            [
             0.3333333333333333,
             "#9c179e"
            ],
            [
             0.4444444444444444,
             "#bd3786"
            ],
            [
             0.5555555555555556,
             "#d8576b"
            ],
            [
             0.6666666666666666,
             "#ed7953"
            ],
            [
             0.7777777777777778,
             "#fb9f3a"
            ],
            [
             0.8888888888888888,
             "#fdca26"
            ],
            [
             1,
             "#f0f921"
            ]
           ]
          },
          "colorway": [
           "#636efa",
           "#EF553B",
           "#00cc96",
           "#ab63fa",
           "#FFA15A",
           "#19d3f3",
           "#FF6692",
           "#B6E880",
           "#FF97FF",
           "#FECB52"
          ],
          "font": {
           "color": "#2a3f5f"
          },
          "geo": {
           "bgcolor": "white",
           "lakecolor": "white",
           "landcolor": "#E5ECF6",
           "showlakes": true,
           "showland": true,
           "subunitcolor": "white"
          },
          "hoverlabel": {
           "align": "left"
          },
          "hovermode": "closest",
          "mapbox": {
           "style": "light"
          },
          "paper_bgcolor": "white",
          "plot_bgcolor": "#E5ECF6",
          "polar": {
           "angularaxis": {
            "gridcolor": "white",
            "linecolor": "white",
            "ticks": ""
           },
           "bgcolor": "#E5ECF6",
           "radialaxis": {
            "gridcolor": "white",
            "linecolor": "white",
            "ticks": ""
           }
          },
          "scene": {
           "xaxis": {
            "backgroundcolor": "#E5ECF6",
            "gridcolor": "white",
            "gridwidth": 2,
            "linecolor": "white",
            "showbackground": true,
            "ticks": "",
            "zerolinecolor": "white"
           },
           "yaxis": {
            "backgroundcolor": "#E5ECF6",
            "gridcolor": "white",
            "gridwidth": 2,
            "linecolor": "white",
            "showbackground": true,
            "ticks": "",
            "zerolinecolor": "white"
           },
           "zaxis": {
            "backgroundcolor": "#E5ECF6",
            "gridcolor": "white",
            "gridwidth": 2,
            "linecolor": "white",
            "showbackground": true,
            "ticks": "",
            "zerolinecolor": "white"
           }
          },
          "shapedefaults": {
           "line": {
            "color": "#2a3f5f"
           }
          },
          "ternary": {
           "aaxis": {
            "gridcolor": "white",
            "linecolor": "white",
            "ticks": ""
           },
           "baxis": {
            "gridcolor": "white",
            "linecolor": "white",
            "ticks": ""
           },
           "bgcolor": "#E5ECF6",
           "caxis": {
            "gridcolor": "white",
            "linecolor": "white",
            "ticks": ""
           }
          },
          "title": {
           "x": 0.05
          },
          "xaxis": {
           "automargin": true,
           "gridcolor": "white",
           "linecolor": "white",
           "ticks": "",
           "title": {
            "standoff": 15
           },
           "zerolinecolor": "white",
           "zerolinewidth": 2
          },
          "yaxis": {
           "automargin": true,
           "gridcolor": "white",
           "linecolor": "white",
           "ticks": "",
           "title": {
            "standoff": 15
           },
           "zerolinecolor": "white",
           "zerolinewidth": 2
          }
         }
        },
        "title": {
         "text": "Funnel Chart of Scientific Yield for Random Missions"
        },
        "xaxis": {
         "anchor": "y",
         "domain": [
          0,
          1
         ],
         "title": {
          "text": "Scientific Yield (points)"
         }
        },
        "yaxis": {
         "anchor": "x",
         "categoryarray": [
          "MSN-0362",
          "MSN-0074",
          "MSN-0105",
          "MSN-0156",
          "MSN-0375"
         ],
         "categoryorder": "array",
         "domain": [
          0,
          1
         ],
         "title": {
          "text": "Mission ID"
         }
        }
       }
      }
     },
     "metadata": {},
     "output_type": "display_data"
    }
   ],
   "source": [
    "# Select 5 random Mission IDs\n",
    "random_missions = df.sample(n=5, random_state=42).sort_values(by='Scientific Yield (points)')  # random_state for reproducibility\n",
    "\n",
    "# Create a funnel chart\n",
    "fig = px.funnel(random_missions, x='Scientific Yield (points)', y='Mission ID',\n",
    "                title='Funnel Chart of Scientific Yield for Random Missions',\n",
    "                color='Mission ID',\n",
    "                color_discrete_sequence=px.colors.qualitative.Set3)\n",
    "\n",
    "\n",
    "fig.show()"
   ]
  },
  {
   "cell_type": "code",
   "execution_count": 11,
   "metadata": {},
   "outputs": [
    {
     "data": {
      "application/vnd.plotly.v1+json": {
       "config": {
        "plotlyServerURL": "https://plot.ly"
       },
       "data": [
        {
         "alignmentgroup": "True",
         "base": [
          "2025-01-05T00:00:00"
         ],
         "hovertemplate": "Mission ID=%{y}<br>Launch Date=%{base}<br>End Date=%{x}<extra></extra>",
         "legendgroup": "MSN-001",
         "marker": {
          "color": "rgb(228,26,28)",
          "pattern": {
           "shape": ""
          }
         },
         "name": "MSN-001",
         "offsetgroup": "MSN-001",
         "orientation": "h",
         "showlegend": true,
         "textposition": "auto",
         "type": "bar",
         "x": [
          432000000
         ],
         "xaxis": "x",
         "y": [
          "MSN-001"
         ],
         "yaxis": "y"
        },
        {
         "alignmentgroup": "True",
         "base": [
          "2025-01-15T00:00:00"
         ],
         "hovertemplate": "Mission ID=%{y}<br>Launch Date=%{base}<br>End Date=%{x}<extra></extra>",
         "legendgroup": "MSN-002",
         "marker": {
          "color": "rgb(55,126,184)",
          "pattern": {
           "shape": ""
          }
         },
         "name": "MSN-002",
         "offsetgroup": "MSN-002",
         "orientation": "h",
         "showlegend": true,
         "textposition": "auto",
         "type": "bar",
         "x": [
          864000000
         ],
         "xaxis": "x",
         "y": [
          "MSN-002"
         ],
         "yaxis": "y"
        },
        {
         "alignmentgroup": "True",
         "base": [
          "2025-02-10T00:00:00"
         ],
         "hovertemplate": "Mission ID=%{y}<br>Launch Date=%{base}<br>End Date=%{x}<extra></extra>",
         "legendgroup": "MSN-003",
         "marker": {
          "color": "rgb(77,175,74)",
          "pattern": {
           "shape": ""
          }
         },
         "name": "MSN-003",
         "offsetgroup": "MSN-003",
         "orientation": "h",
         "showlegend": true,
         "textposition": "auto",
         "type": "bar",
         "x": [
          432000000
         ],
         "xaxis": "x",
         "y": [
          "MSN-003"
         ],
         "yaxis": "y"
        },
        {
         "alignmentgroup": "True",
         "base": [
          "2025-02-20T00:00:00"
         ],
         "hovertemplate": "Mission ID=%{y}<br>Launch Date=%{base}<br>End Date=%{x}<extra></extra>",
         "legendgroup": "MSN-004",
         "marker": {
          "color": "rgb(152,78,163)",
          "pattern": {
           "shape": ""
          }
         },
         "name": "MSN-004",
         "offsetgroup": "MSN-004",
         "orientation": "h",
         "showlegend": true,
         "textposition": "auto",
         "type": "bar",
         "x": [
          432000000
         ],
         "xaxis": "x",
         "y": [
          "MSN-004"
         ],
         "yaxis": "y"
        },
        {
         "alignmentgroup": "True",
         "base": [
          "2025-03-10T00:00:00"
         ],
         "hovertemplate": "Mission ID=%{y}<br>Launch Date=%{base}<br>End Date=%{x}<extra></extra>",
         "legendgroup": "MSN-005",
         "marker": {
          "color": "rgb(255,127,0)",
          "pattern": {
           "shape": ""
          }
         },
         "name": "MSN-005",
         "offsetgroup": "MSN-005",
         "orientation": "h",
         "showlegend": true,
         "textposition": "auto",
         "type": "bar",
         "x": [
          86400000
         ],
         "xaxis": "x",
         "y": [
          "MSN-005"
         ],
         "yaxis": "y"
        }
       ],
       "layout": {
        "barmode": "overlay",
        "legend": {
         "title": {
          "text": "Mission ID"
         },
         "tracegroupgap": 0
        },
        "template": {
         "data": {
          "bar": [
           {
            "error_x": {
             "color": "#2a3f5f"
            },
            "error_y": {
             "color": "#2a3f5f"
            },
            "marker": {
             "line": {
              "color": "#E5ECF6",
              "width": 0.5
             },
             "pattern": {
              "fillmode": "overlay",
              "size": 10,
              "solidity": 0.2
             }
            },
            "type": "bar"
           }
          ],
          "barpolar": [
           {
            "marker": {
             "line": {
              "color": "#E5ECF6",
              "width": 0.5
             },
             "pattern": {
              "fillmode": "overlay",
              "size": 10,
              "solidity": 0.2
             }
            },
            "type": "barpolar"
           }
          ],
          "carpet": [
           {
            "aaxis": {
             "endlinecolor": "#2a3f5f",
             "gridcolor": "white",
             "linecolor": "white",
             "minorgridcolor": "white",
             "startlinecolor": "#2a3f5f"
            },
            "baxis": {
             "endlinecolor": "#2a3f5f",
             "gridcolor": "white",
             "linecolor": "white",
             "minorgridcolor": "white",
             "startlinecolor": "#2a3f5f"
            },
            "type": "carpet"
           }
          ],
          "choropleth": [
           {
            "colorbar": {
             "outlinewidth": 0,
             "ticks": ""
            },
            "type": "choropleth"
           }
          ],
          "contour": [
           {
            "colorbar": {
             "outlinewidth": 0,
             "ticks": ""
            },
            "colorscale": [
             [
              0,
              "#0d0887"
             ],
             [
              0.1111111111111111,
              "#46039f"
             ],
             [
              0.2222222222222222,
              "#7201a8"
             ],
             [
              0.3333333333333333,
              "#9c179e"
             ],
             [
              0.4444444444444444,
              "#bd3786"
             ],
             [
              0.5555555555555556,
              "#d8576b"
             ],
             [
              0.6666666666666666,
              "#ed7953"
             ],
             [
              0.7777777777777778,
              "#fb9f3a"
             ],
             [
              0.8888888888888888,
              "#fdca26"
             ],
             [
              1,
              "#f0f921"
             ]
            ],
            "type": "contour"
           }
          ],
          "contourcarpet": [
           {
            "colorbar": {
             "outlinewidth": 0,
             "ticks": ""
            },
            "type": "contourcarpet"
           }
          ],
          "heatmap": [
           {
            "colorbar": {
             "outlinewidth": 0,
             "ticks": ""
            },
            "colorscale": [
             [
              0,
              "#0d0887"
             ],
             [
              0.1111111111111111,
              "#46039f"
             ],
             [
              0.2222222222222222,
              "#7201a8"
             ],
             [
              0.3333333333333333,
              "#9c179e"
             ],
             [
              0.4444444444444444,
              "#bd3786"
             ],
             [
              0.5555555555555556,
              "#d8576b"
             ],
             [
              0.6666666666666666,
              "#ed7953"
             ],
             [
              0.7777777777777778,
              "#fb9f3a"
             ],
             [
              0.8888888888888888,
              "#fdca26"
             ],
             [
              1,
              "#f0f921"
             ]
            ],
            "type": "heatmap"
           }
          ],
          "heatmapgl": [
           {
            "colorbar": {
             "outlinewidth": 0,
             "ticks": ""
            },
            "colorscale": [
             [
              0,
              "#0d0887"
             ],
             [
              0.1111111111111111,
              "#46039f"
             ],
             [
              0.2222222222222222,
              "#7201a8"
             ],
             [
              0.3333333333333333,
              "#9c179e"
             ],
             [
              0.4444444444444444,
              "#bd3786"
             ],
             [
              0.5555555555555556,
              "#d8576b"
             ],
             [
              0.6666666666666666,
              "#ed7953"
             ],
             [
              0.7777777777777778,
              "#fb9f3a"
             ],
             [
              0.8888888888888888,
              "#fdca26"
             ],
             [
              1,
              "#f0f921"
             ]
            ],
            "type": "heatmapgl"
           }
          ],
          "histogram": [
           {
            "marker": {
             "pattern": {
              "fillmode": "overlay",
              "size": 10,
              "solidity": 0.2
             }
            },
            "type": "histogram"
           }
          ],
          "histogram2d": [
           {
            "colorbar": {
             "outlinewidth": 0,
             "ticks": ""
            },
            "colorscale": [
             [
              0,
              "#0d0887"
             ],
             [
              0.1111111111111111,
              "#46039f"
             ],
             [
              0.2222222222222222,
              "#7201a8"
             ],
             [
              0.3333333333333333,
              "#9c179e"
             ],
             [
              0.4444444444444444,
              "#bd3786"
             ],
             [
              0.5555555555555556,
              "#d8576b"
             ],
             [
              0.6666666666666666,
              "#ed7953"
             ],
             [
              0.7777777777777778,
              "#fb9f3a"
             ],
             [
              0.8888888888888888,
              "#fdca26"
             ],
             [
              1,
              "#f0f921"
             ]
            ],
            "type": "histogram2d"
           }
          ],
          "histogram2dcontour": [
           {
            "colorbar": {
             "outlinewidth": 0,
             "ticks": ""
            },
            "colorscale": [
             [
              0,
              "#0d0887"
             ],
             [
              0.1111111111111111,
              "#46039f"
             ],
             [
              0.2222222222222222,
              "#7201a8"
             ],
             [
              0.3333333333333333,
              "#9c179e"
             ],
             [
              0.4444444444444444,
              "#bd3786"
             ],
             [
              0.5555555555555556,
              "#d8576b"
             ],
             [
              0.6666666666666666,
              "#ed7953"
             ],
             [
              0.7777777777777778,
              "#fb9f3a"
             ],
             [
              0.8888888888888888,
              "#fdca26"
             ],
             [
              1,
              "#f0f921"
             ]
            ],
            "type": "histogram2dcontour"
           }
          ],
          "mesh3d": [
           {
            "colorbar": {
             "outlinewidth": 0,
             "ticks": ""
            },
            "type": "mesh3d"
           }
          ],
          "parcoords": [
           {
            "line": {
             "colorbar": {
              "outlinewidth": 0,
              "ticks": ""
             }
            },
            "type": "parcoords"
           }
          ],
          "pie": [
           {
            "automargin": true,
            "type": "pie"
           }
          ],
          "scatter": [
           {
            "fillpattern": {
             "fillmode": "overlay",
             "size": 10,
             "solidity": 0.2
            },
            "type": "scatter"
           }
          ],
          "scatter3d": [
           {
            "line": {
             "colorbar": {
              "outlinewidth": 0,
              "ticks": ""
             }
            },
            "marker": {
             "colorbar": {
              "outlinewidth": 0,
              "ticks": ""
             }
            },
            "type": "scatter3d"
           }
          ],
          "scattercarpet": [
           {
            "marker": {
             "colorbar": {
              "outlinewidth": 0,
              "ticks": ""
             }
            },
            "type": "scattercarpet"
           }
          ],
          "scattergeo": [
           {
            "marker": {
             "colorbar": {
              "outlinewidth": 0,
              "ticks": ""
             }
            },
            "type": "scattergeo"
           }
          ],
          "scattergl": [
           {
            "marker": {
             "colorbar": {
              "outlinewidth": 0,
              "ticks": ""
             }
            },
            "type": "scattergl"
           }
          ],
          "scattermapbox": [
           {
            "marker": {
             "colorbar": {
              "outlinewidth": 0,
              "ticks": ""
             }
            },
            "type": "scattermapbox"
           }
          ],
          "scatterpolar": [
           {
            "marker": {
             "colorbar": {
              "outlinewidth": 0,
              "ticks": ""
             }
            },
            "type": "scatterpolar"
           }
          ],
          "scatterpolargl": [
           {
            "marker": {
             "colorbar": {
              "outlinewidth": 0,
              "ticks": ""
             }
            },
            "type": "scatterpolargl"
           }
          ],
          "scatterternary": [
           {
            "marker": {
             "colorbar": {
              "outlinewidth": 0,
              "ticks": ""
             }
            },
            "type": "scatterternary"
           }
          ],
          "surface": [
           {
            "colorbar": {
             "outlinewidth": 0,
             "ticks": ""
            },
            "colorscale": [
             [
              0,
              "#0d0887"
             ],
             [
              0.1111111111111111,
              "#46039f"
             ],
             [
              0.2222222222222222,
              "#7201a8"
             ],
             [
              0.3333333333333333,
              "#9c179e"
             ],
             [
              0.4444444444444444,
              "#bd3786"
             ],
             [
              0.5555555555555556,
              "#d8576b"
             ],
             [
              0.6666666666666666,
              "#ed7953"
             ],
             [
              0.7777777777777778,
              "#fb9f3a"
             ],
             [
              0.8888888888888888,
              "#fdca26"
             ],
             [
              1,
              "#f0f921"
             ]
            ],
            "type": "surface"
           }
          ],
          "table": [
           {
            "cells": {
             "fill": {
              "color": "#EBF0F8"
             },
             "line": {
              "color": "white"
             }
            },
            "header": {
             "fill": {
              "color": "#C8D4E3"
             },
             "line": {
              "color": "white"
             }
            },
            "type": "table"
           }
          ]
         },
         "layout": {
          "annotationdefaults": {
           "arrowcolor": "#2a3f5f",
           "arrowhead": 0,
           "arrowwidth": 1
          },
          "autotypenumbers": "strict",
          "coloraxis": {
           "colorbar": {
            "outlinewidth": 0,
            "ticks": ""
           }
          },
          "colorscale": {
           "diverging": [
            [
             0,
             "#8e0152"
            ],
            [
             0.1,
             "#c51b7d"
            ],
            [
             0.2,
             "#de77ae"
            ],
            [
             0.3,
             "#f1b6da"
            ],
            [
             0.4,
             "#fde0ef"
            ],
            [
             0.5,
             "#f7f7f7"
            ],
            [
             0.6,
             "#e6f5d0"
            ],
            [
             0.7,
             "#b8e186"
            ],
            [
             0.8,
             "#7fbc41"
            ],
            [
             0.9,
             "#4d9221"
            ],
            [
             1,
             "#276419"
            ]
           ],
           "sequential": [
            [
             0,
             "#0d0887"
            ],
            [
             0.1111111111111111,
             "#46039f"
            ],
            [
             0.2222222222222222,
             "#7201a8"
            ],
            [
             0.3333333333333333,
             "#9c179e"
            ],
            [
             0.4444444444444444,
             "#bd3786"
            ],
            [
             0.5555555555555556,
             "#d8576b"
            ],
            [
             0.6666666666666666,
             "#ed7953"
            ],
            [
             0.7777777777777778,
             "#fb9f3a"
            ],
            [
             0.8888888888888888,
             "#fdca26"
            ],
            [
             1,
             "#f0f921"
            ]
           ],
           "sequentialminus": [
            [
             0,
             "#0d0887"
            ],
            [
             0.1111111111111111,
             "#46039f"
            ],
            [
             0.2222222222222222,
             "#7201a8"
            ],
            [
             0.3333333333333333,
             "#9c179e"
            ],
            [
             0.4444444444444444,
             "#bd3786"
            ],
            [
             0.5555555555555556,
             "#d8576b"
            ],
            [
             0.6666666666666666,
             "#ed7953"
            ],
            [
             0.7777777777777778,
             "#fb9f3a"
            ],
            [
             0.8888888888888888,
             "#fdca26"
            ],
            [
             1,
             "#f0f921"
            ]
           ]
          },
          "colorway": [
           "#636efa",
           "#EF553B",
           "#00cc96",
           "#ab63fa",
           "#FFA15A",
           "#19d3f3",
           "#FF6692",
           "#B6E880",
           "#FF97FF",
           "#FECB52"
          ],
          "font": {
           "color": "#2a3f5f"
          },
          "geo": {
           "bgcolor": "white",
           "lakecolor": "white",
           "landcolor": "#E5ECF6",
           "showlakes": true,
           "showland": true,
           "subunitcolor": "white"
          },
          "hoverlabel": {
           "align": "left"
          },
          "hovermode": "closest",
          "mapbox": {
           "style": "light"
          },
          "paper_bgcolor": "white",
          "plot_bgcolor": "#E5ECF6",
          "polar": {
           "angularaxis": {
            "gridcolor": "white",
            "linecolor": "white",
            "ticks": ""
           },
           "bgcolor": "#E5ECF6",
           "radialaxis": {
            "gridcolor": "white",
            "linecolor": "white",
            "ticks": ""
           }
          },
          "scene": {
           "xaxis": {
            "backgroundcolor": "#E5ECF6",
            "gridcolor": "white",
            "gridwidth": 2,
            "linecolor": "white",
            "showbackground": true,
            "ticks": "",
            "zerolinecolor": "white"
           },
           "yaxis": {
            "backgroundcolor": "#E5ECF6",
            "gridcolor": "white",
            "gridwidth": 2,
            "linecolor": "white",
            "showbackground": true,
            "ticks": "",
            "zerolinecolor": "white"
           },
           "zaxis": {
            "backgroundcolor": "#E5ECF6",
            "gridcolor": "white",
            "gridwidth": 2,
            "linecolor": "white",
            "showbackground": true,
            "ticks": "",
            "zerolinecolor": "white"
           }
          },
          "shapedefaults": {
           "line": {
            "color": "#2a3f5f"
           }
          },
          "ternary": {
           "aaxis": {
            "gridcolor": "white",
            "linecolor": "white",
            "ticks": ""
           },
           "baxis": {
            "gridcolor": "white",
            "linecolor": "white",
            "ticks": ""
           },
           "bgcolor": "#E5ECF6",
           "caxis": {
            "gridcolor": "white",
            "linecolor": "white",
            "ticks": ""
           }
          },
          "title": {
           "x": 0.05
          },
          "xaxis": {
           "automargin": true,
           "gridcolor": "white",
           "linecolor": "white",
           "ticks": "",
           "title": {
            "standoff": 15
           },
           "zerolinecolor": "white",
           "zerolinewidth": 2
          },
          "yaxis": {
           "automargin": true,
           "gridcolor": "white",
           "linecolor": "white",
           "ticks": "",
           "title": {
            "standoff": 15
           },
           "zerolinecolor": "white",
           "zerolinewidth": 2
          }
         }
        },
        "title": {
         "text": "Timeline of Fictional Missions in 2025"
        },
        "xaxis": {
         "anchor": "y",
         "domain": [
          0,
          1
         ],
         "title": {
          "text": "Date"
         },
         "type": "date"
        },
        "yaxis": {
         "anchor": "x",
         "categoryarray": [
          "MSN-005",
          "MSN-004",
          "MSN-003",
          "MSN-002",
          "MSN-001"
         ],
         "categoryorder": "array",
         "domain": [
          0,
          1
         ],
         "title": {
          "text": "Mission ID"
         }
        }
       }
      }
     },
     "metadata": {},
     "output_type": "display_data"
    }
   ],
   "source": [
    "# Create a new DataFrame with fictional mission data\n",
    "data = {\n",
    "    'Mission ID': ['MSN-001', 'MSN-002', 'MSN-003', 'MSN-004', 'MSN-005'],\n",
    "    'Launch Date': pd.to_datetime(['2025-01-05', '2025-01-15', '2025-02-10', '2025-02-20', '2025-03-10']),\n",
    "    'End Date': pd.to_datetime(['2025-01-10', '2025-01-25', '2025-02-15', '2025-02-25', '2025-03-11'])\n",
    "}\n",
    "\n",
    "# Convert the dictionary into a DataFrame\n",
    "timeline_df = pd.DataFrame(data)\n",
    "\n",
    "# Create a timeline plot\n",
    "fig = px.timeline(timeline_df, x_start='Launch Date', x_end='End Date', y='Mission ID',\n",
    "                  title='Timeline of Fictional Missions in 2025',\n",
    "                  color='Mission ID',\n",
    "                  color_discrete_sequence=px.colors.qualitative.Set1)\n",
    "\n",
    "# Update the layout to make it more readable\n",
    "fig.update_yaxes(title='Mission ID')\n",
    "fig.update_xaxes(title='Date')\n",
    "\n",
    "# Show the plot\n",
    "fig.show()\n"
   ]
  },
  {
   "cell_type": "markdown",
   "metadata": {},
   "source": [
    "<div style=\"font-family: 'Comic Sans MS', sans-serif; font-size: 18px; color: #333; background-color: #d4d4d4; padding: 10px; border-radius: 5px; width: 1300px;\">\n",
    "    <h2 style=\"color: #2c3e50;\">Explore the other Chart Types with Plotly Express 🔍</h2>\n",
    "    <p>We explored the basic chart types in plotly express.</p>\n",
    "    <p>Plotly Express offers a wide range of chart types to help you visualize complex data in meaningful ways. Here's a quick guide to what you can explore:</p>\n",
    "</div>"
   ]
  },
  {
   "cell_type": "markdown",
   "metadata": {},
   "source": [
    "\n",
    "\n",
    "<div style=\"font-family: 'Comic Sans MS', sans-serif; font-size: 18px; color: #333; background-color: #d4d4d4; padding: 10px; border-radius: 5px; width: 900px; margin-top: 10px;\">\n",
    "    <h3 style=\"color: #2c3e50;\">Part-of-Whole Charts</h3>\n",
    "    <p><strong>Pie, Sunburst, Treemap, Icicle, Funnel Area</strong>: Visualize hierarchical or proportional data. Great for showing relationships and proportions within categories.</p>\n",
    "</div>\n",
    "\n",
    "<div style=\"font-family: 'Comic Sans MS', sans-serif; font-size: 18px; color: #333; background-color: #d4d4d4; padding: 10px; border-radius: 5px; width: 900px; margin-top: 10px;\">\n",
    "    <h3 style=\"color: #2c3e50;\">1D Distributions</h3>\n",
    "    <p><strong>Histogram, Box, Violin, Strip, ECDF</strong>: Explore the distribution of a single variable. Use these to analyze spread, outliers, and patterns in your data.</p>\n",
    "</div>\n",
    "\n",
    "<div style=\"font-family: 'Comic Sans MS', sans-serif; font-size: 18px; color: #333; background-color: #d4d4d4; padding: 10px; border-radius: 5px; width: 900px; margin-top: 10px;\">\n",
    "    <h3 style=\"color: #2c3e50;\">2D Distributions</h3>\n",
    "    <p><strong>Density Heatmap, Density Contour</strong>: Visualize the relationship between two variables. Ideal for spotting trends, clusters, or density patterns.</p>\n",
    "</div>\n",
    "\n",
    "<div style=\"font-family: 'Comic Sans MS', sans-serif; font-size: 18px; color: #333; background-color: #d4d4d4; padding: 10px; border-radius: 5px; width: 900px; margin-top: 10px;\">\n",
    "    <h3 style=\"color: #2c3e50;\">Matrix or Image Input</h3>\n",
    "    <p><strong>Imshow</strong>: Display matrix-like data or images. Perfect for heatmaps, correlation matrices, or image visualizations.</p>\n",
    "</div>\n",
    "\n",
    "<div style=\"font-family: 'Comic Sans MS', sans-serif; font-size: 18px; color: #333; background-color: #d4d4d4; padding: 10px; border-radius: 5px; width: 900px; margin-top: 10px;\">\n",
    "    <h3 style=\"color: #2c3e50;\">3-Dimensional Charts</h3>\n",
    "    <p><strong>Scatter 3D, Line 3D</strong>: Create interactive 3D plots to explore relationships across three variables. Great for spatial or multidimensional data.</p>\n",
    "</div>\n",
    "\n",
    "<div style=\"font-family: 'Comic Sans MS', sans-serif; font-size: 18px; color: #333; background-color: #d4d4d4; padding: 10px; border-radius: 5px; width: 900px; margin-top: 10px;\">\n",
    "    <h3 style=\"color: #2c3e50;\">Multidimensional Charts</h3>\n",
    "    <p><strong>Scatter Matrix, Parallel Coordinates, Parallel Categories</strong>: Visualize high-dimensional data. Use these to compare multiple variables and identify patterns or correlations.</p>\n",
    "</div>\n",
    "\n",
    "<div style=\"font-family: 'Comic Sans MS', sans-serif; font-size: 18px; color: #333; background-color: #d4d4d4; padding: 10px; border-radius: 5px; width: 900px; margin-top: 10px;\">\n",
    "    <h3 style=\"color: #2c3e50;\">Tile Maps</h3>\n",
    "    <p><strong>Scatter Map, Line Map, Choropleth Map, Density Map</strong>: Create geographic visualizations. Ideal for location-based data, routes, or regional comparisons.</p>\n",
    "</div>\n",
    "\n",
    "<div style=\"font-family: 'Comic Sans MS', sans-serif; font-size: 18px; color: #333; background-color: #d4d4d4; padding: 10px; border-radius: 5px; width: 900px; margin-top: 10px;\">\n",
    "    <h3 style=\"color: #2c3e50;\">Outline Maps</h3>\n",
    "    <p><strong>Scatter Geo, Line Geo, Choropleth</strong>: Similar to tile maps but with simpler outlines. Use these for geographic data with less detail.</p>\n",
    "</div>\n",
    "\n",
    "<div style=\"font-family: 'Comic Sans MS', sans-serif; font-size: 18px; color: #333; background-color: #d4d4d4; padding: 10px; border-radius: 5px; width: 900px; margin-top: 10px;\">\n",
    "    <h3 style=\"color: #2c3e50;\">Polar Charts</h3>\n",
    "    <p><strong>Scatter Polar, Line Polar, Bar Polar</strong>: Visualize data in polar coordinates. Great for cyclic or directional data (e.g., time series, wind direction).</p>\n",
    "</div>\n",
    "\n",
    "<div style=\"font-family: 'Comic Sans MS', sans-serif; font-size: 18px; color: #333; background-color: #d4d4d4; padding: 10px; border-radius: 5px; width: 900px; margin-top: 10px;\">\n",
    "    <h3 style=\"color: #2c3e50;\">Ternary Charts</h3>\n",
    "    <p><strong>Scatter Ternary, Line Ternary</strong>: Plot data in ternary coordinates. Useful for compositional data (e.g., mixtures of three components).</p>\n",
    "</div>\n",
    "\n",
    "<div style=\"font-family: 'Comic Sans MS', sans-serif; font-size: 18px; color: #333; background-color: #d4d4d4; padding: 10px; border-radius: 5px; width: 900px; margin-top: 10px;\">\n",
    "    <h3 style=\"color: #2c3e50;\">Thank you for reading!</h3>\n",
    "    <p>I hope you enjoyed this tutorial 😊 </p>\n",
    "    <p>Feel free to contact me through my linkedin profile: <a href=\"https://www.linkedin.com/in/mohammad-alkhatim-9b1770266/\" target=\"_blank\">LinkedIn</a></p>\n",
    "</div>"
   ]
  }
 ],
 "metadata": {
  "language_info": {
   "name": "python"
  }
 },
 "nbformat": 4,
 "nbformat_minor": 2
}
